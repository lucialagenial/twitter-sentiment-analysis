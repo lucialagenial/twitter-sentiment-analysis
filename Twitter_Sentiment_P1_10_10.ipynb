{
  "cells": [
    {
      "cell_type": "markdown",
      "metadata": {
        "id": "view-in-github",
        "colab_type": "text"
      },
      "source": [
        "<a href=\"https://colab.research.google.com/github/lucialagenial/twitter-sentiment-analysis/blob/main/Twitter_Sentiment_P1_10_10.ipynb\" target=\"_parent\"><img src=\"https://colab.research.google.com/assets/colab-badge.svg\" alt=\"Open In Colab\"/></a>"
      ]
    },
    {
      "cell_type": "markdown",
      "metadata": {
        "id": "dbH5wRmr-Vjn"
      },
      "source": [
        "## **Twitter Sentiment Analysis Climate Change**\n",
        "By Charles Emeka Onyi & Lucía Morales Lizárraga \n",
        "\n",
        "Supervised by Nishtha Jain & Benjamin Feifke\n",
        "\n",
        " \n",
        "Challenge and **data** adquired from: https://www.kaggle.com/datasets/edqian/twitter-climate-change-sentiment-dataset?datasetId=413654\n",
        "\n",
        "Our **GitHub Repository** where you can find the data set, our colabs and processes: https://github.com/REDi-school-ff22-Data-cycle/twitter-sentiment-analysis\n",
        "\n"
      ]
    },
    {
      "cell_type": "markdown",
      "metadata": {
        "id": "T_FDOylyRyJJ"
      },
      "source": [
        "The collection of this data was funded by a Canada Foundation for Innovation JELF Grant to Chris Bauch, University of Waterloo.\n",
        "\n",
        "This dataset aggregates tweets pertaining to climate change collected between Apr 27, 2015 and Feb 21, 2018. In total, 43943 tweets were annotated. Each tweet is labelled independently by 3 reviewers. This dataset only contains tweets that all 3 reviewers agreed on (the rest were discarded).\n",
        "\n",
        "Each tweet is labelled as one of the following classes:\n",
        "\n",
        "- 2(News): the tweet links to factual news about climate change\n",
        "- 1(Pro): the tweet supports the belief of man-made climate change\n",
        "- 0(Neutral: the tweet neither supports nor refutes the belief of man-made climate change\n",
        "- -1(Anti): the tweet does not believe in man-made climate change"
      ]
    },
    {
      "cell_type": "markdown",
      "metadata": {
        "id": "xHVa5gkv-363"
      },
      "source": [
        "# Outline: \n",
        "1. Create a code that loads and processes the data. \n",
        "2. Explore the dataset. \n",
        "3. Tweets preprosessing techniques. \n",
        "4. Prediction Models: \n",
        "\n",
        ">4.1 Linear Regression\n",
        "\n",
        ">4.2 Naive Bayes Classifier\n",
        "\n",
        ">4.3 Random Forest Classifier \n",
        "\n",
        ">4.4 K Nearest Neighbors Classification \n",
        "\n",
        "5. Feature Engeneering Techniques \n",
        "\n",
        "\n"
      ]
    },
    {
      "cell_type": "code",
      "source": [
        "# this is a hack to allow displaying more than one result per notebook cell\n",
        "from IPython.core.interactiveshell import InteractiveShell\n",
        "InteractiveShell.ast_node_interactivity = \"all\" "
      ],
      "metadata": {
        "id": "XcFH62Sg7T_Y"
      },
      "execution_count": 12,
      "outputs": []
    },
    {
      "cell_type": "markdown",
      "source": [
        "# 1. Load and process the data "
      ],
      "metadata": {
        "id": "TaWWWdb22I8m"
      }
    },
    {
      "cell_type": "code",
      "execution_count": 13,
      "metadata": {
        "colab": {
          "base_uri": "https://localhost:8080/",
          "height": 206
        },
        "id": "n_qyfljk-3dP",
        "outputId": "036c4cc4-4957-40ad-cc0d-265325777b53"
      },
      "outputs": [
        {
          "output_type": "execute_result",
          "data": {
            "text/plain": [
              "   sentiment                                            message  \\\n",
              "0         -1  @tiniebeany climate change is an interesting h...   \n",
              "1          1  RT @NatGeoChannel: Watch #BeforeTheFlood right...   \n",
              "2          1  Fabulous! Leonardo #DiCaprio's film on #climat...   \n",
              "3          1  RT @Mick_Fanning: Just watched this amazing do...   \n",
              "4          2  RT @cnalive: Pranita Biswasi, a Lutheran from ...   \n",
              "\n",
              "              tweetid  \n",
              "0  792927353886371840  \n",
              "1  793124211518832641  \n",
              "2  793124402388832256  \n",
              "3  793124635873275904  \n",
              "4  793125156185137153  "
            ],
            "text/html": [
              "\n",
              "  <div id=\"df-5fb18909-43bb-4b46-b224-135b579bdedc\">\n",
              "    <div class=\"colab-df-container\">\n",
              "      <div>\n",
              "<style scoped>\n",
              "    .dataframe tbody tr th:only-of-type {\n",
              "        vertical-align: middle;\n",
              "    }\n",
              "\n",
              "    .dataframe tbody tr th {\n",
              "        vertical-align: top;\n",
              "    }\n",
              "\n",
              "    .dataframe thead th {\n",
              "        text-align: right;\n",
              "    }\n",
              "</style>\n",
              "<table border=\"1\" class=\"dataframe\">\n",
              "  <thead>\n",
              "    <tr style=\"text-align: right;\">\n",
              "      <th></th>\n",
              "      <th>sentiment</th>\n",
              "      <th>message</th>\n",
              "      <th>tweetid</th>\n",
              "    </tr>\n",
              "  </thead>\n",
              "  <tbody>\n",
              "    <tr>\n",
              "      <th>0</th>\n",
              "      <td>-1</td>\n",
              "      <td>@tiniebeany climate change is an interesting h...</td>\n",
              "      <td>792927353886371840</td>\n",
              "    </tr>\n",
              "    <tr>\n",
              "      <th>1</th>\n",
              "      <td>1</td>\n",
              "      <td>RT @NatGeoChannel: Watch #BeforeTheFlood right...</td>\n",
              "      <td>793124211518832641</td>\n",
              "    </tr>\n",
              "    <tr>\n",
              "      <th>2</th>\n",
              "      <td>1</td>\n",
              "      <td>Fabulous! Leonardo #DiCaprio's film on #climat...</td>\n",
              "      <td>793124402388832256</td>\n",
              "    </tr>\n",
              "    <tr>\n",
              "      <th>3</th>\n",
              "      <td>1</td>\n",
              "      <td>RT @Mick_Fanning: Just watched this amazing do...</td>\n",
              "      <td>793124635873275904</td>\n",
              "    </tr>\n",
              "    <tr>\n",
              "      <th>4</th>\n",
              "      <td>2</td>\n",
              "      <td>RT @cnalive: Pranita Biswasi, a Lutheran from ...</td>\n",
              "      <td>793125156185137153</td>\n",
              "    </tr>\n",
              "  </tbody>\n",
              "</table>\n",
              "</div>\n",
              "      <button class=\"colab-df-convert\" onclick=\"convertToInteractive('df-5fb18909-43bb-4b46-b224-135b579bdedc')\"\n",
              "              title=\"Convert this dataframe to an interactive table.\"\n",
              "              style=\"display:none;\">\n",
              "        \n",
              "  <svg xmlns=\"http://www.w3.org/2000/svg\" height=\"24px\"viewBox=\"0 0 24 24\"\n",
              "       width=\"24px\">\n",
              "    <path d=\"M0 0h24v24H0V0z\" fill=\"none\"/>\n",
              "    <path d=\"M18.56 5.44l.94 2.06.94-2.06 2.06-.94-2.06-.94-.94-2.06-.94 2.06-2.06.94zm-11 1L8.5 8.5l.94-2.06 2.06-.94-2.06-.94L8.5 2.5l-.94 2.06-2.06.94zm10 10l.94 2.06.94-2.06 2.06-.94-2.06-.94-.94-2.06-.94 2.06-2.06.94z\"/><path d=\"M17.41 7.96l-1.37-1.37c-.4-.4-.92-.59-1.43-.59-.52 0-1.04.2-1.43.59L10.3 9.45l-7.72 7.72c-.78.78-.78 2.05 0 2.83L4 21.41c.39.39.9.59 1.41.59.51 0 1.02-.2 1.41-.59l7.78-7.78 2.81-2.81c.8-.78.8-2.07 0-2.86zM5.41 20L4 18.59l7.72-7.72 1.47 1.35L5.41 20z\"/>\n",
              "  </svg>\n",
              "      </button>\n",
              "      \n",
              "  <style>\n",
              "    .colab-df-container {\n",
              "      display:flex;\n",
              "      flex-wrap:wrap;\n",
              "      gap: 12px;\n",
              "    }\n",
              "\n",
              "    .colab-df-convert {\n",
              "      background-color: #E8F0FE;\n",
              "      border: none;\n",
              "      border-radius: 50%;\n",
              "      cursor: pointer;\n",
              "      display: none;\n",
              "      fill: #1967D2;\n",
              "      height: 32px;\n",
              "      padding: 0 0 0 0;\n",
              "      width: 32px;\n",
              "    }\n",
              "\n",
              "    .colab-df-convert:hover {\n",
              "      background-color: #E2EBFA;\n",
              "      box-shadow: 0px 1px 2px rgba(60, 64, 67, 0.3), 0px 1px 3px 1px rgba(60, 64, 67, 0.15);\n",
              "      fill: #174EA6;\n",
              "    }\n",
              "\n",
              "    [theme=dark] .colab-df-convert {\n",
              "      background-color: #3B4455;\n",
              "      fill: #D2E3FC;\n",
              "    }\n",
              "\n",
              "    [theme=dark] .colab-df-convert:hover {\n",
              "      background-color: #434B5C;\n",
              "      box-shadow: 0px 1px 3px 1px rgba(0, 0, 0, 0.15);\n",
              "      filter: drop-shadow(0px 1px 2px rgba(0, 0, 0, 0.3));\n",
              "      fill: #FFFFFF;\n",
              "    }\n",
              "  </style>\n",
              "\n",
              "      <script>\n",
              "        const buttonEl =\n",
              "          document.querySelector('#df-5fb18909-43bb-4b46-b224-135b579bdedc button.colab-df-convert');\n",
              "        buttonEl.style.display =\n",
              "          google.colab.kernel.accessAllowed ? 'block' : 'none';\n",
              "\n",
              "        async function convertToInteractive(key) {\n",
              "          const element = document.querySelector('#df-5fb18909-43bb-4b46-b224-135b579bdedc');\n",
              "          const dataTable =\n",
              "            await google.colab.kernel.invokeFunction('convertToInteractive',\n",
              "                                                     [key], {});\n",
              "          if (!dataTable) return;\n",
              "\n",
              "          const docLinkHtml = 'Like what you see? Visit the ' +\n",
              "            '<a target=\"_blank\" href=https://colab.research.google.com/notebooks/data_table.ipynb>data table notebook</a>'\n",
              "            + ' to learn more about interactive tables.';\n",
              "          element.innerHTML = '';\n",
              "          dataTable['output_type'] = 'display_data';\n",
              "          await google.colab.output.renderOutput(dataTable, element);\n",
              "          const docLink = document.createElement('div');\n",
              "          docLink.innerHTML = docLinkHtml;\n",
              "          element.appendChild(docLink);\n",
              "        }\n",
              "      </script>\n",
              "    </div>\n",
              "  </div>\n",
              "  "
            ]
          },
          "metadata": {},
          "execution_count": 13
        }
      ],
      "source": [
        "import pandas as pd\n",
        "\n",
        "url = 'https://raw.githubusercontent.com/REDi-school-ff22-Data-cycle/twitter-sentiment-analysis/main/twitter_sentiment_data.csv'\n",
        "df = pd.read_csv(url)\n",
        "df.head(5)"
      ]
    },
    {
      "cell_type": "markdown",
      "source": [
        "# 2. Exploring the dataset"
      ],
      "metadata": {
        "id": "fCjq2Yjo0LEb"
      }
    },
    {
      "cell_type": "code",
      "execution_count": 14,
      "metadata": {
        "colab": {
          "base_uri": "https://localhost:8080/"
        },
        "id": "40c3L9OlN7A2",
        "outputId": "6bd5ad03-36aa-46a1-dae8-9eb47ec25fb3"
      },
      "outputs": [
        {
          "output_type": "execute_result",
          "data": {
            "text/plain": [
              "(43943, 3)"
            ]
          },
          "metadata": {},
          "execution_count": 14
        }
      ],
      "source": [
        "# Shape\n",
        "df.shape"
      ]
    },
    {
      "cell_type": "code",
      "execution_count": 15,
      "metadata": {
        "colab": {
          "base_uri": "https://localhost:8080/",
          "height": 439
        },
        "id": "IpzFY3EVJVLB",
        "outputId": "bf9dc4a5-b6e6-450d-b17f-183b87769a90"
      },
      "outputs": [
        {
          "output_type": "execute_result",
          "data": {
            "text/plain": [
              "    sentiment\n",
              " 1  52.254056\n",
              " 2  21.109164\n",
              " 0  17.556835\n",
              "-1   9.079944"
            ],
            "text/html": [
              "\n",
              "  <div id=\"df-68a53109-4a2d-4b9e-bf2b-f78494fe68da\">\n",
              "    <div class=\"colab-df-container\">\n",
              "      <div>\n",
              "<style scoped>\n",
              "    .dataframe tbody tr th:only-of-type {\n",
              "        vertical-align: middle;\n",
              "    }\n",
              "\n",
              "    .dataframe tbody tr th {\n",
              "        vertical-align: top;\n",
              "    }\n",
              "\n",
              "    .dataframe thead th {\n",
              "        text-align: right;\n",
              "    }\n",
              "</style>\n",
              "<table border=\"1\" class=\"dataframe\">\n",
              "  <thead>\n",
              "    <tr style=\"text-align: right;\">\n",
              "      <th></th>\n",
              "      <th>sentiment</th>\n",
              "    </tr>\n",
              "  </thead>\n",
              "  <tbody>\n",
              "    <tr>\n",
              "      <th>1</th>\n",
              "      <td>52.254056</td>\n",
              "    </tr>\n",
              "    <tr>\n",
              "      <th>2</th>\n",
              "      <td>21.109164</td>\n",
              "    </tr>\n",
              "    <tr>\n",
              "      <th>0</th>\n",
              "      <td>17.556835</td>\n",
              "    </tr>\n",
              "    <tr>\n",
              "      <th>-1</th>\n",
              "      <td>9.079944</td>\n",
              "    </tr>\n",
              "  </tbody>\n",
              "</table>\n",
              "</div>\n",
              "      <button class=\"colab-df-convert\" onclick=\"convertToInteractive('df-68a53109-4a2d-4b9e-bf2b-f78494fe68da')\"\n",
              "              title=\"Convert this dataframe to an interactive table.\"\n",
              "              style=\"display:none;\">\n",
              "        \n",
              "  <svg xmlns=\"http://www.w3.org/2000/svg\" height=\"24px\"viewBox=\"0 0 24 24\"\n",
              "       width=\"24px\">\n",
              "    <path d=\"M0 0h24v24H0V0z\" fill=\"none\"/>\n",
              "    <path d=\"M18.56 5.44l.94 2.06.94-2.06 2.06-.94-2.06-.94-.94-2.06-.94 2.06-2.06.94zm-11 1L8.5 8.5l.94-2.06 2.06-.94-2.06-.94L8.5 2.5l-.94 2.06-2.06.94zm10 10l.94 2.06.94-2.06 2.06-.94-2.06-.94-.94-2.06-.94 2.06-2.06.94z\"/><path d=\"M17.41 7.96l-1.37-1.37c-.4-.4-.92-.59-1.43-.59-.52 0-1.04.2-1.43.59L10.3 9.45l-7.72 7.72c-.78.78-.78 2.05 0 2.83L4 21.41c.39.39.9.59 1.41.59.51 0 1.02-.2 1.41-.59l7.78-7.78 2.81-2.81c.8-.78.8-2.07 0-2.86zM5.41 20L4 18.59l7.72-7.72 1.47 1.35L5.41 20z\"/>\n",
              "  </svg>\n",
              "      </button>\n",
              "      \n",
              "  <style>\n",
              "    .colab-df-container {\n",
              "      display:flex;\n",
              "      flex-wrap:wrap;\n",
              "      gap: 12px;\n",
              "    }\n",
              "\n",
              "    .colab-df-convert {\n",
              "      background-color: #E8F0FE;\n",
              "      border: none;\n",
              "      border-radius: 50%;\n",
              "      cursor: pointer;\n",
              "      display: none;\n",
              "      fill: #1967D2;\n",
              "      height: 32px;\n",
              "      padding: 0 0 0 0;\n",
              "      width: 32px;\n",
              "    }\n",
              "\n",
              "    .colab-df-convert:hover {\n",
              "      background-color: #E2EBFA;\n",
              "      box-shadow: 0px 1px 2px rgba(60, 64, 67, 0.3), 0px 1px 3px 1px rgba(60, 64, 67, 0.15);\n",
              "      fill: #174EA6;\n",
              "    }\n",
              "\n",
              "    [theme=dark] .colab-df-convert {\n",
              "      background-color: #3B4455;\n",
              "      fill: #D2E3FC;\n",
              "    }\n",
              "\n",
              "    [theme=dark] .colab-df-convert:hover {\n",
              "      background-color: #434B5C;\n",
              "      box-shadow: 0px 1px 3px 1px rgba(0, 0, 0, 0.15);\n",
              "      filter: drop-shadow(0px 1px 2px rgba(0, 0, 0, 0.3));\n",
              "      fill: #FFFFFF;\n",
              "    }\n",
              "  </style>\n",
              "\n",
              "      <script>\n",
              "        const buttonEl =\n",
              "          document.querySelector('#df-68a53109-4a2d-4b9e-bf2b-f78494fe68da button.colab-df-convert');\n",
              "        buttonEl.style.display =\n",
              "          google.colab.kernel.accessAllowed ? 'block' : 'none';\n",
              "\n",
              "        async function convertToInteractive(key) {\n",
              "          const element = document.querySelector('#df-68a53109-4a2d-4b9e-bf2b-f78494fe68da');\n",
              "          const dataTable =\n",
              "            await google.colab.kernel.invokeFunction('convertToInteractive',\n",
              "                                                     [key], {});\n",
              "          if (!dataTable) return;\n",
              "\n",
              "          const docLinkHtml = 'Like what you see? Visit the ' +\n",
              "            '<a target=\"_blank\" href=https://colab.research.google.com/notebooks/data_table.ipynb>data table notebook</a>'\n",
              "            + ' to learn more about interactive tables.';\n",
              "          element.innerHTML = '';\n",
              "          dataTable['output_type'] = 'display_data';\n",
              "          await google.colab.output.renderOutput(dataTable, element);\n",
              "          const docLink = document.createElement('div');\n",
              "          docLink.innerHTML = docLinkHtml;\n",
              "          element.appendChild(docLink);\n",
              "        }\n",
              "      </script>\n",
              "    </div>\n",
              "  </div>\n",
              "  "
            ]
          },
          "metadata": {},
          "execution_count": 15
        },
        {
          "output_type": "execute_result",
          "data": {
            "text/plain": [
              "<matplotlib.axes._subplots.AxesSubplot at 0x7fc982b9a210>"
            ]
          },
          "metadata": {},
          "execution_count": 15
        },
        {
          "output_type": "display_data",
          "data": {
            "text/plain": [
              "<Figure size 432x288 with 1 Axes>"
            ],
            "image/png": "[encoded data removed]"
          },
          "metadata": {}
        }
      ],
      "source": [
        "# Distribution \n",
        "sentiment_count =df['sentiment'].value_counts().to_frame()\n",
        "percentage = (sentiment_count * 100) / df.shape[0]\n",
        "percentage \n",
        "\n",
        "# Pie Chart with pandas \n",
        "# Define the ratio of gap of each fragment in a tuple\n",
        "explode = (0.05, 0.05, 0.05, 0.05)\n",
        "\n",
        "labels = ['1: Positive', '2: News', '0:Neutral','-1: Negative']\n",
        "percentage.plot(kind='pie', y='sentiment', labels=labels, autopct='%1.0f%%', explode=explode, shadow=True, legend=True, \n",
        "                title='Climate Change Sentiments Percentage', ylabel= '', labeldistance=None)"
      ]
    },
    {
      "cell_type": "code",
      "execution_count": 16,
      "metadata": {
        "colab": {
          "base_uri": "https://localhost:8080/",
          "height": 300
        },
        "id": "QqVYmR2OOCJT",
        "outputId": "5b41bcdf-1902-46a8-acff-2e4e4b3bcc7b"
      },
      "outputs": [
        {
          "output_type": "execute_result",
          "data": {
            "text/plain": [
              "          sentiment       tweetid\n",
              "count  43943.000000  4.394300e+04\n",
              "mean       0.853924  8.367966e+17\n",
              "std        0.853543  8.568506e+16\n",
              "min       -1.000000  5.926334e+17\n",
              "25%        0.000000  7.970376e+17\n",
              "50%        1.000000  8.402301e+17\n",
              "75%        1.000000  9.020003e+17\n",
              "max        2.000000  9.667024e+17"
            ],
            "text/html": [
              "\n",
              "  <div id=\"df-8ccaa42e-bf9f-4c3f-9bdb-9b78939f15ac\">\n",
              "    <div class=\"colab-df-container\">\n",
              "      <div>\n",
              "<style scoped>\n",
              "    .dataframe tbody tr th:only-of-type {\n",
              "        vertical-align: middle;\n",
              "    }\n",
              "\n",
              "    .dataframe tbody tr th {\n",
              "        vertical-align: top;\n",
              "    }\n",
              "\n",
              "    .dataframe thead th {\n",
              "        text-align: right;\n",
              "    }\n",
              "</style>\n",
              "<table border=\"1\" class=\"dataframe\">\n",
              "  <thead>\n",
              "    <tr style=\"text-align: right;\">\n",
              "      <th></th>\n",
              "      <th>sentiment</th>\n",
              "      <th>tweetid</th>\n",
              "    </tr>\n",
              "  </thead>\n",
              "  <tbody>\n",
              "    <tr>\n",
              "      <th>count</th>\n",
              "      <td>43943.000000</td>\n",
              "      <td>4.394300e+04</td>\n",
              "    </tr>\n",
              "    <tr>\n",
              "      <th>mean</th>\n",
              "      <td>0.853924</td>\n",
              "      <td>8.367966e+17</td>\n",
              "    </tr>\n",
              "    <tr>\n",
              "      <th>std</th>\n",
              "      <td>0.853543</td>\n",
              "      <td>8.568506e+16</td>\n",
              "    </tr>\n",
              "    <tr>\n",
              "      <th>min</th>\n",
              "      <td>-1.000000</td>\n",
              "      <td>5.926334e+17</td>\n",
              "    </tr>\n",
              "    <tr>\n",
              "      <th>25%</th>\n",
              "      <td>0.000000</td>\n",
              "      <td>7.970376e+17</td>\n",
              "    </tr>\n",
              "    <tr>\n",
              "      <th>50%</th>\n",
              "      <td>1.000000</td>\n",
              "      <td>8.402301e+17</td>\n",
              "    </tr>\n",
              "    <tr>\n",
              "      <th>75%</th>\n",
              "      <td>1.000000</td>\n",
              "      <td>9.020003e+17</td>\n",
              "    </tr>\n",
              "    <tr>\n",
              "      <th>max</th>\n",
              "      <td>2.000000</td>\n",
              "      <td>9.667024e+17</td>\n",
              "    </tr>\n",
              "  </tbody>\n",
              "</table>\n",
              "</div>\n",
              "      <button class=\"colab-df-convert\" onclick=\"convertToInteractive('df-8ccaa42e-bf9f-4c3f-9bdb-9b78939f15ac')\"\n",
              "              title=\"Convert this dataframe to an interactive table.\"\n",
              "              style=\"display:none;\">\n",
              "        \n",
              "  <svg xmlns=\"http://www.w3.org/2000/svg\" height=\"24px\"viewBox=\"0 0 24 24\"\n",
              "       width=\"24px\">\n",
              "    <path d=\"M0 0h24v24H0V0z\" fill=\"none\"/>\n",
              "    <path d=\"M18.56 5.44l.94 2.06.94-2.06 2.06-.94-2.06-.94-.94-2.06-.94 2.06-2.06.94zm-11 1L8.5 8.5l.94-2.06 2.06-.94-2.06-.94L8.5 2.5l-.94 2.06-2.06.94zm10 10l.94 2.06.94-2.06 2.06-.94-2.06-.94-.94-2.06-.94 2.06-2.06.94z\"/><path d=\"M17.41 7.96l-1.37-1.37c-.4-.4-.92-.59-1.43-.59-.52 0-1.04.2-1.43.59L10.3 9.45l-7.72 7.72c-.78.78-.78 2.05 0 2.83L4 21.41c.39.39.9.59 1.41.59.51 0 1.02-.2 1.41-.59l7.78-7.78 2.81-2.81c.8-.78.8-2.07 0-2.86zM5.41 20L4 18.59l7.72-7.72 1.47 1.35L5.41 20z\"/>\n",
              "  </svg>\n",
              "      </button>\n",
              "      \n",
              "  <style>\n",
              "    .colab-df-container {\n",
              "      display:flex;\n",
              "      flex-wrap:wrap;\n",
              "      gap: 12px;\n",
              "    }\n",
              "\n",
              "    .colab-df-convert {\n",
              "      background-color: #E8F0FE;\n",
              "      border: none;\n",
              "      border-radius: 50%;\n",
              "      cursor: pointer;\n",
              "      display: none;\n",
              "      fill: #1967D2;\n",
              "      height: 32px;\n",
              "      padding: 0 0 0 0;\n",
              "      width: 32px;\n",
              "    }\n",
              "\n",
              "    .colab-df-convert:hover {\n",
              "      background-color: #E2EBFA;\n",
              "      box-shadow: 0px 1px 2px rgba(60, 64, 67, 0.3), 0px 1px 3px 1px rgba(60, 64, 67, 0.15);\n",
              "      fill: #174EA6;\n",
              "    }\n",
              "\n",
              "    [theme=dark] .colab-df-convert {\n",
              "      background-color: #3B4455;\n",
              "      fill: #D2E3FC;\n",
              "    }\n",
              "\n",
              "    [theme=dark] .colab-df-convert:hover {\n",
              "      background-color: #434B5C;\n",
              "      box-shadow: 0px 1px 3px 1px rgba(0, 0, 0, 0.15);\n",
              "      filter: drop-shadow(0px 1px 2px rgba(0, 0, 0, 0.3));\n",
              "      fill: #FFFFFF;\n",
              "    }\n",
              "  </style>\n",
              "\n",
              "      <script>\n",
              "        const buttonEl =\n",
              "          document.querySelector('#df-8ccaa42e-bf9f-4c3f-9bdb-9b78939f15ac button.colab-df-convert');\n",
              "        buttonEl.style.display =\n",
              "          google.colab.kernel.accessAllowed ? 'block' : 'none';\n",
              "\n",
              "        async function convertToInteractive(key) {\n",
              "          const element = document.querySelector('#df-8ccaa42e-bf9f-4c3f-9bdb-9b78939f15ac');\n",
              "          const dataTable =\n",
              "            await google.colab.kernel.invokeFunction('convertToInteractive',\n",
              "                                                     [key], {});\n",
              "          if (!dataTable) return;\n",
              "\n",
              "          const docLinkHtml = 'Like what you see? Visit the ' +\n",
              "            '<a target=\"_blank\" href=https://colab.research.google.com/notebooks/data_table.ipynb>data table notebook</a>'\n",
              "            + ' to learn more about interactive tables.';\n",
              "          element.innerHTML = '';\n",
              "          dataTable['output_type'] = 'display_data';\n",
              "          await google.colab.output.renderOutput(dataTable, element);\n",
              "          const docLink = document.createElement('div');\n",
              "          docLink.innerHTML = docLinkHtml;\n",
              "          element.appendChild(docLink);\n",
              "        }\n",
              "      </script>\n",
              "    </div>\n",
              "  </div>\n",
              "  "
            ]
          },
          "metadata": {},
          "execution_count": 16
        }
      ],
      "source": [
        "df.describe()"
      ]
    },
    {
      "cell_type": "code",
      "execution_count": 17,
      "metadata": {
        "colab": {
          "base_uri": "https://localhost:8080/",
          "height": 296
        },
        "id": "FGA9EZ9TOEbe",
        "outputId": "a688a2c6-c596-454d-ddd0-f1ae66fb66cd"
      },
      "outputs": [
        {
          "output_type": "execute_result",
          "data": {
            "text/plain": [
              "<matplotlib.axes._subplots.AxesSubplot at 0x7fc980221ad0>"
            ]
          },
          "metadata": {},
          "execution_count": 17
        },
        {
          "output_type": "display_data",
          "data": {
            "text/plain": [
              "<Figure size 432x288 with 1 Axes>"
            ],
            "image/png": "[encoded data removed]"
          },
          "metadata": {
            "needs_background": "light"
          }
        }
      ],
      "source": [
        "df.groupby('sentiment').count().plot(kind='bar')"
      ]
    },
    {
      "cell_type": "code",
      "source": [
        "from matplotlib import pyplot as plt\n",
        "plot= df['sentiment'].value_counts().plot(kind='bar', rot=0, legend=True, title='Climate Change Distribution per sentiment', ylabel= '')"
      ],
      "metadata": {
        "colab": {
          "base_uri": "https://localhost:8080/",
          "height": 281
        },
        "id": "INppcgirUJfe",
        "outputId": "31a34e25-65f0-41b2-81b1-94e2f16b374e"
      },
      "execution_count": 18,
      "outputs": [
        {
          "output_type": "display_data",
          "data": {
            "text/plain": [
              "<Figure size 432x288 with 1 Axes>"
            ],
            "image/png": "[encoded data removed]"
          },
          "metadata": {
            "needs_background": "light"
          }
        }
      ]
    },
    {
      "cell_type": "code",
      "execution_count": 19,
      "metadata": {
        "colab": {
          "base_uri": "https://localhost:8080/"
        },
        "id": "7Y4LevEUOPX2",
        "outputId": "750cc675-b320-44a3-f97f-55bce42a9bd2"
      },
      "outputs": [
        {
          "output_type": "execute_result",
          "data": {
            "text/plain": [
              "sentiment    0\n",
              "message      0\n",
              "tweetid      0\n",
              "dtype: int64"
            ]
          },
          "metadata": {},
          "execution_count": 19
        }
      ],
      "source": [
        "# Check whether there is NAs \n",
        "df.isna().sum()"
      ]
    },
    {
      "cell_type": "markdown",
      "metadata": {
        "id": "TA3ovW7c0rBz"
      },
      "source": [
        "Word Clouds"
      ]
    },
    {
      "cell_type": "code",
      "execution_count": 20,
      "metadata": {
        "id": "Mn9deaUU3LbR"
      },
      "outputs": [],
      "source": [
        "import nltk\n",
        "from nltk.corpus import stopwords\n",
        "#print(stopwords.words('english'))"
      ]
    },
    {
      "cell_type": "code",
      "execution_count": 21,
      "metadata": {
        "id": "YT6sa8fQ2OVf"
      },
      "outputs": [],
      "source": [
        "# We temporaly manually set the list because we got an error with the nltk stopword package. \n",
        "stopwordlist = ['a', 'about', 'above', 'after', 'again', 'ain', 'all', 'am', 'an',\n",
        "             'and','any','are', 'as', 'at', 'be', 'because', 'been', 'before',\n",
        "             'being', 'below', 'between','both', 'by', 'can', 'd', 'did', 'do',\n",
        "             'does', 'doing', 'down', 'during', 'each','few', 'for', 'from',\n",
        "             'further', 'had', 'has', 'have', 'having', 'he', 'her', 'here',\n",
        "             'hers', 'herself', 'him', 'himself', 'his', 'how', 'i', 'if', 'in',\n",
        "             'into','is', 'it', 'its', 'itself', 'just', 'll', 'm', 'ma',\n",
        "             'me', 'more', 'most','my', 'myself', 'now', 'o', 'of', 'on', 'once',\n",
        "             'only', 'or', 'other', 'our', 'ours','ourselves', 'out', 'own', 're','s', 'same', 'she', \"shes\", 'should', \"shouldve\",'so', 'some', 'such',\n",
        "             't', 'than', 'that', \"thatll\", 'the', 'their', 'theirs', 'them',\n",
        "             'themselves', 'then', 'there', 'these', 'they', 'this', 'those',\n",
        "             'through', 'to', 'too','under', 'until', 'up', 've', 'very', 'was',\n",
        "             'we', 'were', 'what', 'when', 'where','which','while', 'who', 'whom',\n",
        "             'why', 'will', 'with', 'won', 'y', 'you', \"youd\",\"youll\", \"youre\",\n",
        "             \"youve\", 'your', 'yours', 'yourself', 'yourselves']"
      ]
    },
    {
      "cell_type": "code",
      "execution_count": 22,
      "metadata": {
        "colab": {
          "base_uri": "https://localhost:8080/",
          "height": 17
        },
        "id": "6xIVOHPkMsBu",
        "outputId": "6d3a3401-4769-46ee-bf54-1ec306160c38"
      },
      "outputs": [
        {
          "output_type": "display_data",
          "data": {
            "text/html": [
              "        <script type=\"text/javascript\">\n",
              "        window.PlotlyConfig = {MathJaxConfig: 'local'};\n",
              "        if (window.MathJax) {MathJax.Hub.Config({SVG: {font: \"STIX-Web\"}});}\n",
              "        if (typeof require !== 'undefined') {\n",
              "        require.undef(\"plotly\");\n",
              "        requirejs.config({\n",
              "            paths: {\n",
              "                'plotly': ['https://cdn.plot.ly/plotly-2.8.3.min']\n",
              "            }\n",
              "        });\n",
              "        require(['plotly'], function(Plotly) {\n",
              "            window._Plotly = Plotly;\n",
              "        });\n",
              "        }\n",
              "        </script>\n",
              "        "
            ]
          },
          "metadata": {}
        }
      ],
      "source": [
        "# Imports\n",
        "import matplotlib.pyplot as plt\n",
        "import seaborn as sns\n",
        "color = sns.color_palette()\n",
        "%matplotlib inline\n",
        "import plotly.offline as py\n",
        "py.init_notebook_mode(connected=True)\n",
        "import plotly.graph_objs as go\n",
        "import plotly.tools as tls\n",
        "import plotly.express as px"
      ]
    },
    {
      "cell_type": "code",
      "execution_count": 23,
      "metadata": {
        "colab": {
          "base_uri": "https://localhost:8080/",
          "height": 250
        },
        "id": "9TB4Aufr0nuk",
        "outputId": "2f94f647-f585-4136-ce57-6573e9c5e1fd"
      },
      "outputs": [
        {
          "output_type": "stream",
          "name": "stderr",
          "text": [
            "[nltk_data] Downloading package stopwords to /root/nltk_data...\n",
            "[nltk_data]   Unzipping corpora/stopwords.zip.\n"
          ]
        },
        {
          "output_type": "execute_result",
          "data": {
            "text/plain": [
              "True"
            ]
          },
          "metadata": {},
          "execution_count": 23
        },
        {
          "output_type": "execute_result",
          "data": {
            "text/plain": [
              "<matplotlib.image.AxesImage at 0x7fc96c0edad0>"
            ]
          },
          "metadata": {},
          "execution_count": 23
        },
        {
          "output_type": "execute_result",
          "data": {
            "text/plain": [
              "(-0.5, 399.5, 199.5, -0.5)"
            ]
          },
          "metadata": {},
          "execution_count": 23
        },
        {
          "output_type": "display_data",
          "data": {
            "text/plain": [
              "<Figure size 432x288 with 1 Axes>"
            ],
            "image/png": "[encoded data removed]"
          },
          "metadata": {
            "needs_background": "light"
          }
        }
      ],
      "source": [
        "# Following https://towardsdatascience.com/a-beginners-guide-to-sentiment-analysis-in-python-95e354ea84f6\n",
        "import re\n",
        "import nltk\n",
        "nltk.download('stopwords')\n",
        "from nltk.corpus import stopwords\n",
        "from wordcloud import WordCloud \n",
        "\n",
        "\n",
        "# Create stopword list:\n",
        "#stopwords = set(STOPWORDS) #Error check later!!! \n",
        "#stopwords.update([\"br\", \"href\"])\n",
        "stopwords = stopwordlist # Temporary ----\n",
        "textt = ''.join(review for review in df.message)\n",
        "wordcloud = WordCloud(stopwords=stopwords).generate(textt)\n",
        "plt.imshow(wordcloud, interpolation='bilinear')\n",
        "plt.axis(\"off\")\n",
        "plt.savefig('wordcloud11.png')\n",
        "plt.show()"
      ]
    },
    {
      "cell_type": "code",
      "execution_count": 24,
      "metadata": {
        "id": "Rz4Y3roR58LW"
      },
      "outputs": [],
      "source": [
        "# Further Cloud words \n",
        "# Split the data set in each cathegory \n",
        "\n",
        "news = df[df['sentiment'] == 2]\n",
        "positive = df[df['sentiment'] == 1]\n",
        "neutral = df[df['sentiment'] == 0] \n",
        "against = df[df['sentiment'] == -1]\n"
      ]
    },
    {
      "cell_type": "code",
      "execution_count": 25,
      "metadata": {
        "colab": {
          "base_uri": "https://localhost:8080/",
          "height": 215
        },
        "id": "BwbXSSkH7Spz",
        "outputId": "54a0b6f6-4be7-4438-c875-6d1f6de455d9"
      },
      "outputs": [
        {
          "output_type": "execute_result",
          "data": {
            "text/plain": [
              "<matplotlib.image.AxesImage at 0x7fc96c008a10>"
            ]
          },
          "metadata": {},
          "execution_count": 25
        },
        {
          "output_type": "execute_result",
          "data": {
            "text/plain": [
              "(-0.5, 399.5, 199.5, -0.5)"
            ]
          },
          "metadata": {},
          "execution_count": 25
        },
        {
          "output_type": "display_data",
          "data": {
            "text/plain": [
              "<Figure size 432x288 with 1 Axes>"
            ],
            "image/png": "[encoded data removed]"
          },
          "metadata": {
            "needs_background": "light"
          }
        }
      ],
      "source": [
        "# Positive\n",
        "#stopwords = set(STOPWORDS) # We need to fix this problem \n",
        "#stopwords.update([\"br\", \"href\",\"good\",\"great\"]) \n",
        "## good and great removed because they were included in negative sentiment\n",
        "pos = \" \".join(review for review in positive.message)\n",
        "wordcloud2 = WordCloud(stopwords=stopwords).generate(pos)\n",
        "plt.imshow(wordcloud2, interpolation='bilinear')\n",
        "plt.axis(\"off\")\n",
        "plt.show()"
      ]
    },
    {
      "cell_type": "code",
      "execution_count": 26,
      "metadata": {
        "colab": {
          "base_uri": "https://localhost:8080/",
          "height": 215
        },
        "id": "DcuBJ2_G8JY1",
        "outputId": "6b29b546-7a2c-42a5-d881-fae2d6f56361"
      },
      "outputs": [
        {
          "output_type": "execute_result",
          "data": {
            "text/plain": [
              "<matplotlib.image.AxesImage at 0x7fc96c0f57d0>"
            ]
          },
          "metadata": {},
          "execution_count": 26
        },
        {
          "output_type": "execute_result",
          "data": {
            "text/plain": [
              "(-0.5, 399.5, 199.5, -0.5)"
            ]
          },
          "metadata": {},
          "execution_count": 26
        },
        {
          "output_type": "display_data",
          "data": {
            "text/plain": [
              "<Figure size 432x288 with 1 Axes>"
            ],
            "image/png": "[encoded data removed]"
          },
          "metadata": {
            "needs_background": "light"
          }
        }
      ],
      "source": [
        "# Against\n",
        "pos = \" \".join(review for review in against.message)\n",
        "wordcloud2 = WordCloud(stopwords=stopwords).generate(pos)\n",
        "plt.imshow(wordcloud2, interpolation='bilinear')\n",
        "plt.axis(\"off\")\n",
        "plt.show()"
      ]
    },
    {
      "cell_type": "code",
      "execution_count": 27,
      "metadata": {
        "id": "Q9lXK7EP8dHY"
      },
      "outputs": [],
      "source": [
        "# We should try to clean it further (check the words: climate change, global...)"
      ]
    },
    {
      "cell_type": "markdown",
      "metadata": {
        "id": "C4mPjOOV89Bo"
      },
      "source": [
        "# 3. Preprocessing the data  "
      ]
    },
    {
      "cell_type": "code",
      "source": [
        "!pip install better_profanity # Install it if needed"
      ],
      "metadata": {
        "colab": {
          "base_uri": "https://localhost:8080/"
        },
        "id": "q86KdGrbsL8M",
        "outputId": "9af986fc-2ccb-4ec5-8bbb-65fb74934ee9"
      },
      "execution_count": 28,
      "outputs": [
        {
          "output_type": "stream",
          "name": "stdout",
          "text": [
            "Looking in indexes: https://pypi.org/simple, https://us-python.pkg.dev/colab-wheels/public/simple/\n",
            "Requirement already satisfied: better_profanity in /usr/local/lib/python3.7/dist-packages (0.7.0)\n"
          ]
        }
      ]
    },
    {
      "cell_type": "code",
      "execution_count": 32,
      "metadata": {
        "id": "Sh1pmOUI-_O3"
      },
      "outputs": [],
      "source": [
        "# Convert the column 'message' in a list \n",
        "\n",
        "message_list = df.message.to_list()\n"
      ]
    },
    {
      "cell_type": "markdown",
      "source": [
        "21/09/22\n",
        "Source: https://github.com/Deffro/text-preprocessing-techniques/blob/master/techniques.py \n",
        "\n"
      ],
      "metadata": {
        "id": "EWkmk5GJAqed"
      }
    },
    {
      "cell_type": "code",
      "source": [
        "!pip install requests # If necessary "
      ],
      "metadata": {
        "id": "L6-j_ZPqFPlq",
        "colab": {
          "base_uri": "https://localhost:8080/"
        },
        "outputId": "1bbb12e0-531e-4022-9f03-1c6501c4612c"
      },
      "execution_count": 35,
      "outputs": [
        {
          "output_type": "stream",
          "name": "stdout",
          "text": [
            "Looking in indexes: https://pypi.org/simple, https://us-python.pkg.dev/colab-wheels/public/simple/\n",
            "Requirement already satisfied: requests in /usr/local/lib/python3.7/dist-packages (2.23.0)\n",
            "Requirement already satisfied: idna<3,>=2.5 in /usr/local/lib/python3.7/dist-packages (from requests) (2.10)\n",
            "Requirement already satisfied: chardet<4,>=3.0.2 in /usr/local/lib/python3.7/dist-packages (from requests) (3.0.4)\n",
            "Requirement already satisfied: certifi>=2017.4.17 in /usr/local/lib/python3.7/dist-packages (from requests) (2022.9.24)\n",
            "Requirement already satisfied: urllib3!=1.25.0,!=1.25.1,<1.26,>=1.21.1 in /usr/local/lib/python3.7/dist-packages (from requests) (1.24.3)\n"
          ]
        }
      ]
    },
    {
      "cell_type": "code",
      "source": [
        "\"\"\" Copyright 2017, Dimitrios Effrosynidis, All rights reserved. \"\"\"\n",
        "# Functions for preprocessing data\n",
        "\n",
        "import re\n",
        "from functools import partial\n",
        "from collections import Counter\n",
        "import nltk\n",
        "from nltk.corpus import wordnet\n",
        "from nltk.corpus import stopwords\n",
        "from nltk.stem import WordNetLemmatizer\n",
        "from nltk.stem.porter import PorterStemmer\n",
        "# For reading the slang document \n",
        "import urllib.request\n",
        "import requests\n",
        "import urllib\n",
        "from urllib.request import urlopen\n",
        "import urllib3\n",
        "\n",
        "def removeUnicode(text):\n",
        "    \"\"\" Removes unicode strings like \"\\u002c\" and \"x96\" \"\"\"\n",
        "    text = re.sub(r'(\\\\u[0-9A-Fa-f]+)',r'', text)       \n",
        "    text = re.sub(r'[^\\x00-\\x7f]',r'',text)\n",
        "    return text\n",
        "\n",
        "def replaceURL(text):\n",
        "    \"\"\" Replaces url address with \"url\" \"\"\"\n",
        "    text = re.sub('((www\\.[^\\s]+)|(https?://[^\\s]+))','url',text)\n",
        "    text = re.sub(r'#([^\\s]+)', r'\\1', text)\n",
        "    return text\n",
        "\n",
        "def replaceAtUser(text):\n",
        "    \"\"\" Replaces \"@user\" with \"atUser\" \"\"\"\n",
        "    text = re.sub('@[^\\s]+','atUser',text)\n",
        "    return text\n",
        "\n",
        "def removeHashtagInFrontOfWord(text):\n",
        "    \"\"\" Removes hastag in front of a word \"\"\"\n",
        "    text = re.sub(r'#([^\\s]+)', r'\\1', text)\n",
        "    return text\n",
        "\n",
        "def removeNumbers(text):\n",
        "    \"\"\" Removes integers \"\"\"\n",
        "    text = ''.join([i for i in text if not i.isdigit()])         \n",
        "    return text\n",
        "\n",
        "def replaceMultiExclamationMark(text):\n",
        "    \"\"\" Replaces repetitions of exlamation marks \"\"\"\n",
        "    text = re.sub(r\"(\\!)\\1+\", ' multiExclamation ', text)\n",
        "    return text\n",
        "\n",
        "def replaceMultiQuestionMark(text):\n",
        "    \"\"\" Replaces repetitions of question marks \"\"\"\n",
        "    text = re.sub(r\"(\\?)\\1+\", ' multiQuestion ', text)\n",
        "    return text\n",
        "\n",
        "def replaceMultiStopMark(text):\n",
        "    \"\"\" Replaces repetitions of stop marks \"\"\"\n",
        "    text = re.sub(r\"(\\.)\\1+\", ' multiStop ', text)\n",
        "    return text\n",
        "\n",
        "def countMultiExclamationMarks(text):\n",
        "    \"\"\" Replaces repetitions of exlamation marks \"\"\"\n",
        "    return len(re.findall(r\"(\\!)\\1+\", text))\n",
        "\n",
        "def countMultiQuestionMarks(text):\n",
        "    \"\"\" Count repetitions of question marks \"\"\"\n",
        "    return len(re.findall(r\"(\\?)\\1+\", text))\n",
        "\n",
        "def countMultiStopMarks(text):\n",
        "    \"\"\" Count repetitions of stop marks \"\"\"\n",
        "    return len(re.findall(r\"(\\.)\\1+\", text))\n",
        "\n",
        "def countElongated(text):\n",
        "    \"\"\" Input: a text, Output: how many words are elongated \"\"\"\n",
        "    regex = re.compile(r\"(.)\\1{2}\")\n",
        "    return len([word for word in text.split() if regex.search(word)])\n",
        "\n",
        "def countAllCaps(text):\n",
        "    \"\"\" Input: a text, Output: how many words are all caps \"\"\"\n",
        "    return len(re.findall(\"[A-Z0-9]{3,}\", text))\n",
        "\n",
        "#\"\"\" Creates a dictionary with slangs and their equivalents and replaces them \"\"\"\n",
        "#slang_url ='https://raw.githubusercontent.com/Deffro/text-preprocessing-techniques/master/slang.txt'\n",
        "#for line in urllib.request.urlopen(slang_url):\n",
        "#    slang_txt = (line.decode('utf-8')) \n",
        "\n",
        "#with open(slang_txt) as file:\n",
        "#    slang_map = dict(map(str.strip, line.partition('\\t')[::2])\n",
        "#    for line in file if line.strip())\n",
        "\n",
        "#slang_words = sorted(slang_map, key=len, reverse=True) # longest first for regex\n",
        "#regex = re.compile(r\"\\b({})\\b\".format(\"|\".join(map(re.escape, slang_words))))\n",
        "#replaceSlang = partial(regex.sub, lambda m: slang_map[m.group(1)])\n",
        "\n",
        "#def countSlang(text):\n",
        "#    \"\"\" Input: a text, Output: how many slang words and a list of found slangs \"\"\"\n",
        "#    slangCounter = 0\n",
        "#    slangsFound = []\n",
        "#    tokens = nltk.word_tokenize(text)\n",
        "#    for word in tokens:\n",
        "#        if word in slang_words:\n",
        "#            slangsFound.append(word)\n",
        "#            slangCounter += 1\n",
        "#    return slangCounter, slangsFound\n",
        "\n",
        "\"\"\" Replaces contractions from a string to their equivalents \"\"\"\n",
        "contraction_patterns = [ (r'won\\'t', 'will not'), (r'can\\'t', 'cannot'), (r'i\\'m', 'i am'), (r'ain\\'t', 'is not'), (r'(\\w+)\\'ll', '\\g<1> will'), (r'(\\w+)n\\'t', '\\g<1> not'),\n",
        "                         (r'(\\w+)\\'ve', '\\g<1> have'), (r'(\\w+)\\'s', '\\g<1> is'), (r'(\\w+)\\'re', '\\g<1> are'), (r'(\\w+)\\'d', '\\g<1> would'), (r'&', 'and'), (r'dammit', 'damn it'), (r'dont', 'do not'), (r'wont', 'will not') ]\n",
        "def replaceContraction(text):\n",
        "    patterns = [(re.compile(regex), repl) for (regex, repl) in contraction_patterns]\n",
        "    for (pattern, repl) in patterns:\n",
        "        (text, count) = re.subn(pattern, repl, text)\n",
        "    return text\n",
        "\n",
        "def replaceElongated(word):\n",
        "    \"\"\" Replaces an elongated word with its basic form, unless the word exists in the lexicon \"\"\"\n",
        "\n",
        "    repeat_regexp = re.compile(r'(\\w*)(\\w)\\2(\\w*)')\n",
        "    repl = r'\\1\\2\\3'\n",
        "    if wordnet.synsets(word):\n",
        "        return word\n",
        "    repl_word = repeat_regexp.sub(repl, word)\n",
        "    if repl_word != word:      \n",
        "        return replaceElongated(repl_word)\n",
        "    else:       \n",
        "        return repl_word\n",
        "\n",
        "def removeEmoticons(text):\n",
        "    \"\"\" Removes emoticons from text \"\"\"\n",
        "    text = re.sub(':\\)|;\\)|:-\\)|\\(-:|:-D|=D|:P|xD|X-p|\\^\\^|:-*|\\^\\.\\^|\\^\\-\\^|\\^\\_\\^|\\,-\\)|\\)-:|:\\'\\(|:\\(|:-\\(|:\\S|T\\.T|\\.\\_\\.|:<|:-\\S|:-<|\\*\\-\\*|:O|=O|=\\-O|O\\.o|XO|O\\_O|:-\\@|=/|:/|X\\-\\(|>\\.<|>=\\(|D:', '', text)\n",
        "    return text\n",
        "\n",
        "def countEmoticons(text):\n",
        "    \"\"\" Input: a text, Output: how many emoticons \"\"\"\n",
        "    return len(re.findall(':\\)|;\\)|:-\\)|\\(-:|:-D|=D|:P|xD|X-p|\\^\\^|:-*|\\^\\.\\^|\\^\\-\\^|\\^\\_\\^|\\,-\\)|\\)-:|:\\'\\(|:\\(|:-\\(|:\\S|T\\.T|\\.\\_\\.|:<|:-\\S|:-<|\\*\\-\\*|:O|=O|=\\-O|O\\.o|XO|O\\_O|:-\\@|=/|:/|X\\-\\(|>\\.<|>=\\(|D:', text))\n",
        "\n",
        "\n",
        "### Spell Correction begin ###\n",
        "\"\"\" Spell Correction http://norvig.com/spell-correct.html \"\"\"\n",
        "def words(text): return re.findall(r'\\w+', text.lower())\n",
        "\n",
        "#WORDS = Counter(words(open('corporaForSpellCorrection.txt').read()))\n",
        "\n",
        "#def P(word, N=sum(WORDS.values())): \n",
        "#    \"\"\"P robability of `word`. \"\"\"\n",
        "#    return WORDS[word] / N\n",
        "\n",
        "def spellCorrection(word): \n",
        "    \"\"\" Most probable spelling correction for word. \"\"\"\n",
        "    return max(candidates(word), key=P)\n",
        "\n",
        "def candidates(word): \n",
        "    \"\"\" Generate possible spelling corrections for word. \"\"\"\n",
        "    return (known([word]) or known(edits1(word)) or known(edits2(word)) or [word])\n",
        "\n",
        "def known(words): \n",
        "    \"\"\" The subset of `words` that appear in the dictionary of WORDS. \"\"\"\n",
        "    return set(w for w in words if w in WORDS)\n",
        "\n",
        "def edits1(word):\n",
        "    \"\"\" All edits that are one edit away from `word`. \"\"\"\n",
        "    letters    = 'abcdefghijklmnopqrstuvwxyz'\n",
        "    splits     = [(word[:i], word[i:])    for i in range(len(word) + 1)]\n",
        "    deletes    = [L + R[1:]               for L, R in splits if R]\n",
        "    transposes = [L + R[1] + R[0] + R[2:] for L, R in splits if len(R)>1]\n",
        "    replaces   = [L + c + R[1:]           for L, R in splits if R for c in letters]\n",
        "    inserts    = [L + c + R               for L, R in splits for c in letters]\n",
        "    return set(deletes + transposes + replaces + inserts)\n",
        "\n",
        "def edits2(word): \n",
        "    \"\"\" All edits that are two edits away from `word`. \"\"\"\n",
        "    return (e2 for e1 in edits1(word) for e2 in edits1(e1))\n",
        "\n",
        "### Spell Correction End ###\n",
        "\n",
        "### Replace Negations Begin ###\n",
        "\n",
        "def replace(word, pos=None):\n",
        "    \"\"\" Creates a set of all antonyms for the word and if there is only one antonym, it returns it \"\"\"\n",
        "    antonyms = set()\n",
        "    for syn in wordnet.synsets(word, pos=pos):\n",
        "      for lemma in syn.lemmas():\n",
        "        for antonym in lemma.antonyms():\n",
        "          antonyms.add(antonym.name())\n",
        "    if len(antonyms) == 1:\n",
        "      return antonyms.pop()\n",
        "    else:\n",
        "      return None\n",
        "\n",
        "def replaceNegations(text):\n",
        "    \"\"\" Finds \"not\" and antonym for the next word and if found, replaces not and the next word with the antonym \"\"\"\n",
        "    i, l = 0, len(text)\n",
        "    words = []\n",
        "    while i < l:\n",
        "      word = text[i]\n",
        "      if word == 'not' and i+1 < l:\n",
        "        ant = replace(text[i+1])\n",
        "        if ant:\n",
        "          words.append(ant)\n",
        "          i += 2\n",
        "          continue\n",
        "      words.append(word)\n",
        "      i += 1\n",
        "    return words\n",
        "\n",
        "### Replace Negations End ###\n",
        "\n",
        "def addNotTag(text):\n",
        "\t\"\"\" Finds \"not,never,no\" and adds the tag NEG_ to all words that follow until the next punctuation \"\"\"\n",
        "\ttransformed = re.sub(r'\\b(?:not|never|no)\\b[\\w\\s]+[^\\w\\s]', \n",
        "       lambda match: re.sub(r'(\\s+)(\\w+)', r'\\1NEG_\\2', match.group(0)), \n",
        "       text,\n",
        "       flags=re.IGNORECASE)\n",
        "\treturn transformed\n",
        "\n",
        "def addCapTag(word):\n",
        "    \"\"\" Finds a word with at least 3 characters capitalized and adds the tag ALL_CAPS_ \"\"\"\n",
        "    if(len(re.findall(\"[A-Z]{3,}\", word))):\n",
        "        word = word.replace('\\\\', '' )\n",
        "        transformed = re.sub(\"[A-Z]{3,}\", \"ALL_CAPS_\"+word, word)\n",
        "        return transformed\n",
        "    else:\n",
        "        return word"
      ],
      "metadata": {
        "colab": {
          "base_uri": "https://localhost:8080/",
          "height": 35
        },
        "id": "xgV2xwCTCGAs",
        "outputId": "ffd9b4da-3914-4881-b22c-1824dd1991dd"
      },
      "execution_count": 36,
      "outputs": [
        {
          "output_type": "execute_result",
          "data": {
            "text/plain": [
              "' Copyright 2017, Dimitrios Effrosynidis, All rights reserved. '"
            ],
            "application/vnd.google.colaboratory.intrinsic+json": {
              "type": "string"
            }
          },
          "metadata": {},
          "execution_count": 36
        },
        {
          "output_type": "execute_result",
          "data": {
            "text/plain": [
              "' Replaces contractions from a string to their equivalents '"
            ],
            "application/vnd.google.colaboratory.intrinsic+json": {
              "type": "string"
            }
          },
          "metadata": {},
          "execution_count": 36
        },
        {
          "output_type": "execute_result",
          "data": {
            "text/plain": [
              "' Spell Correction http://norvig.com/spell-correct.html '"
            ],
            "application/vnd.google.colaboratory.intrinsic+json": {
              "type": "string"
            }
          },
          "metadata": {},
          "execution_count": 36
        }
      ]
    },
    {
      "cell_type": "code",
      "source": [
        "# Preprocessing our data set: \n",
        "\n",
        "# 1. Remove Unicode\n",
        "cleaned_list_1 = []\n",
        "for tweet in message_list: \n",
        "  string = removeUnicode(tweet)\n",
        "  cleaned_list_1.append(string)\n",
        "\n",
        "# 2. .Replace URL\n",
        "cleaned_list_2 = []\n",
        "for tweet in cleaned_list_1: \n",
        "  string = replaceURL(tweet)\n",
        "  cleaned_list_2.append(string)\n",
        "\n",
        "# 3. Replace @User\n",
        "cleaned_list_3 = []\n",
        "for tweet in cleaned_list_2: \n",
        "  string = replaceAtUser(tweet)\n",
        "  cleaned_list_3.append(string)\n",
        "\n",
        "# 4. Remove # in front of words \n",
        "cleaned_list_4 = []\n",
        "for tweet in cleaned_list_3: \n",
        "  string = removeHashtagInFrontOfWord(tweet)\n",
        "  cleaned_list_4.append(string)\n",
        "\n",
        "# 5. Remove numbers\n",
        "cleaned_list_5 = []\n",
        "for tweet in cleaned_list_4: \n",
        "  string = removeNumbers(tweet)\n",
        "  cleaned_list_5.append(string)\n",
        "\n",
        "# 6. Replace multi exclamation marks \n",
        "cleaned_list_6 = []\n",
        "for tweet in cleaned_list_5: \n",
        "  string = replaceMultiExclamationMark(tweet)\n",
        "  cleaned_list_6.append(string)\n",
        "\n",
        "# 7. Replace Multi Question Mark\n",
        "cleaned_list_7 = []\n",
        "for tweet in cleaned_list_6: \n",
        "  string = replaceMultiQuestionMark(tweet)\n",
        "  cleaned_list_7.append(string)\n",
        "\n",
        "# 8. Replace multistop Mark\n",
        "cleaned_list_8 = []\n",
        "for tweet in cleaned_list_7: \n",
        "  string = replaceMultiStopMark(tweet)\n",
        "  cleaned_list_8.append(string)\n",
        "\n",
        "# 9. Deal with slang\n",
        "cleaned_list_9 = []\n",
        "for tweet in cleaned_list_8: \n",
        "  string = replaceContraction(tweet)\n",
        "  cleaned_list_9.append(string)\n",
        "\n",
        "# We Skiped replaceElongated(word) It doesn't work on our data set.\n",
        "\n",
        "# 10. Remove emoticons \n",
        "cleaned_list_10 = []\n",
        "for tweet in cleaned_list_9: \n",
        "  string = removeEmoticons(tweet)\n",
        "  cleaned_list_10.append(string)\n",
        "\n",
        "# 11. Replace negations\n",
        "\n",
        "#cleaned_list_11 = [] \n",
        "\n",
        "#Doesn't work \n",
        "#for tweet in cleaned_list_10: \n",
        "#  string = replaceNegations(tweet)\n",
        "#  cleaned_list_11.append(string)"
      ],
      "metadata": {
        "id": "iqD7qKQbO1Y5"
      },
      "execution_count": 37,
      "outputs": []
    },
    {
      "cell_type": "code",
      "source": [
        "# View the first elements of the list. \n",
        "cleaned_list_10[0:10]\n"
      ],
      "metadata": {
        "colab": {
          "base_uri": "https://localhost:8080/"
        },
        "id": "8tYvOfhpHtdp",
        "outputId": "2a22099d-6cce-4bcf-c5c7-a9ed84d10b51"
      },
      "execution_count": 38,
      "outputs": [
        {
          "output_type": "execute_result",
          "data": {
            "text/plain": [
              "['atUser climate change is an interesting hustle as it was global warming but the planet stopped warming for  yes while the suv boom',\n",
              " 'RT atUser Watch BeforeTheFlood right here, as atUser travels the world to tackle climate change url htt',\n",
              " 'Fabulous! Leonardo DiCaprio is film on climate change is brilliant multiExclamation  Do watch. url via atUser',\n",
              " 'RT atUser Just watched this amazing documentary by leonardodicaprio on climate change. We all think this url',\n",
              " 'RT atUser Pranita Biswasi, a Lutheran from Odisha, gives testimony on effects of climate change andamp; natural disasters on the po',\n",
              " 'Unamshow awache kujinga na iko global warming url',\n",
              " 'RT atUser Pranita Biswasi, a Lutheran from Odisha, gives testimony on effects of climate change andamp; natural disasters on the po',\n",
              " 'RT atUser Presidential Candidate DonaldTrump is dangerous on climate change, says monaco s Prince Albert',\n",
              " 'RT atUser Leonardo DiCaprio is climate change documentary is free for a week url\\nINDIGENOUS TAIRP url',\n",
              " 'BeforeTheFlood Watch BeforeTheFlood right here, as atUser travels the world to tackle climate change multiStop  url']"
            ]
          },
          "metadata": {},
          "execution_count": 38
        }
      ]
    },
    {
      "cell_type": "markdown",
      "source": [
        "3.2: Join the list in a new df with the sentiments column"
      ],
      "metadata": {
        "id": "Mqv1OcjQ5iAm"
      }
    },
    {
      "cell_type": "code",
      "source": [
        "# Join list in a new df with the sentiments. \n",
        "# We need to join: 'df.sentiment' & 'cleaned_list_10'\n",
        "\n",
        "df2 = pd.DataFrame(list(zip(df.sentiment, cleaned_list_10)),\n",
        "                   columns = ['sentiment', 'tweets'])\n",
        "df2.head(10)"
      ],
      "metadata": {
        "colab": {
          "base_uri": "https://localhost:8080/",
          "height": 363
        },
        "id": "v2ZTyUcozc6O",
        "outputId": "986c5cd1-3198-4788-c671-c1fdbf275dd1"
      },
      "execution_count": 39,
      "outputs": [
        {
          "output_type": "execute_result",
          "data": {
            "text/plain": [
              "   sentiment                                             tweets\n",
              "0         -1  atUser climate change is an interesting hustle...\n",
              "1          1  RT atUser Watch BeforeTheFlood right here, as ...\n",
              "2          1  Fabulous! Leonardo DiCaprio is film on climate...\n",
              "3          1  RT atUser Just watched this amazing documentar...\n",
              "4          2  RT atUser Pranita Biswasi, a Lutheran from Odi...\n",
              "5          0  Unamshow awache kujinga na iko global warming url\n",
              "6          2  RT atUser Pranita Biswasi, a Lutheran from Odi...\n",
              "7          2  RT atUser Presidential Candidate DonaldTrump i...\n",
              "8          0  RT atUser Leonardo DiCaprio is climate change ...\n",
              "9          1  BeforeTheFlood Watch BeforeTheFlood right here..."
            ],
            "text/html": [
              "\n",
              "  <div id=\"df-8fc78397-1826-42df-aec5-400983769c5c\">\n",
              "    <div class=\"colab-df-container\">\n",
              "      <div>\n",
              "<style scoped>\n",
              "    .dataframe tbody tr th:only-of-type {\n",
              "        vertical-align: middle;\n",
              "    }\n",
              "\n",
              "    .dataframe tbody tr th {\n",
              "        vertical-align: top;\n",
              "    }\n",
              "\n",
              "    .dataframe thead th {\n",
              "        text-align: right;\n",
              "    }\n",
              "</style>\n",
              "<table border=\"1\" class=\"dataframe\">\n",
              "  <thead>\n",
              "    <tr style=\"text-align: right;\">\n",
              "      <th></th>\n",
              "      <th>sentiment</th>\n",
              "      <th>tweets</th>\n",
              "    </tr>\n",
              "  </thead>\n",
              "  <tbody>\n",
              "    <tr>\n",
              "      <th>0</th>\n",
              "      <td>-1</td>\n",
              "      <td>atUser climate change is an interesting hustle...</td>\n",
              "    </tr>\n",
              "    <tr>\n",
              "      <th>1</th>\n",
              "      <td>1</td>\n",
              "      <td>RT atUser Watch BeforeTheFlood right here, as ...</td>\n",
              "    </tr>\n",
              "    <tr>\n",
              "      <th>2</th>\n",
              "      <td>1</td>\n",
              "      <td>Fabulous! Leonardo DiCaprio is film on climate...</td>\n",
              "    </tr>\n",
              "    <tr>\n",
              "      <th>3</th>\n",
              "      <td>1</td>\n",
              "      <td>RT atUser Just watched this amazing documentar...</td>\n",
              "    </tr>\n",
              "    <tr>\n",
              "      <th>4</th>\n",
              "      <td>2</td>\n",
              "      <td>RT atUser Pranita Biswasi, a Lutheran from Odi...</td>\n",
              "    </tr>\n",
              "    <tr>\n",
              "      <th>5</th>\n",
              "      <td>0</td>\n",
              "      <td>Unamshow awache kujinga na iko global warming url</td>\n",
              "    </tr>\n",
              "    <tr>\n",
              "      <th>6</th>\n",
              "      <td>2</td>\n",
              "      <td>RT atUser Pranita Biswasi, a Lutheran from Odi...</td>\n",
              "    </tr>\n",
              "    <tr>\n",
              "      <th>7</th>\n",
              "      <td>2</td>\n",
              "      <td>RT atUser Presidential Candidate DonaldTrump i...</td>\n",
              "    </tr>\n",
              "    <tr>\n",
              "      <th>8</th>\n",
              "      <td>0</td>\n",
              "      <td>RT atUser Leonardo DiCaprio is climate change ...</td>\n",
              "    </tr>\n",
              "    <tr>\n",
              "      <th>9</th>\n",
              "      <td>1</td>\n",
              "      <td>BeforeTheFlood Watch BeforeTheFlood right here...</td>\n",
              "    </tr>\n",
              "  </tbody>\n",
              "</table>\n",
              "</div>\n",
              "      <button class=\"colab-df-convert\" onclick=\"convertToInteractive('df-8fc78397-1826-42df-aec5-400983769c5c')\"\n",
              "              title=\"Convert this dataframe to an interactive table.\"\n",
              "              style=\"display:none;\">\n",
              "        \n",
              "  <svg xmlns=\"http://www.w3.org/2000/svg\" height=\"24px\"viewBox=\"0 0 24 24\"\n",
              "       width=\"24px\">\n",
              "    <path d=\"M0 0h24v24H0V0z\" fill=\"none\"/>\n",
              "    <path d=\"M18.56 5.44l.94 2.06.94-2.06 2.06-.94-2.06-.94-.94-2.06-.94 2.06-2.06.94zm-11 1L8.5 8.5l.94-2.06 2.06-.94-2.06-.94L8.5 2.5l-.94 2.06-2.06.94zm10 10l.94 2.06.94-2.06 2.06-.94-2.06-.94-.94-2.06-.94 2.06-2.06.94z\"/><path d=\"M17.41 7.96l-1.37-1.37c-.4-.4-.92-.59-1.43-.59-.52 0-1.04.2-1.43.59L10.3 9.45l-7.72 7.72c-.78.78-.78 2.05 0 2.83L4 21.41c.39.39.9.59 1.41.59.51 0 1.02-.2 1.41-.59l7.78-7.78 2.81-2.81c.8-.78.8-2.07 0-2.86zM5.41 20L4 18.59l7.72-7.72 1.47 1.35L5.41 20z\"/>\n",
              "  </svg>\n",
              "      </button>\n",
              "      \n",
              "  <style>\n",
              "    .colab-df-container {\n",
              "      display:flex;\n",
              "      flex-wrap:wrap;\n",
              "      gap: 12px;\n",
              "    }\n",
              "\n",
              "    .colab-df-convert {\n",
              "      background-color: #E8F0FE;\n",
              "      border: none;\n",
              "      border-radius: 50%;\n",
              "      cursor: pointer;\n",
              "      display: none;\n",
              "      fill: #1967D2;\n",
              "      height: 32px;\n",
              "      padding: 0 0 0 0;\n",
              "      width: 32px;\n",
              "    }\n",
              "\n",
              "    .colab-df-convert:hover {\n",
              "      background-color: #E2EBFA;\n",
              "      box-shadow: 0px 1px 2px rgba(60, 64, 67, 0.3), 0px 1px 3px 1px rgba(60, 64, 67, 0.15);\n",
              "      fill: #174EA6;\n",
              "    }\n",
              "\n",
              "    [theme=dark] .colab-df-convert {\n",
              "      background-color: #3B4455;\n",
              "      fill: #D2E3FC;\n",
              "    }\n",
              "\n",
              "    [theme=dark] .colab-df-convert:hover {\n",
              "      background-color: #434B5C;\n",
              "      box-shadow: 0px 1px 3px 1px rgba(0, 0, 0, 0.15);\n",
              "      filter: drop-shadow(0px 1px 2px rgba(0, 0, 0, 0.3));\n",
              "      fill: #FFFFFF;\n",
              "    }\n",
              "  </style>\n",
              "\n",
              "      <script>\n",
              "        const buttonEl =\n",
              "          document.querySelector('#df-8fc78397-1826-42df-aec5-400983769c5c button.colab-df-convert');\n",
              "        buttonEl.style.display =\n",
              "          google.colab.kernel.accessAllowed ? 'block' : 'none';\n",
              "\n",
              "        async function convertToInteractive(key) {\n",
              "          const element = document.querySelector('#df-8fc78397-1826-42df-aec5-400983769c5c');\n",
              "          const dataTable =\n",
              "            await google.colab.kernel.invokeFunction('convertToInteractive',\n",
              "                                                     [key], {});\n",
              "          if (!dataTable) return;\n",
              "\n",
              "          const docLinkHtml = 'Like what you see? Visit the ' +\n",
              "            '<a target=\"_blank\" href=https://colab.research.google.com/notebooks/data_table.ipynb>data table notebook</a>'\n",
              "            + ' to learn more about interactive tables.';\n",
              "          element.innerHTML = '';\n",
              "          dataTable['output_type'] = 'display_data';\n",
              "          await google.colab.output.renderOutput(dataTable, element);\n",
              "          const docLink = document.createElement('div');\n",
              "          docLink.innerHTML = docLinkHtml;\n",
              "          element.appendChild(docLink);\n",
              "        }\n",
              "      </script>\n",
              "    </div>\n",
              "  </div>\n",
              "  "
            ]
          },
          "metadata": {},
          "execution_count": 39
        }
      ]
    },
    {
      "cell_type": "markdown",
      "source": [
        "# **4. Prediction Models**\n"
      ],
      "metadata": {
        "id": "5pV2uYeA5ltg"
      }
    },
    {
      "cell_type": "markdown",
      "source": [
        "## 4.1 Linear Regression"
      ],
      "metadata": {
        "id": "-bK_KePEEaVQ"
      }
    },
    {
      "cell_type": "markdown",
      "source": [
        "Vectorize & split into test and train\n",
        "Split the data frame into  train and test sets .80% of the data will be used for training, and 20% will be used for testing. \n",
        "\n",
        "Taken from: https://towardsdatascience.com/a-beginners-guide-to-sentiment-analysis-in-python-95e354ea84f6"
      ],
      "metadata": {
        "id": "k7O5XCkbGOda"
      }
    },
    {
      "cell_type": "code",
      "source": [
        "# Random split train and test data. \n",
        "import numpy as np\n",
        "from sklearn.linear_model import LogisticRegression\n",
        "from sklearn.model_selection import train_test_split\n",
        "\n",
        "X_train, X_test, y_train, y_test = train_test_split(df2['tweets'], df2['sentiment'], test_size=0.33, random_state=42)"
      ],
      "metadata": {
        "id": "qZnOxCTQGHSF"
      },
      "execution_count": 42,
      "outputs": []
    },
    {
      "cell_type": "markdown",
      "source": [
        "Create a bag of words\n",
        "- Use a count vectorizer from the Scikit-learn library. \n",
        "\n",
        "This will transform the text in our data frame into a bag of words model, which will contain a sparse matrix of integers. The number of occurrences of each word will be counted and printed.\n",
        "\n",
        "We will need to convert the text into a bag-of-words model since the logistic regression algorithm cannot understand text.\n"
      ],
      "metadata": {
        "id": "0xwyyKvQGvZP"
      }
    },
    {
      "cell_type": "code",
      "source": [
        "# count vectorizer:\n",
        "from sklearn.feature_extraction.text import CountVectorizer\n",
        "\n",
        "vectorizer = CountVectorizer(token_pattern=r'\\b\\w+\\b')\n",
        "train_matrix = vectorizer.fit_transform(X_train)\n",
        "test_matrix = vectorizer.transform(X_test)"
      ],
      "metadata": {
        "id": "XC4TFoKEHKzm"
      },
      "execution_count": 43,
      "outputs": []
    },
    {
      "cell_type": "markdown",
      "source": [
        "Import logistic regression "
      ],
      "metadata": {
        "id": "Ug0VYr_4Hyxw"
      }
    },
    {
      "cell_type": "code",
      "source": [
        "# Logistic Regression\n",
        "from sklearn.linear_model import LogisticRegression\n",
        "lr = LogisticRegression()"
      ],
      "metadata": {
        "id": "HNRmefqGH6ht"
      },
      "execution_count": 44,
      "outputs": []
    },
    {
      "cell_type": "markdown",
      "source": [
        "Fit the model on the data"
      ],
      "metadata": {
        "id": "0P5aeE5QIWHf"
      }
    },
    {
      "cell_type": "code",
      "source": [
        "# Error fitting the trains but it works anyways.\n",
        "#\"Your session failed because all available RAM was used. If you want to access large RAM execution environments check Colab Pro\"\n",
        "lr.fit(train_matrix,y_train)"
      ],
      "metadata": {
        "colab": {
          "base_uri": "https://localhost:8080/"
        },
        "id": "2RH7NV9CIY4_",
        "outputId": "bbe44f17-9911-4e4b-bd73-1b28894e61d4"
      },
      "execution_count": 45,
      "outputs": [
        {
          "output_type": "stream",
          "name": "stderr",
          "text": [
            "/usr/local/lib/python3.7/dist-packages/sklearn/linear_model/_logistic.py:818: ConvergenceWarning:\n",
            "\n",
            "lbfgs failed to converge (status=1):\n",
            "STOP: TOTAL NO. of ITERATIONS REACHED LIMIT.\n",
            "\n",
            "Increase the number of iterations (max_iter) or scale the data as shown in:\n",
            "    https://scikit-learn.org/stable/modules/preprocessing.html\n",
            "Please also refer to the documentation for alternative solver options:\n",
            "    https://scikit-learn.org/stable/modules/linear_model.html#logistic-regression\n",
            "\n"
          ]
        },
        {
          "output_type": "execute_result",
          "data": {
            "text/plain": [
              "LogisticRegression()"
            ]
          },
          "metadata": {},
          "execution_count": 45
        }
      ]
    },
    {
      "cell_type": "markdown",
      "source": [
        "Make predictions "
      ],
      "metadata": {
        "id": "wJ2USRM8IgHu"
      }
    },
    {
      "cell_type": "code",
      "source": [
        "predictions = lr.predict(test_matrix)"
      ],
      "metadata": {
        "id": "sut4puMmJkXA"
      },
      "execution_count": 46,
      "outputs": []
    },
    {
      "cell_type": "markdown",
      "source": [
        "Testing "
      ],
      "metadata": {
        "id": "8wSeKnyNJft7"
      }
    },
    {
      "cell_type": "code",
      "source": [
        "# To test the accuracy of the model: \n",
        "# find accuracy, precision, recall:\n",
        "from sklearn.metrics import confusion_matrix,classification_report\n",
        "new = np.asarray(y_test)\n",
        "confusion_matrix(predictions,y_test)\n",
        "\n",
        "# The results should be a confusion matrix "
      ],
      "metadata": {
        "id": "jO3iLeGfJr7C",
        "colab": {
          "base_uri": "https://localhost:8080/"
        },
        "outputId": "3e57967a-b54a-49e4-9df1-d5ea41df0da1"
      },
      "execution_count": 47,
      "outputs": [
        {
          "output_type": "execute_result",
          "data": {
            "text/plain": [
              "array([[ 623,  149,  146,   22],\n",
              "       [ 241, 1334,  566,  102],\n",
              "       [ 337,  930, 6372,  641],\n",
              "       [  68,  192,  485, 2294]])"
            ]
          },
          "metadata": {},
          "execution_count": 47
        }
      ]
    },
    {
      "cell_type": "code",
      "source": [
        "print(classification_report(predictions,y_test))"
      ],
      "metadata": {
        "id": "7dOVmJFzL7A3",
        "colab": {
          "base_uri": "https://localhost:8080/"
        },
        "outputId": "08bd7dfa-160c-4fc1-9107-a6cc0a53e0aa"
      },
      "execution_count": 48,
      "outputs": [
        {
          "output_type": "stream",
          "name": "stdout",
          "text": [
            "              precision    recall  f1-score   support\n",
            "\n",
            "          -1       0.49      0.66      0.56       940\n",
            "           0       0.51      0.59      0.55      2243\n",
            "           1       0.84      0.77      0.80      8280\n",
            "           2       0.75      0.75      0.75      3039\n",
            "\n",
            "    accuracy                           0.73     14502\n",
            "   macro avg       0.65      0.70      0.67     14502\n",
            "weighted avg       0.75      0.73      0.74     14502\n",
            "\n"
          ]
        }
      ]
    },
    {
      "cell_type": "markdown",
      "source": [
        "Session 26/09 \n"
      ],
      "metadata": {
        "id": "yhkEihpnyDuA"
      }
    },
    {
      "cell_type": "markdown",
      "source": [
        "# Naive Bayes Classifier"
      ],
      "metadata": {
        "id": "TJqZhNV5Mdpw"
      }
    },
    {
      "cell_type": "code",
      "source": [
        "from sklearn.pipeline import Pipeline\n",
        "from sklearn.naive_bayes import MultinomialNB\n",
        "\n",
        "# Model evaluation\n",
        "from sklearn import metrics\n",
        "from sklearn.metrics import classification_report, confusion_matrix, f1_score, precision_score, recall_score\n",
        "from sklearn.naive_bayes import GaussianNB\n"
      ],
      "metadata": {
        "id": "r9cYtYkgNInL"
      },
      "execution_count": 68,
      "outputs": []
    },
    {
      "cell_type": "code",
      "source": [
        "# Pipeline\n",
        "from sklearn.feature_extraction.text import TfidfVectorizer\n",
        "# Naïve Bayes:\n",
        "nb = Pipeline([('tfidf', TfidfVectorizer()),\n",
        "               ('clf', MultinomialNB())])"
      ],
      "metadata": {
        "id": "T2SvcEQ3SDMz"
      },
      "execution_count": 69,
      "outputs": []
    },
    {
      "cell_type": "code",
      "source": [
        "df4 = df2.drop(columns= ['sentiment_1'], )#inplace= True)\n",
        "df4"
      ],
      "metadata": {
        "id": "d90ayHnTWhw1",
        "outputId": "d430cae8-fd07-4b5c-dff7-6f8848103847",
        "colab": {
          "base_uri": "https://localhost:8080/",
          "height": 424
        }
      },
      "execution_count": 70,
      "outputs": [
        {
          "output_type": "execute_result",
          "data": {
            "text/plain": [
              "       sentiment                                             tweets\n",
              "0             -1  atUser climate change is an interesting hustle...\n",
              "1              1  RT atUser Watch BeforeTheFlood right here, as ...\n",
              "2              1  Fabulous! Leonardo DiCaprio is film on climate...\n",
              "3              1  RT atUser Just watched this amazing documentar...\n",
              "4              2  RT atUser Pranita Biswasi, a Lutheran from Odi...\n",
              "...          ...                                                ...\n",
              "43938          1  Dear atUser\\nYeah right. Human Mediated Climat...\n",
              "43939          1  What will your respective parties do to preven...\n",
              "43940          2  RT atUser UN Poll Shows Climate Change Is the ...\n",
              "43941          0  RT atUser i still can$q$t believe this gif of ...\n",
              "43942          1  atUser atUser \\n\\nThe wealthy + fossil fuel In...\n",
              "\n",
              "[43943 rows x 2 columns]"
            ],
            "text/html": [
              "\n",
              "  <div id=\"df-38042d05-ccb2-4a83-a5e2-d186cdadf9ab\">\n",
              "    <div class=\"colab-df-container\">\n",
              "      <div>\n",
              "<style scoped>\n",
              "    .dataframe tbody tr th:only-of-type {\n",
              "        vertical-align: middle;\n",
              "    }\n",
              "\n",
              "    .dataframe tbody tr th {\n",
              "        vertical-align: top;\n",
              "    }\n",
              "\n",
              "    .dataframe thead th {\n",
              "        text-align: right;\n",
              "    }\n",
              "</style>\n",
              "<table border=\"1\" class=\"dataframe\">\n",
              "  <thead>\n",
              "    <tr style=\"text-align: right;\">\n",
              "      <th></th>\n",
              "      <th>sentiment</th>\n",
              "      <th>tweets</th>\n",
              "    </tr>\n",
              "  </thead>\n",
              "  <tbody>\n",
              "    <tr>\n",
              "      <th>0</th>\n",
              "      <td>-1</td>\n",
              "      <td>atUser climate change is an interesting hustle...</td>\n",
              "    </tr>\n",
              "    <tr>\n",
              "      <th>1</th>\n",
              "      <td>1</td>\n",
              "      <td>RT atUser Watch BeforeTheFlood right here, as ...</td>\n",
              "    </tr>\n",
              "    <tr>\n",
              "      <th>2</th>\n",
              "      <td>1</td>\n",
              "      <td>Fabulous! Leonardo DiCaprio is film on climate...</td>\n",
              "    </tr>\n",
              "    <tr>\n",
              "      <th>3</th>\n",
              "      <td>1</td>\n",
              "      <td>RT atUser Just watched this amazing documentar...</td>\n",
              "    </tr>\n",
              "    <tr>\n",
              "      <th>4</th>\n",
              "      <td>2</td>\n",
              "      <td>RT atUser Pranita Biswasi, a Lutheran from Odi...</td>\n",
              "    </tr>\n",
              "    <tr>\n",
              "      <th>...</th>\n",
              "      <td>...</td>\n",
              "      <td>...</td>\n",
              "    </tr>\n",
              "    <tr>\n",
              "      <th>43938</th>\n",
              "      <td>1</td>\n",
              "      <td>Dear atUser\\nYeah right. Human Mediated Climat...</td>\n",
              "    </tr>\n",
              "    <tr>\n",
              "      <th>43939</th>\n",
              "      <td>1</td>\n",
              "      <td>What will your respective parties do to preven...</td>\n",
              "    </tr>\n",
              "    <tr>\n",
              "      <th>43940</th>\n",
              "      <td>2</td>\n",
              "      <td>RT atUser UN Poll Shows Climate Change Is the ...</td>\n",
              "    </tr>\n",
              "    <tr>\n",
              "      <th>43941</th>\n",
              "      <td>0</td>\n",
              "      <td>RT atUser i still can$q$t believe this gif of ...</td>\n",
              "    </tr>\n",
              "    <tr>\n",
              "      <th>43942</th>\n",
              "      <td>1</td>\n",
              "      <td>atUser atUser \\n\\nThe wealthy + fossil fuel In...</td>\n",
              "    </tr>\n",
              "  </tbody>\n",
              "</table>\n",
              "<p>43943 rows × 2 columns</p>\n",
              "</div>\n",
              "      <button class=\"colab-df-convert\" onclick=\"convertToInteractive('df-38042d05-ccb2-4a83-a5e2-d186cdadf9ab')\"\n",
              "              title=\"Convert this dataframe to an interactive table.\"\n",
              "              style=\"display:none;\">\n",
              "        \n",
              "  <svg xmlns=\"http://www.w3.org/2000/svg\" height=\"24px\"viewBox=\"0 0 24 24\"\n",
              "       width=\"24px\">\n",
              "    <path d=\"M0 0h24v24H0V0z\" fill=\"none\"/>\n",
              "    <path d=\"M18.56 5.44l.94 2.06.94-2.06 2.06-.94-2.06-.94-.94-2.06-.94 2.06-2.06.94zm-11 1L8.5 8.5l.94-2.06 2.06-.94-2.06-.94L8.5 2.5l-.94 2.06-2.06.94zm10 10l.94 2.06.94-2.06 2.06-.94-2.06-.94-.94-2.06-.94 2.06-2.06.94z\"/><path d=\"M17.41 7.96l-1.37-1.37c-.4-.4-.92-.59-1.43-.59-.52 0-1.04.2-1.43.59L10.3 9.45l-7.72 7.72c-.78.78-.78 2.05 0 2.83L4 21.41c.39.39.9.59 1.41.59.51 0 1.02-.2 1.41-.59l7.78-7.78 2.81-2.81c.8-.78.8-2.07 0-2.86zM5.41 20L4 18.59l7.72-7.72 1.47 1.35L5.41 20z\"/>\n",
              "  </svg>\n",
              "      </button>\n",
              "      \n",
              "  <style>\n",
              "    .colab-df-container {\n",
              "      display:flex;\n",
              "      flex-wrap:wrap;\n",
              "      gap: 12px;\n",
              "    }\n",
              "\n",
              "    .colab-df-convert {\n",
              "      background-color: #E8F0FE;\n",
              "      border: none;\n",
              "      border-radius: 50%;\n",
              "      cursor: pointer;\n",
              "      display: none;\n",
              "      fill: #1967D2;\n",
              "      height: 32px;\n",
              "      padding: 0 0 0 0;\n",
              "      width: 32px;\n",
              "    }\n",
              "\n",
              "    .colab-df-convert:hover {\n",
              "      background-color: #E2EBFA;\n",
              "      box-shadow: 0px 1px 2px rgba(60, 64, 67, 0.3), 0px 1px 3px 1px rgba(60, 64, 67, 0.15);\n",
              "      fill: #174EA6;\n",
              "    }\n",
              "\n",
              "    [theme=dark] .colab-df-convert {\n",
              "      background-color: #3B4455;\n",
              "      fill: #D2E3FC;\n",
              "    }\n",
              "\n",
              "    [theme=dark] .colab-df-convert:hover {\n",
              "      background-color: #434B5C;\n",
              "      box-shadow: 0px 1px 3px 1px rgba(0, 0, 0, 0.15);\n",
              "      filter: drop-shadow(0px 1px 2px rgba(0, 0, 0, 0.3));\n",
              "      fill: #FFFFFF;\n",
              "    }\n",
              "  </style>\n",
              "\n",
              "      <script>\n",
              "        const buttonEl =\n",
              "          document.querySelector('#df-38042d05-ccb2-4a83-a5e2-d186cdadf9ab button.colab-df-convert');\n",
              "        buttonEl.style.display =\n",
              "          google.colab.kernel.accessAllowed ? 'block' : 'none';\n",
              "\n",
              "        async function convertToInteractive(key) {\n",
              "          const element = document.querySelector('#df-38042d05-ccb2-4a83-a5e2-d186cdadf9ab');\n",
              "          const dataTable =\n",
              "            await google.colab.kernel.invokeFunction('convertToInteractive',\n",
              "                                                     [key], {});\n",
              "          if (!dataTable) return;\n",
              "\n",
              "          const docLinkHtml = 'Like what you see? Visit the ' +\n",
              "            '<a target=\"_blank\" href=https://colab.research.google.com/notebooks/data_table.ipynb>data table notebook</a>'\n",
              "            + ' to learn more about interactive tables.';\n",
              "          element.innerHTML = '';\n",
              "          dataTable['output_type'] = 'display_data';\n",
              "          await google.colab.output.renderOutput(dataTable, element);\n",
              "          const docLink = document.createElement('div');\n",
              "          docLink.innerHTML = docLinkHtml;\n",
              "          element.appendChild(docLink);\n",
              "        }\n",
              "      </script>\n",
              "    </div>\n",
              "  </div>\n",
              "  "
            ]
          },
          "metadata": {},
          "execution_count": 70
        }
      ]
    },
    {
      "cell_type": "code",
      "source": [
        "# Split 4 \n",
        "\n",
        "X_train, X_test, y_train, y_test = train_test_split(df4['tweets'], df4['sentiment'], test_size=0.33, random_state=42)"
      ],
      "metadata": {
        "id": "oRa92OTCUCw4"
      },
      "execution_count": 71,
      "outputs": []
    },
    {
      "cell_type": "code",
      "source": [
        "# Train model \n",
        "# Niave bayes\n",
        "nb.fit(X_train, y_train)\n"
      ],
      "metadata": {
        "id": "FtIN2cu_TopU",
        "outputId": "81b9695b-89c8-400c-c8b6-4f32ba2e969e",
        "colab": {
          "base_uri": "https://localhost:8080/"
        }
      },
      "execution_count": 72,
      "outputs": [
        {
          "output_type": "execute_result",
          "data": {
            "text/plain": [
              "Pipeline(steps=[('tfidf', TfidfVectorizer()), ('clf', MultinomialNB())])"
            ]
          },
          "metadata": {},
          "execution_count": 72
        }
      ]
    },
    {
      "cell_type": "code",
      "source": [
        "y_pred_nb = nb.predict(X_test)"
      ],
      "metadata": {
        "id": "uocc_PMFVV_N"
      },
      "execution_count": 73,
      "outputs": []
    },
    {
      "cell_type": "code",
      "source": [
        "# Generate a classification Report for the Naive Bayes model\n",
        "print(metrics.classification_report(y_test, y_pred_nb))\n"
      ],
      "metadata": {
        "id": "9UqCGLR3WCP3",
        "outputId": "cd3a6e56-6744-4dd5-b698-3caee0516d0b",
        "colab": {
          "base_uri": "https://localhost:8080/"
        }
      },
      "execution_count": 74,
      "outputs": [
        {
          "output_type": "stream",
          "name": "stdout",
          "text": [
            "              precision    recall  f1-score   support\n",
            "\n",
            "          -1       0.91      0.03      0.05      1269\n",
            "           0       0.96      0.07      0.12      2605\n",
            "           1       0.58      0.99      0.73      7569\n",
            "           2       0.87      0.38      0.53      3059\n",
            "\n",
            "    accuracy                           0.61     14502\n",
            "   macro avg       0.83      0.36      0.36     14502\n",
            "weighted avg       0.74      0.61      0.52     14502\n",
            "\n"
          ]
        }
      ]
    },
    {
      "cell_type": "code",
      "source": [
        "# Generate a normalized confusion matrix\n",
        "cm = confusion_matrix(y_test, y_pred_nb)\n",
        "cm_norm = cm / cm.sum(axis=1).reshape(-1,1)"
      ],
      "metadata": {
        "id": "kaxSqhm5XDAo"
      },
      "execution_count": 75,
      "outputs": []
    },
    {
      "cell_type": "markdown",
      "source": [
        "Next steps: \n",
        "\n",
        "- Try another model : https://www.kaggle.com/code/nicolemeinie/sentiment-analysis-twitter-on-climate-change/notebook\n",
        "\n",
        "- Linear Support Vector Machine \n",
        "- Random Forest\n",
        "\n",
        "- Feature engineering techniques: bag of words, bi-gram, n-gram models, word2Vec, Word embeddings\n",
        "\n"
      ],
      "metadata": {
        "id": "TbzIuNloXqYN"
      }
    },
    {
      "cell_type": "markdown",
      "source": [
        "# Support Vector Machine "
      ],
      "metadata": {
        "id": "6pVrsTIfFH2L"
      }
    },
    {
      "cell_type": "code",
      "source": [
        "# Linear SVC:\n",
        "from sklearn.svm import LinearSVC\n",
        "\n",
        "#df4 is the df we are using for this model \n",
        "\n",
        "# Pipeline\n",
        "lsvc = Pipeline([('tfidf', TfidfVectorizer()),\n",
        "                 ('clf', LinearSVC(class_weight='balanced'))])\n"
      ],
      "metadata": {
        "id": "s70YiZgFE3fi"
      },
      "execution_count": 76,
      "outputs": []
    },
    {
      "cell_type": "code",
      "source": [
        "# Split 5 (Rerun split 4. )\n",
        "X_train, X_test, y_train, y_test = train_test_split(df4['tweets'], df4['sentiment'], test_size=0.33, random_state=42)"
      ],
      "metadata": {
        "id": "EceGEADMGPfC"
      },
      "execution_count": 77,
      "outputs": []
    },
    {
      "cell_type": "code",
      "source": [
        "# Train the model - Linear SVC\n",
        "lsvc.fit(X_train, y_train)"
      ],
      "metadata": {
        "id": "1XyPuVrAGlI0",
        "outputId": "362fa700-5d6e-45f9-c714-87670d28cf8b",
        "colab": {
          "base_uri": "https://localhost:8080/"
        }
      },
      "execution_count": 78,
      "outputs": [
        {
          "output_type": "execute_result",
          "data": {
            "text/plain": [
              "Pipeline(steps=[('tfidf', TfidfVectorizer()),\n",
              "                ('clf', LinearSVC(class_weight='balanced'))])"
            ]
          },
          "metadata": {},
          "execution_count": 78
        }
      ]
    },
    {
      "cell_type": "code",
      "source": [
        "y_pred_lsvc = lsvc.predict(X_test)"
      ],
      "metadata": {
        "id": "4-RxDxWJGwGf"
      },
      "execution_count": 79,
      "outputs": []
    },
    {
      "cell_type": "code",
      "source": [
        "# Generate a classification Report for the linear SVC model\n",
        "print(metrics.classification_report(y_test, y_pred_lsvc))"
      ],
      "metadata": {
        "id": "_e8v6z8PHM1v",
        "outputId": "3821d50a-6030-48a2-b6f1-ae4e1020cc8c",
        "colab": {
          "base_uri": "https://localhost:8080/"
        }
      },
      "execution_count": 80,
      "outputs": [
        {
          "output_type": "stream",
          "name": "stdout",
          "text": [
            "              precision    recall  f1-score   support\n",
            "\n",
            "          -1       0.54      0.58      0.56      1269\n",
            "           0       0.56      0.52      0.54      2605\n",
            "           1       0.80      0.78      0.79      7569\n",
            "           2       0.71      0.79      0.75      3059\n",
            "\n",
            "    accuracy                           0.72     14502\n",
            "   macro avg       0.65      0.67      0.66     14502\n",
            "weighted avg       0.72      0.72      0.72     14502\n",
            "\n"
          ]
        }
      ]
    },
    {
      "cell_type": "code",
      "source": [
        "# Generate a normalized confusion matrix\n",
        "cm = confusion_matrix(y_test, y_pred_lsvc)\n",
        "cm_norm = cm / cm.sum(axis=1).reshape(-1,1)\n",
        "\n",
        "# Display the confusion matrix as a heatmap\n",
        "sns.heatmap(cm_norm, \n",
        "            cmap=\"YlGnBu\", \n",
        "            xticklabels=lsvc.classes_, \n",
        "            yticklabels=lsvc.classes_, \n",
        "            vmin=0., \n",
        "            vmax=1., \n",
        "            annot=True, \n",
        "            annot_kws={'size':10})\n",
        "\n",
        "# Adding headings and lables\n",
        "plt.title('Linear SVC classification')\n",
        "plt.ylabel('True label')\n",
        "plt.xlabel('Predicted label')\n",
        "plt.show()"
      ],
      "metadata": {
        "id": "H6fD3ZacHPNe",
        "colab": {
          "base_uri": "https://localhost:8080/",
          "height": 312
        },
        "outputId": "c2760525-5f1c-43ea-a4b9-11885d6591b3"
      },
      "execution_count": 81,
      "outputs": [
        {
          "output_type": "execute_result",
          "data": {
            "text/plain": [
              "<matplotlib.axes._subplots.AxesSubplot at 0x7fc96648d2d0>"
            ]
          },
          "metadata": {},
          "execution_count": 81
        },
        {
          "output_type": "execute_result",
          "data": {
            "text/plain": [
              "Text(0.5, 1.0, 'Linear SVC classification')"
            ]
          },
          "metadata": {},
          "execution_count": 81
        },
        {
          "output_type": "execute_result",
          "data": {
            "text/plain": [
              "Text(33.0, 0.5, 'True label')"
            ]
          },
          "metadata": {},
          "execution_count": 81
        },
        {
          "output_type": "execute_result",
          "data": {
            "text/plain": [
              "Text(0.5, 15.0, 'Predicted label')"
            ]
          },
          "metadata": {},
          "execution_count": 81
        },
        {
          "output_type": "display_data",
          "data": {
            "text/plain": [
              "<Figure size 432x288 with 2 Axes>"
            ],
            "image/png": "[encoded data removed]"
          },
          "metadata": {
            "needs_background": "light"
          }
        }
      ]
    },
    {
      "cell_type": "code",
      "source": [
        "print(cm)"
      ],
      "metadata": {
        "id": "BU3L9JKXHPFD",
        "outputId": "e5c8fed1-ef5e-4b7e-8890-7a1d9e9edc52",
        "colab": {
          "base_uri": "https://localhost:8080/"
        }
      },
      "execution_count": 82,
      "outputs": [
        {
          "output_type": "stream",
          "name": "stdout",
          "text": [
            "[[ 742  218  241   68]\n",
            " [ 269 1347  736  253]\n",
            " [ 316  697 5914  642]\n",
            " [  58  124  469 2408]]\n"
          ]
        }
      ]
    },
    {
      "cell_type": "code",
      "source": [
        "df3.head(10)"
      ],
      "metadata": {
        "id": "YTl8J0TCJyVW",
        "outputId": "074040f2-50e5-477c-ff78-cd3df23e872a",
        "colab": {
          "base_uri": "https://localhost:8080/",
          "height": 363
        }
      },
      "execution_count": 83,
      "outputs": [
        {
          "output_type": "execute_result",
          "data": {
            "text/plain": [
              "                                              tweets  sentiment_1\n",
              "0  atUser climate change is an interesting hustle...           -1\n",
              "1  RT atUser Watch BeforeTheFlood right here, as ...            1\n",
              "2  Fabulous! Leonardo DiCaprio is film on climate...            1\n",
              "3  RT atUser Just watched this amazing documentar...            1\n",
              "4  RT atUser Pranita Biswasi, a Lutheran from Odi...            1\n",
              "5  Unamshow awache kujinga na iko global warming url           -1\n",
              "6  RT atUser Pranita Biswasi, a Lutheran from Odi...            1\n",
              "7  RT atUser Presidential Candidate DonaldTrump i...            1\n",
              "8  RT atUser Leonardo DiCaprio is climate change ...           -1\n",
              "9  BeforeTheFlood Watch BeforeTheFlood right here...            1"
            ],
            "text/html": [
              "\n",
              "  <div id=\"df-721df09f-adb3-4206-9e3e-0e3a156587e6\">\n",
              "    <div class=\"colab-df-container\">\n",
              "      <div>\n",
              "<style scoped>\n",
              "    .dataframe tbody tr th:only-of-type {\n",
              "        vertical-align: middle;\n",
              "    }\n",
              "\n",
              "    .dataframe tbody tr th {\n",
              "        vertical-align: top;\n",
              "    }\n",
              "\n",
              "    .dataframe thead th {\n",
              "        text-align: right;\n",
              "    }\n",
              "</style>\n",
              "<table border=\"1\" class=\"dataframe\">\n",
              "  <thead>\n",
              "    <tr style=\"text-align: right;\">\n",
              "      <th></th>\n",
              "      <th>tweets</th>\n",
              "      <th>sentiment_1</th>\n",
              "    </tr>\n",
              "  </thead>\n",
              "  <tbody>\n",
              "    <tr>\n",
              "      <th>0</th>\n",
              "      <td>atUser climate change is an interesting hustle...</td>\n",
              "      <td>-1</td>\n",
              "    </tr>\n",
              "    <tr>\n",
              "      <th>1</th>\n",
              "      <td>RT atUser Watch BeforeTheFlood right here, as ...</td>\n",
              "      <td>1</td>\n",
              "    </tr>\n",
              "    <tr>\n",
              "      <th>2</th>\n",
              "      <td>Fabulous! Leonardo DiCaprio is film on climate...</td>\n",
              "      <td>1</td>\n",
              "    </tr>\n",
              "    <tr>\n",
              "      <th>3</th>\n",
              "      <td>RT atUser Just watched this amazing documentar...</td>\n",
              "      <td>1</td>\n",
              "    </tr>\n",
              "    <tr>\n",
              "      <th>4</th>\n",
              "      <td>RT atUser Pranita Biswasi, a Lutheran from Odi...</td>\n",
              "      <td>1</td>\n",
              "    </tr>\n",
              "    <tr>\n",
              "      <th>5</th>\n",
              "      <td>Unamshow awache kujinga na iko global warming url</td>\n",
              "      <td>-1</td>\n",
              "    </tr>\n",
              "    <tr>\n",
              "      <th>6</th>\n",
              "      <td>RT atUser Pranita Biswasi, a Lutheran from Odi...</td>\n",
              "      <td>1</td>\n",
              "    </tr>\n",
              "    <tr>\n",
              "      <th>7</th>\n",
              "      <td>RT atUser Presidential Candidate DonaldTrump i...</td>\n",
              "      <td>1</td>\n",
              "    </tr>\n",
              "    <tr>\n",
              "      <th>8</th>\n",
              "      <td>RT atUser Leonardo DiCaprio is climate change ...</td>\n",
              "      <td>-1</td>\n",
              "    </tr>\n",
              "    <tr>\n",
              "      <th>9</th>\n",
              "      <td>BeforeTheFlood Watch BeforeTheFlood right here...</td>\n",
              "      <td>1</td>\n",
              "    </tr>\n",
              "  </tbody>\n",
              "</table>\n",
              "</div>\n",
              "      <button class=\"colab-df-convert\" onclick=\"convertToInteractive('df-721df09f-adb3-4206-9e3e-0e3a156587e6')\"\n",
              "              title=\"Convert this dataframe to an interactive table.\"\n",
              "              style=\"display:none;\">\n",
              "        \n",
              "  <svg xmlns=\"http://www.w3.org/2000/svg\" height=\"24px\"viewBox=\"0 0 24 24\"\n",
              "       width=\"24px\">\n",
              "    <path d=\"M0 0h24v24H0V0z\" fill=\"none\"/>\n",
              "    <path d=\"M18.56 5.44l.94 2.06.94-2.06 2.06-.94-2.06-.94-.94-2.06-.94 2.06-2.06.94zm-11 1L8.5 8.5l.94-2.06 2.06-.94-2.06-.94L8.5 2.5l-.94 2.06-2.06.94zm10 10l.94 2.06.94-2.06 2.06-.94-2.06-.94-.94-2.06-.94 2.06-2.06.94z\"/><path d=\"M17.41 7.96l-1.37-1.37c-.4-.4-.92-.59-1.43-.59-.52 0-1.04.2-1.43.59L10.3 9.45l-7.72 7.72c-.78.78-.78 2.05 0 2.83L4 21.41c.39.39.9.59 1.41.59.51 0 1.02-.2 1.41-.59l7.78-7.78 2.81-2.81c.8-.78.8-2.07 0-2.86zM5.41 20L4 18.59l7.72-7.72 1.47 1.35L5.41 20z\"/>\n",
              "  </svg>\n",
              "      </button>\n",
              "      \n",
              "  <style>\n",
              "    .colab-df-container {\n",
              "      display:flex;\n",
              "      flex-wrap:wrap;\n",
              "      gap: 12px;\n",
              "    }\n",
              "\n",
              "    .colab-df-convert {\n",
              "      background-color: #E8F0FE;\n",
              "      border: none;\n",
              "      border-radius: 50%;\n",
              "      cursor: pointer;\n",
              "      display: none;\n",
              "      fill: #1967D2;\n",
              "      height: 32px;\n",
              "      padding: 0 0 0 0;\n",
              "      width: 32px;\n",
              "    }\n",
              "\n",
              "    .colab-df-convert:hover {\n",
              "      background-color: #E2EBFA;\n",
              "      box-shadow: 0px 1px 2px rgba(60, 64, 67, 0.3), 0px 1px 3px 1px rgba(60, 64, 67, 0.15);\n",
              "      fill: #174EA6;\n",
              "    }\n",
              "\n",
              "    [theme=dark] .colab-df-convert {\n",
              "      background-color: #3B4455;\n",
              "      fill: #D2E3FC;\n",
              "    }\n",
              "\n",
              "    [theme=dark] .colab-df-convert:hover {\n",
              "      background-color: #434B5C;\n",
              "      box-shadow: 0px 1px 3px 1px rgba(0, 0, 0, 0.15);\n",
              "      filter: drop-shadow(0px 1px 2px rgba(0, 0, 0, 0.3));\n",
              "      fill: #FFFFFF;\n",
              "    }\n",
              "  </style>\n",
              "\n",
              "      <script>\n",
              "        const buttonEl =\n",
              "          document.querySelector('#df-721df09f-adb3-4206-9e3e-0e3a156587e6 button.colab-df-convert');\n",
              "        buttonEl.style.display =\n",
              "          google.colab.kernel.accessAllowed ? 'block' : 'none';\n",
              "\n",
              "        async function convertToInteractive(key) {\n",
              "          const element = document.querySelector('#df-721df09f-adb3-4206-9e3e-0e3a156587e6');\n",
              "          const dataTable =\n",
              "            await google.colab.kernel.invokeFunction('convertToInteractive',\n",
              "                                                     [key], {});\n",
              "          if (!dataTable) return;\n",
              "\n",
              "          const docLinkHtml = 'Like what you see? Visit the ' +\n",
              "            '<a target=\"_blank\" href=https://colab.research.google.com/notebooks/data_table.ipynb>data table notebook</a>'\n",
              "            + ' to learn more about interactive tables.';\n",
              "          element.innerHTML = '';\n",
              "          dataTable['output_type'] = 'display_data';\n",
              "          await google.colab.output.renderOutput(dataTable, element);\n",
              "          const docLink = document.createElement('div');\n",
              "          docLink.innerHTML = docLinkHtml;\n",
              "          element.appendChild(docLink);\n",
              "        }\n",
              "      </script>\n",
              "    </div>\n",
              "  </div>\n",
              "  "
            ]
          },
          "metadata": {},
          "execution_count": 83
        }
      ]
    },
    {
      "cell_type": "markdown",
      "source": [
        "# Random Forest Classifier \n"
      ],
      "metadata": {
        "id": "4NQxqRvsKHBU"
      }
    },
    {
      "cell_type": "code",
      "source": [
        "# Random Forest Classifier\n",
        "from sklearn.ensemble import RandomForestClassifier\n",
        "\n",
        "# Pipeline\n",
        "\n",
        "rf = Pipeline([('tfidf', TfidfVectorizer()),\n",
        "               ('clf', RandomForestClassifier(max_depth=5, \n",
        "                                              n_estimators=100))])\n",
        "\n",
        "# Split\n",
        "X_train, X_test, y_train, y_test = train_test_split(df4['tweets'], df4['sentiment'], test_size=0.33, random_state=42)"
      ],
      "metadata": {
        "id": "lTt_wh1qKQon"
      },
      "execution_count": 84,
      "outputs": []
    },
    {
      "cell_type": "code",
      "source": [
        "# Random forest \n",
        "rf.fit(X_train, y_train)\n",
        "y_pred_rf = rf.predict(X_test)"
      ],
      "metadata": {
        "id": "p8sxo0leKl_T",
        "outputId": "04a1e94a-0f9f-45c6-e85b-971a16df204e",
        "colab": {
          "base_uri": "https://localhost:8080/"
        }
      },
      "execution_count": 85,
      "outputs": [
        {
          "output_type": "execute_result",
          "data": {
            "text/plain": [
              "Pipeline(steps=[('tfidf', TfidfVectorizer()),\n",
              "                ('clf', RandomForestClassifier(max_depth=5))])"
            ]
          },
          "metadata": {},
          "execution_count": 85
        }
      ]
    },
    {
      "cell_type": "code",
      "source": [
        "# Model evaluation \n",
        "# Generate a classification Report for the random forest model\n",
        "print(metrics.classification_report(y_test, y_pred_rf))\n",
        "\n",
        "# Generate a normalized confusion matrix\n",
        "cm = confusion_matrix(y_test, y_pred_rf)\n",
        "cm_norm = cm / cm.sum(axis=1).reshape(-1,1)\n"
      ],
      "metadata": {
        "id": "-VsJ_546KzWH",
        "outputId": "818cec40-d6f3-48d6-dc88-0fa968e2b0a4",
        "colab": {
          "base_uri": "https://localhost:8080/"
        }
      },
      "execution_count": 86,
      "outputs": [
        {
          "output_type": "stream",
          "name": "stdout",
          "text": [
            "              precision    recall  f1-score   support\n",
            "\n",
            "          -1       0.00      0.00      0.00      1269\n",
            "           0       0.00      0.00      0.00      2605\n",
            "           1       0.52      1.00      0.69      7569\n",
            "           2       0.00      0.00      0.00      3059\n",
            "\n",
            "    accuracy                           0.52     14502\n",
            "   macro avg       0.13      0.25      0.17     14502\n",
            "weighted avg       0.27      0.52      0.36     14502\n",
            "\n"
          ]
        },
        {
          "output_type": "stream",
          "name": "stderr",
          "text": [
            "/usr/local/lib/python3.7/dist-packages/sklearn/metrics/_classification.py:1318: UndefinedMetricWarning:\n",
            "\n",
            "Precision and F-score are ill-defined and being set to 0.0 in labels with no predicted samples. Use `zero_division` parameter to control this behavior.\n",
            "\n",
            "/usr/local/lib/python3.7/dist-packages/sklearn/metrics/_classification.py:1318: UndefinedMetricWarning:\n",
            "\n",
            "Precision and F-score are ill-defined and being set to 0.0 in labels with no predicted samples. Use `zero_division` parameter to control this behavior.\n",
            "\n",
            "/usr/local/lib/python3.7/dist-packages/sklearn/metrics/_classification.py:1318: UndefinedMetricWarning:\n",
            "\n",
            "Precision and F-score are ill-defined and being set to 0.0 in labels with no predicted samples. Use `zero_division` parameter to control this behavior.\n",
            "\n"
          ]
        }
      ]
    },
    {
      "cell_type": "code",
      "source": [
        "print(cm)"
      ],
      "metadata": {
        "id": "EKNTu44FLGyX",
        "outputId": "7e629ed5-e8d8-4319-9db0-3ca084a32f67",
        "colab": {
          "base_uri": "https://localhost:8080/"
        }
      },
      "execution_count": 87,
      "outputs": [
        {
          "output_type": "stream",
          "name": "stdout",
          "text": [
            "[[   0    0 1269    0]\n",
            " [   0    0 2605    0]\n",
            " [   0    0 7569    0]\n",
            " [   0    0 3059    0]]\n"
          ]
        }
      ]
    },
    {
      "cell_type": "code",
      "source": [
        "# Random Forest 2.0 \n",
        "# For this model we use df3 (2 sentiment data)\n",
        "# Random Forest Classifier\n",
        "rf = Pipeline([('tfidf', TfidfVectorizer()),\n",
        "               ('clf', RandomForestClassifier(max_depth=5, \n",
        "                                              n_estimators=100))])\n"
      ],
      "metadata": {
        "id": "h6_B3XD5MXnk"
      },
      "execution_count": 88,
      "outputs": []
    },
    {
      "cell_type": "code",
      "source": [
        "# Split 6\n",
        "X_train, X_test, y_train, y_test = train_test_split(df3['tweets'], df3['sentiment_1'], test_size=0.33, random_state=42)"
      ],
      "metadata": {
        "id": "UpVs8zkeMx9M"
      },
      "execution_count": 89,
      "outputs": []
    },
    {
      "cell_type": "code",
      "source": [
        "# Fit & Preedicition\n",
        "# Random forest \n",
        "rf.fit(X_train, y_train)\n",
        "y_pred_rf = rf.predict(X_test)"
      ],
      "metadata": {
        "id": "BPHB0D9ANMmo",
        "outputId": "bc5eda78-c930-4421-f8dd-bfba1afdda86",
        "colab": {
          "base_uri": "https://localhost:8080/"
        }
      },
      "execution_count": 90,
      "outputs": [
        {
          "output_type": "execute_result",
          "data": {
            "text/plain": [
              "Pipeline(steps=[('tfidf', TfidfVectorizer()),\n",
              "                ('clf', RandomForestClassifier(max_depth=5))])"
            ]
          },
          "metadata": {},
          "execution_count": 90
        }
      ]
    },
    {
      "cell_type": "code",
      "source": [
        "# Model evaluation \n",
        "# Generate a classification Report for the random forest model\n",
        "print(metrics.classification_report(y_test, y_pred_rf))\n",
        "\n",
        "# Generate a normalized confusion matrix\n",
        "cm = confusion_matrix(y_test, y_pred_rf)\n",
        "cm_norm = cm / cm.sum(axis=1).reshape(-1,1)\n"
      ],
      "metadata": {
        "id": "hy_TouGGNe4o",
        "outputId": "dc94191c-3cb9-4613-f510-e96d96a7fcb4",
        "colab": {
          "base_uri": "https://localhost:8080/"
        }
      },
      "execution_count": 91,
      "outputs": [
        {
          "output_type": "stream",
          "name": "stdout",
          "text": [
            "              precision    recall  f1-score   support\n",
            "\n",
            "          -1       0.00      0.00      0.00      3874\n",
            "           1       0.73      1.00      0.85     10628\n",
            "\n",
            "    accuracy                           0.73     14502\n",
            "   macro avg       0.37      0.50      0.42     14502\n",
            "weighted avg       0.54      0.73      0.62     14502\n",
            "\n"
          ]
        },
        {
          "output_type": "stream",
          "name": "stderr",
          "text": [
            "/usr/local/lib/python3.7/dist-packages/sklearn/metrics/_classification.py:1318: UndefinedMetricWarning:\n",
            "\n",
            "Precision and F-score are ill-defined and being set to 0.0 in labels with no predicted samples. Use `zero_division` parameter to control this behavior.\n",
            "\n",
            "/usr/local/lib/python3.7/dist-packages/sklearn/metrics/_classification.py:1318: UndefinedMetricWarning:\n",
            "\n",
            "Precision and F-score are ill-defined and being set to 0.0 in labels with no predicted samples. Use `zero_division` parameter to control this behavior.\n",
            "\n",
            "/usr/local/lib/python3.7/dist-packages/sklearn/metrics/_classification.py:1318: UndefinedMetricWarning:\n",
            "\n",
            "Precision and F-score are ill-defined and being set to 0.0 in labels with no predicted samples. Use `zero_division` parameter to control this behavior.\n",
            "\n"
          ]
        }
      ]
    },
    {
      "cell_type": "code",
      "source": [
        "# We got the same error `zero_division` error, so we are tying with Split 3 \n",
        "X_train, X_test, y_train, y_test = train_test_split(df_upsampled['tweets'], df_upsampled['sentiment_1'], test_size=0.33, random_state=42)"
      ],
      "metadata": {
        "id": "mi6BCsiyRAGY"
      },
      "execution_count": 92,
      "outputs": []
    },
    {
      "cell_type": "code",
      "source": [
        "# Fit & Preedicition\n",
        "# Random forest \n",
        "rf.fit(X_train, y_train)\n",
        "y_pred_rf = rf.predict(X_test)\n",
        "# Model evaluation \n",
        "# Generate a classification Report for the random forest model\n",
        "print(metrics.classification_report(y_test, y_pred_rf))\n",
        "\n",
        "# Generate a normalized confusion matrix\n",
        "cm = confusion_matrix(y_test, y_pred_rf)\n",
        "cm_norm = cm / cm.sum(axis=1).reshape(-1,1)"
      ],
      "metadata": {
        "id": "dlbJH0z9Nj1i",
        "outputId": "22d89a93-2234-4390-d5cb-035225a34941",
        "colab": {
          "base_uri": "https://localhost:8080/"
        }
      },
      "execution_count": 93,
      "outputs": [
        {
          "output_type": "execute_result",
          "data": {
            "text/plain": [
              "Pipeline(steps=[('tfidf', TfidfVectorizer()),\n",
              "                ('clf', RandomForestClassifier(max_depth=5))])"
            ]
          },
          "metadata": {},
          "execution_count": 93
        },
        {
          "output_type": "stream",
          "name": "stdout",
          "text": [
            "              precision    recall  f1-score   support\n",
            "\n",
            "          -1       0.58      0.99      0.73     12128\n",
            "           1       0.95      0.17      0.29     10572\n",
            "\n",
            "    accuracy                           0.61     22700\n",
            "   macro avg       0.76      0.58      0.51     22700\n",
            "weighted avg       0.75      0.61      0.53     22700\n",
            "\n"
          ]
        }
      ]
    },
    {
      "cell_type": "markdown",
      "source": [],
      "metadata": {
        "id": "x_SJQOViTA5p"
      }
    },
    {
      "cell_type": "markdown",
      "source": [
        "# K Nearest Neighbors classification"
      ],
      "metadata": {
        "id": "Sr1_hm2QT4WX"
      }
    },
    {
      "cell_type": "code",
      "source": [
        "# K-NN Classifier\n",
        "from sklearn.neighbors import KNeighborsClassifier\n",
        "\n",
        "knn = Pipeline([('tfidf', TfidfVectorizer()),\n",
        "                ('clf', KNeighborsClassifier(n_neighbors=5, \n",
        "                                             metric='minkowski', \n",
        "                                             p=2))])"
      ],
      "metadata": {
        "id": "6o98SuuUS_WV"
      },
      "execution_count": 94,
      "outputs": []
    },
    {
      "cell_type": "code",
      "source": [
        "# Split 7\n",
        "X_train, X_test, y_train, y_test = train_test_split(df4['tweets'], df4['sentiment'], test_size=0.33, random_state=42)"
      ],
      "metadata": {
        "id": "EKyZponBTQfw"
      },
      "execution_count": 95,
      "outputs": []
    },
    {
      "cell_type": "code",
      "source": [
        "# K - nearest neighbors\n",
        "knn.fit(X_train, y_train)\n",
        "y_pred_knn = knn.predict(X_test)\n"
      ],
      "metadata": {
        "id": "-6M_WE-uTQZ5",
        "outputId": "2cc0f199-59de-4b55-d1a5-aa5c14fc856f",
        "colab": {
          "base_uri": "https://localhost:8080/"
        }
      },
      "execution_count": 96,
      "outputs": [
        {
          "output_type": "execute_result",
          "data": {
            "text/plain": [
              "Pipeline(steps=[('tfidf', TfidfVectorizer()), ('clf', KNeighborsClassifier())])"
            ]
          },
          "metadata": {},
          "execution_count": 96
        }
      ]
    },
    {
      "cell_type": "code",
      "source": [
        "# Generate a classification Report for the K-nearest neighbors model\n",
        "print(metrics.classification_report(y_test, y_pred_knn))\n",
        "\n",
        "# Generate a normalized confusion matrix\n",
        "cm = confusion_matrix(y_test, y_pred_knn)\n",
        "cm_norm = cm / cm.sum(axis=1).reshape(-1,1)"
      ],
      "metadata": {
        "id": "LXyj_NBcT-t7",
        "outputId": "8682926d-3a34-4b62-d98e-5fd2514456f1",
        "colab": {
          "base_uri": "https://localhost:8080/"
        }
      },
      "execution_count": 97,
      "outputs": [
        {
          "output_type": "stream",
          "name": "stdout",
          "text": [
            "              precision    recall  f1-score   support\n",
            "\n",
            "          -1       0.49      0.38      0.43      1269\n",
            "           0       0.43      0.49      0.46      2605\n",
            "           1       0.72      0.72      0.72      7569\n",
            "           2       0.65      0.63      0.64      3059\n",
            "\n",
            "    accuracy                           0.63     14502\n",
            "   macro avg       0.57      0.56      0.56     14502\n",
            "weighted avg       0.63      0.63      0.63     14502\n",
            "\n"
          ]
        }
      ]
    },
    {
      "cell_type": "markdown",
      "source": [
        "#  **5. Feature Engineering Techniques for Machine Learning**"
      ],
      "metadata": {
        "id": "o1mYuhVlUJdL"
      }
    },
    {
      "cell_type": "markdown",
      "source": [
        "## **Cathegorizing**"
      ],
      "metadata": {
        "id": "L7t-L_AKvOCH"
      }
    },
    {
      "cell_type": "code",
      "source": [
        "# Cathegorizing \n",
        "\n",
        "from pickle import TRUE\n",
        "\n",
        "df2['sentiment_1'] = df2['sentiment'].apply(lambda rating : +1 if rating >= 1 else -1)\n",
        "#df2.head(10)\n",
        "\n",
        "df3 = df2.drop(columns= ['sentiment'], )#inplace= True)\n",
        "df3"
      ],
      "metadata": {
        "colab": {
          "base_uri": "https://localhost:8080/",
          "height": 424
        },
        "id": "p6e57fISyMaT",
        "outputId": "c9c0e6ff-5f01-4340-8a7b-d2ebcb7f5cf1"
      },
      "execution_count": 51,
      "outputs": [
        {
          "output_type": "execute_result",
          "data": {
            "text/plain": [
              "                                                  tweets  sentiment_1\n",
              "0      atUser climate change is an interesting hustle...           -1\n",
              "1      RT atUser Watch BeforeTheFlood right here, as ...            1\n",
              "2      Fabulous! Leonardo DiCaprio is film on climate...            1\n",
              "3      RT atUser Just watched this amazing documentar...            1\n",
              "4      RT atUser Pranita Biswasi, a Lutheran from Odi...            1\n",
              "...                                                  ...          ...\n",
              "43938  Dear atUser\\nYeah right. Human Mediated Climat...            1\n",
              "43939  What will your respective parties do to preven...            1\n",
              "43940  RT atUser UN Poll Shows Climate Change Is the ...            1\n",
              "43941  RT atUser i still can$q$t believe this gif of ...           -1\n",
              "43942  atUser atUser \\n\\nThe wealthy + fossil fuel In...            1\n",
              "\n",
              "[43943 rows x 2 columns]"
            ],
            "text/html": [
              "\n",
              "  <div id=\"df-6d87291e-da01-4bdd-b121-6dd93a240626\">\n",
              "    <div class=\"colab-df-container\">\n",
              "      <div>\n",
              "<style scoped>\n",
              "    .dataframe tbody tr th:only-of-type {\n",
              "        vertical-align: middle;\n",
              "    }\n",
              "\n",
              "    .dataframe tbody tr th {\n",
              "        vertical-align: top;\n",
              "    }\n",
              "\n",
              "    .dataframe thead th {\n",
              "        text-align: right;\n",
              "    }\n",
              "</style>\n",
              "<table border=\"1\" class=\"dataframe\">\n",
              "  <thead>\n",
              "    <tr style=\"text-align: right;\">\n",
              "      <th></th>\n",
              "      <th>tweets</th>\n",
              "      <th>sentiment_1</th>\n",
              "    </tr>\n",
              "  </thead>\n",
              "  <tbody>\n",
              "    <tr>\n",
              "      <th>0</th>\n",
              "      <td>atUser climate change is an interesting hustle...</td>\n",
              "      <td>-1</td>\n",
              "    </tr>\n",
              "    <tr>\n",
              "      <th>1</th>\n",
              "      <td>RT atUser Watch BeforeTheFlood right here, as ...</td>\n",
              "      <td>1</td>\n",
              "    </tr>\n",
              "    <tr>\n",
              "      <th>2</th>\n",
              "      <td>Fabulous! Leonardo DiCaprio is film on climate...</td>\n",
              "      <td>1</td>\n",
              "    </tr>\n",
              "    <tr>\n",
              "      <th>3</th>\n",
              "      <td>RT atUser Just watched this amazing documentar...</td>\n",
              "      <td>1</td>\n",
              "    </tr>\n",
              "    <tr>\n",
              "      <th>4</th>\n",
              "      <td>RT atUser Pranita Biswasi, a Lutheran from Odi...</td>\n",
              "      <td>1</td>\n",
              "    </tr>\n",
              "    <tr>\n",
              "      <th>...</th>\n",
              "      <td>...</td>\n",
              "      <td>...</td>\n",
              "    </tr>\n",
              "    <tr>\n",
              "      <th>43938</th>\n",
              "      <td>Dear atUser\\nYeah right. Human Mediated Climat...</td>\n",
              "      <td>1</td>\n",
              "    </tr>\n",
              "    <tr>\n",
              "      <th>43939</th>\n",
              "      <td>What will your respective parties do to preven...</td>\n",
              "      <td>1</td>\n",
              "    </tr>\n",
              "    <tr>\n",
              "      <th>43940</th>\n",
              "      <td>RT atUser UN Poll Shows Climate Change Is the ...</td>\n",
              "      <td>1</td>\n",
              "    </tr>\n",
              "    <tr>\n",
              "      <th>43941</th>\n",
              "      <td>RT atUser i still can$q$t believe this gif of ...</td>\n",
              "      <td>-1</td>\n",
              "    </tr>\n",
              "    <tr>\n",
              "      <th>43942</th>\n",
              "      <td>atUser atUser \\n\\nThe wealthy + fossil fuel In...</td>\n",
              "      <td>1</td>\n",
              "    </tr>\n",
              "  </tbody>\n",
              "</table>\n",
              "<p>43943 rows × 2 columns</p>\n",
              "</div>\n",
              "      <button class=\"colab-df-convert\" onclick=\"convertToInteractive('df-6d87291e-da01-4bdd-b121-6dd93a240626')\"\n",
              "              title=\"Convert this dataframe to an interactive table.\"\n",
              "              style=\"display:none;\">\n",
              "        \n",
              "  <svg xmlns=\"http://www.w3.org/2000/svg\" height=\"24px\"viewBox=\"0 0 24 24\"\n",
              "       width=\"24px\">\n",
              "    <path d=\"M0 0h24v24H0V0z\" fill=\"none\"/>\n",
              "    <path d=\"M18.56 5.44l.94 2.06.94-2.06 2.06-.94-2.06-.94-.94-2.06-.94 2.06-2.06.94zm-11 1L8.5 8.5l.94-2.06 2.06-.94-2.06-.94L8.5 2.5l-.94 2.06-2.06.94zm10 10l.94 2.06.94-2.06 2.06-.94-2.06-.94-.94-2.06-.94 2.06-2.06.94z\"/><path d=\"M17.41 7.96l-1.37-1.37c-.4-.4-.92-.59-1.43-.59-.52 0-1.04.2-1.43.59L10.3 9.45l-7.72 7.72c-.78.78-.78 2.05 0 2.83L4 21.41c.39.39.9.59 1.41.59.51 0 1.02-.2 1.41-.59l7.78-7.78 2.81-2.81c.8-.78.8-2.07 0-2.86zM5.41 20L4 18.59l7.72-7.72 1.47 1.35L5.41 20z\"/>\n",
              "  </svg>\n",
              "      </button>\n",
              "      \n",
              "  <style>\n",
              "    .colab-df-container {\n",
              "      display:flex;\n",
              "      flex-wrap:wrap;\n",
              "      gap: 12px;\n",
              "    }\n",
              "\n",
              "    .colab-df-convert {\n",
              "      background-color: #E8F0FE;\n",
              "      border: none;\n",
              "      border-radius: 50%;\n",
              "      cursor: pointer;\n",
              "      display: none;\n",
              "      fill: #1967D2;\n",
              "      height: 32px;\n",
              "      padding: 0 0 0 0;\n",
              "      width: 32px;\n",
              "    }\n",
              "\n",
              "    .colab-df-convert:hover {\n",
              "      background-color: #E2EBFA;\n",
              "      box-shadow: 0px 1px 2px rgba(60, 64, 67, 0.3), 0px 1px 3px 1px rgba(60, 64, 67, 0.15);\n",
              "      fill: #174EA6;\n",
              "    }\n",
              "\n",
              "    [theme=dark] .colab-df-convert {\n",
              "      background-color: #3B4455;\n",
              "      fill: #D2E3FC;\n",
              "    }\n",
              "\n",
              "    [theme=dark] .colab-df-convert:hover {\n",
              "      background-color: #434B5C;\n",
              "      box-shadow: 0px 1px 3px 1px rgba(0, 0, 0, 0.15);\n",
              "      filter: drop-shadow(0px 1px 2px rgba(0, 0, 0, 0.3));\n",
              "      fill: #FFFFFF;\n",
              "    }\n",
              "  </style>\n",
              "\n",
              "      <script>\n",
              "        const buttonEl =\n",
              "          document.querySelector('#df-6d87291e-da01-4bdd-b121-6dd93a240626 button.colab-df-convert');\n",
              "        buttonEl.style.display =\n",
              "          google.colab.kernel.accessAllowed ? 'block' : 'none';\n",
              "\n",
              "        async function convertToInteractive(key) {\n",
              "          const element = document.querySelector('#df-6d87291e-da01-4bdd-b121-6dd93a240626');\n",
              "          const dataTable =\n",
              "            await google.colab.kernel.invokeFunction('convertToInteractive',\n",
              "                                                     [key], {});\n",
              "          if (!dataTable) return;\n",
              "\n",
              "          const docLinkHtml = 'Like what you see? Visit the ' +\n",
              "            '<a target=\"_blank\" href=https://colab.research.google.com/notebooks/data_table.ipynb>data table notebook</a>'\n",
              "            + ' to learn more about interactive tables.';\n",
              "          element.innerHTML = '';\n",
              "          dataTable['output_type'] = 'display_data';\n",
              "          await google.colab.output.renderOutput(dataTable, element);\n",
              "          const docLink = document.createElement('div');\n",
              "          docLink.innerHTML = docLinkHtml;\n",
              "          element.appendChild(docLink);\n",
              "        }\n",
              "      </script>\n",
              "    </div>\n",
              "  </div>\n",
              "  "
            ]
          },
          "metadata": {},
          "execution_count": 51
        }
      ]
    },
    {
      "cell_type": "code",
      "source": [
        "# Random split train and test data. \n",
        "import numpy as np\n",
        "from sklearn.model_selection import train_test_split\n",
        "\n",
        "X_train, X_test, y_train, y_test = train_test_split(df3['tweets'], df3['sentiment_1'], test_size=0.33, random_state=42)"
      ],
      "metadata": {
        "id": "mpPBvUkZ9Cxw"
      },
      "execution_count": 52,
      "outputs": []
    },
    {
      "cell_type": "code",
      "source": [
        "# count vectorizer:\n",
        "from sklearn.feature_extraction.text import CountVectorizer\n",
        "\n",
        "vectorizer = CountVectorizer(token_pattern=r'\\b\\w+\\b')\n",
        "train_matrix = vectorizer.fit_transform(X_train)\n",
        "test_matrix = vectorizer.transform(X_test)\n"
      ],
      "metadata": {
        "id": "qH6wIy3d9KCq"
      },
      "execution_count": 53,
      "outputs": []
    },
    {
      "cell_type": "code",
      "source": [
        "# Logistic Regression\n",
        "from sklearn.linear_model import LogisticRegression\n",
        "lr = LogisticRegression()"
      ],
      "metadata": {
        "id": "fH_z9sLm9PXZ"
      },
      "execution_count": 54,
      "outputs": []
    },
    {
      "cell_type": "code",
      "source": [
        "# Fit\n",
        "# Try to optimize it \n",
        "lr.fit(train_matrix,y_train)"
      ],
      "metadata": {
        "colab": {
          "base_uri": "https://localhost:8080/"
        },
        "id": "9Ob8jBbo9USK",
        "outputId": "1f220851-3267-4d5d-d9eb-b149a662f19d"
      },
      "execution_count": 55,
      "outputs": [
        {
          "output_type": "stream",
          "name": "stderr",
          "text": [
            "/usr/local/lib/python3.7/dist-packages/sklearn/linear_model/_logistic.py:818: ConvergenceWarning:\n",
            "\n",
            "lbfgs failed to converge (status=1):\n",
            "STOP: TOTAL NO. of ITERATIONS REACHED LIMIT.\n",
            "\n",
            "Increase the number of iterations (max_iter) or scale the data as shown in:\n",
            "    https://scikit-learn.org/stable/modules/preprocessing.html\n",
            "Please also refer to the documentation for alternative solver options:\n",
            "    https://scikit-learn.org/stable/modules/linear_model.html#logistic-regression\n",
            "\n"
          ]
        },
        {
          "output_type": "execute_result",
          "data": {
            "text/plain": [
              "LogisticRegression()"
            ]
          },
          "metadata": {},
          "execution_count": 55
        }
      ]
    },
    {
      "cell_type": "code",
      "source": [
        "predictions = lr.predict(test_matrix)"
      ],
      "metadata": {
        "id": "raF-xZmZ9wyN"
      },
      "execution_count": 56,
      "outputs": []
    },
    {
      "cell_type": "code",
      "source": [
        "# To test the accuracy of the model: \n",
        "# find accuracy, precision, recall:\n",
        "from sklearn.metrics import confusion_matrix,classification_report\n",
        "new = np.asarray(y_test)\n",
        "confusion_matrix(predictions,y_test)\n",
        "\n",
        "# The results should be a confusion matrix"
      ],
      "metadata": {
        "colab": {
          "base_uri": "https://localhost:8080/"
        },
        "id": "eGVc_neP90w2",
        "outputId": "e207475a-b3b2-4f2d-ed5e-2fdc63a5141a"
      },
      "execution_count": 57,
      "outputs": [
        {
          "output_type": "execute_result",
          "data": {
            "text/plain": [
              "array([[2355,  795],\n",
              "       [1519, 9833]])"
            ]
          },
          "metadata": {},
          "execution_count": 57
        }
      ]
    },
    {
      "cell_type": "code",
      "source": [
        "print(classification_report(predictions,y_test))\n"
      ],
      "metadata": {
        "colab": {
          "base_uri": "https://localhost:8080/"
        },
        "id": "PzST6-sk95vs",
        "outputId": "27994750-74de-4267-b3e3-f68fc5b81dd7"
      },
      "execution_count": 58,
      "outputs": [
        {
          "output_type": "stream",
          "name": "stdout",
          "text": [
            "              precision    recall  f1-score   support\n",
            "\n",
            "          -1       0.61      0.75      0.67      3150\n",
            "           1       0.93      0.87      0.89     11352\n",
            "\n",
            "    accuracy                           0.84     14502\n",
            "   macro avg       0.77      0.81      0.78     14502\n",
            "weighted avg       0.86      0.84      0.85     14502\n",
            "\n"
          ]
        }
      ]
    },
    {
      "cell_type": "markdown",
      "source": [
        "## **Oversampling**"
      ],
      "metadata": {
        "id": "0aNjo46HK6fk"
      }
    },
    {
      "cell_type": "code",
      "source": [
        "df3.groupby('sentiment_1').count().plot(kind='bar')\n",
        "df3.groupby('sentiment_1').count()"
      ],
      "metadata": {
        "id": "o5FAsistC4A7",
        "outputId": "403dbb24-7eec-466c-8cce-184651bc62de",
        "colab": {
          "base_uri": "https://localhost:8080/",
          "height": 424
        }
      },
      "execution_count": 59,
      "outputs": [
        {
          "output_type": "execute_result",
          "data": {
            "text/plain": [
              "<matplotlib.axes._subplots.AxesSubplot at 0x7fc96bc46bd0>"
            ]
          },
          "metadata": {},
          "execution_count": 59
        },
        {
          "output_type": "execute_result",
          "data": {
            "text/plain": [
              "             tweets\n",
              "sentiment_1        \n",
              "-1            11705\n",
              " 1            32238"
            ],
            "text/html": [
              "\n",
              "  <div id=\"df-6d6ae98e-fe34-4c95-b56f-8a0f758168b8\">\n",
              "    <div class=\"colab-df-container\">\n",
              "      <div>\n",
              "<style scoped>\n",
              "    .dataframe tbody tr th:only-of-type {\n",
              "        vertical-align: middle;\n",
              "    }\n",
              "\n",
              "    .dataframe tbody tr th {\n",
              "        vertical-align: top;\n",
              "    }\n",
              "\n",
              "    .dataframe thead th {\n",
              "        text-align: right;\n",
              "    }\n",
              "</style>\n",
              "<table border=\"1\" class=\"dataframe\">\n",
              "  <thead>\n",
              "    <tr style=\"text-align: right;\">\n",
              "      <th></th>\n",
              "      <th>tweets</th>\n",
              "    </tr>\n",
              "    <tr>\n",
              "      <th>sentiment_1</th>\n",
              "      <th></th>\n",
              "    </tr>\n",
              "  </thead>\n",
              "  <tbody>\n",
              "    <tr>\n",
              "      <th>-1</th>\n",
              "      <td>11705</td>\n",
              "    </tr>\n",
              "    <tr>\n",
              "      <th>1</th>\n",
              "      <td>32238</td>\n",
              "    </tr>\n",
              "  </tbody>\n",
              "</table>\n",
              "</div>\n",
              "      <button class=\"colab-df-convert\" onclick=\"convertToInteractive('df-6d6ae98e-fe34-4c95-b56f-8a0f758168b8')\"\n",
              "              title=\"Convert this dataframe to an interactive table.\"\n",
              "              style=\"display:none;\">\n",
              "        \n",
              "  <svg xmlns=\"http://www.w3.org/2000/svg\" height=\"24px\"viewBox=\"0 0 24 24\"\n",
              "       width=\"24px\">\n",
              "    <path d=\"M0 0h24v24H0V0z\" fill=\"none\"/>\n",
              "    <path d=\"M18.56 5.44l.94 2.06.94-2.06 2.06-.94-2.06-.94-.94-2.06-.94 2.06-2.06.94zm-11 1L8.5 8.5l.94-2.06 2.06-.94-2.06-.94L8.5 2.5l-.94 2.06-2.06.94zm10 10l.94 2.06.94-2.06 2.06-.94-2.06-.94-.94-2.06-.94 2.06-2.06.94z\"/><path d=\"M17.41 7.96l-1.37-1.37c-.4-.4-.92-.59-1.43-.59-.52 0-1.04.2-1.43.59L10.3 9.45l-7.72 7.72c-.78.78-.78 2.05 0 2.83L4 21.41c.39.39.9.59 1.41.59.51 0 1.02-.2 1.41-.59l7.78-7.78 2.81-2.81c.8-.78.8-2.07 0-2.86zM5.41 20L4 18.59l7.72-7.72 1.47 1.35L5.41 20z\"/>\n",
              "  </svg>\n",
              "      </button>\n",
              "      \n",
              "  <style>\n",
              "    .colab-df-container {\n",
              "      display:flex;\n",
              "      flex-wrap:wrap;\n",
              "      gap: 12px;\n",
              "    }\n",
              "\n",
              "    .colab-df-convert {\n",
              "      background-color: #E8F0FE;\n",
              "      border: none;\n",
              "      border-radius: 50%;\n",
              "      cursor: pointer;\n",
              "      display: none;\n",
              "      fill: #1967D2;\n",
              "      height: 32px;\n",
              "      padding: 0 0 0 0;\n",
              "      width: 32px;\n",
              "    }\n",
              "\n",
              "    .colab-df-convert:hover {\n",
              "      background-color: #E2EBFA;\n",
              "      box-shadow: 0px 1px 2px rgba(60, 64, 67, 0.3), 0px 1px 3px 1px rgba(60, 64, 67, 0.15);\n",
              "      fill: #174EA6;\n",
              "    }\n",
              "\n",
              "    [theme=dark] .colab-df-convert {\n",
              "      background-color: #3B4455;\n",
              "      fill: #D2E3FC;\n",
              "    }\n",
              "\n",
              "    [theme=dark] .colab-df-convert:hover {\n",
              "      background-color: #434B5C;\n",
              "      box-shadow: 0px 1px 3px 1px rgba(0, 0, 0, 0.15);\n",
              "      filter: drop-shadow(0px 1px 2px rgba(0, 0, 0, 0.3));\n",
              "      fill: #FFFFFF;\n",
              "    }\n",
              "  </style>\n",
              "\n",
              "      <script>\n",
              "        const buttonEl =\n",
              "          document.querySelector('#df-6d6ae98e-fe34-4c95-b56f-8a0f758168b8 button.colab-df-convert');\n",
              "        buttonEl.style.display =\n",
              "          google.colab.kernel.accessAllowed ? 'block' : 'none';\n",
              "\n",
              "        async function convertToInteractive(key) {\n",
              "          const element = document.querySelector('#df-6d6ae98e-fe34-4c95-b56f-8a0f758168b8');\n",
              "          const dataTable =\n",
              "            await google.colab.kernel.invokeFunction('convertToInteractive',\n",
              "                                                     [key], {});\n",
              "          if (!dataTable) return;\n",
              "\n",
              "          const docLinkHtml = 'Like what you see? Visit the ' +\n",
              "            '<a target=\"_blank\" href=https://colab.research.google.com/notebooks/data_table.ipynb>data table notebook</a>'\n",
              "            + ' to learn more about interactive tables.';\n",
              "          element.innerHTML = '';\n",
              "          dataTable['output_type'] = 'display_data';\n",
              "          await google.colab.output.renderOutput(dataTable, element);\n",
              "          const docLink = document.createElement('div');\n",
              "          docLink.innerHTML = docLinkHtml;\n",
              "          element.appendChild(docLink);\n",
              "        }\n",
              "      </script>\n",
              "    </div>\n",
              "  </div>\n",
              "  "
            ]
          },
          "metadata": {},
          "execution_count": 59
        },
        {
          "output_type": "display_data",
          "data": {
            "text/plain": [
              "<Figure size 432x288 with 1 Axes>"
            ],
            "image/png": "[encoded data removed]"
          },
          "metadata": {
            "needs_background": "light"
          }
        }
      ]
    },
    {
      "cell_type": "code",
      "source": [
        "# From: https://michael-fuchs-python.netlify.app/2020/01/16/dealing-with-imbalanced-classes/\n",
        "\n",
        "import numpy as np\n",
        "import pandas as pd\n",
        "\n",
        "import seaborn as sns\n",
        "import matplotlib.pyplot as plt\n",
        "\n",
        "from sklearn.model_selection import train_test_split\n",
        "from sklearn.metrics import accuracy_score\n",
        "from sklearn.metrics import recall_score\n",
        "from sklearn.metrics import roc_auc_score\n",
        "\n",
        "#For chapter 4\n",
        "from sklearn.linear_model import LogisticRegression\n",
        "\n",
        "#For chapter 5\n",
        "from sklearn.utils import resample\n",
        "\n",
        "#For chapter 6.1\n",
        "## You may need to install the following library: \n",
        "## conda install -c glemaitre imbalanced-learn\n",
        "from imblearn.over_sampling import SMOTE\n",
        "\n",
        "#For chapter 6.2\n",
        "from imblearn.under_sampling import NearMiss\n",
        "\n",
        "#For chapter 7\n",
        "from sklearn.svm import SVC\n",
        "\n",
        "#For chapter 8\n",
        "from sklearn.ensemble import RandomForestClassifier\n",
        "\n",
        "# Separate majority and minority classes\n",
        "df_majority = df3[df3.sentiment_1==1]\n",
        "df_minority = df3[df3.sentiment_1==-1]\n",
        " \n",
        "# Upsample minority class\n",
        "df_minority_upsampled = resample(df_minority, \n",
        "                                 replace=True,      # sample with replacement\n",
        "                                 n_samples=36548)   # to match majority class\n",
        "                              \n",
        " \n",
        "#Combine majority class with upsampled minority class\n",
        "df_upsampled = pd.concat([df_majority, df_minority_upsampled])\n",
        "\n",
        "\n",
        "#df_upsampled.head(10)\n",
        "print(df_upsampled['sentiment_1'].value_counts())"
      ],
      "metadata": {
        "id": "7L166X6H_w4V",
        "outputId": "58aed503-a49c-48a2-af1e-eae5bc80b96f",
        "colab": {
          "base_uri": "https://localhost:8080/"
        }
      },
      "execution_count": 60,
      "outputs": [
        {
          "output_type": "stream",
          "name": "stdout",
          "text": [
            "-1    36548\n",
            " 1    32238\n",
            "Name: sentiment_1, dtype: int64\n"
          ]
        }
      ]
    },
    {
      "cell_type": "code",
      "source": [
        "# Split 3 \n",
        "\n",
        "X_train, X_test, y_train, y_test = train_test_split(df_upsampled['tweets'], df_upsampled['sentiment_1'], test_size=0.33, random_state=42)"
      ],
      "metadata": {
        "id": "oK7lByDkJOAy"
      },
      "execution_count": 61,
      "outputs": []
    },
    {
      "cell_type": "code",
      "source": [
        "# count vectorizer 3:\n",
        "from sklearn.feature_extraction.text import CountVectorizer\n",
        "\n",
        "vectorizer = CountVectorizer(token_pattern=r'\\b\\w+\\b')\n",
        "train_matrix = vectorizer.fit_transform(X_train)\n",
        "test_matrix = vectorizer.transform(X_test)\n"
      ],
      "metadata": {
        "id": "i7gEd3rkJctg"
      },
      "execution_count": 62,
      "outputs": []
    },
    {
      "cell_type": "code",
      "source": [
        "# Logistic Regression\n",
        "from sklearn.linear_model import LogisticRegression\n",
        "lr = LogisticRegression()"
      ],
      "metadata": {
        "id": "50Mk5wGnJoVI"
      },
      "execution_count": 63,
      "outputs": []
    },
    {
      "cell_type": "code",
      "source": [
        "# Fit\n",
        "# Try to optimize it \n",
        "lr.fit(train_matrix,y_train)"
      ],
      "metadata": {
        "id": "-TYMgto1JsfY",
        "outputId": "485216ea-ccbc-4561-aafe-b29b6a6464fe",
        "colab": {
          "base_uri": "https://localhost:8080/"
        }
      },
      "execution_count": 64,
      "outputs": [
        {
          "output_type": "stream",
          "name": "stderr",
          "text": [
            "/usr/local/lib/python3.7/dist-packages/sklearn/linear_model/_logistic.py:818: ConvergenceWarning:\n",
            "\n",
            "lbfgs failed to converge (status=1):\n",
            "STOP: TOTAL NO. of ITERATIONS REACHED LIMIT.\n",
            "\n",
            "Increase the number of iterations (max_iter) or scale the data as shown in:\n",
            "    https://scikit-learn.org/stable/modules/preprocessing.html\n",
            "Please also refer to the documentation for alternative solver options:\n",
            "    https://scikit-learn.org/stable/modules/linear_model.html#logistic-regression\n",
            "\n"
          ]
        },
        {
          "output_type": "execute_result",
          "data": {
            "text/plain": [
              "LogisticRegression()"
            ]
          },
          "metadata": {},
          "execution_count": 64
        }
      ]
    },
    {
      "cell_type": "code",
      "source": [
        "predictions = lr.predict(test_matrix)"
      ],
      "metadata": {
        "id": "PDAeP27tJzGw"
      },
      "execution_count": 65,
      "outputs": []
    },
    {
      "cell_type": "code",
      "source": [
        "# To test the accuracy of the model: \n",
        "# find accuracy, precision, recall:\n",
        "from sklearn.metrics import confusion_matrix,classification_report\n",
        "new = np.asarray(y_test)\n",
        "confusion_matrix(predictions,y_test)\n",
        "\n",
        "# The results should be a confusion matrix"
      ],
      "metadata": {
        "id": "ik-ai-BAJ3c1",
        "outputId": "6749dc83-3136-4ba4-fb92-507796bba49d",
        "colab": {
          "base_uri": "https://localhost:8080/"
        }
      },
      "execution_count": 66,
      "outputs": [
        {
          "output_type": "execute_result",
          "data": {
            "text/plain": [
              "array([[10977,  1821],\n",
              "       [ 1151,  8751]])"
            ]
          },
          "metadata": {},
          "execution_count": 66
        }
      ]
    },
    {
      "cell_type": "code",
      "source": [
        "print(classification_report(predictions,y_test))"
      ],
      "metadata": {
        "id": "8u3gtGzPJ8ly",
        "outputId": "d91597a8-a82e-4ee0-8d49-c04c03ef3927",
        "colab": {
          "base_uri": "https://localhost:8080/"
        }
      },
      "execution_count": 67,
      "outputs": [
        {
          "output_type": "stream",
          "name": "stdout",
          "text": [
            "              precision    recall  f1-score   support\n",
            "\n",
            "          -1       0.91      0.86      0.88     12798\n",
            "           1       0.83      0.88      0.85      9902\n",
            "\n",
            "    accuracy                           0.87     22700\n",
            "   macro avg       0.87      0.87      0.87     22700\n",
            "weighted avg       0.87      0.87      0.87     22700\n",
            "\n"
          ]
        }
      ]
    }
  ],
  "metadata": {
    "colab": {
      "collapsed_sections": [],
      "provenance": [],
      "authorship_tag": "ABX9TyOkd/KH8LMMokw1EHeTLrX7",
      "include_colab_link": true
    },
    "kernelspec": {
      "display_name": "Python 3",
      "name": "python3"
    },
    "language_info": {
      "name": "python"
    }
  },
  "nbformat": 4,
  "nbformat_minor": 0
}