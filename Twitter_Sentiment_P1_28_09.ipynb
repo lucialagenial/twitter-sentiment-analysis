{
  "cells": [
    {
      "cell_type": "markdown",
      "metadata": {
        "id": "view-in-github",
        "colab_type": "text"
      },
      "source": [
        "<a href=\"https://colab.research.google.com/github/lucialagenial/twitter-sentiment-analysis/blob/main/Twitter_Sentiment_P1_28_09.ipynb\" target=\"_parent\"><img src=\"https://colab.research.google.com/assets/colab-badge.svg\" alt=\"Open In Colab\"/></a>"
      ]
    },
    {
      "cell_type": "markdown",
      "metadata": {
        "id": "dbH5wRmr-Vjn"
      },
      "source": [
        "# Twitter Sentiment Analysis Climate Change\n",
        "\n",
        "Challenge and data adquired from: https://www.kaggle.com/datasets/edqian/twitter-climate-change-sentiment-dataset?datasetId=413654\n",
        "\n",
        "GitHub Repository: https://github.com/REDi-school-ff22-Data-cycle/twitter-sentiment-analysis\n",
        "\n"
      ]
    },
    {
      "cell_type": "markdown",
      "metadata": {
        "id": "T_FDOylyRyJJ"
      },
      "source": [
        "The collection of this data was funded by a Canada Foundation for Innovation JELF Grant to Chris Bauch, University of Waterloo.\n",
        "\n",
        "This dataset aggregates tweets pertaining to climate change collected between Apr 27, 2015 and Feb 21, 2018. In total, 43943 tweets were annotated. Each tweet is labelled independently by 3 reviewers. This dataset only contains tweets that all 3 reviewers agreed on (the rest were discarded).\n",
        "\n",
        "Each tweet is labelled as one of the following classes:\n",
        "\n",
        "- 2(News): the tweet links to factual news about climate change\n",
        "- 1(Pro): the tweet supports the belief of man-made climate change\n",
        "- 0(Neutral: the tweet neither supports nor refutes the belief of man-made climate change\n",
        "- -1(Anti): the tweet does not believe in man-made climate change"
      ]
    },
    {
      "cell_type": "markdown",
      "metadata": {
        "id": "xHVa5gkv-363"
      },
      "source": [
        "Tasks to follow: \n",
        "1. Create a code that loads and processes the data. \n",
        "2. Explore the dataset. \n",
        "3. Building the first model (Logistic regression): \n",
        "\n",
        "> 3.1 Preprocessing and data cleaning.\n",
        "\n",
        "> 3.2 Creating a new df for analysing.\n",
        "\n",
        "> 3.3 Vectorizing and spliting the data.\n",
        "\n",
        "> 3.4 Testing the model\n",
        "\n",
        "\n"
      ]
    },
    {
      "cell_type": "code",
      "source": [
        "# this is a hack to allow displaying more than one result per notebook cell\n",
        "from IPython.core.interactiveshell import InteractiveShell\n",
        "InteractiveShell.ast_node_interactivity = \"all\" "
      ],
      "metadata": {
        "id": "XcFH62Sg7T_Y"
      },
      "execution_count": 2,
      "outputs": []
    },
    {
      "cell_type": "markdown",
      "source": [
        "# 1: Load and process the data "
      ],
      "metadata": {
        "id": "TaWWWdb22I8m"
      }
    },
    {
      "cell_type": "code",
      "execution_count": 3,
      "metadata": {
        "colab": {
          "base_uri": "https://localhost:8080/",
          "height": 206
        },
        "id": "n_qyfljk-3dP",
        "outputId": "2b7ca372-fc2c-49db-a267-95573e139f43"
      },
      "outputs": [
        {
          "output_type": "execute_result",
          "data": {
            "text/plain": [
              "   sentiment                                            message  \\\n",
              "0         -1  @tiniebeany climate change is an interesting h...   \n",
              "1          1  RT @NatGeoChannel: Watch #BeforeTheFlood right...   \n",
              "2          1  Fabulous! Leonardo #DiCaprio's film on #climat...   \n",
              "3          1  RT @Mick_Fanning: Just watched this amazing do...   \n",
              "4          2  RT @cnalive: Pranita Biswasi, a Lutheran from ...   \n",
              "\n",
              "              tweetid  \n",
              "0  792927353886371840  \n",
              "1  793124211518832641  \n",
              "2  793124402388832256  \n",
              "3  793124635873275904  \n",
              "4  793125156185137153  "
            ],
            "text/html": [
              "\n",
              "  <div id=\"df-26211754-ebf7-4d59-97e5-778dee4a6d98\">\n",
              "    <div class=\"colab-df-container\">\n",
              "      <div>\n",
              "<style scoped>\n",
              "    .dataframe tbody tr th:only-of-type {\n",
              "        vertical-align: middle;\n",
              "    }\n",
              "\n",
              "    .dataframe tbody tr th {\n",
              "        vertical-align: top;\n",
              "    }\n",
              "\n",
              "    .dataframe thead th {\n",
              "        text-align: right;\n",
              "    }\n",
              "</style>\n",
              "<table border=\"1\" class=\"dataframe\">\n",
              "  <thead>\n",
              "    <tr style=\"text-align: right;\">\n",
              "      <th></th>\n",
              "      <th>sentiment</th>\n",
              "      <th>message</th>\n",
              "      <th>tweetid</th>\n",
              "    </tr>\n",
              "  </thead>\n",
              "  <tbody>\n",
              "    <tr>\n",
              "      <th>0</th>\n",
              "      <td>-1</td>\n",
              "      <td>@tiniebeany climate change is an interesting h...</td>\n",
              "      <td>792927353886371840</td>\n",
              "    </tr>\n",
              "    <tr>\n",
              "      <th>1</th>\n",
              "      <td>1</td>\n",
              "      <td>RT @NatGeoChannel: Watch #BeforeTheFlood right...</td>\n",
              "      <td>793124211518832641</td>\n",
              "    </tr>\n",
              "    <tr>\n",
              "      <th>2</th>\n",
              "      <td>1</td>\n",
              "      <td>Fabulous! Leonardo #DiCaprio's film on #climat...</td>\n",
              "      <td>793124402388832256</td>\n",
              "    </tr>\n",
              "    <tr>\n",
              "      <th>3</th>\n",
              "      <td>1</td>\n",
              "      <td>RT @Mick_Fanning: Just watched this amazing do...</td>\n",
              "      <td>793124635873275904</td>\n",
              "    </tr>\n",
              "    <tr>\n",
              "      <th>4</th>\n",
              "      <td>2</td>\n",
              "      <td>RT @cnalive: Pranita Biswasi, a Lutheran from ...</td>\n",
              "      <td>793125156185137153</td>\n",
              "    </tr>\n",
              "  </tbody>\n",
              "</table>\n",
              "</div>\n",
              "      <button class=\"colab-df-convert\" onclick=\"convertToInteractive('df-26211754-ebf7-4d59-97e5-778dee4a6d98')\"\n",
              "              title=\"Convert this dataframe to an interactive table.\"\n",
              "              style=\"display:none;\">\n",
              "        \n",
              "  <svg xmlns=\"http://www.w3.org/2000/svg\" height=\"24px\"viewBox=\"0 0 24 24\"\n",
              "       width=\"24px\">\n",
              "    <path d=\"M0 0h24v24H0V0z\" fill=\"none\"/>\n",
              "    <path d=\"M18.56 5.44l.94 2.06.94-2.06 2.06-.94-2.06-.94-.94-2.06-.94 2.06-2.06.94zm-11 1L8.5 8.5l.94-2.06 2.06-.94-2.06-.94L8.5 2.5l-.94 2.06-2.06.94zm10 10l.94 2.06.94-2.06 2.06-.94-2.06-.94-.94-2.06-.94 2.06-2.06.94z\"/><path d=\"M17.41 7.96l-1.37-1.37c-.4-.4-.92-.59-1.43-.59-.52 0-1.04.2-1.43.59L10.3 9.45l-7.72 7.72c-.78.78-.78 2.05 0 2.83L4 21.41c.39.39.9.59 1.41.59.51 0 1.02-.2 1.41-.59l7.78-7.78 2.81-2.81c.8-.78.8-2.07 0-2.86zM5.41 20L4 18.59l7.72-7.72 1.47 1.35L5.41 20z\"/>\n",
              "  </svg>\n",
              "      </button>\n",
              "      \n",
              "  <style>\n",
              "    .colab-df-container {\n",
              "      display:flex;\n",
              "      flex-wrap:wrap;\n",
              "      gap: 12px;\n",
              "    }\n",
              "\n",
              "    .colab-df-convert {\n",
              "      background-color: #E8F0FE;\n",
              "      border: none;\n",
              "      border-radius: 50%;\n",
              "      cursor: pointer;\n",
              "      display: none;\n",
              "      fill: #1967D2;\n",
              "      height: 32px;\n",
              "      padding: 0 0 0 0;\n",
              "      width: 32px;\n",
              "    }\n",
              "\n",
              "    .colab-df-convert:hover {\n",
              "      background-color: #E2EBFA;\n",
              "      box-shadow: 0px 1px 2px rgba(60, 64, 67, 0.3), 0px 1px 3px 1px rgba(60, 64, 67, 0.15);\n",
              "      fill: #174EA6;\n",
              "    }\n",
              "\n",
              "    [theme=dark] .colab-df-convert {\n",
              "      background-color: #3B4455;\n",
              "      fill: #D2E3FC;\n",
              "    }\n",
              "\n",
              "    [theme=dark] .colab-df-convert:hover {\n",
              "      background-color: #434B5C;\n",
              "      box-shadow: 0px 1px 3px 1px rgba(0, 0, 0, 0.15);\n",
              "      filter: drop-shadow(0px 1px 2px rgba(0, 0, 0, 0.3));\n",
              "      fill: #FFFFFF;\n",
              "    }\n",
              "  </style>\n",
              "\n",
              "      <script>\n",
              "        const buttonEl =\n",
              "          document.querySelector('#df-26211754-ebf7-4d59-97e5-778dee4a6d98 button.colab-df-convert');\n",
              "        buttonEl.style.display =\n",
              "          google.colab.kernel.accessAllowed ? 'block' : 'none';\n",
              "\n",
              "        async function convertToInteractive(key) {\n",
              "          const element = document.querySelector('#df-26211754-ebf7-4d59-97e5-778dee4a6d98');\n",
              "          const dataTable =\n",
              "            await google.colab.kernel.invokeFunction('convertToInteractive',\n",
              "                                                     [key], {});\n",
              "          if (!dataTable) return;\n",
              "\n",
              "          const docLinkHtml = 'Like what you see? Visit the ' +\n",
              "            '<a target=\"_blank\" href=https://colab.research.google.com/notebooks/data_table.ipynb>data table notebook</a>'\n",
              "            + ' to learn more about interactive tables.';\n",
              "          element.innerHTML = '';\n",
              "          dataTable['output_type'] = 'display_data';\n",
              "          await google.colab.output.renderOutput(dataTable, element);\n",
              "          const docLink = document.createElement('div');\n",
              "          docLink.innerHTML = docLinkHtml;\n",
              "          element.appendChild(docLink);\n",
              "        }\n",
              "      </script>\n",
              "    </div>\n",
              "  </div>\n",
              "  "
            ]
          },
          "metadata": {},
          "execution_count": 3
        }
      ],
      "source": [
        "import pandas as pd\n",
        "\n",
        "url = 'https://raw.githubusercontent.com/REDi-school-ff22-Data-cycle/twitter-sentiment-analysis/main/twitter_sentiment_data.csv'\n",
        "df = pd.read_csv(url)\n",
        "df.head(5)"
      ]
    },
    {
      "cell_type": "markdown",
      "source": [
        "# 2: Exploring the dataset"
      ],
      "metadata": {
        "id": "fCjq2Yjo0LEb"
      }
    },
    {
      "cell_type": "code",
      "execution_count": 4,
      "metadata": {
        "colab": {
          "base_uri": "https://localhost:8080/"
        },
        "id": "40c3L9OlN7A2",
        "outputId": "2f55ed79-93ff-44de-bf94-484184eac64a"
      },
      "outputs": [
        {
          "output_type": "execute_result",
          "data": {
            "text/plain": [
              "(43943, 3)"
            ]
          },
          "metadata": {},
          "execution_count": 4
        }
      ],
      "source": [
        "# Shape\n",
        "df.shape"
      ]
    },
    {
      "cell_type": "code",
      "execution_count": 5,
      "metadata": {
        "colab": {
          "base_uri": "https://localhost:8080/",
          "height": 175
        },
        "id": "IpzFY3EVJVLB",
        "outputId": "5ef4ce9d-e7bb-4d30-b6fc-a280af59950c"
      },
      "outputs": [
        {
          "output_type": "execute_result",
          "data": {
            "text/plain": [
              "    sentiment\n",
              " 1  52.254056\n",
              " 2  21.109164\n",
              " 0  17.556835\n",
              "-1   9.079944"
            ],
            "text/html": [
              "\n",
              "  <div id=\"df-0136430d-255b-4b7c-97db-c1965c2c9954\">\n",
              "    <div class=\"colab-df-container\">\n",
              "      <div>\n",
              "<style scoped>\n",
              "    .dataframe tbody tr th:only-of-type {\n",
              "        vertical-align: middle;\n",
              "    }\n",
              "\n",
              "    .dataframe tbody tr th {\n",
              "        vertical-align: top;\n",
              "    }\n",
              "\n",
              "    .dataframe thead th {\n",
              "        text-align: right;\n",
              "    }\n",
              "</style>\n",
              "<table border=\"1\" class=\"dataframe\">\n",
              "  <thead>\n",
              "    <tr style=\"text-align: right;\">\n",
              "      <th></th>\n",
              "      <th>sentiment</th>\n",
              "    </tr>\n",
              "  </thead>\n",
              "  <tbody>\n",
              "    <tr>\n",
              "      <th>1</th>\n",
              "      <td>52.254056</td>\n",
              "    </tr>\n",
              "    <tr>\n",
              "      <th>2</th>\n",
              "      <td>21.109164</td>\n",
              "    </tr>\n",
              "    <tr>\n",
              "      <th>0</th>\n",
              "      <td>17.556835</td>\n",
              "    </tr>\n",
              "    <tr>\n",
              "      <th>-1</th>\n",
              "      <td>9.079944</td>\n",
              "    </tr>\n",
              "  </tbody>\n",
              "</table>\n",
              "</div>\n",
              "      <button class=\"colab-df-convert\" onclick=\"convertToInteractive('df-0136430d-255b-4b7c-97db-c1965c2c9954')\"\n",
              "              title=\"Convert this dataframe to an interactive table.\"\n",
              "              style=\"display:none;\">\n",
              "        \n",
              "  <svg xmlns=\"http://www.w3.org/2000/svg\" height=\"24px\"viewBox=\"0 0 24 24\"\n",
              "       width=\"24px\">\n",
              "    <path d=\"M0 0h24v24H0V0z\" fill=\"none\"/>\n",
              "    <path d=\"M18.56 5.44l.94 2.06.94-2.06 2.06-.94-2.06-.94-.94-2.06-.94 2.06-2.06.94zm-11 1L8.5 8.5l.94-2.06 2.06-.94-2.06-.94L8.5 2.5l-.94 2.06-2.06.94zm10 10l.94 2.06.94-2.06 2.06-.94-2.06-.94-.94-2.06-.94 2.06-2.06.94z\"/><path d=\"M17.41 7.96l-1.37-1.37c-.4-.4-.92-.59-1.43-.59-.52 0-1.04.2-1.43.59L10.3 9.45l-7.72 7.72c-.78.78-.78 2.05 0 2.83L4 21.41c.39.39.9.59 1.41.59.51 0 1.02-.2 1.41-.59l7.78-7.78 2.81-2.81c.8-.78.8-2.07 0-2.86zM5.41 20L4 18.59l7.72-7.72 1.47 1.35L5.41 20z\"/>\n",
              "  </svg>\n",
              "      </button>\n",
              "      \n",
              "  <style>\n",
              "    .colab-df-container {\n",
              "      display:flex;\n",
              "      flex-wrap:wrap;\n",
              "      gap: 12px;\n",
              "    }\n",
              "\n",
              "    .colab-df-convert {\n",
              "      background-color: #E8F0FE;\n",
              "      border: none;\n",
              "      border-radius: 50%;\n",
              "      cursor: pointer;\n",
              "      display: none;\n",
              "      fill: #1967D2;\n",
              "      height: 32px;\n",
              "      padding: 0 0 0 0;\n",
              "      width: 32px;\n",
              "    }\n",
              "\n",
              "    .colab-df-convert:hover {\n",
              "      background-color: #E2EBFA;\n",
              "      box-shadow: 0px 1px 2px rgba(60, 64, 67, 0.3), 0px 1px 3px 1px rgba(60, 64, 67, 0.15);\n",
              "      fill: #174EA6;\n",
              "    }\n",
              "\n",
              "    [theme=dark] .colab-df-convert {\n",
              "      background-color: #3B4455;\n",
              "      fill: #D2E3FC;\n",
              "    }\n",
              "\n",
              "    [theme=dark] .colab-df-convert:hover {\n",
              "      background-color: #434B5C;\n",
              "      box-shadow: 0px 1px 3px 1px rgba(0, 0, 0, 0.15);\n",
              "      filter: drop-shadow(0px 1px 2px rgba(0, 0, 0, 0.3));\n",
              "      fill: #FFFFFF;\n",
              "    }\n",
              "  </style>\n",
              "\n",
              "      <script>\n",
              "        const buttonEl =\n",
              "          document.querySelector('#df-0136430d-255b-4b7c-97db-c1965c2c9954 button.colab-df-convert');\n",
              "        buttonEl.style.display =\n",
              "          google.colab.kernel.accessAllowed ? 'block' : 'none';\n",
              "\n",
              "        async function convertToInteractive(key) {\n",
              "          const element = document.querySelector('#df-0136430d-255b-4b7c-97db-c1965c2c9954');\n",
              "          const dataTable =\n",
              "            await google.colab.kernel.invokeFunction('convertToInteractive',\n",
              "                                                     [key], {});\n",
              "          if (!dataTable) return;\n",
              "\n",
              "          const docLinkHtml = 'Like what you see? Visit the ' +\n",
              "            '<a target=\"_blank\" href=https://colab.research.google.com/notebooks/data_table.ipynb>data table notebook</a>'\n",
              "            + ' to learn more about interactive tables.';\n",
              "          element.innerHTML = '';\n",
              "          dataTable['output_type'] = 'display_data';\n",
              "          await google.colab.output.renderOutput(dataTable, element);\n",
              "          const docLink = document.createElement('div');\n",
              "          docLink.innerHTML = docLinkHtml;\n",
              "          element.appendChild(docLink);\n",
              "        }\n",
              "      </script>\n",
              "    </div>\n",
              "  </div>\n",
              "  "
            ]
          },
          "metadata": {},
          "execution_count": 5
        }
      ],
      "source": [
        "# Distribution \n",
        "sentiment_count =df['sentiment'].value_counts().to_frame()\n",
        "#sentiment_count\n",
        "\n",
        "percentage = (sentiment_count * 100) / df.shape[0]\n",
        "percentage "
      ]
    },
    {
      "cell_type": "code",
      "execution_count": 6,
      "metadata": {
        "colab": {
          "base_uri": "https://localhost:8080/",
          "height": 300
        },
        "id": "QqVYmR2OOCJT",
        "outputId": "cb885ea5-04d5-4e6f-c173-70c56e405850"
      },
      "outputs": [
        {
          "output_type": "execute_result",
          "data": {
            "text/plain": [
              "          sentiment       tweetid\n",
              "count  43943.000000  4.394300e+04\n",
              "mean       0.853924  8.367966e+17\n",
              "std        0.853543  8.568506e+16\n",
              "min       -1.000000  5.926334e+17\n",
              "25%        0.000000  7.970376e+17\n",
              "50%        1.000000  8.402301e+17\n",
              "75%        1.000000  9.020003e+17\n",
              "max        2.000000  9.667024e+17"
            ],
            "text/html": [
              "\n",
              "  <div id=\"df-11dd37d4-de78-4f87-a24b-b8934aaec637\">\n",
              "    <div class=\"colab-df-container\">\n",
              "      <div>\n",
              "<style scoped>\n",
              "    .dataframe tbody tr th:only-of-type {\n",
              "        vertical-align: middle;\n",
              "    }\n",
              "\n",
              "    .dataframe tbody tr th {\n",
              "        vertical-align: top;\n",
              "    }\n",
              "\n",
              "    .dataframe thead th {\n",
              "        text-align: right;\n",
              "    }\n",
              "</style>\n",
              "<table border=\"1\" class=\"dataframe\">\n",
              "  <thead>\n",
              "    <tr style=\"text-align: right;\">\n",
              "      <th></th>\n",
              "      <th>sentiment</th>\n",
              "      <th>tweetid</th>\n",
              "    </tr>\n",
              "  </thead>\n",
              "  <tbody>\n",
              "    <tr>\n",
              "      <th>count</th>\n",
              "      <td>43943.000000</td>\n",
              "      <td>4.394300e+04</td>\n",
              "    </tr>\n",
              "    <tr>\n",
              "      <th>mean</th>\n",
              "      <td>0.853924</td>\n",
              "      <td>8.367966e+17</td>\n",
              "    </tr>\n",
              "    <tr>\n",
              "      <th>std</th>\n",
              "      <td>0.853543</td>\n",
              "      <td>8.568506e+16</td>\n",
              "    </tr>\n",
              "    <tr>\n",
              "      <th>min</th>\n",
              "      <td>-1.000000</td>\n",
              "      <td>5.926334e+17</td>\n",
              "    </tr>\n",
              "    <tr>\n",
              "      <th>25%</th>\n",
              "      <td>0.000000</td>\n",
              "      <td>7.970376e+17</td>\n",
              "    </tr>\n",
              "    <tr>\n",
              "      <th>50%</th>\n",
              "      <td>1.000000</td>\n",
              "      <td>8.402301e+17</td>\n",
              "    </tr>\n",
              "    <tr>\n",
              "      <th>75%</th>\n",
              "      <td>1.000000</td>\n",
              "      <td>9.020003e+17</td>\n",
              "    </tr>\n",
              "    <tr>\n",
              "      <th>max</th>\n",
              "      <td>2.000000</td>\n",
              "      <td>9.667024e+17</td>\n",
              "    </tr>\n",
              "  </tbody>\n",
              "</table>\n",
              "</div>\n",
              "      <button class=\"colab-df-convert\" onclick=\"convertToInteractive('df-11dd37d4-de78-4f87-a24b-b8934aaec637')\"\n",
              "              title=\"Convert this dataframe to an interactive table.\"\n",
              "              style=\"display:none;\">\n",
              "        \n",
              "  <svg xmlns=\"http://www.w3.org/2000/svg\" height=\"24px\"viewBox=\"0 0 24 24\"\n",
              "       width=\"24px\">\n",
              "    <path d=\"M0 0h24v24H0V0z\" fill=\"none\"/>\n",
              "    <path d=\"M18.56 5.44l.94 2.06.94-2.06 2.06-.94-2.06-.94-.94-2.06-.94 2.06-2.06.94zm-11 1L8.5 8.5l.94-2.06 2.06-.94-2.06-.94L8.5 2.5l-.94 2.06-2.06.94zm10 10l.94 2.06.94-2.06 2.06-.94-2.06-.94-.94-2.06-.94 2.06-2.06.94z\"/><path d=\"M17.41 7.96l-1.37-1.37c-.4-.4-.92-.59-1.43-.59-.52 0-1.04.2-1.43.59L10.3 9.45l-7.72 7.72c-.78.78-.78 2.05 0 2.83L4 21.41c.39.39.9.59 1.41.59.51 0 1.02-.2 1.41-.59l7.78-7.78 2.81-2.81c.8-.78.8-2.07 0-2.86zM5.41 20L4 18.59l7.72-7.72 1.47 1.35L5.41 20z\"/>\n",
              "  </svg>\n",
              "      </button>\n",
              "      \n",
              "  <style>\n",
              "    .colab-df-container {\n",
              "      display:flex;\n",
              "      flex-wrap:wrap;\n",
              "      gap: 12px;\n",
              "    }\n",
              "\n",
              "    .colab-df-convert {\n",
              "      background-color: #E8F0FE;\n",
              "      border: none;\n",
              "      border-radius: 50%;\n",
              "      cursor: pointer;\n",
              "      display: none;\n",
              "      fill: #1967D2;\n",
              "      height: 32px;\n",
              "      padding: 0 0 0 0;\n",
              "      width: 32px;\n",
              "    }\n",
              "\n",
              "    .colab-df-convert:hover {\n",
              "      background-color: #E2EBFA;\n",
              "      box-shadow: 0px 1px 2px rgba(60, 64, 67, 0.3), 0px 1px 3px 1px rgba(60, 64, 67, 0.15);\n",
              "      fill: #174EA6;\n",
              "    }\n",
              "\n",
              "    [theme=dark] .colab-df-convert {\n",
              "      background-color: #3B4455;\n",
              "      fill: #D2E3FC;\n",
              "    }\n",
              "\n",
              "    [theme=dark] .colab-df-convert:hover {\n",
              "      background-color: #434B5C;\n",
              "      box-shadow: 0px 1px 3px 1px rgba(0, 0, 0, 0.15);\n",
              "      filter: drop-shadow(0px 1px 2px rgba(0, 0, 0, 0.3));\n",
              "      fill: #FFFFFF;\n",
              "    }\n",
              "  </style>\n",
              "\n",
              "      <script>\n",
              "        const buttonEl =\n",
              "          document.querySelector('#df-11dd37d4-de78-4f87-a24b-b8934aaec637 button.colab-df-convert');\n",
              "        buttonEl.style.display =\n",
              "          google.colab.kernel.accessAllowed ? 'block' : 'none';\n",
              "\n",
              "        async function convertToInteractive(key) {\n",
              "          const element = document.querySelector('#df-11dd37d4-de78-4f87-a24b-b8934aaec637');\n",
              "          const dataTable =\n",
              "            await google.colab.kernel.invokeFunction('convertToInteractive',\n",
              "                                                     [key], {});\n",
              "          if (!dataTable) return;\n",
              "\n",
              "          const docLinkHtml = 'Like what you see? Visit the ' +\n",
              "            '<a target=\"_blank\" href=https://colab.research.google.com/notebooks/data_table.ipynb>data table notebook</a>'\n",
              "            + ' to learn more about interactive tables.';\n",
              "          element.innerHTML = '';\n",
              "          dataTable['output_type'] = 'display_data';\n",
              "          await google.colab.output.renderOutput(dataTable, element);\n",
              "          const docLink = document.createElement('div');\n",
              "          docLink.innerHTML = docLinkHtml;\n",
              "          element.appendChild(docLink);\n",
              "        }\n",
              "      </script>\n",
              "    </div>\n",
              "  </div>\n",
              "  "
            ]
          },
          "metadata": {},
          "execution_count": 6
        }
      ],
      "source": [
        "df.describe()"
      ]
    },
    {
      "cell_type": "code",
      "execution_count": 7,
      "metadata": {
        "colab": {
          "base_uri": "https://localhost:8080/",
          "height": 296
        },
        "id": "FGA9EZ9TOEbe",
        "outputId": "3d97d740-f4d4-41a6-94b4-310d32830e2d"
      },
      "outputs": [
        {
          "output_type": "execute_result",
          "data": {
            "text/plain": [
              "<matplotlib.axes._subplots.AxesSubplot at 0x7f32b25acd50>"
            ]
          },
          "metadata": {},
          "execution_count": 7
        },
        {
          "output_type": "display_data",
          "data": {
            "text/plain": [
              "<Figure size 432x288 with 1 Axes>"
            ],
            "image/png": "[encoded data removed]"
          },
          "metadata": {
            "needs_background": "light"
          }
        }
      ],
      "source": [
        "df.groupby('sentiment').count().plot(kind='bar')"
      ]
    },
    {
      "cell_type": "code",
      "execution_count": 8,
      "metadata": {
        "colab": {
          "base_uri": "https://localhost:8080/"
        },
        "id": "7Y4LevEUOPX2",
        "outputId": "9f08981c-8749-4ec4-e885-0f57bf74e3ce"
      },
      "outputs": [
        {
          "output_type": "execute_result",
          "data": {
            "text/plain": [
              "sentiment    0\n",
              "message      0\n",
              "tweetid      0\n",
              "dtype: int64"
            ]
          },
          "metadata": {},
          "execution_count": 8
        }
      ],
      "source": [
        "# Check whether there is NAs \n",
        "df.isna().sum()"
      ]
    },
    {
      "cell_type": "markdown",
      "metadata": {
        "id": "TA3ovW7c0rBz"
      },
      "source": [
        "Word Clouds"
      ]
    },
    {
      "cell_type": "code",
      "execution_count": 9,
      "metadata": {
        "id": "Mn9deaUU3LbR"
      },
      "outputs": [],
      "source": [
        "import nltk\n",
        "from nltk.corpus import stopwords\n",
        "#print(stopwords.words('english'))"
      ]
    },
    {
      "cell_type": "code",
      "execution_count": 10,
      "metadata": {
        "id": "YT6sa8fQ2OVf"
      },
      "outputs": [],
      "source": [
        "# We temporaly manually set the list because we got an error with the nltk stopword package. \n",
        "stopwordlist = ['a', 'about', 'above', 'after', 'again', 'ain', 'all', 'am', 'an',\n",
        "             'and','any','are', 'as', 'at', 'be', 'because', 'been', 'before',\n",
        "             'being', 'below', 'between','both', 'by', 'can', 'd', 'did', 'do',\n",
        "             'does', 'doing', 'down', 'during', 'each','few', 'for', 'from',\n",
        "             'further', 'had', 'has', 'have', 'having', 'he', 'her', 'here',\n",
        "             'hers', 'herself', 'him', 'himself', 'his', 'how', 'i', 'if', 'in',\n",
        "             'into','is', 'it', 'its', 'itself', 'just', 'll', 'm', 'ma',\n",
        "             'me', 'more', 'most','my', 'myself', 'now', 'o', 'of', 'on', 'once',\n",
        "             'only', 'or', 'other', 'our', 'ours','ourselves', 'out', 'own', 're','s', 'same', 'she', \"shes\", 'should', \"shouldve\",'so', 'some', 'such',\n",
        "             't', 'than', 'that', \"thatll\", 'the', 'their', 'theirs', 'them',\n",
        "             'themselves', 'then', 'there', 'these', 'they', 'this', 'those',\n",
        "             'through', 'to', 'too','under', 'until', 'up', 've', 'very', 'was',\n",
        "             'we', 'were', 'what', 'when', 'where','which','while', 'who', 'whom',\n",
        "             'why', 'will', 'with', 'won', 'y', 'you', \"youd\",\"youll\", \"youre\",\n",
        "             \"youve\", 'your', 'yours', 'yourself', 'yourselves']"
      ]
    },
    {
      "cell_type": "code",
      "execution_count": 11,
      "metadata": {
        "colab": {
          "base_uri": "https://localhost:8080/",
          "height": 17
        },
        "id": "6xIVOHPkMsBu",
        "outputId": "64e0a41e-6c07-47d6-e69f-079b74aa3926"
      },
      "outputs": [
        {
          "output_type": "display_data",
          "data": {
            "text/html": [
              "        <script type=\"text/javascript\">\n",
              "        window.PlotlyConfig = {MathJaxConfig: 'local'};\n",
              "        if (window.MathJax) {MathJax.Hub.Config({SVG: {font: \"STIX-Web\"}});}\n",
              "        if (typeof require !== 'undefined') {\n",
              "        require.undef(\"plotly\");\n",
              "        requirejs.config({\n",
              "            paths: {\n",
              "                'plotly': ['https://cdn.plot.ly/plotly-2.8.3.min']\n",
              "            }\n",
              "        });\n",
              "        require(['plotly'], function(Plotly) {\n",
              "            window._Plotly = Plotly;\n",
              "        });\n",
              "        }\n",
              "        </script>\n",
              "        "
            ]
          },
          "metadata": {}
        }
      ],
      "source": [
        "# Imports\n",
        "import matplotlib.pyplot as plt\n",
        "import seaborn as sns\n",
        "color = sns.color_palette()\n",
        "%matplotlib inline\n",
        "import plotly.offline as py\n",
        "py.init_notebook_mode(connected=True)\n",
        "import plotly.graph_objs as go\n",
        "import plotly.tools as tls\n",
        "import plotly.express as px"
      ]
    },
    {
      "cell_type": "code",
      "execution_count": 12,
      "metadata": {
        "colab": {
          "base_uri": "https://localhost:8080/",
          "height": 250
        },
        "id": "9TB4Aufr0nuk",
        "outputId": "b1360796-f4de-4194-98a8-c9c122d1ec04"
      },
      "outputs": [
        {
          "output_type": "stream",
          "name": "stderr",
          "text": [
            "[nltk_data] Downloading package stopwords to /root/nltk_data...\n",
            "[nltk_data]   Unzipping corpora/stopwords.zip.\n"
          ]
        },
        {
          "output_type": "execute_result",
          "data": {
            "text/plain": [
              "True"
            ]
          },
          "metadata": {},
          "execution_count": 12
        },
        {
          "output_type": "execute_result",
          "data": {
            "text/plain": [
              "<matplotlib.image.AxesImage at 0x7f329f747e50>"
            ]
          },
          "metadata": {},
          "execution_count": 12
        },
        {
          "output_type": "execute_result",
          "data": {
            "text/plain": [
              "(-0.5, 399.5, 199.5, -0.5)"
            ]
          },
          "metadata": {},
          "execution_count": 12
        },
        {
          "output_type": "display_data",
          "data": {
            "text/plain": [
              "<Figure size 432x288 with 1 Axes>"
            ],
            "image/png": "[encoded data removed]"
          },
          "metadata": {
            "needs_background": "light"
          }
        }
      ],
      "source": [
        "# Following https://towardsdatascience.com/a-beginners-guide-to-sentiment-analysis-in-python-95e354ea84f6\n",
        "import re\n",
        "import nltk\n",
        "nltk.download('stopwords')\n",
        "from nltk.corpus import stopwords\n",
        "from wordcloud import WordCloud \n",
        "\n",
        "\n",
        "# Create stopword list:\n",
        "#stopwords = set(STOPWORDS) #Error check later!!! \n",
        "#stopwords.update([\"br\", \"href\"])\n",
        "stopwords = stopwordlist # Temporary ----\n",
        "textt = ''.join(review for review in df.message)\n",
        "wordcloud = WordCloud(stopwords=stopwords).generate(textt)\n",
        "plt.imshow(wordcloud, interpolation='bilinear')\n",
        "plt.axis(\"off\")\n",
        "plt.savefig('wordcloud11.png')\n",
        "plt.show()"
      ]
    },
    {
      "cell_type": "code",
      "execution_count": 13,
      "metadata": {
        "id": "Rz4Y3roR58LW"
      },
      "outputs": [],
      "source": [
        "# Further Cloud words \n",
        "# Split the data set in each cathegory \n",
        "\n",
        "news = df[df['sentiment'] == 2]\n",
        "positive = df[df['sentiment'] == 1]\n",
        "neutral = df[df['sentiment'] == 0] \n",
        "against = df[df['sentiment'] == -1]\n"
      ]
    },
    {
      "cell_type": "code",
      "execution_count": 14,
      "metadata": {
        "colab": {
          "base_uri": "https://localhost:8080/",
          "height": 215
        },
        "id": "BwbXSSkH7Spz",
        "outputId": "ca312bc4-1c60-40a0-a676-4e9801bfc32c"
      },
      "outputs": [
        {
          "output_type": "execute_result",
          "data": {
            "text/plain": [
              "<matplotlib.image.AxesImage at 0x7f329df92790>"
            ]
          },
          "metadata": {},
          "execution_count": 14
        },
        {
          "output_type": "execute_result",
          "data": {
            "text/plain": [
              "(-0.5, 399.5, 199.5, -0.5)"
            ]
          },
          "metadata": {},
          "execution_count": 14
        },
        {
          "output_type": "display_data",
          "data": {
            "text/plain": [
              "<Figure size 432x288 with 1 Axes>"
            ],
            "image/png": "[encoded data removed]"
          },
          "metadata": {
            "needs_background": "light"
          }
        }
      ],
      "source": [
        "# Positive\n",
        "#stopwords = set(STOPWORDS) # We need to fix this problem \n",
        "#stopwords.update([\"br\", \"href\",\"good\",\"great\"]) \n",
        "## good and great removed because they were included in negative sentiment\n",
        "pos = \" \".join(review for review in positive.message)\n",
        "wordcloud2 = WordCloud(stopwords=stopwords).generate(pos)\n",
        "plt.imshow(wordcloud2, interpolation='bilinear')\n",
        "plt.axis(\"off\")\n",
        "plt.show()"
      ]
    },
    {
      "cell_type": "code",
      "execution_count": 15,
      "metadata": {
        "colab": {
          "base_uri": "https://localhost:8080/",
          "height": 215
        },
        "id": "DcuBJ2_G8JY1",
        "outputId": "5569fed3-5be5-471d-a7eb-c51fb9d1dbb6"
      },
      "outputs": [
        {
          "output_type": "execute_result",
          "data": {
            "text/plain": [
              "<matplotlib.image.AxesImage at 0x7f329e74d990>"
            ]
          },
          "metadata": {},
          "execution_count": 15
        },
        {
          "output_type": "execute_result",
          "data": {
            "text/plain": [
              "(-0.5, 399.5, 199.5, -0.5)"
            ]
          },
          "metadata": {},
          "execution_count": 15
        },
        {
          "output_type": "display_data",
          "data": {
            "text/plain": [
              "<Figure size 432x288 with 1 Axes>"
            ],
            "image/png": "[encoded data removed]"
          },
          "metadata": {
            "needs_background": "light"
          }
        }
      ],
      "source": [
        "# Against\n",
        "pos = \" \".join(review for review in against.message)\n",
        "wordcloud2 = WordCloud(stopwords=stopwords).generate(pos)\n",
        "plt.imshow(wordcloud2, interpolation='bilinear')\n",
        "plt.axis(\"off\")\n",
        "plt.show()"
      ]
    },
    {
      "cell_type": "code",
      "execution_count": 16,
      "metadata": {
        "id": "Q9lXK7EP8dHY"
      },
      "outputs": [],
      "source": [
        "# We should try to clean it further (check the words: climate change, global...)"
      ]
    },
    {
      "cell_type": "markdown",
      "metadata": {
        "id": "C4mPjOOV89Bo"
      },
      "source": [
        "# 3: Building the Model \n",
        "3.1 Preprosessing the data and data cleaning "
      ]
    },
    {
      "cell_type": "code",
      "source": [
        "!pip install better_profanity # Install it if needed"
      ],
      "metadata": {
        "colab": {
          "base_uri": "https://localhost:8080/"
        },
        "id": "q86KdGrbsL8M",
        "outputId": "29e2a350-a043-47b5-8da8-b7e2e37d569e"
      },
      "execution_count": 17,
      "outputs": [
        {
          "output_type": "stream",
          "name": "stdout",
          "text": [
            "Looking in indexes: https://pypi.org/simple, https://us-python.pkg.dev/colab-wheels/public/simple/\n",
            "Collecting better_profanity\n",
            "  Downloading better_profanity-0.7.0-py3-none-any.whl (46 kB)\n",
            "\u001b[K     |████████████████████████████████| 46 kB 2.6 MB/s \n",
            "\u001b[?25hInstalling collected packages: better-profanity\n",
            "Successfully installed better-profanity-0.7.0\n"
          ]
        }
      ]
    },
    {
      "cell_type": "code",
      "execution_count": 18,
      "metadata": {
        "id": "hbWkADxB9l1H"
      },
      "outputs": [],
      "source": [
        "from wordcloud import WordCloud\n",
        "from better_profanity import profanity\n",
        "\n"
      ]
    },
    {
      "cell_type": "code",
      "execution_count": 19,
      "metadata": {
        "id": "5MByovoS9-By"
      },
      "outputs": [],
      "source": [
        "#!pip install stopwords # If needed"
      ]
    },
    {
      "cell_type": "code",
      "execution_count": 20,
      "metadata": {
        "id": "bIDOcV8_8rfP"
      },
      "outputs": [],
      "source": [
        "# Function from: https://medium.com/@nikitasilaparasetty/twitter-sentiment-analysis-for-data-science-using-python-in-2022-6d5e43f6fa6e\n",
        "# Create a function to clean the tweets. Remove profanity, unnecessary characters, spaces, and stopwords.\n",
        "# !!!!!!!!!!!!!!!!!!!!!!!!!!!!!!!!!!!!!!!!!!!!!!!!!!!!!!!!!!!!!!!!!!!!!!!!!!!!!!!!!!!!\n",
        "# We decided not to use this function. It takes to much time to run the whole dataset. \n",
        "# !!!!!!!!!!!!!!!!!!!!!!!!!!!!!!!!!!!!!!!!!!!!!!!!!!!!!!!!!!!!!!!!!!!!!!!!!!!!!!!!!!!!\n",
        "\n",
        "from wordcloud import WordCloud\n",
        "from better_profanity import profanity\n",
        "import numpy as np\n",
        "\n",
        "def clean_tweet(tweet):\n",
        "    if type(tweet) == np.float:\n",
        "        return \"\"\n",
        "    r = tweet.lower()\n",
        "    r = profanity.censor(r)\n",
        "    r = re.sub(\"'\", \"\", r) # This is to avoid removing contractions in english\n",
        "    r = re.sub(\"@[A-Za-z0-9_]+\",\"\", r)\n",
        "    r = re.sub(\"#[A-Za-z0-9_]+\",\"\", r)\n",
        "    r = re.sub(r'http\\S+', '', r)\n",
        "    r = re.sub('[()!?]', ' ', r)\n",
        "    r = re.sub('\\[.*?\\]',' ', r)\n",
        "    r = re.sub(\"[^a-z0-9]\",\" \", r)\n",
        "    r = r.split()\n",
        "    stopwords = [\"for\", \"on\", \"an\", \"a\", \"of\", \"and\", \"in\", \"the\", \"to\", \"from\"]\n",
        "    r = [w for w in r if not w in stopwords]\n",
        "    r = \" \".join(word for word in r)\n",
        "    return r"
      ]
    },
    {
      "cell_type": "code",
      "execution_count": 21,
      "metadata": {
        "id": "Sh1pmOUI-_O3"
      },
      "outputs": [],
      "source": [
        "# Convert the column 'message' in a list \n",
        "# Convert only the tweets into a list\n",
        "\n",
        "message_list = df.message.to_list()\n"
      ]
    },
    {
      "cell_type": "code",
      "execution_count": 22,
      "metadata": {
        "id": "3Bu45tmJQRMf"
      },
      "outputs": [],
      "source": [
        "# Run the list of tweets through this function and display this cleaned list.\n",
        "\n",
        "#cleaned_df = [clean_tweet(tw) for tw in message_list]\n",
        "#cleaned_df.head(10)"
      ]
    },
    {
      "cell_type": "code",
      "execution_count": 23,
      "metadata": {
        "colab": {
          "base_uri": "https://localhost:8080/",
          "height": 643
        },
        "id": "UGrxy06DNFq-",
        "outputId": "8544ead8-5b71-4718-a31b-0cdb840ac628"
      },
      "outputs": [
        {
          "output_type": "execute_result",
          "data": {
            "text/plain": [
              "   sentiment                                            message  \\\n",
              "0         -1  @tiniebeany climate change is an interesting h...   \n",
              "1          1  RT @NatGeoChannel: Watch #BeforeTheFlood right...   \n",
              "2          1  Fabulous! Leonardo #DiCaprio's film on #climat...   \n",
              "3          1  RT @Mick_Fanning: Just watched this amazing do...   \n",
              "4          2  RT @cnalive: Pranita Biswasi, a Lutheran from ...   \n",
              "5          0  Unamshow awache kujinga na iko global warming ...   \n",
              "6          2  RT @cnalive: Pranita Biswasi, a Lutheran from ...   \n",
              "7          2  RT @CCIRiviera: Presidential Candidate #Donald...   \n",
              "8          0  RT @AmericanIndian8: Leonardo DiCaprio's clima...   \n",
              "9          1  #BeforeTheFlood Watch #BeforeTheFlood right he...   \n",
              "\n",
              "              tweetid  \n",
              "0  792927353886371840  \n",
              "1  793124211518832641  \n",
              "2  793124402388832256  \n",
              "3  793124635873275904  \n",
              "4  793125156185137153  \n",
              "5  793125429418815489  \n",
              "6  793125430236684289  \n",
              "7  793126558688878592  \n",
              "8  793127097854197761  \n",
              "9  793127346106753028  "
            ],
            "text/html": [
              "\n",
              "  <div id=\"df-d5d7e159-3fbb-436e-a42b-637a6402fffa\">\n",
              "    <div class=\"colab-df-container\">\n",
              "      <div>\n",
              "<style scoped>\n",
              "    .dataframe tbody tr th:only-of-type {\n",
              "        vertical-align: middle;\n",
              "    }\n",
              "\n",
              "    .dataframe tbody tr th {\n",
              "        vertical-align: top;\n",
              "    }\n",
              "\n",
              "    .dataframe thead th {\n",
              "        text-align: right;\n",
              "    }\n",
              "</style>\n",
              "<table border=\"1\" class=\"dataframe\">\n",
              "  <thead>\n",
              "    <tr style=\"text-align: right;\">\n",
              "      <th></th>\n",
              "      <th>sentiment</th>\n",
              "      <th>message</th>\n",
              "      <th>tweetid</th>\n",
              "    </tr>\n",
              "  </thead>\n",
              "  <tbody>\n",
              "    <tr>\n",
              "      <th>0</th>\n",
              "      <td>-1</td>\n",
              "      <td>@tiniebeany climate change is an interesting h...</td>\n",
              "      <td>792927353886371840</td>\n",
              "    </tr>\n",
              "    <tr>\n",
              "      <th>1</th>\n",
              "      <td>1</td>\n",
              "      <td>RT @NatGeoChannel: Watch #BeforeTheFlood right...</td>\n",
              "      <td>793124211518832641</td>\n",
              "    </tr>\n",
              "    <tr>\n",
              "      <th>2</th>\n",
              "      <td>1</td>\n",
              "      <td>Fabulous! Leonardo #DiCaprio's film on #climat...</td>\n",
              "      <td>793124402388832256</td>\n",
              "    </tr>\n",
              "    <tr>\n",
              "      <th>3</th>\n",
              "      <td>1</td>\n",
              "      <td>RT @Mick_Fanning: Just watched this amazing do...</td>\n",
              "      <td>793124635873275904</td>\n",
              "    </tr>\n",
              "    <tr>\n",
              "      <th>4</th>\n",
              "      <td>2</td>\n",
              "      <td>RT @cnalive: Pranita Biswasi, a Lutheran from ...</td>\n",
              "      <td>793125156185137153</td>\n",
              "    </tr>\n",
              "    <tr>\n",
              "      <th>5</th>\n",
              "      <td>0</td>\n",
              "      <td>Unamshow awache kujinga na iko global warming ...</td>\n",
              "      <td>793125429418815489</td>\n",
              "    </tr>\n",
              "    <tr>\n",
              "      <th>6</th>\n",
              "      <td>2</td>\n",
              "      <td>RT @cnalive: Pranita Biswasi, a Lutheran from ...</td>\n",
              "      <td>793125430236684289</td>\n",
              "    </tr>\n",
              "    <tr>\n",
              "      <th>7</th>\n",
              "      <td>2</td>\n",
              "      <td>RT @CCIRiviera: Presidential Candidate #Donald...</td>\n",
              "      <td>793126558688878592</td>\n",
              "    </tr>\n",
              "    <tr>\n",
              "      <th>8</th>\n",
              "      <td>0</td>\n",
              "      <td>RT @AmericanIndian8: Leonardo DiCaprio's clima...</td>\n",
              "      <td>793127097854197761</td>\n",
              "    </tr>\n",
              "    <tr>\n",
              "      <th>9</th>\n",
              "      <td>1</td>\n",
              "      <td>#BeforeTheFlood Watch #BeforeTheFlood right he...</td>\n",
              "      <td>793127346106753028</td>\n",
              "    </tr>\n",
              "  </tbody>\n",
              "</table>\n",
              "</div>\n",
              "      <button class=\"colab-df-convert\" onclick=\"convertToInteractive('df-d5d7e159-3fbb-436e-a42b-637a6402fffa')\"\n",
              "              title=\"Convert this dataframe to an interactive table.\"\n",
              "              style=\"display:none;\">\n",
              "        \n",
              "  <svg xmlns=\"http://www.w3.org/2000/svg\" height=\"24px\"viewBox=\"0 0 24 24\"\n",
              "       width=\"24px\">\n",
              "    <path d=\"M0 0h24v24H0V0z\" fill=\"none\"/>\n",
              "    <path d=\"M18.56 5.44l.94 2.06.94-2.06 2.06-.94-2.06-.94-.94-2.06-.94 2.06-2.06.94zm-11 1L8.5 8.5l.94-2.06 2.06-.94-2.06-.94L8.5 2.5l-.94 2.06-2.06.94zm10 10l.94 2.06.94-2.06 2.06-.94-2.06-.94-.94-2.06-.94 2.06-2.06.94z\"/><path d=\"M17.41 7.96l-1.37-1.37c-.4-.4-.92-.59-1.43-.59-.52 0-1.04.2-1.43.59L10.3 9.45l-7.72 7.72c-.78.78-.78 2.05 0 2.83L4 21.41c.39.39.9.59 1.41.59.51 0 1.02-.2 1.41-.59l7.78-7.78 2.81-2.81c.8-.78.8-2.07 0-2.86zM5.41 20L4 18.59l7.72-7.72 1.47 1.35L5.41 20z\"/>\n",
              "  </svg>\n",
              "      </button>\n",
              "      \n",
              "  <style>\n",
              "    .colab-df-container {\n",
              "      display:flex;\n",
              "      flex-wrap:wrap;\n",
              "      gap: 12px;\n",
              "    }\n",
              "\n",
              "    .colab-df-convert {\n",
              "      background-color: #E8F0FE;\n",
              "      border: none;\n",
              "      border-radius: 50%;\n",
              "      cursor: pointer;\n",
              "      display: none;\n",
              "      fill: #1967D2;\n",
              "      height: 32px;\n",
              "      padding: 0 0 0 0;\n",
              "      width: 32px;\n",
              "    }\n",
              "\n",
              "    .colab-df-convert:hover {\n",
              "      background-color: #E2EBFA;\n",
              "      box-shadow: 0px 1px 2px rgba(60, 64, 67, 0.3), 0px 1px 3px 1px rgba(60, 64, 67, 0.15);\n",
              "      fill: #174EA6;\n",
              "    }\n",
              "\n",
              "    [theme=dark] .colab-df-convert {\n",
              "      background-color: #3B4455;\n",
              "      fill: #D2E3FC;\n",
              "    }\n",
              "\n",
              "    [theme=dark] .colab-df-convert:hover {\n",
              "      background-color: #434B5C;\n",
              "      box-shadow: 0px 1px 3px 1px rgba(0, 0, 0, 0.15);\n",
              "      filter: drop-shadow(0px 1px 2px rgba(0, 0, 0, 0.3));\n",
              "      fill: #FFFFFF;\n",
              "    }\n",
              "  </style>\n",
              "\n",
              "      <script>\n",
              "        const buttonEl =\n",
              "          document.querySelector('#df-d5d7e159-3fbb-436e-a42b-637a6402fffa button.colab-df-convert');\n",
              "        buttonEl.style.display =\n",
              "          google.colab.kernel.accessAllowed ? 'block' : 'none';\n",
              "\n",
              "        async function convertToInteractive(key) {\n",
              "          const element = document.querySelector('#df-d5d7e159-3fbb-436e-a42b-637a6402fffa');\n",
              "          const dataTable =\n",
              "            await google.colab.kernel.invokeFunction('convertToInteractive',\n",
              "                                                     [key], {});\n",
              "          if (!dataTable) return;\n",
              "\n",
              "          const docLinkHtml = 'Like what you see? Visit the ' +\n",
              "            '<a target=\"_blank\" href=https://colab.research.google.com/notebooks/data_table.ipynb>data table notebook</a>'\n",
              "            + ' to learn more about interactive tables.';\n",
              "          element.innerHTML = '';\n",
              "          dataTable['output_type'] = 'display_data';\n",
              "          await google.colab.output.renderOutput(dataTable, element);\n",
              "          const docLink = document.createElement('div');\n",
              "          docLink.innerHTML = docLinkHtml;\n",
              "          element.appendChild(docLink);\n",
              "        }\n",
              "      </script>\n",
              "    </div>\n",
              "  </div>\n",
              "  "
            ]
          },
          "metadata": {},
          "execution_count": 23
        },
        {
          "output_type": "stream",
          "name": "stderr",
          "text": [
            "/usr/local/lib/python3.7/dist-packages/ipykernel_launcher.py:12: DeprecationWarning:\n",
            "\n",
            "`np.float` is a deprecated alias for the builtin `float`. To silence this warning, use `float` by itself. Doing this will not modify any behavior and is safe. If you specifically wanted the numpy scalar type, use `np.float64` here.\n",
            "Deprecated in NumPy 1.20; for more details and guidance: https://numpy.org/devdocs/release/1.20.0-notes.html#deprecations\n",
            "\n"
          ]
        },
        {
          "output_type": "execute_result",
          "data": {
            "text/plain": [
              "['climate change is interesting hustle as it was global warming but planet stopped warming 15 yes while suv boom',\n",
              " 'rt watch right here as travels world tackle climate change htt',\n",
              " 'fabulous leonardo film change is brilliant do watch via',\n",
              " 'rt just watched this amazing documentary by leonardodicaprio climate change we all think this',\n",
              " 'rt pranita biswasi lutheran odisha gives testimony effects climate change amp natural disasters po',\n",
              " 'unamshow awache kujinga na iko global warming',\n",
              " 'rt pranita biswasi lutheran odisha gives testimony effects climate change amp natural disasters po',\n",
              " 'rt presidential candidate is dangerous climate change says s prince albert',\n",
              " 'rt leonardo dicaprios climate change documentary is free week',\n",
              " 'watch right here as travels world tackle climate change']"
            ]
          },
          "metadata": {},
          "execution_count": 23
        }
      ],
      "source": [
        "# Just selecting a couple of rows to see whether it works: \n",
        "df_test = df.head(10)\n",
        "df_test\n",
        "\n",
        "# Making a list \n",
        "#test_message_list = df_test.message.to_list()\n",
        "#cleaned_df_test = [clean_tweet(tw) for tw in test_message_list]\n",
        "\n",
        "# Works directly from a df \n",
        "cleaned_df_test = [clean_tweet(tw) for tw in df_test.message]\n",
        "cleaned_df_test\n"
      ]
    },
    {
      "cell_type": "markdown",
      "source": [
        "21/09/22\n",
        "\n",
        "Other preprosessing techniques: \n",
        "\n",
        "Source: https://github.com/Deffro/text-preprocessing-techniques/blob/master/techniques.py \n",
        "\n"
      ],
      "metadata": {
        "id": "EWkmk5GJAqed"
      }
    },
    {
      "cell_type": "code",
      "source": [
        "!pip install requests # If necessary "
      ],
      "metadata": {
        "id": "L6-j_ZPqFPlq",
        "colab": {
          "base_uri": "https://localhost:8080/"
        },
        "outputId": "89850f43-06ca-4d7f-e5b2-54d8536e6e56"
      },
      "execution_count": 24,
      "outputs": [
        {
          "output_type": "stream",
          "name": "stdout",
          "text": [
            "Looking in indexes: https://pypi.org/simple, https://us-python.pkg.dev/colab-wheels/public/simple/\n",
            "Requirement already satisfied: requests in /usr/local/lib/python3.7/dist-packages (2.23.0)\n",
            "Requirement already satisfied: chardet<4,>=3.0.2 in /usr/local/lib/python3.7/dist-packages (from requests) (3.0.4)\n",
            "Requirement already satisfied: urllib3!=1.25.0,!=1.25.1,<1.26,>=1.21.1 in /usr/local/lib/python3.7/dist-packages (from requests) (1.24.3)\n",
            "Requirement already satisfied: certifi>=2017.4.17 in /usr/local/lib/python3.7/dist-packages (from requests) (2022.6.15)\n",
            "Requirement already satisfied: idna<3,>=2.5 in /usr/local/lib/python3.7/dist-packages (from requests) (2.10)\n"
          ]
        }
      ]
    },
    {
      "cell_type": "code",
      "source": [
        "\"\"\" Copyright 2017, Dimitrios Effrosynidis, All rights reserved. \"\"\"\n",
        "# Functions for preprocessing data\n",
        "\n",
        "#import re\n",
        "from functools import partial\n",
        "from collections import Counter\n",
        "#import nltk\n",
        "from nltk.corpus import wordnet\n",
        "from nltk.corpus import stopwords\n",
        "from nltk.stem import WordNetLemmatizer\n",
        "from nltk.stem.porter import PorterStemmer\n",
        "# For reading the slang document \n",
        "import urllib.request\n",
        "import requests\n",
        "import urllib\n",
        "from urllib.request import urlopen\n",
        "import urllib3\n",
        "\n",
        "def removeUnicode(text):\n",
        "    \"\"\" Removes unicode strings like \"\\u002c\" and \"x96\" \"\"\"\n",
        "    text = re.sub(r'(\\\\u[0-9A-Fa-f]+)',r'', text)       \n",
        "    text = re.sub(r'[^\\x00-\\x7f]',r'',text)\n",
        "    return text\n",
        "\n",
        "def replaceURL(text):\n",
        "    \"\"\" Replaces url address with \"url\" \"\"\"\n",
        "    text = re.sub('((www\\.[^\\s]+)|(https?://[^\\s]+))','url',text)\n",
        "    text = re.sub(r'#([^\\s]+)', r'\\1', text)\n",
        "    return text\n",
        "\n",
        "def replaceAtUser(text):\n",
        "    \"\"\" Replaces \"@user\" with \"atUser\" \"\"\"\n",
        "    text = re.sub('@[^\\s]+','atUser',text)\n",
        "    return text\n",
        "\n",
        "def removeHashtagInFrontOfWord(text):\n",
        "    \"\"\" Removes hastag in front of a word \"\"\"\n",
        "    text = re.sub(r'#([^\\s]+)', r'\\1', text)\n",
        "    return text\n",
        "\n",
        "def removeNumbers(text):\n",
        "    \"\"\" Removes integers \"\"\"\n",
        "    text = ''.join([i for i in text if not i.isdigit()])         \n",
        "    return text\n",
        "\n",
        "def replaceMultiExclamationMark(text):\n",
        "    \"\"\" Replaces repetitions of exlamation marks \"\"\"\n",
        "    text = re.sub(r\"(\\!)\\1+\", ' multiExclamation ', text)\n",
        "    return text\n",
        "\n",
        "def replaceMultiQuestionMark(text):\n",
        "    \"\"\" Replaces repetitions of question marks \"\"\"\n",
        "    text = re.sub(r\"(\\?)\\1+\", ' multiQuestion ', text)\n",
        "    return text\n",
        "\n",
        "def replaceMultiStopMark(text):\n",
        "    \"\"\" Replaces repetitions of stop marks \"\"\"\n",
        "    text = re.sub(r\"(\\.)\\1+\", ' multiStop ', text)\n",
        "    return text\n",
        "\n",
        "def countMultiExclamationMarks(text):\n",
        "    \"\"\" Replaces repetitions of exlamation marks \"\"\"\n",
        "    return len(re.findall(r\"(\\!)\\1+\", text))\n",
        "\n",
        "def countMultiQuestionMarks(text):\n",
        "    \"\"\" Count repetitions of question marks \"\"\"\n",
        "    return len(re.findall(r\"(\\?)\\1+\", text))\n",
        "\n",
        "def countMultiStopMarks(text):\n",
        "    \"\"\" Count repetitions of stop marks \"\"\"\n",
        "    return len(re.findall(r\"(\\.)\\1+\", text))\n",
        "\n",
        "def countElongated(text):\n",
        "    \"\"\" Input: a text, Output: how many words are elongated \"\"\"\n",
        "    regex = re.compile(r\"(.)\\1{2}\")\n",
        "    return len([word for word in text.split() if regex.search(word)])\n",
        "\n",
        "def countAllCaps(text):\n",
        "    \"\"\" Input: a text, Output: how many words are all caps \"\"\"\n",
        "    return len(re.findall(\"[A-Z0-9]{3,}\", text))\n",
        "\n",
        "#\"\"\" Creates a dictionary with slangs and their equivalents and replaces them \"\"\"\n",
        "#slang_url ='https://raw.githubusercontent.com/Deffro/text-preprocessing-techniques/master/slang.txt'\n",
        "#for line in urllib.request.urlopen(slang_url):\n",
        "#    slang_txt = (line.decode('utf-8')) \n",
        "\n",
        "#with open(slang_txt) as file:\n",
        "#    slang_map = dict(map(str.strip, line.partition('\\t')[::2])\n",
        "#    for line in file if line.strip())\n",
        "\n",
        "#slang_words = sorted(slang_map, key=len, reverse=True) # longest first for regex\n",
        "#regex = re.compile(r\"\\b({})\\b\".format(\"|\".join(map(re.escape, slang_words))))\n",
        "#replaceSlang = partial(regex.sub, lambda m: slang_map[m.group(1)])\n",
        "\n",
        "#def countSlang(text):\n",
        "#    \"\"\" Input: a text, Output: how many slang words and a list of found slangs \"\"\"\n",
        "#    slangCounter = 0\n",
        "#    slangsFound = []\n",
        "#    tokens = nltk.word_tokenize(text)\n",
        "#    for word in tokens:\n",
        "#        if word in slang_words:\n",
        "#            slangsFound.append(word)\n",
        "#            slangCounter += 1\n",
        "#    return slangCounter, slangsFound\n",
        "\n",
        "\"\"\" Replaces contractions from a string to their equivalents \"\"\"\n",
        "contraction_patterns = [ (r'won\\'t', 'will not'), (r'can\\'t', 'cannot'), (r'i\\'m', 'i am'), (r'ain\\'t', 'is not'), (r'(\\w+)\\'ll', '\\g<1> will'), (r'(\\w+)n\\'t', '\\g<1> not'),\n",
        "                         (r'(\\w+)\\'ve', '\\g<1> have'), (r'(\\w+)\\'s', '\\g<1> is'), (r'(\\w+)\\'re', '\\g<1> are'), (r'(\\w+)\\'d', '\\g<1> would'), (r'&', 'and'), (r'dammit', 'damn it'), (r'dont', 'do not'), (r'wont', 'will not') ]\n",
        "def replaceContraction(text):\n",
        "    patterns = [(re.compile(regex), repl) for (regex, repl) in contraction_patterns]\n",
        "    for (pattern, repl) in patterns:\n",
        "        (text, count) = re.subn(pattern, repl, text)\n",
        "    return text\n",
        "\n",
        "def replaceElongated(word):\n",
        "    \"\"\" Replaces an elongated word with its basic form, unless the word exists in the lexicon \"\"\"\n",
        "\n",
        "    repeat_regexp = re.compile(r'(\\w*)(\\w)\\2(\\w*)')\n",
        "    repl = r'\\1\\2\\3'\n",
        "    if wordnet.synsets(word):\n",
        "        return word\n",
        "    repl_word = repeat_regexp.sub(repl, word)\n",
        "    if repl_word != word:      \n",
        "        return replaceElongated(repl_word)\n",
        "    else:       \n",
        "        return repl_word\n",
        "\n",
        "def removeEmoticons(text):\n",
        "    \"\"\" Removes emoticons from text \"\"\"\n",
        "    text = re.sub(':\\)|;\\)|:-\\)|\\(-:|:-D|=D|:P|xD|X-p|\\^\\^|:-*|\\^\\.\\^|\\^\\-\\^|\\^\\_\\^|\\,-\\)|\\)-:|:\\'\\(|:\\(|:-\\(|:\\S|T\\.T|\\.\\_\\.|:<|:-\\S|:-<|\\*\\-\\*|:O|=O|=\\-O|O\\.o|XO|O\\_O|:-\\@|=/|:/|X\\-\\(|>\\.<|>=\\(|D:', '', text)\n",
        "    return text\n",
        "\n",
        "def countEmoticons(text):\n",
        "    \"\"\" Input: a text, Output: how many emoticons \"\"\"\n",
        "    return len(re.findall(':\\)|;\\)|:-\\)|\\(-:|:-D|=D|:P|xD|X-p|\\^\\^|:-*|\\^\\.\\^|\\^\\-\\^|\\^\\_\\^|\\,-\\)|\\)-:|:\\'\\(|:\\(|:-\\(|:\\S|T\\.T|\\.\\_\\.|:<|:-\\S|:-<|\\*\\-\\*|:O|=O|=\\-O|O\\.o|XO|O\\_O|:-\\@|=/|:/|X\\-\\(|>\\.<|>=\\(|D:', text))\n",
        "\n",
        "\n",
        "### Spell Correction begin ###\n",
        "\"\"\" Spell Correction http://norvig.com/spell-correct.html \"\"\"\n",
        "def words(text): return re.findall(r'\\w+', text.lower())\n",
        "\n",
        "#WORDS = Counter(words(open('corporaForSpellCorrection.txt').read()))\n",
        "\n",
        "#def P(word, N=sum(WORDS.values())): \n",
        "#    \"\"\"P robability of `word`. \"\"\"\n",
        "#    return WORDS[word] / N\n",
        "\n",
        "def spellCorrection(word): \n",
        "    \"\"\" Most probable spelling correction for word. \"\"\"\n",
        "    return max(candidates(word), key=P)\n",
        "\n",
        "def candidates(word): \n",
        "    \"\"\" Generate possible spelling corrections for word. \"\"\"\n",
        "    return (known([word]) or known(edits1(word)) or known(edits2(word)) or [word])\n",
        "\n",
        "def known(words): \n",
        "    \"\"\" The subset of `words` that appear in the dictionary of WORDS. \"\"\"\n",
        "    return set(w for w in words if w in WORDS)\n",
        "\n",
        "def edits1(word):\n",
        "    \"\"\" All edits that are one edit away from `word`. \"\"\"\n",
        "    letters    = 'abcdefghijklmnopqrstuvwxyz'\n",
        "    splits     = [(word[:i], word[i:])    for i in range(len(word) + 1)]\n",
        "    deletes    = [L + R[1:]               for L, R in splits if R]\n",
        "    transposes = [L + R[1] + R[0] + R[2:] for L, R in splits if len(R)>1]\n",
        "    replaces   = [L + c + R[1:]           for L, R in splits if R for c in letters]\n",
        "    inserts    = [L + c + R               for L, R in splits for c in letters]\n",
        "    return set(deletes + transposes + replaces + inserts)\n",
        "\n",
        "def edits2(word): \n",
        "    \"\"\" All edits that are two edits away from `word`. \"\"\"\n",
        "    return (e2 for e1 in edits1(word) for e2 in edits1(e1))\n",
        "\n",
        "### Spell Correction End ###\n",
        "\n",
        "### Replace Negations Begin ###\n",
        "\n",
        "def replace(word, pos=None):\n",
        "    \"\"\" Creates a set of all antonyms for the word and if there is only one antonym, it returns it \"\"\"\n",
        "    antonyms = set()\n",
        "    for syn in wordnet.synsets(word, pos=pos):\n",
        "      for lemma in syn.lemmas():\n",
        "        for antonym in lemma.antonyms():\n",
        "          antonyms.add(antonym.name())\n",
        "    if len(antonyms) == 1:\n",
        "      return antonyms.pop()\n",
        "    else:\n",
        "      return None\n",
        "\n",
        "def replaceNegations(text):\n",
        "    \"\"\" Finds \"not\" and antonym for the next word and if found, replaces not and the next word with the antonym \"\"\"\n",
        "    i, l = 0, len(text)\n",
        "    words = []\n",
        "    while i < l:\n",
        "      word = text[i]\n",
        "      if word == 'not' and i+1 < l:\n",
        "        ant = replace(text[i+1])\n",
        "        if ant:\n",
        "          words.append(ant)\n",
        "          i += 2\n",
        "          continue\n",
        "      words.append(word)\n",
        "      i += 1\n",
        "    return words\n",
        "\n",
        "### Replace Negations End ###\n",
        "\n",
        "def addNotTag(text):\n",
        "\t\"\"\" Finds \"not,never,no\" and adds the tag NEG_ to all words that follow until the next punctuation \"\"\"\n",
        "\ttransformed = re.sub(r'\\b(?:not|never|no)\\b[\\w\\s]+[^\\w\\s]', \n",
        "       lambda match: re.sub(r'(\\s+)(\\w+)', r'\\1NEG_\\2', match.group(0)), \n",
        "       text,\n",
        "       flags=re.IGNORECASE)\n",
        "\treturn transformed\n",
        "\n",
        "def addCapTag(word):\n",
        "    \"\"\" Finds a word with at least 3 characters capitalized and adds the tag ALL_CAPS_ \"\"\"\n",
        "    if(len(re.findall(\"[A-Z]{3,}\", word))):\n",
        "        word = word.replace('\\\\', '' )\n",
        "        transformed = re.sub(\"[A-Z]{3,}\", \"ALL_CAPS_\"+word, word)\n",
        "        return transformed\n",
        "    else:\n",
        "        return word"
      ],
      "metadata": {
        "colab": {
          "base_uri": "https://localhost:8080/",
          "height": 54
        },
        "id": "xgV2xwCTCGAs",
        "outputId": "704c7189-4cc3-4d45-a66c-2361c6ef50f0"
      },
      "execution_count": 25,
      "outputs": [
        {
          "output_type": "execute_result",
          "data": {
            "text/plain": [
              "' Copyright 2017, Dimitrios Effrosynidis, All rights reserved. '"
            ],
            "application/vnd.google.colaboratory.intrinsic+json": {
              "type": "string"
            }
          },
          "metadata": {},
          "execution_count": 25
        },
        {
          "output_type": "execute_result",
          "data": {
            "text/plain": [
              "' Replaces contractions from a string to their equivalents '"
            ],
            "application/vnd.google.colaboratory.intrinsic+json": {
              "type": "string"
            }
          },
          "metadata": {},
          "execution_count": 25
        },
        {
          "output_type": "execute_result",
          "data": {
            "text/plain": [
              "' Spell Correction http://norvig.com/spell-correct.html '"
            ],
            "application/vnd.google.colaboratory.intrinsic+json": {
              "type": "string"
            }
          },
          "metadata": {},
          "execution_count": 25
        }
      ]
    },
    {
      "cell_type": "code",
      "source": [
        "# Preprocessing our data set: \n",
        "\n",
        "\n",
        "# 1. Remove Unicode\n",
        "\n",
        "cleaned_list_1 = []\n",
        "for tweet in message_list: \n",
        "  string = removeUnicode(tweet)\n",
        "  cleaned_list_1.append(string)\n",
        "\n",
        "# 2. .Replace URL\n",
        "\n",
        "cleaned_list_2 = []\n",
        "for tweet in cleaned_list_1: \n",
        "  string = replaceURL(tweet)\n",
        "  cleaned_list_2.append(string)\n",
        "\n",
        "# 3. Replace @User\n",
        "\n",
        "cleaned_list_3 = []\n",
        "for tweet in cleaned_list_2: \n",
        "  string = replaceAtUser(tweet)\n",
        "  cleaned_list_3.append(string)\n",
        "\n",
        "# 4. Remove # in front of words \n",
        "\n",
        "cleaned_list_4 = []\n",
        "for tweet in cleaned_list_3: \n",
        "  string = removeHashtagInFrontOfWord(tweet)\n",
        "  cleaned_list_4.append(string)\n",
        "\n",
        "# 5. Remove numbers\n",
        "\n",
        "cleaned_list_5 = []\n",
        "for tweet in cleaned_list_4: \n",
        "  string = removeNumbers(tweet)\n",
        "  cleaned_list_5.append(string)\n",
        "\n",
        "# 6. Replace multi exclamation marks \n",
        "\n",
        "cleaned_list_6 = []\n",
        "for tweet in cleaned_list_5: \n",
        "  string = replaceMultiExclamationMark(tweet)\n",
        "  cleaned_list_6.append(string)\n",
        "\n",
        "# 7. Replace Multi Question Mark\n",
        "\n",
        "cleaned_list_7 = []\n",
        "for tweet in cleaned_list_6: \n",
        "  string = replaceMultiQuestionMark(tweet)\n",
        "  cleaned_list_7.append(string)\n",
        "\n",
        "# 8. Replace multistop Mark\n",
        "\n",
        "cleaned_list_8 = []\n",
        "for tweet in cleaned_list_7: \n",
        "  string = replaceMultiStopMark(tweet)\n",
        "  cleaned_list_8.append(string)\n",
        "\n",
        "# 9. Deal with slang\n",
        "\n",
        "cleaned_list_9 = []\n",
        "for tweet in cleaned_list_8: \n",
        "  string = replaceContraction(tweet)\n",
        "  cleaned_list_9.append(string)\n",
        "\n",
        "# We Skiped replaceElongated(word) It doesn't work.\n",
        "\n",
        "# 10. Remove emoticons \n",
        "cleaned_list_10 = []\n",
        "for tweet in cleaned_list_9: \n",
        "  string = removeEmoticons(tweet)\n",
        "  cleaned_list_10.append(string)\n",
        "\n",
        "# 11. Replace negations\n",
        "\n",
        "#cleaned_list_11 = [] \n",
        "\n",
        "#Doesn´t work \n",
        "#for tweet in cleaned_list_10: \n",
        "#  string = replaceNegations(tweet)\n",
        "#  cleaned_list_11.append(string)"
      ],
      "metadata": {
        "id": "iqD7qKQbO1Y5"
      },
      "execution_count": 26,
      "outputs": []
    },
    {
      "cell_type": "code",
      "source": [
        "cleaned_list_10\n",
        "\n",
        "# Things we still need to do: \n",
        "# -We need to keep the cleaning: spelling, slang and check why do we still have some  ;, /, |. \n",
        "# -Join the list in a new df with the sentiments column.\n",
        "# -Vectorize & split into test and train. \n",
        "# -Try to run model. \n",
        "\n"
      ],
      "metadata": {
        "colab": {
          "base_uri": "https://localhost:8080/"
        },
        "id": "8tYvOfhpHtdp",
        "outputId": "f79b5360-89a7-4411-f0a0-654c7c308d38"
      },
      "execution_count": 27,
      "outputs": [
        {
          "output_type": "execute_result",
          "data": {
            "text/plain": [
              "['atUser climate change is an interesting hustle as it was global warming but the planet stopped warming for  yes while the suv boom',\n",
              " 'RT atUser Watch BeforeTheFlood right here, as atUser travels the world to tackle climate change url htt',\n",
              " 'Fabulous! Leonardo DiCaprio is film on climate change is brilliant multiExclamation  Do watch. url via atUser',\n",
              " 'RT atUser Just watched this amazing documentary by leonardodicaprio on climate change. We all think this url',\n",
              " 'RT atUser Pranita Biswasi, a Lutheran from Odisha, gives testimony on effects of climate change andamp; natural disasters on the po',\n",
              " 'Unamshow awache kujinga na iko global warming url',\n",
              " 'RT atUser Pranita Biswasi, a Lutheran from Odisha, gives testimony on effects of climate change andamp; natural disasters on the po',\n",
              " 'RT atUser Presidential Candidate DonaldTrump is dangerous on climate change, says monaco s Prince Albert',\n",
              " 'RT atUser Leonardo DiCaprio is climate change documentary is free for a week url\\nINDIGENOUS TAIRP url',\n",
              " 'BeforeTheFlood Watch BeforeTheFlood right here, as atUser travels the world to tackle climate change multiStop  url',\n",
              " 'RT atUser It is vital that the public health community addresses climate change- via atUser Tabola APHA url',\n",
              " 'Bangladesh did not cause climate change, so the country does not need aid; instead it needs compensation for the url',\n",
              " 'RT atUser Watch BeforeTheFlood right here, as atUser travels the world to tackle climate change url htt',\n",
              " 'Now is the time we need a strong FTT that works for those hardest hit by climate change and poverty!',\n",
              " 'RT atUser Reflections on Leonardo DiCaprios new climate change film, BeforeTheFlood url url',\n",
              " 'RT atUser The problem with global warmingand the reason it continues to resist illustration, even as the streets flood and multiStop  h',\n",
              " 'RT atUser One of the easiest ways to help combat climate change in your daily life is to stop eating beef. Here is why',\n",
              " 'RT atUser Watch Leo DiCaprio is climate change doc online for free before the world ends url url',\n",
              " 'RT atUser Here is how climate change will affect sea level rise (and flood cities) as the world warms url',\n",
              " 'RT atUser Watch BeforeTheFlood right here, as atUser travels the world to tackle climate change url htt',\n",
              " 'atUser arseholes could not predict tomorrows weather in a  month heat wave, yet we trust them on climate change! narrr',\n",
              " 'RT atUser Florida,Trump defied Cuba embargoandamp;lied to you about it.Also,he does not believe in climate change which will affect',\n",
              " 'We must combat climate change. Indigenous ppl are protesting for our earth, our water. Yet this happens url',\n",
              " 'National Geographics climate change documentary with Leonardo DiCaprio is now on YouTube url via atUser',\n",
              " 'Everyone should take the time to watch atUser climate change docufilm with Leonardo DiCaprio, time to be about it and stop talking about it',\n",
              " 'BoingBoing Watch Before the Flood, an urgent call to arms about climate change url url',\n",
              " 'RT atUser Watch BeforeTheFlood right here, as atUser travels the world to tackle climate change url htt',\n",
              " 'atUser atUser atUser atUser should we care about the economics when fighting climate change?',\n",
              " 'atUser its like that in alot places now, it is called climate change',\n",
              " 'RT atUser Watch BeforeTheFlood right here, as atUser travels the world to tackle climate change url htt',\n",
              " 'Pentagon video about the future of cities predicts inequality, climate change, scarcity, crumbling infrastructure url',\n",
              " \"RT atUser Leonardo DiCaprio is climate change documentary 'Before the Flood' is now streaming for free on YouTube\",\n",
              " 'RT atUser Watch BeforeTheFlood right here, as atUser travels the world to tackle climate change url htt',\n",
              " 'if not for climate change information, watch Before the Flood because Leonardo DiCaprio',\n",
              " 'RT atUser Niggas asked me what my inspiration was I told them global warming',\n",
              " 'RT atUser Team energy/climate change we should check this out McGgovt atUser atUser atUser atUser https',\n",
              " 'RT atUser global warming real as hell. al gore told us. leo dicaprio keep tryna tell us. its  degrees and its halloween. sumn aint r',\n",
              " 'A web of truths This is how climate change affects more than just the weather. url ad url',\n",
              " 'RT atUser Watch BeforeTheFlood right here, as atUser travels the world to tackle climate change url htt',\n",
              " 'RT atUser Watch BeforeTheFlood right here, as atUser travels the world to tackle climate change url htt',\n",
              " 'RT atUser Watch BeforeTheFlood right here, as atUser travels the world to tackle climate change url htt',\n",
              " \"L'Oreal named as global leader in climate change strategy healthcare comms news url url\",\n",
              " 'RT atUser If climate change goes unchecked, many areas in southern Europe could become deserts. url scary https',\n",
              " 'RT atUser global warming real as hell. al gore told us. leo dicaprio keep tryna tell us. its  degrees and its halloween. sumn aint r',\n",
              " 'RT atUser Did you miss the premier of atUser climate change documentary BeforeTheFlood yesterday? Catch up here andgt;andgt; https',\n",
              " 'atUser atUser I watched it just now. Everybody, esp., world leaders must stand together and act on climate change.',\n",
              " 'RT atUser Watch BeforeTheFlood right here, as atUser travels the world to tackle climate change url htt',\n",
              " 'atUser Im creating a new think tank for climate change, would you join and post your tweet also at url ?',\n",
              " 'RT atUser Watch BeforeTheFlood right here, as atUser travels the world to tackle climate change url htt',\n",
              " \"Nicely said 'Financiers are not philanthropists. But ( multiStop ) allies in the fight against climate change' [in French] url\",\n",
              " 'RT atUser Are we too late to fight climate change? url YearsProject url',\n",
              " 'A remarkable man and his work on climate change is so impressive more people need to see it multiStop  url',\n",
              " \"RT atUser Trump, who once called climate change a hoax by the Chinese, tells Michigan crowd 'I'm an environmentalist.'\",\n",
              " 'RT atUser Here is what happens when an astronaut and an actor start a conversation about climate change',\n",
              " 'RT atUser Watch BeforeTheFlood right here, as atUser travels the world to tackle climate change url htt',\n",
              " \"RT atUser .atUser vows to cancel 'billions' in climate change funds to UN, adds 'I'm an environmentalist' url\",\n",
              " \"RT atUser Trump, who once called climate change a hoax by the Chinese, tells Michigan crowd 'I'm an environmentalist.'\",\n",
              " 'atUser atUser why are not you vegan? meat industry contributes GREATLY to climate change and deforestation!',\n",
              " 'RT atUser Are we too late to fight climate change? url YearsProject url',\n",
              " \"RT atUser .atUser vows to cancel 'billions' in climate change funds to UN, adds 'I'm an environmentalist' url\",\n",
              " \"RT atUser Trump, who once called climate change a hoax by the Chinese, tells Michigan crowd 'I'm an environmentalist.'\",\n",
              " 'RT atUser Watch Leonardo DiCaprio is climate change documentary BeforeTheFlood for free online \\nurl url',\n",
              " 'RT atUser Climate change is widely accepted, but these  global warming effects may still surprise you. url',\n",
              " 'The Mediterranean will become a desert unless global warming is limited to .C',\n",
              " 'It is  and I cannot believe people still do not believe in climate change its effing science.',\n",
              " 'Respecting First Nations sovereignty. Fighting petrocapitalism. Standing up against climate change. Get after it. NoDAPL',\n",
              " 'RT atUser Did you miss the premier of atUser climate change documentary BeforeTheFlood yesterday? Catch up here andgt;andgt; https',\n",
              " 'RT atUser .atUser new climate change film is now streaming url BeforeTheFlood url',\n",
              " 'A huge climate change victory just happened in Rwanda  and few people noticed url url',\n",
              " 'atUser I asked my dad to watch this documentary that just came out on climate change, and legit turned it into a trump vs hillary thing',\n",
              " 'RT atUser When everyone is glad it is  degree weather in October but you cannot stop thinking about global warming url',\n",
              " 'RT atUser me Leo come over\\nLeo i cannot im busy\\nme my friend said global warming is not real\\nLeo url',\n",
              " 'atUser Al Gore, creator of the internet and global warming.',\n",
              " 'RT atUser Prepping for my talk at pasignyc and thinking about how NoDAPL is not just about climate change or water but abou',\n",
              " 'RT atUser Important article on need  not make NoDAPL JUST about climate change thus erasing the struggle for Native rights',\n",
              " 'RT atUser Trend is toward increased acceptance of climate change, but acceptance that it is human-caused is flat. scienceelecti',\n",
              " 'RT atUser Watch BeforeTheFlood right here, as atUser travels the world to tackle climate change url htt',\n",
              " 'Watch on Periscope global warming Winston Neace url',\n",
              " 'atUser yes wrote that in rd yr Comp Sci ethics part. Was told by climate change denying Lecturer that I was wrong andamp; marked down.',\n",
              " 'National Geographic is climate change doc with DiCaprio is on YouTube url',\n",
              " 'RT atUser I do not get why climate change is a political issue when it is clearly a scientific fact.',\n",
              " 'How do ghosts cool their environment and could we use that to combat global warming? funny',\n",
              " 'atUser atUser atUser It is like not believing in global warming. You opposing war does not make the world a peaceful place.',\n",
              " 'RT atUser Watch BeforeTheFlood right here, as atUser travels the world to tackle climate change url htt',\n",
              " 'RT atUser Watch BeforeTheFlood right here, as atUser travels the world to tackle climate change url htt',\n",
              " \"RT atUser IF Millennials do NOT get out and vote we are doomed.This is OUR future.Lets do this.Fixing climate change, womens' rig\",\n",
              " 'RT atUser me Leo come over\\nLeo i cannot im busy\\nme my friend said global warming is not real\\nLeo url',\n",
              " 'atUser AL. I might be related to wright brothers, and i think I just solved global warming. I sent emails to everyone!',\n",
              " ' ways global warming is affecting daily life Lakes disappearing, drinking water supply at risk url via atUser',\n",
              " 'weather Mediterranean to become desert unless global warming limited to .C, study warns  Inhabitat url forecast',\n",
              " 'weather Mediterranean to become desert unless global warming limited to .C, study warns  Inhabitat url forecast',\n",
              " 'RT atUser Watch BeforeTheFlood right here, as atUser travels the world to tackle climate change url htt',\n",
              " \"RT atUser Term 'global warming' was more controversial, among conservatives than 'climate change'. Liberals did not care. sciwri\",\n",
              " 'Watch Leonardo DiCaprio is climate change documentary free for limited time url url',\n",
              " 'RT atUser Will global warming help drive record election turnout? url url',\n",
              " 'Alberta Tories are losing a big issue they have used to attack Notley is approach to climate change. url',\n",
              " 'RT atUser if you do not believe in global warming come to tallahassee rn',\n",
              " \"RT atUser We just entered an alarming 'new era' of global warming url via atUser\",\n",
              " 'RT atUser global warming real as hell. al gore told us. leo dicaprio keep tryna tell us. its  degrees and its halloween. sumn aint r',\n",
              " 'Listen to  years of climate change in one minute - PBS NewsHour url url',\n",
              " 'atUser atUser and with climate change we can expect asteroids to become more frequent and powerful',\n",
              " 'RT atUser Watch BeforeTheFlood right here, as atUser travels the world to tackle climate change url htt',\n",
              " 'RT atUser I swear if it is  degrees on Christmas again I will personally defeat global warming. Revenge is a dish best-served cold',\n",
              " 'RT atUser Watch BeforeTheFlood right here, as atUser travels the world to tackle climate change url htt',\n",
              " 'atUser Im creating a new think tank for climate change, would you join and post your tweet also at url ?',\n",
              " 'Recent pattern of cloud cover may have masked some global warming url',\n",
              " 'Satellites help scientists see forests for the trees amid climate change url via atUser',\n",
              " 'RT atUser Watch BeforeTheFlood right here, as atUser travels the world to tackle climate change url htt',\n",
              " 'RT atUser Listen to  years of climate change in one minute url (via atUser and atUser',\n",
              " 'RT atUser .atUser new climate change film is now streaming url BeforeTheFlood url',\n",
              " 'Satellites help scientists see forests for the trees amid climate change - url url',\n",
              " 'RT atUser global warming real as hell. al gore told us. leo dicaprio keep tryna tell us. its  degrees and its halloween. sumn aint r',\n",
              " 'RT atUser Watch BeforeTheFlood right here, as atUser travels the world to tackle climate change url htt',\n",
              " 'RT atUser this halloween gets a lot scarier when you consider that bc of global warming it is  degrees in October andamp; we are destroy',\n",
              " \"RT atUser Exactly, fixing the economy andamp; addressing climate change w/ an emergency GreenNewDeal IS 'dire,' atUser atUser\",\n",
              " 'RT atUser this halloween gets a lot scarier when you consider that bc of global warming it is  degrees in October andamp; we are destroy',\n",
              " \"RT atUser 'For there not to be a single question on climate change during the debates boggles the mind multiStop ' atUser on debate Q\",\n",
              " 'Is this who we really want to be? A nation with a leader who promotes bigotry, racism, anti-women, anti-journalism, anti-climate change?',\n",
              " 'RT atUser Halloween is ok but if you really wanna get scared watch this new atUser climate change doc with atUser url',\n",
              " 'RT atUser Watch BeforeTheFlood right here, as atUser travels the world to tackle climate change url htt',\n",
              " '% agree with atUser on climate change. The choices in this election look to be  steps backwards,  steps forward, or zero.',\n",
              " 'RT atUser Halloween is ok but if you really wanna get scared watch this new atUser climate change doc with atUser url',\n",
              " ' degrees in StL on last day in October. I am all for this global warming hoax!',\n",
              " \"Y'all still do not believe in global warming SMH url\",\n",
              " 'Everyone must watch BeforetheFlood. Great documentary produced by atUser andamp; his team showing effects of climate change. Eye-opening',\n",
              " 'atUser you do understand that climate change is natural, not necessarily caused by humans. It snowed in Miami, and the atlantic froze',\n",
              " 'Recent pattern of cloud cover may have masked some global warming url',\n",
              " 'Google is being very odd, we know they manipulate search results, but I woke up to a climate change documentary loaded up on YouTube multiStop (/)',\n",
              " 'RT atUser The human cost of climate change is too high. We need to get off fossil fuels and on to renewable energy by  if we ho',\n",
              " 'RT atUser In  days the most ambitious climate change agreement in history enters into force. Have you read ParisAgreement?',\n",
              " 'RT atUser it is the last day of fucking October and it feels like fucking spring smh shout out fucking global warming one time',\n",
              " 'Niggas asked me what my inspiration was l said global warming.',\n",
              " 'RT atUser Watch BeforeTheFlood right here, as atUser travels the world to tackle climate change url htt',\n",
              " 'They ask me my inspiration I tell em global warming, too cozy',\n",
              " 'RT atUser Canada not ready for climate change, report warns url',\n",
              " 'Probably the scariest thing you will watch this Halloween. Leonardo Di Caprio is climate change documentary url',\n",
              " 'RT atUser Watch BeforeTheFlood right here, as atUser travels the world to tackle climate change url htt',\n",
              " 'RT atUser One of the easiest ways to help combat climate change in your daily life is to stop eating beef. Here is why',\n",
              " 'RT atUser this halloween gets a lot scarier when you consider that bc of global warming it is  degrees in October andamp; we are destroy',\n",
              " 'RT atUser Main emitters of greenhouse gas must help vulnerable countries like Madagascar avoid worst effects of climate change htt',\n",
              " 'RT atUser  disgusting side effects of climate change\\nurl',\n",
              " 'RT atUser One of the easiest ways to help combat climate change in your daily life is to stop eating beef. Here is why',\n",
              " 'RT atUser global warming is so real man.',\n",
              " 'RT atUser Recent pattern of cloud cover may have masked some global warming - Ars Technica url',\n",
              " 'RT atUser Watch BeforeTheFlood right here, as atUser travels the world to tackle climate change url htt',\n",
              " 'RT atUser The Dakota Access Pipeline would be a huge blow to our fight against climate change. NoDAPL url',\n",
              " 'RT atUser Watch BeforeTheFlood right here, as atUser travels the world to tackle climate change url htt',\n",
              " 'atUser watching atUser docu. Funny you talk up doing something about climate change yet do nothing on DAPL NoDAPL ClimateAction',\n",
              " \"RT atUser Celeb-packed 'Years of Living Dangerously' wants to make climate change a voting issue url via\",\n",
              " 'RT atUser Using palaeoecological data increases magnitude of predicted plant species response to climate change',\n",
              " 'RT atUser Watch BeforeTheFlood right here, as atUser travels the world to tackle climate change url htt',\n",
              " 'RT atUser In  days the most ambitious climate change agreement in history enters into force. Have you read url',\n",
              " 'atUser  of the benefits of global warming andamp; international terrorism,is that more people are holidaying in England,ill drink to that',\n",
              " 'RT atUser Watch BeforeTheFlood right here, as atUser travels the world to tackle climate change url htt',\n",
              " 'atUser atUser atUser He is hot headed and vindictive. He is pro use of nukes. He thinks climate change is a hoax.',\n",
              " 'Thinking will not stop climate change url',\n",
              " 'RT atUser Trump again vows to cancel the US contribution to the UN climate change program and spend it on clean water and clean air in Am',\n",
              " \"RT atUser If you want to fight climate change, you must fight to StopTPP says atUser ' atUser url url\",\n",
              " 'atUser beforetheflood taught me more about climate change than my entire formal education multiExclamation  insightful and bold multiExclamation ',\n",
              " 'RT atUser Watch BeforeTheFlood right here, as atUser travels the world to tackle climate change url htt',\n",
              " 'Im constantly on the verge of a climate change rampage \\nWE ARE KILLING EARTH PEOPLE WAKE UP',\n",
              " 'RT atUser  globalgoals are directly linked to climate change. The ParisAgreement is crucial to achieve them.',\n",
              " 'atUser Trump wins election andamp; he is now a catalyst for climate change in Wash. No more cush jobs, they will be accountable,nopension',\n",
              " 'RT atUser Happy ! Want to see something truly scary? atUser andamp; atUser made a great documentary about global warming http',\n",
              " 'RT atUser Indian farmers fight against climate change using trees as a weapon\\nurl Agroforestry gaining t',\n",
              " 'RT atUser Everyone needs to watch the incredible BeforetheFlood documentary produced by atUser on climate change',\n",
              " 'Cloudy feedback on global warming - url url global url',\n",
              " 'RT atUser Watch BeforeTheFlood right here, as atUser travels the world to tackle climate change url htt',\n",
              " \"RT atUser .atUser vows to cancel 'billions' in climate change funds to UN, adds 'I'm an environmentalist' url\",\n",
              " 'Canada not ready for climate change, report warns - The Globe and Mail - we have no time url',\n",
              " 'Global Climate Action Agenda at COP\\n\\nGovernments alone cannot solve global warming. Climate change affects us multiStop  url',\n",
              " 'The new atUser andamp; atUser documentary on climate change BeforeTheFlood is on Youtube. url',\n",
              " \"RT atUser What do you think of global warming?\\n\\n'If niggas stopped drivin their moms car all day andamp; got jobs, it would be less smoke in th\",\n",
              " 'RT atUser Canada not ready for climate change University of Waterloo report url',\n",
              " 'RT atUser Watch BeforeTheFlood right here, as atUser travels the world to tackle climate change url htt',\n",
              " 'RT atUser If everyone who tweets about halloween tweeted about genuinely terrifying things like climate change andamp; overfishing',\n",
              " 'RT atUser Damn I wish global warming was this good when I was a kid so I coulda trick or treated in  degree weather',\n",
              " 'RT atUser .atUser is right to highlight the vital importance of upland peat in climate change. Depressingly she is dismi',\n",
              " 'The worst thing about global warming is it allows people to wear flip-flops in public later on into the year.',\n",
              " 'atUser  minutes of debate time, zero questions on climate change or education policy. ISIS! Emails! NAFTA!',\n",
              " 'RT atUser One of the easiest ways to help combat climate change in your daily life is to stop eating beef. Here is why',\n",
              " 'RT atUser Watch BeforeTheFlood right here, as atUser travels the world to tackle climate change url htt',\n",
              " 'Company directors to face penalties for ignoring climate change auspol politicians should too url',\n",
              " 'RT atUser Coffee must adapt to climate change and requires industry wide coordination. url',\n",
              " 'RT atUser Watch BeforeTheFlood right here, as atUser travels the world to tackle climate change url htt',\n",
              " 'RT atUser Watch BeforeTheFlood right here, as atUser travels the world to tackle climate change url htt',\n",
              " \"RT atUser Harrowing read about the relentless pursuit of CSG in Australia - 'Australia isnt tackling climate change, we\",\n",
              " 'If global warming continues at the current pace it will change the Mediterranean regi  multiStop  Tattoos Funny DIY url',\n",
              " 'RT atUser Lake response to climate change water clarity may be as imp as air temp. New in Landamp;O Letters atUser atUser',\n",
              " 'RT atUser Saving forests is crucial to fighting climate change. WWF is Josefina Braa-Varela blogs for BeforetheFlood url',\n",
              " 'atUser for president multiStop  now he just needs to realize the reality of climate change amongst a few other things ivoted',\n",
              " 'RT atUser Watch BeforeTheFlood right here, as atUser travels the world to tackle climate change url htt',\n",
              " 'stp with the global climate change, put your efforts toward selling the sizzel EV is and PV is the key is more homes with solar solarchat',\n",
              " 'Leo is climate change documentary is so epic. He is amazing.',\n",
              " 'Canada not ready for catastrophic effects of climate change, report warns The report graded each province an multiStop  url',\n",
              " 'RT atUser Heres what you need to know about Leonardo DiCaprios climate change film. url',\n",
              " 'RT atUser Company directors to face penalties for ignoring climate change auspol politicians should too url',\n",
              " 'RT atUser Watch BeforeTheFlood right here, as atUser travels the world to tackle climate change url htt',\n",
              " 'RT atUser Before the Flood was not perfect documentary but it got the message right America is not doing enough to fight climate change #',\n",
              " 'RT atUser Heres what you need to know about Leonardo DiCaprios climate change film. url',\n",
              " 'RT atUser  globalgoals are directly linked to climate change. The ParisAgreement is crucial to achieve them.',\n",
              " 'RT ClimateReality Clean energy proves there are real, solid solutions to climate change that make economic sense! url',\n",
              " 'RT atUser  globalgoals are directly linked to climate change. The ParisAgreement is crucial to achieve them.',\n",
              " 'RT atUser Uncoupling emissions growth and economic expansion is important for slowing climate change url https',\n",
              " 'RT atUser People who denounce climate change be like url',\n",
              " 'RT atUser Uncoupling emissions growth and economic expansion is important for slowing climate change url https',\n",
              " 'RT atUser atUser atUser Florida you need Dems in office to get things done with climate change! VoteBlueNoMatt',\n",
              " 'RT atUser Watch BeforeTheFlood right here, as atUser travels the world to tackle climate change url htt',\n",
              " 'RT atUser Stream Before the Flood, a new film about climate change by atUser andamp; Fisher Stevens, for free. url',\n",
              " 'RT atUser Canada not ready for catastrophic effects of climate change, report warns url',\n",
              " 'Clouds are impeding global warming for now \\n\\nLawrence Livermore National Laboratory researchers have id multiStop  url',\n",
              " 'Halloween is ok but if you really wanna get scared watch the new atUser climate change doc with atUser url',\n",
              " 'RT atUser Trump again vows to cancel the US contribution to the UN climate change program and spend it on clean water and clean air in Am',\n",
              " 'That climate change story you have always wanted to tell? \\nNow is the time. ClimateAction Film Contest. url',\n",
              " 'RT atUser One of the easiest ways to help combat climate change in your daily life is to stop eating beef. Here is why',\n",
              " 'ClimateChange CC Polar vortex shifting due to climate change, extending winter, study  multiStop  url UniteBlue Tcot (',\n",
              " 'RT atUser Watch Leonardo DiCaprio is climate change doc BeforeTheFlood for free online url url',\n",
              " 'RT atUser polar bears for global warming. url',\n",
              " 'RT atUser So proud of Leo Decapriro hard work on climate change, I believe it is part of his destiny, I believe we are in a cri',\n",
              " 'Before the Flood - National Geographic - Join Leonardo DiCaprio as he explores the topic of climate change.\\nurl',\n",
              " 'RT atUser Watch BeforeTheFlood right here, as atUser travels the world to tackle climate change url htt',\n",
              " 'atUser climate change is not the only thing of importance going on in the world. Role of govt is not to try to be the sun.',\n",
              " 'RT atUser Will global warming help drive record election turnout? url url',\n",
              " 'RT atUser  globalgoals are directly linked to climate change. The ParisAgreement is crucial to achieve them.',\n",
              " 'Fuck all the people who do not believe in global warming it is real and we need to actually need to pay attention to it',\n",
              " 'RT atUser The Dakota Access Pipeline would be a huge blow to our fight against climate change. NoDAPL url',\n",
              " 'If scientists cannot convince the US that climate change is real, how can its citizens convince eachother to change?',\n",
              " 'RT atUser Watch BeforeTheFlood right here, as atUser travels the world to tackle climate change url htt',\n",
              " 'Adapting to climate change multiStop  url',\n",
              " 'RT atUser Watch BeforeTheFlood right here, as atUser travels the world to tackle climate change url htt',\n",
              " 'We do not need to be an indigenous person to show support. Its time to treat the NATIVE right and take climate change seriously NoDAPL',\n",
              " 'RT atUser .atUser BeforetheFlood on atUser tonight puts focus on reality of climate change andamp; need for action. htt',\n",
              " 'atUser Be sure to personally invite me to this like you said you did at the climate change forum. Never got it url',\n",
              " 'RT atUser atUser Will do further research on this and get back to you. Still even with this, climate change is real andamp; so is',\n",
              " 'RT atUser This is what it is like to be a young climate scientist in the age of climate change url url',\n",
              " 'Join LeoDiCaprio as he searches for answers on the issue of climate change. BeforeTheFlood starts now! url',\n",
              " 'RT atUser Join atUser as he searches for answers on the issue of climate change. BeforeTheFlood starts now! url',\n",
              " 'RT atUser everyone turn on your TVs to Nat Geo and watch atUser Before the Flood multiExclamation  climate change is such an important iss',\n",
              " 'atUser Im creating a new think tank for climate change, would you join and post your tweet also at url ?',\n",
              " 'This whole global warming thing really is unfortunate multiStop ',\n",
              " 'RT atUser Innocent babes not getting tattooed, still branded children of the climate change era. Birthmark url',\n",
              " 'RT atUser You can watch Leonardo DiCaprio is climate change documentary right here url url',\n",
              " 'Listen to  years of climate change in one minute url',\n",
              " 'RT atUser Watch BeforeTheFlood right here, as atUser travels the world to tackle climate change url htt',\n",
              " 'RT atUser Watch BeforeTheFlood right here, as atUser travels the world to tackle climate change url htt',\n",
              " 'atUser the main goal is to protect species from over fishing and allow them to repopulate, not to protect them from global warming',\n",
              " 'RT atUser Photographer atUser raises awareness for victims of climate change with epic shoot on a bed of lava',\n",
              " 'My little Owlette saved halloween, the election, climate change, and negativity. She is SO SPECIAL multiExclamation  url',\n",
              " 'RT atUser Watch BeforeTheFlood right here, as atUser travels the world to tackle climate change url htt',\n",
              " 'I want this but I live in Texas and every season is now global warming url',\n",
              " 'RT atUser Important article on need  not make NoDAPL JUST about climate change thus erasing the struggle for Native rights',\n",
              " 'Remember when Trump bragged about committing sexual assault, disregarded the Geneva conventions, and called climate change a hoax?',\n",
              " 'RT atUser Meet atUser who is leading a charge against climate change with GenerationRYSE url https//',\n",
              " 'atUser Im creating a new think tank for climate change, would you join and post your tweet also at url ?',\n",
              " \"RT atUser Talked about climate change/adaptation w/ the first-year engineers today. Said not an envt'l issue; rather it will affect\",\n",
              " 'Lois Barber Nuclear weapons, climate change reasons to back Clinton Trump has called for a huge military bu multiStop  url',\n",
              " 'If you have not watched this yet you really need to. climate change is only going to get worse. url',\n",
              " 'And people say global warming does not exist. So that is why we have summer weather in fall right? Okay.\\n\\n url',\n",
              " 'Nigga asked me what is my inspiration I said global warming',\n",
              " 'RT atUser Join atUser as he searches for answers on the issue of climate change. BeforeTheFlood starts now! url',\n",
              " 'That is crazy that some politicians still do not believe in global warming.',\n",
              " 'atUser I doubt this would work. Plus it added more to existing pollution levels and worsened global warming',\n",
              " 'Polar bears for global warming. Fish for water pollution. url',\n",
              " 'Americans are even less worried about Russia than climate change.',\n",
              " 'RT atUser Stream Before the Flood, a new film about climate change by atUser andamp; Fisher Stevens, for free. url',\n",
              " 'RT atUser Americans are even less worried about Russia than climate change.',\n",
              " 'ClimateChange For New York, climate change is an immediate existential threat. url',\n",
              " 'RT atUser Americans are even less worried about Russia than climate change.',\n",
              " 'RT atUser Americans are even less worried about Russia than climate change.',\n",
              " \"RT atUser It is almost  degrees outside on Halloween and some of y'all are still denying the legitimacy of global warming \",\n",
              " 'RT atUser  globalgoals are directly linked to climate change. The ParisAgreement is crucial to achieve them.',\n",
              " 'RT atUser Americans are even less worried about Russia than climate change.',\n",
              " 'RT atUser Americans are even less worried about Russia than climate change.',\n",
              " 'RT atUser .atUser new climate change film is now streaming url BeforeTheFlood url',\n",
              " 'RT atUser Very good, impactful doc from atUser got to take big steps for a positive climate change climatechange url',\n",
              " 'RT atUser When you know this unusually warm weather in October is due to global warming and climate change but you still kind',\n",
              " 'atUser thank you for the eye opening documentary. If you want a real and true portrait of climate change watch BeforeTheFlood NOW multiExclamation ',\n",
              " 'RT atUser Join atUser as he searches for answers on the issue of climate change. BeforeTheFlood starts now! url',\n",
              " 'RT atUser This is what it is like to be a young climate scientist in the age of climate change url url',\n",
              " 'RT atUser Watch BeforeTheFlood right here, as atUser travels the world to tackle climate change url htt',\n",
              " 'Polar vortex shifting due to climate change, extending winter, study finds\\n url',\n",
              " 'RT atUser Watch Leonardo DiCaprio is climate change doc BeforeTheFlood for free online url url',\n",
              " 'RT atUser watching the leo dicaps climate change doc n waiting for him to vape a huge blueberry flavoured cloud into our gd atmos',\n",
              " 'SDG is a call to take urgent action to combat climate change and its impacts. Join the movement url',\n",
              " 'atUser Its global warming multiStop ',\n",
              " \"I'm not even ready to watch Before the Flood bc it is gonna make me hella emotional andamp; angry at people for not caring about global warming\",\n",
              " \"RT atUser Why do not you fucking global warming idiots just go away,! Get a real job for a change'.\",\n",
              " 'Watching Bill Nye the Science Guy special on climate change. One dude just leaves us  more years to survive. Doomed',\n",
              " 'Will global warming help drive record election turnout? by atUser url',\n",
              " 'RT atUser There a lot of things I do not agree with that I will not call you a goose for but if you do not believe climate change is a',\n",
              " 'RT atUser polar bears for climate change url',\n",
              " 'RT atUser Watch BeforeTheFlood right here, as atUser travels the world to tackle climate change url htt',\n",
              " 'RT atUser Watch BeforeTheFlood right here, as atUser travels the world to tackle climate change url htt',\n",
              " 'Supreme Court, building on healthcare, climate change multiStop ButHillarysEmails',\n",
              " 'RT atUser Watch BeforeTheFlood right here, as atUser travels the world to tackle climate change url htt',\n",
              " 'RT atUser Need bedtime reading? Our modeling paper on the effects of realistic climate change on food webs is out! url',\n",
              " 'RT atUser Americans are even less worried about Russia than climate change.',\n",
              " 'RT atUser For the good of the planet a series of four courses on local actions for climate change. url url',\n",
              " 'RT atUser Transnational climate change impacts An entry point to enhanced global cooperation on adaptation?',\n",
              " 'RT atUser Watch BeforeTheFlood right here, as atUser travels the world to tackle climate change url htt',\n",
              " 'atUser is this climate change or just weather?',\n",
              " 'RT atUser Watch BeforeTheFlood right here, as atUser travels the world to tackle climate change url htt',\n",
              " 'Halloween is ok but if you really wanna get scared watch atUser new climate change doc with atUser url',\n",
              " 'RT atUser Watch BeforeTheFlood right here, as atUser travels the world to tackle climate change url htt',\n",
              " 'Leo DiCaprio whining about his future kids not being able to see snow when the best way to stop climate change is to not have kids. ',\n",
              " 'RT atUser Did you miss the premier of atUser climate change documentary BeforeTheFlood yesterday? Catch up here andgt;andgt; https',\n",
              " 'National Geographics climate change documentary with Leonardo DiCaprio is now on YouTube url via thenextweb',\n",
              " 'RT atUser In  days the most ambitious climate change agreement in history enters into force. Have you read ParisAgreement?',\n",
              " 'Glaciers for global warming url',\n",
              " 'atUser atUser atUser sister, and his views on the pipelines, climate change issues is endgame for me. I cannot do it.',\n",
              " 'A must watch documentary on global warming. url',\n",
              " 'RT atUser friendly reminder that its still hot this time of year bc of global warming brought on by people and possibly even repti',\n",
              " 'RT atUser NationalGeographics climate change documentary with LeonardoDiCaprio is now on YouTube! url',\n",
              " 'In the end of October CAREC experts on climate change and sustainable energy met with Nazarbayev Universitys team url',\n",
              " 'Highly recommend BeforeTheFlood documentary on climate change for a truly terrifying wake up call this Halloween. url',\n",
              " 'Top university stole millions from taxpayers by faking global warming research url earthfirst url',\n",
              " 'RT atUser Happy ! Want to see something truly scary? atUser andamp; atUser made a great documentary about global warming http',\n",
              " 'RT atUser Americans are even less worried about Russia than climate change.',\n",
              " 'RT atUser Numinipis na ang yelo sa Arctic Circle, pati si Santa nangangayayat na. Nakakatakot talaga ang global warming url',\n",
              " 'RT atUser Reflections on Leonardo DiCaprios new climate change film, BeforeTheFlood url url',\n",
              " 'RT atUser Watch BeforeTheFlood right here, as atUser travels the world to tackle climate change url htt',\n",
              " 'RT atUser If everyone who tweets about halloween tweeted about genuinely terrifying things like climate change andamp; overfishing',\n",
              " 'RT atUser Me Thank you.\\nSubaru (clapping)\\nAikomi\\nAikomi The presentation was supposed to be on global warming, not why you hate',\n",
              " 'RT atUser  globalgoals are directly linked to climate change. The ParisAgreement is crucial to achieve them.',\n",
              " 'RT atUser Here is how climate change will affect sea level rise (and flood cities) as the world warms url',\n",
              " 'RT atUser Not a single question about climate change in all  debates. Sad. No, really - sad.',\n",
              " 'RT atUser Watch BeforeTheFlood right here, as atUser travels the world to tackle climate change url htt',\n",
              " 'RT atUser  ways climate change is affecting our oceans. url',\n",
              " 'RT atUser Americans are even less worried about Russia than climate change.',\n",
              " 'RT atUser Americans are even less worried about Russia than climate change.',\n",
              " 'Amplified plant turnover in response to climate change forecast by Late Quaternary records url',\n",
              " 'RT atUser Watch BeforeTheFlood right here, as atUser travels the world to tackle climate change url htt',\n",
              " 'RT atUser The Dakota Access Pipeline would be a huge blow to our fight against climate change. NoDAPL url',\n",
              " 'Recent pattern of cloud cover may have masked some global warming Theres a deceptively simple number at the multiStop  url',\n",
              " 'Recent pattern of cloud cover may have masked some global warming Theres a deceptively simple number at the multiStop  url',\n",
              " 'Keynote Modeling impacts of climate change- what are information needs? Tim Carter Finnish Env Institute SASAS url',\n",
              " 'RT atUser Watch BeforeTheFlood right here, as atUser travels the world to tackle climate change url htt',\n",
              " \"RT atUser It is freezing outside, where the hell is 'global warming' multiQuestion \",\n",
              " 'Soils help to combat and adapt to climate change by playing a key role in the carbon cycle url via atUser',\n",
              " 'RT atUser Polar vortex shifting due to climate change, extending winter, study finds - The Washington Post url',\n",
              " 'GoogleHow Margaret Thatcher helped protect the world from climate change - CityMetric url',\n",
              " 'atUser That is right. Aqueduct has an indoor studio. With climate change we can expect more aberrations at Belmont in the future.',\n",
              " 'atUser atUser why do people defend the leading cause of climate change, deforestation, pollution etc get over it it is meat',\n",
              " 'RT atUser Here is how climate change will affect sea level rise (and flood cities) as the world warms url',\n",
              " 'RT atUser National Geographics climate change documentary with Leonardo DiCaprio is now on YouTube url url',\n",
              " \"RT atUser 'The small island nations that contribute the least to the process of climate change are going to feel the worst ef\",\n",
              " 'In rare move, China criticizes Trump plan to exit climate change pact url Politics News',\n",
              " 'Leonardo DiCaprio is documentary on climate change slays!  Give it a watch on YouTube!',\n",
              " 'RT atUser In rare move, China criticizes Trump plan to exit climate change pact url',\n",
              " 'Reuters In rare move, China criticizes Trump plan to exit climate change pact BEIJING (Reuters multiStop  url environment',\n",
              " 'RT atUser In rare move, China criticizes Trump plan to exit climate change pact url via atUser',\n",
              " 'In rare move, China criticises Trump plan to exit climate change pact url',\n",
              " 'NatGeos climate change documentary with Leonardo DiCaprio is now on YouTube url by jokoanwar via atUser',\n",
              " 'RT atUser .atUser is right to highlight the vital importance of upland peat in climate change. Depressingly she is dismi',\n",
              " 'RT atUser One of the easiest ways to help combat climate change in your daily life is to stop eating beef. Here is why',\n",
              " 'RT atUser In rare move, China criticizes Trump plan to exit climate change pact url',\n",
              " 'RT atUser jiyong girls are so hot\\njiyong guys are hot too oh damn\\njiyong why is everyone so hot\\ndaesung global warming.',\n",
              " 'Are we ready to take the necessary steps to reduce climate change through revolutionary energy evolution? COP',\n",
              " 'RT atUser Watch BeforeTheFlood right here, as atUser travels the world to tackle climate change url htt',\n",
              " 'RT atUser .atUser BeforetheFlood on atUser tonight puts focus on reality of climate change andamp; need for action. htt',\n",
              " 'BeforeTheFlood a documentary on climate change url url',\n",
              " 'RT atUser The concept of global warming was created by and for the Chinese in order to make U.S. manufacturing non-competitive.',\n",
              " 'RT atUser Fantastic Beasts Our secret weapon in combating man-made climate change  animals climatechange animals',\n",
              " 'RT atUser Sea turtles have been around for  million years but the pace of climate change is an existential challenge.',\n",
              " 'Reuters In rare move, China criticizes Trump plan to exit climate change pact url url',\n",
              " 'RT atUser In rare move, China criticizes Trump plan to exit climate change pact url url',\n",
              " 'Indian farmers fight against climate change using trees as a weapon url',\n",
              " 'RT atUser Aus bus complicit in The Big Lie. Not poss to save Reef without tackling global warming atUser atUser ht',\n",
              " 'In rare move, China criticises Donald Trump plan to exit climate change pact Donald Trump has threatened to  multiStop  url',\n",
              " 'RT atUser Watch BeforeTheFlood right here, as atUser travels the world to tackle climate change url htt',\n",
              " 'RT atUser In rare move, China criticizes Trump plan to exit climate change pact url url',\n",
              " 'atUser atUser atUser blast caused by cow farts global warming and HRCs hot lying air',\n",
              " \"Meet the unopposed Assembly candidate who says climate change is a good thing that hurts 'enemies on the equator' url\",\n",
              " \"Meet the unopposed Assembly candidate who says climate change is a good thing that hurts 'enemies on the equator' url\",\n",
              " \"Polar vortex shifting due to climate change, extending winter, study\\n- 'idea multiStop controversial'\\nurl\",\n",
              " 'RT atUser Watch BeforeTheFlood right here, as atUser travels the world to tackle climate change url htt',\n",
              " 'RT atUser In rare move, China criticizes Trump plan to exit climate change pact url url',\n",
              " 'Endangered, with climate change to blame - High Country News url',\n",
              " 'If you think climate change is a figment of your imagination watch this \\nurl',\n",
              " 'RT atUser Uncoupling emissions growth and economic expansion is important for slowing climate change url https',\n",
              " 'Indian farmers fight against climate change using trees as a weapon\\n\\nurl',\n",
              " 'RT atUser Did you miss the premier of atUser climate change documentary BeforeTheFlood yesterday? Catch up here andgt;andgt; https',\n",
              " 'RT atUser Fiduciary duties of directors andamp; trustees post Paris COP ratification re climate change, a clear legal risk url',\n",
              " 'RT atUser Commonwealth brainstorms on climate change reversal url climatechange commonwealth url',\n",
              " 'RT atUser You can now watch Leonardo DiCaprios climate change doc online for free url url',\n",
              " 'Lisbon will likely be in the middle of a desert by  if we do not mitigate climate change url via atUser',\n",
              " 'In rare move, China criticises Trump plan to exit climate change pact Trump has threaten multiStop  url pakistan business',\n",
              " 'RT atUser The ocean is losing its breath  and climate change is making it worse url atUser',\n",
              " 'RT atUser In rare move, China criticizes Trump plan to exit climate change pact url url',\n",
              " 'Halloween costumes and race and climate change url',\n",
              " 'RT atUser In rare move, China criticizes Trump plan to exit climate change pact url url',\n",
              " 'RT atUser Cloudy feedback on global warming news tech science url url',\n",
              " 'We need to educate local communities about climate change andamp; local strategies to tackle it- Mr Mungwe. atUser atUser atUser',\n",
              " \"atUser no paying taxes, give USA away for Putin, investment from China, sexual assaults,stupid 'bout climate change will make us sink\",\n",
              " \"atUser You need to watch Nat Geo is 'Before the Flood' with Leonardo DiCaprio. The most shocking and inspiring film on climate change.\",\n",
              " 'RT atUser Watch BeforeTheFlood right here, as atUser travels the world to tackle climate change url htt',\n",
              " 'RT atUser  globalgoals are directly linked to climate change. The ParisAgreement is crucial to achieve them.',\n",
              " 'Man has no significant effect on climate! Hence the name change from global warming hoax to climate change hoax! url',\n",
              " 'RT atUser Minister is Op-Ed on Protecting the GreatBarrierReef. No mention of tackling climate change. url',\n",
              " \"RT atUser Great piece 'Building against climate change can either support vibrant neighborhood conditions or undermine them' h\",\n",
              " 'RT atUser Watch BeforeTheFlood right here, as atUser travels the world to tackle climate change url htt',\n",
              " 'RT atUser In rare move, China criticizes Trump plan to exit climate change pact url url',\n",
              " 'China on Tuesday rejected a plan by Donald Trump to back out of a global climate change pact.',\n",
              " 'Rest assured, wine lovers, your favourite tipple will adapt to climate change url',\n",
              " 'RT atUser Puffles (*notes*) Home Builders Federation try to strike CC/ on mitigation andamp; climate change from atUser plan https/',\n",
              " 'RT atUser Finding ways to handle climate change Israeli scientists create heat resistant fruit trees url',\n",
              " 'How a rapper is tackling climate change - Deutsche Welle Deutsche WelleHow a rapper is tackling climate chan multiStop  url',\n",
              " \"RT atUser Russia a 'growing threat' say MI. Not up for discussion tangible threats such as climate change, austerity, fore\",\n",
              " 'RT atUser Political jibberish does not outweigh the fact that climate change is already beginning to damage world economies. Electio',\n",
              " 'In rare move, China criticizes Trump plan to exit climate change pact - CNBC url',\n",
              " 'RT atUser You can watch Leonardo DiCaprio is climate change documentary for free on YouTube url via',\n",
              " 'RT atUser Watch BeforeTheFlood right here, as atUser travels the world to tackle climate change url htt',\n",
              " 'RT atUser Weve announced the creation of a new expert panel to help scrutinise atUser progress on climate change https//',\n",
              " 'RT atUser Watch BeforeTheFlood right here, as atUser travels the world to tackle climate change url htt',\n",
              " 'RT atUser In rare move, China criticizes Trump plan to exit climate change pact url url',\n",
              " 'RT atUser In rare move, China criticizes Trump plan to exit climate change pact url url',\n",
              " 'RT atUser Watch BeforeTheFlood right here, as atUser travels the world to tackle climate change url htt',\n",
              " 'Low Carbon Economy Index  UK maintains its position as a climate change leader - Press room url',\n",
              " 'Makes a free movie to raise awareness about climate change url GAG',\n",
              " 'In rare move, China criticizes Trump plan to exit climate change pact url via atUser carbon economy Politics',\n",
              " 'Video lecture the crisis in Syria and role of climate change url',\n",
              " 'RT atUser Breaking In rare move, China criticizes Trump plan to exit climate change pact - CNBC url',\n",
              " 'RT atUser Commonwealth drives strategies to put climate change into reverse url',\n",
              " 'Makes a free movie to raise awareness about climate change url',\n",
              " 'RT atUser Globally, women are often more vulnerable to the effects of climate change than men url',\n",
              " 'atUser You might mention that Hilary Clinton strongly endorses science and believes climate change is real.',\n",
              " 'China Briefing China acting on climate change url provides the full transcript of the S multiStop  url',\n",
              " 'Looking forward to ssnconf tomorrow? Us too! Get in the climate change mood with our new newsletter MORE andgt;andgt; url',\n",
              " 'Been watching BeforeTheFlood this evening, I hope it helps inspire people to act to stop climate change - now! url',\n",
              " 'In rare move, China criticizes Trump plan to exit climate change pact\\n\\nChina on Tuesday rejected a plan by Donald T url',\n",
              " 'In rare move, China criticizes Trump plan to exit climate change pact url via atUser climatechange china',\n",
              " 'RT atUser climatechange p RT Endangered, with climate change to blame. url COP COP climate',\n",
              " 'RT atUser In rare move, China criticizes Trump plan to exit climate change pact url url',\n",
              " 'RT atUser Watch BeforeTheFlood right here, as atUser travels the world to tackle climate change url htt',\n",
              " 'How a rapper is tackling climate change - Deutsche Welle url url Bluehand NewBluehand Bluehand',\n",
              " 'RT atUser Watch BeforeTheFlood right here, as atUser travels the world to tackle climate change url htt',\n",
              " 'weather Cloudy feedback on global warming  url  url url forecast',\n",
              " 'RT atUser In rare move, China criticizes Trump plan to exit climate change pact url via atUser',\n",
              " 'RT atUser Polar vortex shifting due to climate change, extending winter, study finds url',\n",
              " 'atUser im telling u obama is behind it cuz global warming issues.  in matter of weeks. We have never had this url',\n",
              " 'Indian farmers fight against climate change using trees as a weapon url',\n",
              " \"Deny climate change\\n'I pay my taxes' (but probably not) url\",\n",
              " 'RT atUser NatGeos climate change documentary with Leonardo DiCaprio is now on YouTube url',\n",
              " \"RT atUser IF Millennials do NOT get out and vote we are doomed.This is OUR future.Lets do this.Fixing climate change, womens' rig\",\n",
              " \"RT atUser We do not need a 'war on climate change, we need a revolution url\",\n",
              " 'RT atUser Startling images from around the globe help us hone in on climate change url url',\n",
              " 'RT atUser Discourse around NoDAPL should focus on how Native ppl have the right to defend themselves. Not just climate change htt',\n",
              " \"RT atUser Tomorrow is Nov. st and it is suppose to be in the s but global warming is not a thing y'all. No need to worry. It is fine\",\n",
              " 'In rare move, China criticizes Trump plan to exit climate change pact url via atUser',\n",
              " 'RT atUser Thank you, atUser for this film andamp; continuing to raise awareness about climate change. url',\n",
              " 'RT atUser In rare move, China criticizes Trump plan to exit climate change pact url url',\n",
              " 'In rare move, China criticizes Trump plan to exit climate change pact url url',\n",
              " 'st November multiQuestion \\nSurely no such thing as global warming url',\n",
              " 'RT atUser In rare move, China criticizes Trump plan to exit climate change pact url url',\n",
              " \"RT atUser i am glad you asked multiStop \\n\\n'e-mail' mentions on cable news since Fri ,\\n'climate change' mentions on cable since Fr\",\n",
              " \"RT atUser i am glad you asked multiStop \\n\\n'e-mail' mentions on cable news since Fri ,\\n'climate change' mentions on cable since Fr\",\n",
              " 'RT atUser NEW brief Transnational climate change impacts Entry point to enhanced global cooperation on adaptation? UNFCCC',\n",
              " 'RT atUser NEW brief Transnational climate change impacts Entry point to enhanced global cooperation on adaptation? UNFCCC',\n",
              " \"RT atUser i am glad you asked multiStop \\n\\n'e-mail' mentions on cable news since Fri ,\\n'climate change' mentions on cable since Fr\",\n",
              " 'RT atUser  degrees in Chicago on November st multiStop global warming but aye it is bussin',\n",
              " \"RT atUser i am glad you asked multiStop \\n\\n'e-mail' mentions on cable news since Fri ,\\n'climate change' mentions on cable since Fr\",\n",
              " 'What if this is the angle with which we can create a coherent response to climate change?',\n",
              " 'RT atUser Watch BeforeTheFlood right here, as atUser travels the world to tackle climate change url htt',\n",
              " 'atUser atUser\\npress. Clinton emails. Trump calls global warming a chinese hoax. Clinton emails. Trump praises Putin and',\n",
              " 'RT atUser In rare move, China criticizes Trump plan to exit climate change pact url url',\n",
              " 'RT atUser .atUser BeforetheFlood on atUser tonight puts focus on reality of climate change andamp; need for action. htt',\n",
              " 'RT atUser US Election  week to go. Read the latest research on climate change, the economy, education and more url',\n",
              " 'Cartoon If the media covered climate change the way it covers Hillarys email url Voices Ne url',\n",
              " 'Hilary should appoint Barak and Matt atUser to handle climate change.',\n",
              " 'RT atUser Watch BeforeTheFlood right here, as atUser travels the world to tackle climate change url htt',\n",
              " 'RT atUser In rare move, China criticizes Trump plan to exit climate change pact url url',\n",
              " 'atUser atUser meaning the climate change pact likely has massive kickbacks for China',\n",
              " 'RT atUser Cartoon If the media covered climate change the way it covers Hillary is email url url',\n",
              " \"RT atUser i am glad you asked multiStop \\n\\n'e-mail' mentions on cable news since Fri ,\\n'climate change' mentions on cable since Fr\",\n",
              " 'RT atUser Watch BeforeTheFlood right here, as atUser travels the world to tackle climate change url htt',\n",
              " 'A high of  today the first day of November yep global warming is fake',\n",
              " \"RT atUser i am glad you asked multiStop \\n\\n'e-mail' mentions on cable news since Fri ,\\n'climate change' mentions on cable since Fr\",\n",
              " 'RT atUser MYTH you have to be a certain type of person to care about climate change. url url vi',\n",
              " 'RT atUser MYTH you have to be a certain type of person to care about climate change. url url vi',\n",
              " 'In rare move, China criticizes Trump plan to exit climate change pact',\n",
              " \"RT atUser 'Asked me what my inspiration was, I said global warming.' youtoofuckingcozy\",\n",
              " '.atUser Trump does not believe in global warming, CHINA is even telling him he is wrong',\n",
              " 'RT atUser On November , this small town might do something no other city has done on climate change url',\n",
              " 'RT atUser .atUser climate change documentary BeforeTheFlood is streaming online right now url  url',\n",
              " 'RT atUser Watch BeforeTheFlood right here, as atUser travels the world to tackle climate change url htt',\n",
              " 'RT atUser  degrees in November but global warming is not real, liberals ',\n",
              " 'I clicked to stop global warming atUser url',\n",
              " 'RT atUser Hillary understands climate change is real and creating devastating problems. Trump believes we should expand fossil fue',\n",
              " 'RT atUser Obama administration outlines path for climate change resiliency. url',\n",
              " 'RT atUser What is the ratio of email coverage to coverage of Trump and Clinton is climate change policies? Has to be  to . ht',\n",
              " 'RT atUser Watch BeforeTheFlood right here, as atUser travels the world to tackle climate change url htt',\n",
              " \"RT atUser 'Polar bears do not have any natural enemies, so if it dies, it is from starvation' \\nThis is for the 'global warming\",\n",
              " \"RT atUser Celeb-packed 'Years of Living Dangerously' wants to make climate change a voting issue url via\",\n",
              " \"RT atUser Great read Indian farmers fight against climate change using 'secret' weapon Trees url\",\n",
              " 'Cartoon If the media covered climate change the way it covers Hillary is email url',\n",
              " 'Watch Leo DiCaprio talk climate change with Elon Musk, the Pope and the president - MarketWatch url environment',\n",
              " 'RT atUser The effect of climate change on the food chain is huge  url animals biodiversity species https',\n",
              " 'RT atUser When youre enjoying the warm weather but you lowkey know its because of global warming url',\n",
              " 'RT atUser Appetite for oil and gas will continue to grow despite efforts to curb climate change, says Saudi energy minister url',\n",
              " 'RT atUser Via atUser Cartoon If the media covered climate change the way it covers Hillary is email As many ha multiStop  url',\n",
              " 'Time for Christmas music multiStop but global warming will not let me get in the mood',\n",
              " 'November  the high is  and the dude running for president does not think global warming is real',\n",
              " 'RT atUser AHSS How do you plan on convincing citizens that climate change is real andamp; an important issue atUser atUser',\n",
              " 'Green News How a rapper is tackling climate change url',\n",
              " 'Cartoon If the media covered climate change the way it covers Hillary is email url',\n",
              " 'atUser I hope global warming keeps it  and sunny in southern florida for the rest of our lives.',\n",
              " 'wow,  degrees in November?! this is global warming at its finest',\n",
              " 'RT atUser Watch BeforeTheFlood right here, as atUser travels the world to tackle climate change url htt',\n",
              " 'In rare move, China criticizes Trump plan to exit climate change pact url via atUser climatechange',\n",
              " 'In rare move, China criticizes Trump plan to exit climate change pact url via atUser',\n",
              " 'RT atUser It is November st and the high is . The next person to tell me global warming is a myth better be prepared to catch h',\n",
              " 'In rare move, China criticizes Trump plan to exit climate change pact url via atUser',\n",
              " 'RT atUser Appetite for oil and gas will continue to grow despite efforts to curb climate change, says Saudi energy minister url',\n",
              " 'RT atUser Polar vortex shifting due to climate change, extending winter, study finds url',\n",
              " 'RT atUser Before the Flood Watch this riveting, terrifying documentary on climate change url url',\n",
              " 'Th teaser for GUILT TRIP\\na climate change film with a skiing problem is dropping today. \\nThe url',\n",
              " 'atUser atUser And says climate change is a hoax. This will ensure America will be the bully that destroys earth. ',\n",
              " 'RT atUser Planet Earth has power. It does not ask climate change, real? But it asks what is this marvelous world worth to you? https//',\n",
              " 'Vicki Cobb The Cheeseburger of the Forest Evidence of Global Warming For the climate change url | atUser',\n",
              " 'Vicki Cobb The Cheeseburger of the Forest Evidence of Global Warming For the climate change url | atUser',\n",
              " 'Vicki Cobb The Cheeseburger of the Forest Evidence of Global Warming For the climate change url | atUser',\n",
              " 'RT atUser Watch BeforeTheFlood right here, as atUser travels the world to tackle climate change url htt',\n",
              " 'RT atUser Meeting the worlds need for affordable energy is perhaps the most urgent aspect of our response to climate change https',\n",
              " 'RT atUser Watch atUser -year journey exploring the subject of climate change, BeforeTheFlood now on atUser',\n",
              " 'RT atUser Watch BeforeTheFlood right here, as atUser travels the world to tackle climate change url htt',\n",
              " 'RT atUser Before the Flood Leonardo DiCaprios climate change documentary multiStop  url via atUser url',\n",
              " 'RT atUser the fact that it is going to be  degrees today and tomorrow makes me so sad and then reminds me of global warming which makes',\n",
              " \"atUser 'global warming is not real'\",\n",
              " 'atUser not this year apparently, global warming kill us all',\n",
              " 'RT atUser Watch BeforeTheFlood right here, as atUser travels the world to tackle climate change url htt',\n",
              " 'Climate champion Carney to stay at the Bank of England | Climate Home - climate change news url via atUser',\n",
              " 'Brazil Rio is famous beaches take battering as scientists issue climate change warning url url',\n",
              " 'The chemicals industry has joined the fight to prevent climate change.\\nurl',\n",
              " 'RT atUser Trump calls global warming a Chinese hoax. Clinton emails.',\n",
              " 'Thank you global warming for giving us nice weather in November',\n",
              " 'RT atUser Watch BeforeTheFlood right here, as atUser travels the world to tackle climate change url htt',\n",
              " 'pls do not tell my global warming is not real when the high today is pushing  degrees ',\n",
              " 'RT atUser Trump calls global warming a Chinese hoax. Clinton emails.',\n",
              " 'In  days the most ambitious climate change agreement in history enters into force. Have you read multiStop  url',\n",
              " 'RT atUser In rare move, China criticizes Trump plan to exit climate change pact url',\n",
              " \"RT atUser atUser Nails it! atUser 'This company is designing floating buildings to combat climate change disasters' url\",\n",
              " 'RT atUser Trump calls global warming a Chinese hoax. Clinton emails.',\n",
              " 'hmmmm climate change is not real! url',\n",
              " 'RT atUser Americans are even less worried about Russia than climate change.',\n",
              " 'RT atUser Inside one Republican is attempt to shift his party on climate change url url',\n",
              " 'atUser \\nlet is zero out climate change with Nature andamp; Agriculture instead MOhempKenya snippet url',\n",
              " 'RT atUser In rare move, China criticizes Trump plan to exit climate change pact url url',\n",
              " 'RT atUser The ocean is losing its breath  and climate change is making it worse url atUser',\n",
              " 'At the Intersection of Politics and Events -- Marine Corps U Journal publishes special issue on climate change url',\n",
              " 'RT atUser Watch BeforeTheFlood right here, as atUser travels the world to tackle climate change url htt',\n",
              " 'Question  do u like smoking weed?\\n do you hate paying taxes?\\n do you think global warming is just a big ol ho url',\n",
              " 'RT atUser Watch BeforeTheFlood right here, as atUser travels the world to tackle climate change url htt',\n",
              " \"Niggas asked me what my inspiration was, I told'em global warming, you feel me? cozy\",\n",
              " 'It is  degrees on november first climate change is real we are in a drought the reef is dead bees are dying donald trump might be president',\n",
              " 'atUser That is a good one. Should not he be out denying climate change?',\n",
              " 'RT atUser These two young Ontarians won first place in the Climathon (climate change hackathon) Toronto. Way to go',\n",
              " 'RT atUser Life, liberty, and the pursuit of climate change url url',\n",
              " 'I do not know why people are happy over the fact it is  degrees out in November. It is called global warming.',\n",
              " 'RT atUser Life, liberty, and the pursuit of climate change url url',\n",
              " 'RT atUser How do people chose to not believe in climate change',\n",
              " 'RT atUser The ocean is losing its breath  and climate change is making it worse url atUser',\n",
              " \"'s in November? I officially believe in global warming\",\n",
              " \"RT atUser Hillary Clinton not (evidently) to blame for global warming--GOP does not 'believe' in global warming.\",\n",
              " 'RT atUser An entire  hour and  minute documentary climate change, right here on Twitter. But it is ok, the Lord will save u',\n",
              " 'RT atUser .atUser teams up w/ atUser to explore climate change and prevent catastrophe.\\n\\nThis is BeforeTheFlood ',\n",
              " \"RT atUser 'Polar bears do not have any natural enemies, so if it dies, it is from starvation' \\nThis is for the 'global warming\",\n",
              " 'RT atUser .atUser teams up w/ atUser to explore climate change and prevent catastrophe.\\n\\nThis is BeforeTheFlood ',\n",
              " 'Exxon Mobil sued over climate change cover-up  by atUser url via atUser Back JILL andamp; support renewables',\n",
              " 'China criticizes Trump is plan to exit climate change pact multiStop  CHINA multiExclamation  Dude?! \\nurl atUser',\n",
              " 'DailyClimate Pacific Island countries and climate change Examining associated human url',\n",
              " 'atUser Thoughts on BeforetheFlood + global warming in the next Vlog? ;-) url',\n",
              " 'RT atUser The worst thing we can do for our economy is sit back and do nothing about climate change. url cl',\n",
              " 'RT atUser Trump pretends not to believe in climate change, but he is buying a wall to protect his Ireland golf course from rising sea',\n",
              " 'if you do not believe in global warming now then I truly do not know what to tell you',\n",
              " 'Centrica is a world leader for action on climate change url | url',\n",
              " 'atUser atUser atUser He lectures poor Americans about climate change while leaving a million x bigger carbon footprint.',\n",
              " 'RT atUser Watch BeforeTheFlood right here, as atUser travels the world to tackle climate change url htt',\n",
              " 'In rare move, China criticizes Trump plan to exit climate change pact url via atUser',\n",
              " 'RT atUser Cartoon If the media covered climate change the way it covers Hillary is email url via atUser',\n",
              " 'RT atUser Before the Flood is free to watch now - atUser film abt how we can prevent catastrophic climate change disruption https',\n",
              " 'RT atUser Environment Conservation Science url US needs to lead the way in combating climate change | Four',\n",
              " 'RT atUser Watch BeforeTheFlood right here, as atUser travels the world to tackle climate change url htt',\n",
              " 'Because if you are a denier of climate change, you are a denier of your own existence.',\n",
              " 'RT atUser China criticizes Trump plan to exit climate change pact url url',\n",
              " 'So apparently what global warming means for me is spending a lot of time being furious that it is warm andamp; sunny iwantFALL',\n",
              " 'Niggas asked me what my inspiration was i told em global warming',\n",
              " 'RT atUser Our planet is not going to make it if we do not take action on climate change. Take an hour and half out of your day',\n",
              " \"atUser 's BeforeTheFlood is such a masterpiece. Never knew so many things were associated with global warming.\",\n",
              " \"RT atUser 'Investors can no longer ignore climate change. All are faced with a swelling tide of climate-related regulations'  htt\",\n",
              " 'RT atUser China slams Donald Trumps plan to back out of climate change agreement url url',\n",
              " 'RT techjunkiejhRT FastCoExist Most corporate climate change pledges are not strict enough to stop climate change  url',\n",
              " 'RT atUser Trump pretends not to believe in climate change, but he is buying a wall to protect his Ireland golf course from rising sea',\n",
              " 'atUser Sorry. I do not believe in climate change. I think it is a big sham to get more tax dollars that should be going elsewhere.',\n",
              " \"Who the fuck taught atUser to monopolize global warming multiStop  I'm spending $. on a powerade to keep my ass alive in this heat\",\n",
              " 'In rare move, China criticizes Trump plan to exit climate change pact url via atUser',\n",
              " 'atUser atUser Instead they spent  years blocking all progress, denying global warming and attempting to nix the ACA, great job multiExclamation ',\n",
              " 'Before the Flood is a documentary about climate change and global warming, narrated by Leo DiCaprio as UN is messenger of peace (not actor).',\n",
              " 'RT atUser let is talk climate change',\n",
              " 'RT atUser RT atUser In rare move, China criticizes Trump plan to exit climate change pact url via atUser',\n",
              " 'RT atUser China slams Donald Trumps plan to back out of climate change agreement url url',\n",
              " \"GOP senator on climate change 'Mankind has actually flourished in warmer temperatures' url # via atUser\",\n",
              " 'RT atUser Rising temperatures put millions at risk as climate change hotspot atUser (world is rd-largest store of ice) is melti',\n",
              " \"RT atUser 'In terms of climate change, the debate is over.' - atUser StrongerTogether url\",\n",
              " 'RT atUser Rising temperatures put millions at risk as climate change hotspot atUser (world is rd-largest store of ice) is melti',\n",
              " 'In rare move, China criticizes Trump plan to exit climate change pact - url',\n",
              " 'url | Parliament ratifies Paris climate change agreement url url',\n",
              " 'RT atUser Watch BeforeTheFlood right here, as atUser travels the world to tackle climate change url htt',\n",
              " 'RT atUser This graphic by PBI perfectly illustrates the extremely worrying effects climate change is having on the Arctic sea',\n",
              " 'RT Rio is famous beaches take battering as scientists issue climate change warning, url globalwarming beachlife',\n",
              " \"RT atUser Toxic slime, bloodsuckers, 'code brown' andamp; company  disgusting side effects of climate change url v\",\n",
              " 'RT atUser A comic-book cure for climate change url url',\n",
              " 'RT atUser Trump calls global warming a Chinese hoax. Clinton emails.',\n",
              " 'RT atUser The Dakota Access Pipeline would be a huge blow to our fight against climate change. NoDAPL url',\n",
              " 'NoDAPL Either atUser does not actually believe in climate change, or he is willing to shelve it for big business. Think about it Berners',\n",
              " 'atUser Minnesota multiQuestion  I want fall weather not winter weather. This is global warming at its finest ',\n",
              " 'RT atUser ICYMI The US and China support action on climate change. Trump and Putin support the US not defending NATO allies https',\n",
              " 'RT atUser Taking shorter showers and buying reusable bottles will not stop global warming. It is the main result of our agriculture demand',\n",
              " 'RT atUser Imagine, if you will, a world where the media covered climate change the way it covers Hillary is emails',\n",
              " 'RT atUser Trump calls global warming a Chinese hoax. Clinton emails.',\n",
              " 'Retweeted Kholla Bashir (atUser\\n\\nWorldwide people are much less concerned about climate change multiStop  url',\n",
              " ' in November. s/o climate change',\n",
              " 'RT atUser Trump pretends not to believe in climate change, but he is buying a wall to protect his Ireland golf course from rising sea',\n",
              " 'RT atUser The Dakota Access Pipeline would be a huge blow to our fight against climate change. NoDAPL url',\n",
              " 'RT atUser If we want to combat climate change, we must re-engineer our landfills url',\n",
              " 'RT atUser Trump calls global warming a Chinese hoax. Clinton emails.',\n",
              " 'RT atUser How will climate change alter the ecosystems of the Mediterranean? Read the research ($) url http',\n",
              " 'The Chinese understand what is at stake here.\\n\\nIn rare move, China criticizes Trump plan to exit climate change pact url',\n",
              " 'atUser was playing Christmas music at  AM. Well jokes on you Lucas it is  out rn and global warming is coming before Christmas',\n",
              " 'RT atUser .atUser teams up w/ atUser to explore climate change and prevent catastrophe.\\n\\nThis is BeforeTheFlood ',\n",
              " 'atUser Im creating a new think tank for climate change, would you join and post your tweet also at url ?',\n",
              " 'RT atUser Trump calls global warming a Chinese hoax. Clinton emails.',\n",
              " 'RT atUser Military spending is X greater than the budget for energy + environment. But the Pentagon says climate change is a dire',\n",
              " ' reports to read before the climate summit | Climate Home - climate change news url via atUser\\nActOnClimate',\n",
              " 'RT atUser Meat production is a leading cause of climate change, water waste, deforestation, andamp; extinction. WorldVeganDay',\n",
              " 'RT atUser Watch BeforeTheFlood right here, as atUser travels the world to tackle climate change url htt',\n",
              " 'RT atUser Fantastic day inspired by ambitious Scottish Public Sector action on climate change atUser ssnconf',\n",
              " 'I like how we are all just ignoring global warming lol  url',\n",
              " 'RT atUser Watch BeforeTheFlood right here, as atUser travels the world to tackle climate change url htt',\n",
              " 'RT atUser Watch BeforeTheFlood right here, as atUser travels the world to tackle climate change url htt',\n",
              " 'RT atUser Obviously Istanbul is expecting some wicked climate change soon\\nurl',\n",
              " 'RT atUser Main theme for COP should be how agriculture and budgets can be mainstreamed to migate climate changeandamp;encourage developme',\n",
              " 'RT atUser Trump calls global warming a Chinese hoax. Clinton emails.',\n",
              " 'RT atUser In rare move, China criticizes Trump plan to exit climate change pact url via atUser',\n",
              " 'RT atUser Yeah, Leo DiCaprio travels the world to tackle climate change *on emissions-spewing private jets and superyachts*. https',\n",
              " 'RT atUser .atUser teams up w/ atUser to explore climate change and prevent catastrophe.\\n\\nThis is BeforeTheFlood ',\n",
              " 'RT atUser Trump calls global warming a Chinese hoax. Clinton emails.',\n",
              " 'RT atUser (Even if climate change has gone practically unmentioned during this entire campaign, it still matters more than anyth',\n",
              " \"An upside to climate change is that I'm wearing shorts and t-shirt on November .\",\n",
              " 'RT atUser Meat production is a leading cause of climate change, water waste, deforestation, andamp; extinction. WorldVeganDay',\n",
              " 'RT atUser China slams Donald Trumps plan to back out of climate change agreement url url',\n",
              " 'RT atUser Trump calls global warming a Chinese hoax. Clinton emails.',\n",
              " 'RT atUser Taking shorter showers and buying reusable bottles will not stop global warming. It is the main result of our agriculture demand',\n",
              " 'RT atUser Th teaser for GUILT TRIP\\na climate change film with a skiing problem is dropping today. \\nThe url',\n",
              " 'Too bad this normally intelligent man believes that the world is ending due to global warming which is the fault of url',\n",
              " 'RT atUser Seabirds are key indicators of the impact of climate change on the world is oceans atUser',\n",
              " 'RT atUser In rare move, China criticizes Trump plan to exit climate change pact url url',\n",
              " 'RT atUser Want to help help fight climate change? Simple  go vegan. WorldVeganDay. url',\n",
              " 'RT atUser ICYMI The US and China support action on climate change. Trump and Putin support the US not defending NATO allies https',\n",
              " 'So. The Green party candidate has endorsed a dude who says climate change is a hoax. Feel shame, Stein voters. url',\n",
              " 'RT atUser .atUser teams up w/ atUser to explore climate change and prevent catastrophe.\\n\\nThis is BeforeTheFlood ',\n",
              " 'RT atUser Hey its november and its  degrees. Continue to tell me that climate change is a myth pls',\n",
              " 'RT atUser Trump pretends not to believe in climate change, but he is buying a wall to protect his Ireland golf course from rising sea',\n",
              " 'RT atUser But I thought climate change was not a real thing and science is fake? url',\n",
              " 'RT atUser Taking shorter showers and buying reusable bottles will not stop global warming. It is the main result of our agriculture demand',\n",
              " \"RT atUser 'We have got a big public health problem here with climate change' -Bob Perkowitz, atUser President url\",\n",
              " 'RT atUser .atUser BeforetheFlood on atUser tonight puts focus on reality of climate change andamp; need for action. htt',\n",
              " 'RT atUser Meat production is a leading cause of climate change, water waste, deforestation, andamp; extinction. WorldVeganDay',\n",
              " 'RT atUser Want to help help fight climate change? Simple  go vegan. WorldVeganDay. url',\n",
              " 'RT atUser Trump calls global warming a Chinese hoax. Clinton emails.',\n",
              " 'RT atUser Trump pretends not to believe in climate change, but he is buying a wall to protect his Ireland golf course from rising sea',\n",
              " 'research analyst environmental and climate change programs BS/BA with coursework in environmental url ClimateChange',\n",
              " 'RT atUser Scientists say these  cities are likely to escape major climate change threats. Can you guess where they are? https//',\n",
              " 'RT atUser Brace yourself for a bitterly cold winter, as climate change shifts the polar vortex url https//',\n",
              " 'RT atUser One of the easiest ways to help combat climate change in your daily life is to stop eating beef. Here is why',\n",
              " 'RT atUser Taking shorter showers and buying reusable bottles will not stop global warming. It is the main result of our agriculture demand',\n",
              " 'atUser like police brutality or global warming or animal endangerment. not something petty like a damn green cup.',\n",
              " 'Company directors to face penalties for ignoring climate change auspol url via atUser',\n",
              " 'RT atUser i still cannot believe this gif of taehyung saved the human race, stopped global warming and watered every plant on',\n",
              " 'RT atUser Rio is famous beaches take battering as scientists issue climate change warning url',\n",
              " 'Watch Before the Flood, an urgent call to arms about climate change url misc feedly',\n",
              " 'RT atUser One of the most interesting collaborations for Leonardo Di Caprio is climate change doc. Now on air \\nBefore the multiStop  http',\n",
              " 'I knew if it warmed up that someone would pull that climate change shit multiStop  Not saying it does not exist but come on',\n",
              " 'RT atUser In a rare move, China has criticized Trump is plan to exit the Paris Agreement on climate change',\n",
              " 'RT atUser  degrees in Atlanta multiStop in November multiStop do you still believe that global warming is not happening multiQuestion ',\n",
              " 'RT atUser Polar vortex shifting due to climate change, extending winter, study finds\\nurl Marco say climate chan',\n",
              " 'RT atUser It is literally  outside and it is november st global warming can url',\n",
              " 'RT atUser Rio is famous beaches take battering as scientists issue climate change warning url',\n",
              " 'When the weather is  degrees+ in November but you are also worried about climate change. climatechange weather url',\n",
              " 'RT atUser What can robot shellfish tell us about climate change is impact on marine species? url via atUser',\n",
              " 'If you are not watching Leonardo is documentary on climate change then wyd',\n",
              " 'RT atUser Taking shorter showers and buying reusable bottles will not stop global warming. It is the main result of our agriculture demand',\n",
              " \"RT atUser atUser atUser atUser come on motherfucker I'm getting real bored andamp; fuck climate change url\",\n",
              " 'Importance of climate change emergency prep work url',\n",
              " 'You can watch Leonardo DiCaprio is climate change documentary right here climatechange url',\n",
              " \"Liberals changed the term 'global warming' to 'climate change'; because it did not. Only a $ laundering for Plutocracy PoliticallyReactive\",\n",
              " 'RT atUser Polar vortex shifting due to climate change, extending winter, study finds - Washington Post url',\n",
              " 'RT atUser  degrees in Atlanta multiStop in November multiStop do you still believe that global warming is not happening multiQuestion ',\n",
              " 'atUser atUser atUser atUser Trump has secret island where he is making climate change accelerator!',\n",
              " 'RT ReutersWorld In a rare move, China has criticized Trump is plan to exit the Paris Agreement on climate change url',\n",
              " 'Wisconsin people, climate change is real Vote democrat Stand against atUser and show him actions speak louder url',\n",
              " 'RT atUser Celeb-packed atUser wants to make climate change a voting issue url via atUser',\n",
              " \"Government has failed \\n'Australian business woefully unprepared for climate change post Paris agreement' auspol url\",\n",
              " 'RT atUser Left pressures Clinton for position on pipeline url Back JILL andamp; work at slowing climate change for our',\n",
              " ' you will die due the YK Bug.  ditto, climate change.  all you own will be hacked. Not quite, say I url',\n",
              " 'RT atUser If climate change goes unchecked, many areas in southern Europe could become deserts. url scary https',\n",
              " 'RT atUser ahem, ahem, [coughing on smog] sorry. anyways, global warming is not real',\n",
              " 'RT atUser Trump calls global warming a Chinese hoax. Clinton emails.',\n",
              " \"It is fucking November and I'm still in t shirts and track shorts. You cannot tell me climate change is not real.\",\n",
              " 'I used to look the other way at climate change issues, till I had to pay attention. It is real and saddening. We are killing everything.',\n",
              " ' on November st? Fuck this shit if you do not think climate change is real, wake the fuck up',\n",
              " 'RT atUser .atUser new climate change film is now streaming url BeforeTheFlood url',\n",
              " 'Leo Dicaprio is seriously concerned about climate change. Except when Canne film festival is on. Then he is concerned about boats and pussy.',\n",
              " 'RT atUser Eating meat is a leading cause of habitat destruction, species extinction and climate change url',\n",
              " 'SPPI is a green advocate and helps in the preservation of more trees to help curb climate change. url exteriorpainters',\n",
              " ' degrees on November st multiStop  But global warming is not real right?',\n",
              " 'RT atUser Taking shorter showers and buying reusable bottles will not stop global warming. It is the main result of our agriculture demand',\n",
              " 'I do not understand how people still do not believe in climate change',\n",
              " 'atUser Im creating a new think tank for climate change, would you join and post your tweet also at url ?',\n",
              " \"RT atUser Y'all wanna argue about whether climate change is real meanwhile it is  in November and the arctic is literally disappear\",\n",
              " 'RT atUser Polar vortex is shifting due to climate change extending winter \\n\\nurl climate weather',\n",
              " 'RT atUser It is November st and the high today is  yet somehow people still say global warming is not real. ',\n",
              " 'Is climate change sexist?  url',\n",
              " 'RT atUser Everyone pls watch atUser documentary BeforetheFlood It is an important/interesting look at climate change. url',\n",
              " 'atUser We really do not have time to play politics with climate change, we need to start hurrying it along.',\n",
              " \"RBReich I'm often told that climate change is a middle-class issue, and the poor care more about jobs and wages.  url\",\n",
              " 'First day of November and the high was  degrees. Good thing climate change is not real.',\n",
              " \"RT atUser the weather SAYS ' degrees' but it MEANS 'global warming'\",\n",
              " 'RT atUser Cartoon If the media covered climate change the way it covers Hillary is email url',\n",
              " 'RT atUser Seriously? They are endorsing someone that denies global warming. They should be ashamed. url',\n",
              " \"atUser I do not think Rubio is gonna lose although I'm not afraid to say he does not have my vote.  and still denying climate change\",\n",
              " 'No, climate change is NOT a natural cycle. \\n ways we can tell humans are affecting it url',\n",
              " 'v upset on this, the most beautiful day of , because a) I did not bring my camera to campus and b) climate change is terrifying',\n",
              " 'RT atUser Australian business woefully unprepared for climate change url via atUser',\n",
              " 'RT atUser Want to help help fight climate change? Simple  go vegan. WorldVeganDay. url',\n",
              " 'Yo your mcm does not believe in climate change',\n",
              " 'In rare move, China criticizes Trump plan to exit climate change pact url via atUser',\n",
              " \"RT atUser I'm often told that climate change is a middle-class issue, and the poor care more about jobs and wages. The multiStop  url\",\n",
              " 'RT atUser Watch BeforeTheFlood right here, as atUser travels the world to tackle climate change url htt',\n",
              " 'RT atUser Taking shorter showers and buying reusable bottles will not stop global warming. It is the main result of our agriculture demand',\n",
              " 'We rly need to start listening to Leonardo DiCaprio because global warming is real andamp; happening like how tf is it  degrees in November',\n",
              " 'RT atUser It is a man is world when it comes to climate change atUser url auspol atUser thedrum #',\n",
              " 'RT atUser Watch BeforeTheFlood right here, as atUser travels the world to tackle climate change url htt',\n",
              " 'RT atUser Given that animal agriculture is the leading cause of climate change, adopting a vegan diet is the most practical course, if',\n",
              " 'RT atUser You can now watch Leonardo DiCaprios climate change doc online for free url url',\n",
              " 'RT atUser Watch BeforeTheFlood right here, as atUser travels the world to tackle climate change url htt',\n",
              " 'RT atUser In a rare move, China has criticized Trump is plan to exit the Paris Agreement on climate change',\n",
              " 'What sparked global warming? People did. Heres how. url',\n",
              " 'Here is how to watch Leonardo DiCaprio is climate change documentary for free online url url',\n",
              " 'RT atUser First day of November, but it feels more like June. And then we have all these people dismissing the subject of climate change. ',\n",
              " 'atUser atUser The Russians did it - oh wait, is this when we blame global warming',\n",
              " 'atUser Fact? I think Geo Engineering is mainly to try to get a grip of climate change personally',\n",
              " 'atUser atUser Of course one candidate believes in the science of climate change the other dismisses it.',\n",
              " 'atUser Rio is famous beaches take battering as scientists issue climate change warning url\\nBrazil atUser atUser',\n",
              " 'RT atUser Watch BeforeTheFlood right here, as atUser travels the world to tackle climate change url htt',\n",
              " 'RT atUser The real battle against climate change will not be fought in airconditioned meeting \\nrooms.url url',\n",
              " 'RT atUser One of the easiest ways to help combat climate change is to stop eating beef BeforeTheFlood RacingExtinction https/',\n",
              " 'RT atUser Watch BeforeTheFlood right here, as atUser travels the world to tackle climate change url htt',\n",
              " \"RT atUser 'Are you going to vote for a president who will fight climate change, or a president andamp; Congress who do not even beli\",\n",
              " \"Celeb-packed 'Years of Living Dangerously' wants to make climate change a voting issue url atUser\",\n",
              " 'atUser Thanks for the great documentary on climate change. It really hit home! Please check out this project url',\n",
              " \"RT atUser I'm often told that climate change is a middle-class issue, and the poor care more about jobs and wages. The multiStop  url\",\n",
              " 'RT atUser do not come at me talking reckless about global warming not being real when it is  degrees in November.',\n",
              " 'It is November is Wisconsin and I just mowed my lawn. If this is a result of global warming, then we are on the right track!',\n",
              " 'RT atUser @ global warming ur ruining my fall pls stop',\n",
              " 'I voted multiExclamation  Yes I voted for the crooked nasty evil one! Mostly because she believes global climate change is real. imwithnasty',\n",
              " 'RT atUser In rare move, China criticizes Trump plan to exit climate change pact url',\n",
              " 'RT atUser Leonardo DiCaprio is climate change documentary is free for a week - Mashable url',\n",
              " 'RT atUser Watch BeforeTheFlood right here, as atUser travels the world to tackle climate change url htt',\n",
              " 'RT atUser Watch BeforeTheFlood right here, as atUser travels the world to tackle climate change url htt',\n",
              " 'RT atUser Inside one Republican is attempt to shift his party on climate change url url',\n",
              " 'RT atUser Watch BeforeTheFlood right here, as atUser travels the world to tackle climate change url htt',\n",
              " 'ForeignPolicy spans from dealing with other nations on global issues like, energy and climate change to trade. FPelection',\n",
              " 'Top university stole millions from taxpayers by faking global warming research - url url',\n",
              " 'happy november the high temperature is still in the s global warming is real and the natural progression of time means nothing',\n",
              " 'I certainly agree  the climate change argument, interconnectedness is not a threat.url url',\n",
              " 'Oil andamp; gas as part of the solution to global warming materials. Read url',\n",
              " 'atUser you need to believe in climate change! Do it and you have my vote. If not it is going to atUser',\n",
              " 'In my opinion,climate change is nothing more than a way  remove our money from our pockets  their greeny projects url',\n",
              " 'RT atUser Saving forests is crucial to fighting climate change. WWF is Josefina Braa-Varela blogs for BeforetheFlood url',\n",
              " \"RT atUser atUser atUser atUser Whew. I thought they were going say sexism brought us 'global warming'. There might be some\",\n",
              " 'atUser re url why should we invest in retirement when there is a high chance we will die young from climate change?',\n",
              " 'RT atUser Polar vortex is shifting due to climate change extending winter \\n\\nurl climate weather',\n",
              " 'RT atUser atUser Affordable Care Act, legalization of same-sex marriage, Recovery Act, Paris Agreement on climate change, m',\n",
              " 'RT atUser Brace yourself for a bitterly cold winter, as climate change shifts the polar vortex url url',\n",
              " 'Asshole Leo dick-crappio made a climate change film(yawn). No one cares. Still, I put him on lifetime shunlist. url',\n",
              " 'RT atUser  degrees in Chicago on November st multiStop global warming but aye it is bussin',\n",
              " 'I cannot believe people actually believe climate change is not real. Wow. We do deserve to become extinct.',\n",
              " 'RT atUser atUser Affordable Care Act, legalization of same-sex marriage, Recovery Act, Paris Agreement on climate change, m',\n",
              " 'RT atUser Top university stole millions from taxpayers by faking global warming research - url url',\n",
              " 'RT atUser .atUser gotta admit you were right about global warming, dawg. It is November and it is hotter than two chicks kissing.',\n",
              " 'RT atUser When China calls out Donald Trump on climate change, you know its bad url',\n",
              " 'RT atUser Watch BeforeTheFlood right here, as atUser travels the world to tackle climate change url htt',\n",
              " 'RT atUser Trump pretends not to believe in climate change, but he is buying a wall to protect his Ireland golf course from rising sea',\n",
              " 'RT atUser Brace yourself for a bitterly cold winter, as climate change shifts the polar vortex url url',\n",
              " 'people touch the tippy top the the ice berg and think they can start global warming',\n",
              " 'atUser atUser atUser more aviation fuel burned impacting the climate change hoax',\n",
              " 'RT atUser AlGore andamp; climate change url',\n",
              " 'Except this one chick who is watching that Leonardo DiCaprio documentary about climate change.\\nBoo NoChicagoPride ScienceIsBad',\n",
              " 'But seriously. This episode was from  and they were debating climate change.  years later and how is that sti url',\n",
              " 'RT atUser Polar bears for global warming url',\n",
              " 'RT atUser Polar bears for global warming url',\n",
              " 'RT atUser people who complain about how hot it is outside still but deny global warming url',\n",
              " 'RT atUser Join atUser as he searches for answers on the issue of climate change. BeforeTheFlood starts now! url',\n",
              " \"I'm just gonna put this out there multiStop  If you do not believe in climate change or that racism does not exist, just unfollow me from life.\",\n",
              " 'RT atUser Our new easier-to-use website full of materials on climate change and the law url',\n",
              " 'RT atUser when will ppl understand that global warming, deforestation, andamp; consumption of animal products is a bigger threat to the earth',\n",
              " \"RT atUser This is nuts. The 'Green Party' is endorsing a man who does not believe in climate change. I guess they got the 'g\",\n",
              " 'RT atUser Here is how climate change will affect sea level rise (and flood cities) as the world warms url',\n",
              " 'RT atUser BeforeTheFlood Watch new documentary on tackling climate change. It is all up to us. atUser atUser',\n",
              " 'RT atUser Watch BeforeTheFlood right here, as atUser travels the world to tackle climate change url htt',\n",
              " 'atUser atUser DonaldTrump and HillaryClinton need to get the message that the answer to global warming is not nuclear winter!',\n",
              " \"atUser global warming. Look up the origin - agenda  - 'one common enemy.'\",\n",
              " 'RT atUser When China calls out Donald Trump on climate change, you know its bad url',\n",
              " 'RT atUser Watch BeforeTheFlood right here, as atUser travels the world to tackle climate change url htt',\n",
              " 'RT atUser The ocean is losing its breath  and climate change is making it worse url oceanpessimism',\n",
              " \"atUser took me a while to get to this, thanks so much. scary how 'climate change' has sort of lost its sexiness in the media meanwhile multiStop \",\n",
              " 'RT atUser my heart says nice weather but my brain is saying global warming url',\n",
              " 'RT atUser Plant-based protein increases food security andamp; helps mitigate climate change url atUser url',\n",
              " \"RT atUser 'It is so warm outside because of climate change.'\\n\\nHA do not be naive. We all know it is because the Cubs are in the WS\",\n",
              " 'RT atUser Watch BeforeTheFlood right here, as atUser travels the world to tackle climate change url htt',\n",
              " 'RT atUser Is India in the throes of a fever outbreak? Urbanisation and climate change help spread of mosquito switchsendai url',\n",
              " 'RT atUser Despite the global warming, Alaska has had very little, if any, warming since  (except Barrow), as shown below htt',\n",
              " 'RT atUser Despite the global warming, Alaska has had very little, if any, warming since  (except Barrow), as shown below htt',\n",
              " 'RT atUser Despite the global warming, Alaska has had very little, if any, warming since  (except Barrow), as shown below htt',\n",
              " 'RT atUser Despite the global warming, Alaska has had very little, if any, warming since  (except Barrow), as shown below htt',\n",
              " 'RT atUser Whether you believe in climate change or not it is common fucking sense that we cannot live without clean water and oxygen multiQuestion ',\n",
              " 'atUser atUser atUser atUser \\nPutin got to you too Jill ! \\nTrump does not believe in climate change at all \\nThinks it is s hoax',\n",
              " \"RT atUser It is almost  degrees outside on Halloween and some of y'all are still denying the legitimacy of global warming \",\n",
              " \"RT atUser Leonardo DiCaprio is on a mission to fight against climate change. 'Before The Flood' [whole film] url\",\n",
              " 'RT atUser Watch BeforeTheFlood right here, as atUser travels the world to tackle climate change url htt',\n",
              " 'RT atUser Toomey opposes Abortion, Gay Marriage, pro-business, anti-consumer, anti-worker, anti-poor, denies climate change.\\n\\nVOTE atUser',\n",
              " 'RT atUser Polar bears for global warming url',\n",
              " 'atUser World Business Report cridtir  multiStop  Food and Rural Affairs Committee says climate change could bring heavier rain fall in  multiStop ',\n",
              " 'Guys, go watch National Geographic / L. DiCaprio is doc on climate change, Before the Flood. It is free so no excuses. url',\n",
              " 'Clinton Trump called climate change a Chinese hoax | Daily USA News - url url',\n",
              " 'RT atUser Imagine, if you will, a world where the media covered climate change the way it covers Hillary is emails',\n",
              " 'RT atUser when will ppl understand that global warming, deforestation, andamp; consumption of animal products is a bigger threat to the earth',\n",
              " 'RT atUser Watch BeforeTheFlood right here, as atUser travels the world to tackle climate change url htt',\n",
              " 'RT atUser Imagine, if you will, a world where the media covered climate change the way it covers Hillary is emails',\n",
              " 'How do people argue climate change multiQuestion ',\n",
              " 'RT atUser Starts today in Marrakesh atUser conf. on indigenous knowledge andamp; climate change url',\n",
              " 'Standing Rock, climate change, bees becoming endangered, political corruption, andamp; ppl still would rather watch the Kardashians and be sheep.',\n",
              " 'RT atUser Harvest the sun during drought and the rain during floods, flow with the current of climate change. url',\n",
              " 'RT atUser Trump calls global warming a Chinese hoax. Clinton emails.',\n",
              " 'RT atUser When China calls out Donald Trump on climate change, you know its bad url',\n",
              " 'Adapting to climate change a major challenge for forests url',\n",
              " 'RT atUser Starts today in Marrakesh atUser conf. on indigenous knowledge andamp; climate change url',\n",
              " 'climate change is the greatest issue facing our generation and world.',\n",
              " 'Fuck you guys global warming is serious as hell.',\n",
              " 'RT atUser Polar vortex is shifting due to climate change extending winter \\n\\nurl climate weather',\n",
              " 'RT atUser The Economist explains American policy How will the candidates deal with climate change? - The Economist (blog)',\n",
              " 'RT atUser Documentary w Leonardo DiCaprio about climate change. Free to watch for a few more days, so interesting andamp; important\\nhtt',\n",
              " 'RT atUser Watch BeforeTheFlood right here, as atUser travels the world to tackle climate change url htt',\n",
              " 'RT atUser With a government that cannot govern and faced with global warming increases of - degrees, we are way behind world is ',\n",
              " 'atUser atUser \\nNo, it is when hell freezes over - climate change!',\n",
              " 'climatechange - url Here is how to watch Leonardo DiCaprio is climate change documentary for free online',\n",
              " 'climatechange - url Here is how to watch Leonardo DiCaprio is climate change documentary for free online',\n",
              " 'RT atUser Watch BeforeTheFlood right here, as atUser travels the world to tackle climate change url htt',\n",
              " 'RT atUser Women is rights, and climate change. Two reasons Trump needs to lose, and hopefully Democrats gain senate majority.',\n",
              " 'The blunt truth about the politics of climate change is that no country will want to sacrifice its economy in multiStop  url',\n",
              " 'RT atUser Rising temperatures put millions at risk as climate change hotspot atUser (world is rd-largest store of ice) is melti',\n",
              " 'RT atUser It is not just Trump GOP has made a pledge to corporate polluters to block action on climate change unacceptable https/',\n",
              " 'when i was a kid i always thought all star was about global warming',\n",
              " 'atUser It is complete madness to think humans can alter climate change, King Canute tried, andamp; look what happened to him. GLUG, GLUG.',\n",
              " 'atUser atUser pretty sure I saw an article saying that we would get more global warming after brexit. Maybe it was on a bus?',\n",
              " 'Overfishing could be the next problem for climate change url url',\n",
              " 'Large amount of local knowledge on the effects of climate change on agriculture says Prof Blakeney atUser',\n",
              " 'RT atUser Another tremendous atUser piece from Martin Wolf. We need these reminders of seriousness of climate change threat andamp; ur',\n",
              " \"atUser Oh for Christ is sake, why not say border walls will make climate change worse? For cryin' out loud report on REAL NEWS?\",\n",
              " 'RT atUser Polar vortex shifting due to climate change, extending winter, study finds url url',\n",
              " 'RT atUser Polar vortex shifting due to climate change, extending winter, study finds url url',\n",
              " 'Go Ahead  recognised by Carbon Disclosure Project for continuous improvement in tackling climate change //channels.feeddigest.com/news?id=',\n",
              " 'atUser atUser Proportionally, human sources climate change is enormous. Climate changing rapidly.',\n",
              " 'RT atUser .atUser teams up w/ atUser to explore climate change and prevent catastrophe.\\n\\nThis is BeforeTheFlood ',\n",
              " 'RT atUser Starts today in Marrakesh atUser conf. on indigenous knowledge andamp; climate change url',\n",
              " \"RT atUser Doug Edmeades (Prof. Rowarth is partner in EPA crime) is an 'out' climate change denier. Surprise, surprise. url\",\n",
              " 'atUser Coal restrictions are via executive actions. Donald WILL undo Obama is actions. Horrible climate change. It is not Cog Diff.',\n",
              " 'RT atUser What can robot shellfish tell us about climate change is impact on marine species? url',\n",
              " 'RT atUser Top university stole millions from taxpayers by faking global warming research - url url',\n",
              " 'RT atUser Watch BeforeTheFlood right here, as atUser travels the world to tackle climate change url htt',\n",
              " \"Badham favours workers (coal jobs) over climate change (too much fossil fuels) - 'jobs save nature' or some such b url\",\n",
              " 'RT atUser Dear Icebergs, Sorry to hear about global warming, Karma is a bitch, Sincerely, The Titanic.',\n",
              " \" Inhabitat Watch Leonardo DiCaprio is riveting new climate change documentary 'Before The url\",\n",
              " 'RT atUser Imagine trying to convince yourself that global warming is not real and instead a conspiracy. Wake up, before it is t',\n",
              " 'atUser Anybody who denies climate change, an existential threat to our society, is not qualified to lead at all at any social level.',\n",
              " 'RT atUser .atUser teams up w/ atUser to explore climate change and prevent catastrophe.\\n\\nThis is BeforeTheFlood ',\n",
              " 'Leonardo Dicaprio documentary on climate change is scary, we have all ruined earth ',\n",
              " 'RT atUser Imagine trying to convince yourself that global warming is not real and instead a conspiracy. Wake up, before it is t',\n",
              " 'Overfishing could be the next problem for climate change url via atUser',\n",
              " 'FT Martin Wolf That the US presidential campaign has unfolded without a focus on climate change is astounding url',\n",
              " 'RT atUser Martin Wolf That the US presidential campaign has unfolded without a focus on climate change is astounding url',\n",
              " 'RT atUser Today is Smog is a good reminder that climate change has no borders, andamp; we, as South Asians, must co-operate for our',\n",
              " 'RT atUser One of the easiest ways to help combat climate change is to stop eating beef BeforeTheFlood RacingExtinction https/',\n",
              " 'RT atUser Watch BeforeTheFlood right here, as atUser travels the world to tackle climate change url htt',\n",
              " 'RT atUser .atUser endorses Hillary Clinton, slams Donald Trump over climate change url url',\n",
              " 'RT atUser New atUser climate change web site attacks nuclear power while nuclear plant closures increase CO emissions. ht',\n",
              " \"atUser says we MUST stop Dakota pipeline. atUser says we must 'reroute.' Who is got the better legacy on climate change? Your call!\",\n",
              " 'RT atUser Excellent piece by atUser on why denial is America is predominant political response to climate change. url',\n",
              " 'RT atUser Numinipis na ang yelo sa Arctic Circle, pati si Santa nangangayayat na. Nakakatakot talaga ang global warming url',\n",
              " 'RT atUser Artist atUser flies with IceBridge scientists over Antarctica, capturing images documenting climate change.',\n",
              " 'RT atUser Polar vortex shifting due to climate change, extending winter, study finds url url',\n",
              " 'RT atUser NEW brief Transnational climate change impacts An entry point to enhanced global cooperation on adaptation?',\n",
              " 'RT atUser Not a hoax There are two choices to address climate change this election. One to address it the other, fuck it vote for th',\n",
              " 'RT atUser Imagine trying to convince yourself that global warming is not real and instead a conspiracy. Wake up, before it is t',\n",
              " 'RT atUser Weds Dangerous political speech andamp; how it can incite violence. Then Where Clinton and Trump stand on climate changeurl',\n",
              " 'RT atUser Tell me global warming does not exist url',\n",
              " 'Before the Flood--Leonardo DiCaprio speaks to scientists andamp; world leaders about climate change url climatechange',\n",
              " 'New blog up about soil carbon sequestration as a climate change solution and vehicle for ecological restoration url',\n",
              " 'RT atUser Toomey opposes Abortion, Gay Marriage, pro-business, anti-consumer, anti-worker, anti-poor, denies climate change.\\n\\nVOTE atUser',\n",
              " 'atUser passion for the environment andamp; changing climate change has always inspired me watch beforetheflood url',\n",
              " '$V TreeHHere is one effective solution to climate change Put a price on carbon. url url',\n",
              " 'atUser )Unchecked climate change andamp; a future where they may starve, lacking water and food.',\n",
              " '% of all climate change studies support the claim that the earth is climate is warming at an alarming rate. %',\n",
              " \"The effects of climate change are all around us if youre only willing to open your eyes.' url via atUser\",\n",
              " 'Indigenous rights are key to preserving forests, climate change study finds url',\n",
              " 'RT atUser Indigenous rights are key to preserving forests, climate change study finds url',\n",
              " 'RT atUser Indigenous rights are key to preserving forests, climate change study finds url',\n",
              " 'they asked what my inspiration was, I told em global warming.',\n",
              " 'Check out the new documentary at atUser youtube channel Before the Flood. On climate change, with atUser url',\n",
              " 'Finally done with the UNCC Introductory E-Course on climate change.\\nThanks atUser atUser atUser',\n",
              " 'RT atUser Watch BeforeTheFlood right here, as atUser travels the world to tackle climate change url htt',\n",
              " 'RT atUser Imagine trying to convince yourself that global warming is not real and instead a conspiracy. Wake up, before it is t',\n",
              " 'RT atUser Jack Black calls atUser x about Florida is lack of action on climate change, cannot get thru url',\n",
              " 'RT atUser U.S. andamp; Europe tried to get climate scientists to downplay lack of global warming over last  years url tco',\n",
              " 'Julia Louis-Dreyfus endorses Clinton, slams Trump over climate change Clinton GOTVforHRC url',\n",
              " 'RT atUser National Geographics climate change documentary with Leonardo DiCaprio is now on YouTube url url',\n",
              " 'RT atUser Watch BeforeTheFlood right here, as atUser travels the world to tackle climate change url htt',\n",
              " 'Cloudy feedback on global warming url',\n",
              " 'Kinda makes you think that the goal of enviros is not really to fight climate change. url',\n",
              " 'A. Lammel atUser on the contribution of local knowledge to understand the global character of climate change url',\n",
              " 'good morning everyone except not those annoying orange climate change ppl',\n",
              " 'RT atUser Who is driving the climate change alarmism? Listen and find out! - Climate Change What Do Scientists Say? url',\n",
              " 'RT atUser Indigenous rights are key to preserving forests, climate change study finds url',\n",
              " 'RT atUser Watch BeforeTheFlood right here, as atUser travels the world to tackle climate change url htt',\n",
              " 'RT atUser .atUser Explains that there are good solutions to climate change, but environmentalists are blocking them. url',\n",
              " 'RT atUser When you know this unusually warm weather in October is due to global warming and climate change but you still kind',\n",
              " 'RT atUser It is so hard to refute the facts around climate change after watching Leo is documentary.',\n",
              " ' globalgoals are directly linked to climate change. The ParisAgreement is multiStop  url by ClimateReality via atUser',\n",
              " ' globalgoals are directly linked to climate change. The ParisAgreement is multiStop  url by ClimateReality via atUser',\n",
              " 'atUser global warming has actually been calm we are still at like  degree weather everyday',\n",
              " 'RT atUser Animal agriculture is a major cause of global warming which is raising sea levels so Venice might disappear and IWANTTO',\n",
              " 'The Vita Green Impact Fund is exactly the right investment vehicle for SDGs andamp; climate change mitigation url',\n",
              " 'RT atUser it is  degrees in november and people wanna think global warming is not real',\n",
              " 'Some clear and concise info on climate change. url',\n",
              " 'cold weather is my time to shine and global warming is really messing that up for me.',\n",
              " 'atUser atUser atUser atUser why do we project what climate change will look like  years from now? Why not  year?',\n",
              " 'RT atUser Ok calm down global warming because I i just put away my shorts.',\n",
              " \"RT atUser ' multiStop we face, income inequality, climate change, student debt - This moment in history is not the time for a protest vote.- B\",\n",
              " 'RT atUser When you know this unusually warm weather in October is due to global warming and climate change but you still kind',\n",
              " 'RT atUser Read about how Detroit is climate change activists like Prof. Tony Reames are using science to plan for a warmer city url',\n",
              " \"RT atUser 'He does not believe in climate change! Do you know how dumb you have to be to not believe in climate change?!'\",\n",
              " 'atUser member before global warming?',\n",
              " 'RT atUser National Geographics climate change documentary with Leonardo DiCaprio is now on YouTube url url',\n",
              " 'I feel like ending world hunger, saving animals from extinction, solving our climate change problem, and reforming our judicial system today',\n",
              " \"RT atUser From college affordability to climate change, 'Hillary Clintons values are Millennial values.' atUser url\",\n",
              " 'RT atUser Martin Wolf That the US presidential campaign has unfolded without a focus on climate change is astounding url',\n",
              " \"RT atUser Reporter Trump, what are your thoughts on global warming?\\n\\nTrump Rearrange 'Miracles' and you get 'Car Slime' This me\",\n",
              " 'Clinton I believe in science. I believe that climate change is real. (Convention speech) url',\n",
              " 'atUser hate to burst your bubble but man made climate change is not real and the environments doing just fine.',\n",
              " 'I just joined atUser atUser in combating climate change. Take action BeforeTheFlood url',\n",
              " 'Palace to study PH move on climate change deal url placating ramos after his blast of duterte',\n",
              " 'More fiddled global warming data US has actually been cooling since the Thirties url tcot teaparty pjnet nra p',\n",
              " 'RT atUser Julia Louis-Dreyfus endorses Clinton, slams Trump over climate change url via atUser',\n",
              " 'There is gotta be at least a % correlation between who is wearing sweatpants on campus right now and who believes climate change is a myth',\n",
              " 'RT atUser idk how people do not believe in global warming. thats wild',\n",
              " 'RT atUser China slams Donald Trumps plan to back out of climate change agreement url',\n",
              " 'RT atUser Mugs asked me what my motivation was I said global warming',\n",
              " 'RT atUser How Margaret Thatcher helped protect the world from climate change - CityMetric url url',\n",
              " 'atUser  multiStop and farting is the blame for global warming, jack a$$ multiStop I do not believe in global warming multiStop just so you know!',\n",
              " 'RT atUser Thanks, Obama multiStop for making the U.S. more prepared to face the impacts of climate change url',\n",
              " 'RT atUser Icebergs for global warming url',\n",
              " 'Keep in mind it is November and it is the Midwest. You, know, that climate change thing. The one that is not a Chinese hoax. ',\n",
              " 'RT atUser I do not understand how people can think that climate change is not real. You honestly have to be a special kind of stupid.',\n",
              " 'RT atUser Martin Wolf That the US presidential campaign has unfolded without a focus on climate change is astounding',\n",
              " \"RT atUser Doug Edmeades (Prof. Rowarth is partner in EPA crime) is an 'out' climate change denier. Surprise, surprise. url\",\n",
              " 'RT atUser Martin Wolf That the US presidential campaign has unfolded without a focus on climate change is astounding',\n",
              " \"From college affordability to climate change, 'Hillary Clintons values are Millennial values.' url\",\n",
              " \"It took  degree temperature in November and ocean reefs to die for y'all to realize global warming does,in fact, exist.\",\n",
              " \"It is the beginning of November n I'm wearing jeans n a t shirt n sweating but y'all still think global warming does not exist \",\n",
              " \"RT atUser 'It is so warm outside because of climate change.'\\n\\nHA do not be naive. We all know it is because the Cubs are in the WS\",\n",
              " 'RT atUser YourMCM thinks global warming was made up by China',\n",
              " 'I just joined atUser atUser in combating climate change. Take action BeforeTheFlood url',\n",
              " 'RT atUser It is time for our leaders to stop talking about climate change andamp; working together to solve it. Agree? Add your name http',\n",
              " 'RT atUser UN poll shows most people do not care about fighting global warming url via atUser So many lies, turn peo',\n",
              " 'Talk about climate change! url',\n",
              " 'RT atUser global warming  url',\n",
              " 'RT atUser Icebergs for global warming url',\n",
              " 'RT atUser How climate change is making the glorious colors of fall foliage last longer url url',\n",
              " 'So we do our own thing. We will be the generation that provides the most jobs while also being aware of the wealth gap and climate change',\n",
              " 'atUser In all seriousness. Them hoes adapting and it is not hard for them because of global warming ',\n",
              " 'RT atUser If the media covered climate change the same way it covered Hillary Clinton is e-mails url url',\n",
              " \"atUser 'global warming is a hoax by the Chinese government'\",\n",
              " \"RT atUser Leo DiCaprio is new film 'Before the Flood' is a sweeping look at climate change! 'Planet E url htt\",\n",
              " 'RT atUser Is climate change gay?',\n",
              " 'RT atUser Icebergs for global warming url',\n",
              " 'RT atUser Warmist fears arise over Trump plans to cut climate change research url feedly',\n",
              " 'RT atUser When China calls out Donald Trump on climate change, you know its bad url',\n",
              " 'Former BSF grantee Dr. Doron Holland has developed a fruitful way to combat climate change. url',\n",
              " 'RT atUser I guess it is going to take  months of summer for people to believe in climate change',\n",
              " 'Effects of climate change, fourth water revolution is upon us now url url',\n",
              " ...]"
            ]
          },
          "metadata": {},
          "execution_count": 27
        }
      ]
    },
    {
      "cell_type": "markdown",
      "source": [
        "3.2: Join the list in a new df with the sentiments column"
      ],
      "metadata": {
        "id": "Mqv1OcjQ5iAm"
      }
    },
    {
      "cell_type": "code",
      "source": [
        "# Join list in a new df with the sentiments. \n",
        "# We need to join: 'df.sentiment' & 'cleaned_list_10'\n",
        "\n",
        "df2 = pd.DataFrame(list(zip(df.sentiment, cleaned_list_10)),\n",
        "                   columns = ['sentiment', 'tweets'])\n",
        "df2.head(10)"
      ],
      "metadata": {
        "colab": {
          "base_uri": "https://localhost:8080/",
          "height": 363
        },
        "id": "v2ZTyUcozc6O",
        "outputId": "d85a254f-57e7-4529-b8f9-6a8bf9a988c4"
      },
      "execution_count": 92,
      "outputs": [
        {
          "output_type": "execute_result",
          "data": {
            "text/plain": [
              "   sentiment                                             tweets\n",
              "0         -1  atUser climate change is an interesting hustle...\n",
              "1          1  RT atUser Watch BeforeTheFlood right here, as ...\n",
              "2          1  Fabulous! Leonardo DiCaprio is film on climate...\n",
              "3          1  RT atUser Just watched this amazing documentar...\n",
              "4          2  RT atUser Pranita Biswasi, a Lutheran from Odi...\n",
              "5          0  Unamshow awache kujinga na iko global warming url\n",
              "6          2  RT atUser Pranita Biswasi, a Lutheran from Odi...\n",
              "7          2  RT atUser Presidential Candidate DonaldTrump i...\n",
              "8          0  RT atUser Leonardo DiCaprio is climate change ...\n",
              "9          1  BeforeTheFlood Watch BeforeTheFlood right here..."
            ],
            "text/html": [
              "\n",
              "  <div id=\"df-11b1d692-c335-4167-9f86-1204c8f00a2e\">\n",
              "    <div class=\"colab-df-container\">\n",
              "      <div>\n",
              "<style scoped>\n",
              "    .dataframe tbody tr th:only-of-type {\n",
              "        vertical-align: middle;\n",
              "    }\n",
              "\n",
              "    .dataframe tbody tr th {\n",
              "        vertical-align: top;\n",
              "    }\n",
              "\n",
              "    .dataframe thead th {\n",
              "        text-align: right;\n",
              "    }\n",
              "</style>\n",
              "<table border=\"1\" class=\"dataframe\">\n",
              "  <thead>\n",
              "    <tr style=\"text-align: right;\">\n",
              "      <th></th>\n",
              "      <th>sentiment</th>\n",
              "      <th>tweets</th>\n",
              "    </tr>\n",
              "  </thead>\n",
              "  <tbody>\n",
              "    <tr>\n",
              "      <th>0</th>\n",
              "      <td>-1</td>\n",
              "      <td>atUser climate change is an interesting hustle...</td>\n",
              "    </tr>\n",
              "    <tr>\n",
              "      <th>1</th>\n",
              "      <td>1</td>\n",
              "      <td>RT atUser Watch BeforeTheFlood right here, as ...</td>\n",
              "    </tr>\n",
              "    <tr>\n",
              "      <th>2</th>\n",
              "      <td>1</td>\n",
              "      <td>Fabulous! Leonardo DiCaprio is film on climate...</td>\n",
              "    </tr>\n",
              "    <tr>\n",
              "      <th>3</th>\n",
              "      <td>1</td>\n",
              "      <td>RT atUser Just watched this amazing documentar...</td>\n",
              "    </tr>\n",
              "    <tr>\n",
              "      <th>4</th>\n",
              "      <td>2</td>\n",
              "      <td>RT atUser Pranita Biswasi, a Lutheran from Odi...</td>\n",
              "    </tr>\n",
              "    <tr>\n",
              "      <th>5</th>\n",
              "      <td>0</td>\n",
              "      <td>Unamshow awache kujinga na iko global warming url</td>\n",
              "    </tr>\n",
              "    <tr>\n",
              "      <th>6</th>\n",
              "      <td>2</td>\n",
              "      <td>RT atUser Pranita Biswasi, a Lutheran from Odi...</td>\n",
              "    </tr>\n",
              "    <tr>\n",
              "      <th>7</th>\n",
              "      <td>2</td>\n",
              "      <td>RT atUser Presidential Candidate DonaldTrump i...</td>\n",
              "    </tr>\n",
              "    <tr>\n",
              "      <th>8</th>\n",
              "      <td>0</td>\n",
              "      <td>RT atUser Leonardo DiCaprio is climate change ...</td>\n",
              "    </tr>\n",
              "    <tr>\n",
              "      <th>9</th>\n",
              "      <td>1</td>\n",
              "      <td>BeforeTheFlood Watch BeforeTheFlood right here...</td>\n",
              "    </tr>\n",
              "  </tbody>\n",
              "</table>\n",
              "</div>\n",
              "      <button class=\"colab-df-convert\" onclick=\"convertToInteractive('df-11b1d692-c335-4167-9f86-1204c8f00a2e')\"\n",
              "              title=\"Convert this dataframe to an interactive table.\"\n",
              "              style=\"display:none;\">\n",
              "        \n",
              "  <svg xmlns=\"http://www.w3.org/2000/svg\" height=\"24px\"viewBox=\"0 0 24 24\"\n",
              "       width=\"24px\">\n",
              "    <path d=\"M0 0h24v24H0V0z\" fill=\"none\"/>\n",
              "    <path d=\"M18.56 5.44l.94 2.06.94-2.06 2.06-.94-2.06-.94-.94-2.06-.94 2.06-2.06.94zm-11 1L8.5 8.5l.94-2.06 2.06-.94-2.06-.94L8.5 2.5l-.94 2.06-2.06.94zm10 10l.94 2.06.94-2.06 2.06-.94-2.06-.94-.94-2.06-.94 2.06-2.06.94z\"/><path d=\"M17.41 7.96l-1.37-1.37c-.4-.4-.92-.59-1.43-.59-.52 0-1.04.2-1.43.59L10.3 9.45l-7.72 7.72c-.78.78-.78 2.05 0 2.83L4 21.41c.39.39.9.59 1.41.59.51 0 1.02-.2 1.41-.59l7.78-7.78 2.81-2.81c.8-.78.8-2.07 0-2.86zM5.41 20L4 18.59l7.72-7.72 1.47 1.35L5.41 20z\"/>\n",
              "  </svg>\n",
              "      </button>\n",
              "      \n",
              "  <style>\n",
              "    .colab-df-container {\n",
              "      display:flex;\n",
              "      flex-wrap:wrap;\n",
              "      gap: 12px;\n",
              "    }\n",
              "\n",
              "    .colab-df-convert {\n",
              "      background-color: #E8F0FE;\n",
              "      border: none;\n",
              "      border-radius: 50%;\n",
              "      cursor: pointer;\n",
              "      display: none;\n",
              "      fill: #1967D2;\n",
              "      height: 32px;\n",
              "      padding: 0 0 0 0;\n",
              "      width: 32px;\n",
              "    }\n",
              "\n",
              "    .colab-df-convert:hover {\n",
              "      background-color: #E2EBFA;\n",
              "      box-shadow: 0px 1px 2px rgba(60, 64, 67, 0.3), 0px 1px 3px 1px rgba(60, 64, 67, 0.15);\n",
              "      fill: #174EA6;\n",
              "    }\n",
              "\n",
              "    [theme=dark] .colab-df-convert {\n",
              "      background-color: #3B4455;\n",
              "      fill: #D2E3FC;\n",
              "    }\n",
              "\n",
              "    [theme=dark] .colab-df-convert:hover {\n",
              "      background-color: #434B5C;\n",
              "      box-shadow: 0px 1px 3px 1px rgba(0, 0, 0, 0.15);\n",
              "      filter: drop-shadow(0px 1px 2px rgba(0, 0, 0, 0.3));\n",
              "      fill: #FFFFFF;\n",
              "    }\n",
              "  </style>\n",
              "\n",
              "      <script>\n",
              "        const buttonEl =\n",
              "          document.querySelector('#df-11b1d692-c335-4167-9f86-1204c8f00a2e button.colab-df-convert');\n",
              "        buttonEl.style.display =\n",
              "          google.colab.kernel.accessAllowed ? 'block' : 'none';\n",
              "\n",
              "        async function convertToInteractive(key) {\n",
              "          const element = document.querySelector('#df-11b1d692-c335-4167-9f86-1204c8f00a2e');\n",
              "          const dataTable =\n",
              "            await google.colab.kernel.invokeFunction('convertToInteractive',\n",
              "                                                     [key], {});\n",
              "          if (!dataTable) return;\n",
              "\n",
              "          const docLinkHtml = 'Like what you see? Visit the ' +\n",
              "            '<a target=\"_blank\" href=https://colab.research.google.com/notebooks/data_table.ipynb>data table notebook</a>'\n",
              "            + ' to learn more about interactive tables.';\n",
              "          element.innerHTML = '';\n",
              "          dataTable['output_type'] = 'display_data';\n",
              "          await google.colab.output.renderOutput(dataTable, element);\n",
              "          const docLink = document.createElement('div');\n",
              "          docLink.innerHTML = docLinkHtml;\n",
              "          element.appendChild(docLink);\n",
              "        }\n",
              "      </script>\n",
              "    </div>\n",
              "  </div>\n",
              "  "
            ]
          },
          "metadata": {},
          "execution_count": 92
        }
      ]
    },
    {
      "cell_type": "code",
      "source": [
        "df2.iloc[4:8]"
      ],
      "metadata": {
        "colab": {
          "base_uri": "https://localhost:8080/",
          "height": 175
        },
        "id": "nrl4xGobzJMj",
        "outputId": "b4770d4b-9c0e-478e-b3d2-54cd57ce8abf"
      },
      "execution_count": 29,
      "outputs": [
        {
          "output_type": "execute_result",
          "data": {
            "text/plain": [
              "   sentiment                                             tweets\n",
              "4          2  RT atUser Pranita Biswasi, a Lutheran from Odi...\n",
              "5          0  Unamshow awache kujinga na iko global warming url\n",
              "6          2  RT atUser Pranita Biswasi, a Lutheran from Odi...\n",
              "7          2  RT atUser Presidential Candidate DonaldTrump i..."
            ],
            "text/html": [
              "\n",
              "  <div id=\"df-4668aa7e-0b7d-41fd-9021-14e8b156eac9\">\n",
              "    <div class=\"colab-df-container\">\n",
              "      <div>\n",
              "<style scoped>\n",
              "    .dataframe tbody tr th:only-of-type {\n",
              "        vertical-align: middle;\n",
              "    }\n",
              "\n",
              "    .dataframe tbody tr th {\n",
              "        vertical-align: top;\n",
              "    }\n",
              "\n",
              "    .dataframe thead th {\n",
              "        text-align: right;\n",
              "    }\n",
              "</style>\n",
              "<table border=\"1\" class=\"dataframe\">\n",
              "  <thead>\n",
              "    <tr style=\"text-align: right;\">\n",
              "      <th></th>\n",
              "      <th>sentiment</th>\n",
              "      <th>tweets</th>\n",
              "    </tr>\n",
              "  </thead>\n",
              "  <tbody>\n",
              "    <tr>\n",
              "      <th>4</th>\n",
              "      <td>2</td>\n",
              "      <td>RT atUser Pranita Biswasi, a Lutheran from Odi...</td>\n",
              "    </tr>\n",
              "    <tr>\n",
              "      <th>5</th>\n",
              "      <td>0</td>\n",
              "      <td>Unamshow awache kujinga na iko global warming url</td>\n",
              "    </tr>\n",
              "    <tr>\n",
              "      <th>6</th>\n",
              "      <td>2</td>\n",
              "      <td>RT atUser Pranita Biswasi, a Lutheran from Odi...</td>\n",
              "    </tr>\n",
              "    <tr>\n",
              "      <th>7</th>\n",
              "      <td>2</td>\n",
              "      <td>RT atUser Presidential Candidate DonaldTrump i...</td>\n",
              "    </tr>\n",
              "  </tbody>\n",
              "</table>\n",
              "</div>\n",
              "      <button class=\"colab-df-convert\" onclick=\"convertToInteractive('df-4668aa7e-0b7d-41fd-9021-14e8b156eac9')\"\n",
              "              title=\"Convert this dataframe to an interactive table.\"\n",
              "              style=\"display:none;\">\n",
              "        \n",
              "  <svg xmlns=\"http://www.w3.org/2000/svg\" height=\"24px\"viewBox=\"0 0 24 24\"\n",
              "       width=\"24px\">\n",
              "    <path d=\"M0 0h24v24H0V0z\" fill=\"none\"/>\n",
              "    <path d=\"M18.56 5.44l.94 2.06.94-2.06 2.06-.94-2.06-.94-.94-2.06-.94 2.06-2.06.94zm-11 1L8.5 8.5l.94-2.06 2.06-.94-2.06-.94L8.5 2.5l-.94 2.06-2.06.94zm10 10l.94 2.06.94-2.06 2.06-.94-2.06-.94-.94-2.06-.94 2.06-2.06.94z\"/><path d=\"M17.41 7.96l-1.37-1.37c-.4-.4-.92-.59-1.43-.59-.52 0-1.04.2-1.43.59L10.3 9.45l-7.72 7.72c-.78.78-.78 2.05 0 2.83L4 21.41c.39.39.9.59 1.41.59.51 0 1.02-.2 1.41-.59l7.78-7.78 2.81-2.81c.8-.78.8-2.07 0-2.86zM5.41 20L4 18.59l7.72-7.72 1.47 1.35L5.41 20z\"/>\n",
              "  </svg>\n",
              "      </button>\n",
              "      \n",
              "  <style>\n",
              "    .colab-df-container {\n",
              "      display:flex;\n",
              "      flex-wrap:wrap;\n",
              "      gap: 12px;\n",
              "    }\n",
              "\n",
              "    .colab-df-convert {\n",
              "      background-color: #E8F0FE;\n",
              "      border: none;\n",
              "      border-radius: 50%;\n",
              "      cursor: pointer;\n",
              "      display: none;\n",
              "      fill: #1967D2;\n",
              "      height: 32px;\n",
              "      padding: 0 0 0 0;\n",
              "      width: 32px;\n",
              "    }\n",
              "\n",
              "    .colab-df-convert:hover {\n",
              "      background-color: #E2EBFA;\n",
              "      box-shadow: 0px 1px 2px rgba(60, 64, 67, 0.3), 0px 1px 3px 1px rgba(60, 64, 67, 0.15);\n",
              "      fill: #174EA6;\n",
              "    }\n",
              "\n",
              "    [theme=dark] .colab-df-convert {\n",
              "      background-color: #3B4455;\n",
              "      fill: #D2E3FC;\n",
              "    }\n",
              "\n",
              "    [theme=dark] .colab-df-convert:hover {\n",
              "      background-color: #434B5C;\n",
              "      box-shadow: 0px 1px 3px 1px rgba(0, 0, 0, 0.15);\n",
              "      filter: drop-shadow(0px 1px 2px rgba(0, 0, 0, 0.3));\n",
              "      fill: #FFFFFF;\n",
              "    }\n",
              "  </style>\n",
              "\n",
              "      <script>\n",
              "        const buttonEl =\n",
              "          document.querySelector('#df-4668aa7e-0b7d-41fd-9021-14e8b156eac9 button.colab-df-convert');\n",
              "        buttonEl.style.display =\n",
              "          google.colab.kernel.accessAllowed ? 'block' : 'none';\n",
              "\n",
              "        async function convertToInteractive(key) {\n",
              "          const element = document.querySelector('#df-4668aa7e-0b7d-41fd-9021-14e8b156eac9');\n",
              "          const dataTable =\n",
              "            await google.colab.kernel.invokeFunction('convertToInteractive',\n",
              "                                                     [key], {});\n",
              "          if (!dataTable) return;\n",
              "\n",
              "          const docLinkHtml = 'Like what you see? Visit the ' +\n",
              "            '<a target=\"_blank\" href=https://colab.research.google.com/notebooks/data_table.ipynb>data table notebook</a>'\n",
              "            + ' to learn more about interactive tables.';\n",
              "          element.innerHTML = '';\n",
              "          dataTable['output_type'] = 'display_data';\n",
              "          await google.colab.output.renderOutput(dataTable, element);\n",
              "          const docLink = document.createElement('div');\n",
              "          docLink.innerHTML = docLinkHtml;\n",
              "          element.appendChild(docLink);\n",
              "        }\n",
              "      </script>\n",
              "    </div>\n",
              "  </div>\n",
              "  "
            ]
          },
          "metadata": {},
          "execution_count": 29
        }
      ]
    },
    {
      "cell_type": "markdown",
      "source": [
        "3.3: Vectorize & split into test and train"
      ],
      "metadata": {
        "id": "5pV2uYeA5ltg"
      }
    },
    {
      "cell_type": "code",
      "source": [
        "# -Vectorize & split into test and train."
      ],
      "metadata": {
        "id": "dIvPPRNK5b7C"
      },
      "execution_count": 30,
      "outputs": []
    },
    {
      "cell_type": "markdown",
      "source": [
        "Split the data frame into  train and test sets .80% of the data will be used for training, and 20% will be used for testing. \n",
        "\n",
        "Taken from: https://towardsdatascience.com/a-beginners-guide-to-sentiment-analysis-in-python-95e354ea84f6"
      ],
      "metadata": {
        "id": "k7O5XCkbGOda"
      }
    },
    {
      "cell_type": "code",
      "source": [
        "# Random split train and test data. \n",
        "import numpy as np\n",
        "from sklearn.model_selection import train_test_split\n",
        "\n",
        "#index = df2.index\n",
        "#df2['random_number'] = np.random.randn(len(index))\n",
        "#train = df2[df2['random_number'] <= 0.8]\n",
        "#test = df2[df2['random_number'] > 0.8]\n",
        "\n",
        "#train.head(10)\n",
        "\n",
        "X_train, X_test, y_train, y_test = train_test_split(df2['tweets'], df2['sentiment'], test_size=0.33, random_state=42)"
      ],
      "metadata": {
        "id": "qZnOxCTQGHSF"
      },
      "execution_count": 31,
      "outputs": []
    },
    {
      "cell_type": "markdown",
      "source": [
        "Create a bag of words\n",
        "- Use a count vectorizer from the Scikit-learn library. \n",
        "\n",
        "This will transform the text in our data frame into a bag of words model, which will contain a sparse matrix of integers. The number of occurrences of each word will be counted and printed.\n",
        "\n",
        "We will need to convert the text into a bag-of-words model since the logistic regression algorithm cannot understand text.\n"
      ],
      "metadata": {
        "id": "0xwyyKvQGvZP"
      }
    },
    {
      "cell_type": "code",
      "source": [
        "# count vectorizer:\n",
        "from sklearn.feature_extraction.text import CountVectorizer\n",
        "\n",
        "vectorizer = CountVectorizer(token_pattern=r'\\b\\w+\\b')\n",
        "train_matrix = vectorizer.fit_transform(X_train)\n",
        "test_matrix = vectorizer.transform(X_test)"
      ],
      "metadata": {
        "id": "XC4TFoKEHKzm"
      },
      "execution_count": 32,
      "outputs": []
    },
    {
      "cell_type": "markdown",
      "source": [
        "Import logistic regression "
      ],
      "metadata": {
        "id": "Ug0VYr_4Hyxw"
      }
    },
    {
      "cell_type": "code",
      "source": [
        "# Logistic Regression\n",
        "from sklearn.linear_model import LogisticRegression\n",
        "lr = LogisticRegression()"
      ],
      "metadata": {
        "id": "HNRmefqGH6ht"
      },
      "execution_count": 33,
      "outputs": []
    },
    {
      "cell_type": "markdown",
      "source": [
        "Fit the model on the data"
      ],
      "metadata": {
        "id": "0P5aeE5QIWHf"
      }
    },
    {
      "cell_type": "code",
      "source": [
        "# Error fitting the trains\n",
        "#\"Your session failed because all available RAM was used. If you want to access large RAM execution environments check Colab Pro\"\n",
        "\n",
        "lr.fit(train_matrix,y_train)\n",
        "\n"
      ],
      "metadata": {
        "colab": {
          "base_uri": "https://localhost:8080/"
        },
        "id": "2RH7NV9CIY4_",
        "outputId": "5fa93d9e-fbd3-408a-fd07-a47a2ba57d3a"
      },
      "execution_count": 34,
      "outputs": [
        {
          "output_type": "stream",
          "name": "stderr",
          "text": [
            "/usr/local/lib/python3.7/dist-packages/sklearn/linear_model/_logistic.py:818: ConvergenceWarning:\n",
            "\n",
            "lbfgs failed to converge (status=1):\n",
            "STOP: TOTAL NO. of ITERATIONS REACHED LIMIT.\n",
            "\n",
            "Increase the number of iterations (max_iter) or scale the data as shown in:\n",
            "    https://scikit-learn.org/stable/modules/preprocessing.html\n",
            "Please also refer to the documentation for alternative solver options:\n",
            "    https://scikit-learn.org/stable/modules/linear_model.html#logistic-regression\n",
            "\n"
          ]
        },
        {
          "output_type": "execute_result",
          "data": {
            "text/plain": [
              "LogisticRegression()"
            ]
          },
          "metadata": {},
          "execution_count": 34
        }
      ]
    },
    {
      "cell_type": "markdown",
      "source": [
        "Make predictions "
      ],
      "metadata": {
        "id": "wJ2USRM8IgHu"
      }
    },
    {
      "cell_type": "code",
      "source": [
        "predictions = lr.predict(test_matrix)"
      ],
      "metadata": {
        "id": "sut4puMmJkXA"
      },
      "execution_count": 35,
      "outputs": []
    },
    {
      "cell_type": "markdown",
      "source": [
        "3.4 Testing "
      ],
      "metadata": {
        "id": "8wSeKnyNJft7"
      }
    },
    {
      "cell_type": "code",
      "source": [
        "# To test the accuracy of the model: \n",
        "# find accuracy, precision, recall:\n",
        "from sklearn.metrics import confusion_matrix,classification_report\n",
        "new = np.asarray(y_test)\n",
        "confusion_matrix(predictions,y_test)\n",
        "\n",
        "# The results should be a confusion matrix "
      ],
      "metadata": {
        "id": "jO3iLeGfJr7C",
        "colab": {
          "base_uri": "https://localhost:8080/"
        },
        "outputId": "afad01e8-81ca-40f6-8791-16bba0e24c0f"
      },
      "execution_count": 36,
      "outputs": [
        {
          "output_type": "execute_result",
          "data": {
            "text/plain": [
              "array([[ 623,  149,  146,   22],\n",
              "       [ 241, 1334,  566,  102],\n",
              "       [ 337,  930, 6372,  641],\n",
              "       [  68,  192,  485, 2294]])"
            ]
          },
          "metadata": {},
          "execution_count": 36
        }
      ]
    },
    {
      "cell_type": "code",
      "source": [
        "print(classification_report(predictions,y_test))"
      ],
      "metadata": {
        "id": "7dOVmJFzL7A3",
        "colab": {
          "base_uri": "https://localhost:8080/"
        },
        "outputId": "1ededff3-2298-47ae-a48d-ac42366be993"
      },
      "execution_count": 37,
      "outputs": [
        {
          "output_type": "stream",
          "name": "stdout",
          "text": [
            "              precision    recall  f1-score   support\n",
            "\n",
            "          -1       0.49      0.66      0.56       940\n",
            "           0       0.51      0.59      0.55      2243\n",
            "           1       0.84      0.77      0.80      8280\n",
            "           2       0.75      0.75      0.75      3039\n",
            "\n",
            "    accuracy                           0.73     14502\n",
            "   macro avg       0.65      0.70      0.67     14502\n",
            "weighted avg       0.75      0.73      0.74     14502\n",
            "\n"
          ]
        }
      ]
    },
    {
      "cell_type": "code",
      "source": [
        "# Check the overall accuracy of the model on the test data, \n"
      ],
      "metadata": {
        "id": "WHkiVtdqL_cp"
      },
      "execution_count": 38,
      "outputs": []
    },
    {
      "cell_type": "markdown",
      "source": [
        "Session 26/09 \n",
        " Next tasks:\n",
        "\n",
        "- Reduce the levels to 2 \n",
        "- Over and undersampling (due to the different weights of the possitive and negative tweets)\n",
        "- Try logistic regression again to see whether it works better. \n",
        "- Try different feature engineering techniques (Feature engineering techniques: bag of words, bi-gram, n-gram models, word2Vec, Word embeddings)\n",
        "- Try different models (Naive Bayes Classifier, Support Vector Machines)"
      ],
      "metadata": {
        "id": "yhkEihpnyDuA"
      }
    },
    {
      "cell_type": "code",
      "source": [
        "df2"
      ],
      "metadata": {
        "colab": {
          "base_uri": "https://localhost:8080/",
          "height": 424
        },
        "id": "eYbQ1nAb7gOk",
        "outputId": "4e4c98c2-2739-489c-b5a9-3176cf5a9e55"
      },
      "execution_count": 39,
      "outputs": [
        {
          "output_type": "execute_result",
          "data": {
            "text/plain": [
              "       sentiment                                             tweets\n",
              "0             -1  atUser climate change is an interesting hustle...\n",
              "1              1  RT atUser Watch BeforeTheFlood right here, as ...\n",
              "2              1  Fabulous! Leonardo DiCaprio is film on climate...\n",
              "3              1  RT atUser Just watched this amazing documentar...\n",
              "4              2  RT atUser Pranita Biswasi, a Lutheran from Odi...\n",
              "...          ...                                                ...\n",
              "43938          1  Dear atUser\\nYeah right. Human Mediated Climat...\n",
              "43939          1  What will your respective parties do to preven...\n",
              "43940          2  RT atUser UN Poll Shows Climate Change Is the ...\n",
              "43941          0  RT atUser i still can$q$t believe this gif of ...\n",
              "43942          1  atUser atUser \\n\\nThe wealthy + fossil fuel In...\n",
              "\n",
              "[43943 rows x 2 columns]"
            ],
            "text/html": [
              "\n",
              "  <div id=\"df-6d3e0bcd-82bd-4247-8195-256f89910541\">\n",
              "    <div class=\"colab-df-container\">\n",
              "      <div>\n",
              "<style scoped>\n",
              "    .dataframe tbody tr th:only-of-type {\n",
              "        vertical-align: middle;\n",
              "    }\n",
              "\n",
              "    .dataframe tbody tr th {\n",
              "        vertical-align: top;\n",
              "    }\n",
              "\n",
              "    .dataframe thead th {\n",
              "        text-align: right;\n",
              "    }\n",
              "</style>\n",
              "<table border=\"1\" class=\"dataframe\">\n",
              "  <thead>\n",
              "    <tr style=\"text-align: right;\">\n",
              "      <th></th>\n",
              "      <th>sentiment</th>\n",
              "      <th>tweets</th>\n",
              "    </tr>\n",
              "  </thead>\n",
              "  <tbody>\n",
              "    <tr>\n",
              "      <th>0</th>\n",
              "      <td>-1</td>\n",
              "      <td>atUser climate change is an interesting hustle...</td>\n",
              "    </tr>\n",
              "    <tr>\n",
              "      <th>1</th>\n",
              "      <td>1</td>\n",
              "      <td>RT atUser Watch BeforeTheFlood right here, as ...</td>\n",
              "    </tr>\n",
              "    <tr>\n",
              "      <th>2</th>\n",
              "      <td>1</td>\n",
              "      <td>Fabulous! Leonardo DiCaprio is film on climate...</td>\n",
              "    </tr>\n",
              "    <tr>\n",
              "      <th>3</th>\n",
              "      <td>1</td>\n",
              "      <td>RT atUser Just watched this amazing documentar...</td>\n",
              "    </tr>\n",
              "    <tr>\n",
              "      <th>4</th>\n",
              "      <td>2</td>\n",
              "      <td>RT atUser Pranita Biswasi, a Lutheran from Odi...</td>\n",
              "    </tr>\n",
              "    <tr>\n",
              "      <th>...</th>\n",
              "      <td>...</td>\n",
              "      <td>...</td>\n",
              "    </tr>\n",
              "    <tr>\n",
              "      <th>43938</th>\n",
              "      <td>1</td>\n",
              "      <td>Dear atUser\\nYeah right. Human Mediated Climat...</td>\n",
              "    </tr>\n",
              "    <tr>\n",
              "      <th>43939</th>\n",
              "      <td>1</td>\n",
              "      <td>What will your respective parties do to preven...</td>\n",
              "    </tr>\n",
              "    <tr>\n",
              "      <th>43940</th>\n",
              "      <td>2</td>\n",
              "      <td>RT atUser UN Poll Shows Climate Change Is the ...</td>\n",
              "    </tr>\n",
              "    <tr>\n",
              "      <th>43941</th>\n",
              "      <td>0</td>\n",
              "      <td>RT atUser i still can$q$t believe this gif of ...</td>\n",
              "    </tr>\n",
              "    <tr>\n",
              "      <th>43942</th>\n",
              "      <td>1</td>\n",
              "      <td>atUser atUser \\n\\nThe wealthy + fossil fuel In...</td>\n",
              "    </tr>\n",
              "  </tbody>\n",
              "</table>\n",
              "<p>43943 rows × 2 columns</p>\n",
              "</div>\n",
              "      <button class=\"colab-df-convert\" onclick=\"convertToInteractive('df-6d3e0bcd-82bd-4247-8195-256f89910541')\"\n",
              "              title=\"Convert this dataframe to an interactive table.\"\n",
              "              style=\"display:none;\">\n",
              "        \n",
              "  <svg xmlns=\"http://www.w3.org/2000/svg\" height=\"24px\"viewBox=\"0 0 24 24\"\n",
              "       width=\"24px\">\n",
              "    <path d=\"M0 0h24v24H0V0z\" fill=\"none\"/>\n",
              "    <path d=\"M18.56 5.44l.94 2.06.94-2.06 2.06-.94-2.06-.94-.94-2.06-.94 2.06-2.06.94zm-11 1L8.5 8.5l.94-2.06 2.06-.94-2.06-.94L8.5 2.5l-.94 2.06-2.06.94zm10 10l.94 2.06.94-2.06 2.06-.94-2.06-.94-.94-2.06-.94 2.06-2.06.94z\"/><path d=\"M17.41 7.96l-1.37-1.37c-.4-.4-.92-.59-1.43-.59-.52 0-1.04.2-1.43.59L10.3 9.45l-7.72 7.72c-.78.78-.78 2.05 0 2.83L4 21.41c.39.39.9.59 1.41.59.51 0 1.02-.2 1.41-.59l7.78-7.78 2.81-2.81c.8-.78.8-2.07 0-2.86zM5.41 20L4 18.59l7.72-7.72 1.47 1.35L5.41 20z\"/>\n",
              "  </svg>\n",
              "      </button>\n",
              "      \n",
              "  <style>\n",
              "    .colab-df-container {\n",
              "      display:flex;\n",
              "      flex-wrap:wrap;\n",
              "      gap: 12px;\n",
              "    }\n",
              "\n",
              "    .colab-df-convert {\n",
              "      background-color: #E8F0FE;\n",
              "      border: none;\n",
              "      border-radius: 50%;\n",
              "      cursor: pointer;\n",
              "      display: none;\n",
              "      fill: #1967D2;\n",
              "      height: 32px;\n",
              "      padding: 0 0 0 0;\n",
              "      width: 32px;\n",
              "    }\n",
              "\n",
              "    .colab-df-convert:hover {\n",
              "      background-color: #E2EBFA;\n",
              "      box-shadow: 0px 1px 2px rgba(60, 64, 67, 0.3), 0px 1px 3px 1px rgba(60, 64, 67, 0.15);\n",
              "      fill: #174EA6;\n",
              "    }\n",
              "\n",
              "    [theme=dark] .colab-df-convert {\n",
              "      background-color: #3B4455;\n",
              "      fill: #D2E3FC;\n",
              "    }\n",
              "\n",
              "    [theme=dark] .colab-df-convert:hover {\n",
              "      background-color: #434B5C;\n",
              "      box-shadow: 0px 1px 3px 1px rgba(0, 0, 0, 0.15);\n",
              "      filter: drop-shadow(0px 1px 2px rgba(0, 0, 0, 0.3));\n",
              "      fill: #FFFFFF;\n",
              "    }\n",
              "  </style>\n",
              "\n",
              "      <script>\n",
              "        const buttonEl =\n",
              "          document.querySelector('#df-6d3e0bcd-82bd-4247-8195-256f89910541 button.colab-df-convert');\n",
              "        buttonEl.style.display =\n",
              "          google.colab.kernel.accessAllowed ? 'block' : 'none';\n",
              "\n",
              "        async function convertToInteractive(key) {\n",
              "          const element = document.querySelector('#df-6d3e0bcd-82bd-4247-8195-256f89910541');\n",
              "          const dataTable =\n",
              "            await google.colab.kernel.invokeFunction('convertToInteractive',\n",
              "                                                     [key], {});\n",
              "          if (!dataTable) return;\n",
              "\n",
              "          const docLinkHtml = 'Like what you see? Visit the ' +\n",
              "            '<a target=\"_blank\" href=https://colab.research.google.com/notebooks/data_table.ipynb>data table notebook</a>'\n",
              "            + ' to learn more about interactive tables.';\n",
              "          element.innerHTML = '';\n",
              "          dataTable['output_type'] = 'display_data';\n",
              "          await google.colab.output.renderOutput(dataTable, element);\n",
              "          const docLink = document.createElement('div');\n",
              "          docLink.innerHTML = docLinkHtml;\n",
              "          element.appendChild(docLink);\n",
              "        }\n",
              "      </script>\n",
              "    </div>\n",
              "  </div>\n",
              "  "
            ]
          },
          "metadata": {},
          "execution_count": 39
        }
      ]
    },
    {
      "cell_type": "code",
      "source": [
        "from pickle import TRUE\n",
        "# Function sentiment => 1 == positive\n",
        "# sentiment =< 1 == negative \n",
        "\n",
        "# df3 = df2[df2['sentiment1'] >= 1]\n",
        "df2['sentiment_1'] = df2['sentiment'].apply(lambda rating : +1 if rating >= 1 else -1)\n",
        "#df2.head(10)\n",
        "\n",
        "df3 = df2.drop(columns= ['sentiment'], )#inplace= True)\n",
        "df3"
      ],
      "metadata": {
        "colab": {
          "base_uri": "https://localhost:8080/",
          "height": 424
        },
        "id": "p6e57fISyMaT",
        "outputId": "6c58d1da-0dbb-48aa-903d-b7f09d13d0ce"
      },
      "execution_count": 94,
      "outputs": [
        {
          "output_type": "execute_result",
          "data": {
            "text/plain": [
              "                                                  tweets  sentiment_1\n",
              "0      atUser climate change is an interesting hustle...           -1\n",
              "1      RT atUser Watch BeforeTheFlood right here, as ...            1\n",
              "2      Fabulous! Leonardo DiCaprio is film on climate...            1\n",
              "3      RT atUser Just watched this amazing documentar...            1\n",
              "4      RT atUser Pranita Biswasi, a Lutheran from Odi...            1\n",
              "...                                                  ...          ...\n",
              "43938  Dear atUser\\nYeah right. Human Mediated Climat...            1\n",
              "43939  What will your respective parties do to preven...            1\n",
              "43940  RT atUser UN Poll Shows Climate Change Is the ...            1\n",
              "43941  RT atUser i still can$q$t believe this gif of ...           -1\n",
              "43942  atUser atUser \\n\\nThe wealthy + fossil fuel In...            1\n",
              "\n",
              "[43943 rows x 2 columns]"
            ],
            "text/html": [
              "\n",
              "  <div id=\"df-1ba6f859-6a05-42e1-ae61-830497dc1380\">\n",
              "    <div class=\"colab-df-container\">\n",
              "      <div>\n",
              "<style scoped>\n",
              "    .dataframe tbody tr th:only-of-type {\n",
              "        vertical-align: middle;\n",
              "    }\n",
              "\n",
              "    .dataframe tbody tr th {\n",
              "        vertical-align: top;\n",
              "    }\n",
              "\n",
              "    .dataframe thead th {\n",
              "        text-align: right;\n",
              "    }\n",
              "</style>\n",
              "<table border=\"1\" class=\"dataframe\">\n",
              "  <thead>\n",
              "    <tr style=\"text-align: right;\">\n",
              "      <th></th>\n",
              "      <th>tweets</th>\n",
              "      <th>sentiment_1</th>\n",
              "    </tr>\n",
              "  </thead>\n",
              "  <tbody>\n",
              "    <tr>\n",
              "      <th>0</th>\n",
              "      <td>atUser climate change is an interesting hustle...</td>\n",
              "      <td>-1</td>\n",
              "    </tr>\n",
              "    <tr>\n",
              "      <th>1</th>\n",
              "      <td>RT atUser Watch BeforeTheFlood right here, as ...</td>\n",
              "      <td>1</td>\n",
              "    </tr>\n",
              "    <tr>\n",
              "      <th>2</th>\n",
              "      <td>Fabulous! Leonardo DiCaprio is film on climate...</td>\n",
              "      <td>1</td>\n",
              "    </tr>\n",
              "    <tr>\n",
              "      <th>3</th>\n",
              "      <td>RT atUser Just watched this amazing documentar...</td>\n",
              "      <td>1</td>\n",
              "    </tr>\n",
              "    <tr>\n",
              "      <th>4</th>\n",
              "      <td>RT atUser Pranita Biswasi, a Lutheran from Odi...</td>\n",
              "      <td>1</td>\n",
              "    </tr>\n",
              "    <tr>\n",
              "      <th>...</th>\n",
              "      <td>...</td>\n",
              "      <td>...</td>\n",
              "    </tr>\n",
              "    <tr>\n",
              "      <th>43938</th>\n",
              "      <td>Dear atUser\\nYeah right. Human Mediated Climat...</td>\n",
              "      <td>1</td>\n",
              "    </tr>\n",
              "    <tr>\n",
              "      <th>43939</th>\n",
              "      <td>What will your respective parties do to preven...</td>\n",
              "      <td>1</td>\n",
              "    </tr>\n",
              "    <tr>\n",
              "      <th>43940</th>\n",
              "      <td>RT atUser UN Poll Shows Climate Change Is the ...</td>\n",
              "      <td>1</td>\n",
              "    </tr>\n",
              "    <tr>\n",
              "      <th>43941</th>\n",
              "      <td>RT atUser i still can$q$t believe this gif of ...</td>\n",
              "      <td>-1</td>\n",
              "    </tr>\n",
              "    <tr>\n",
              "      <th>43942</th>\n",
              "      <td>atUser atUser \\n\\nThe wealthy + fossil fuel In...</td>\n",
              "      <td>1</td>\n",
              "    </tr>\n",
              "  </tbody>\n",
              "</table>\n",
              "<p>43943 rows × 2 columns</p>\n",
              "</div>\n",
              "      <button class=\"colab-df-convert\" onclick=\"convertToInteractive('df-1ba6f859-6a05-42e1-ae61-830497dc1380')\"\n",
              "              title=\"Convert this dataframe to an interactive table.\"\n",
              "              style=\"display:none;\">\n",
              "        \n",
              "  <svg xmlns=\"http://www.w3.org/2000/svg\" height=\"24px\"viewBox=\"0 0 24 24\"\n",
              "       width=\"24px\">\n",
              "    <path d=\"M0 0h24v24H0V0z\" fill=\"none\"/>\n",
              "    <path d=\"M18.56 5.44l.94 2.06.94-2.06 2.06-.94-2.06-.94-.94-2.06-.94 2.06-2.06.94zm-11 1L8.5 8.5l.94-2.06 2.06-.94-2.06-.94L8.5 2.5l-.94 2.06-2.06.94zm10 10l.94 2.06.94-2.06 2.06-.94-2.06-.94-.94-2.06-.94 2.06-2.06.94z\"/><path d=\"M17.41 7.96l-1.37-1.37c-.4-.4-.92-.59-1.43-.59-.52 0-1.04.2-1.43.59L10.3 9.45l-7.72 7.72c-.78.78-.78 2.05 0 2.83L4 21.41c.39.39.9.59 1.41.59.51 0 1.02-.2 1.41-.59l7.78-7.78 2.81-2.81c.8-.78.8-2.07 0-2.86zM5.41 20L4 18.59l7.72-7.72 1.47 1.35L5.41 20z\"/>\n",
              "  </svg>\n",
              "      </button>\n",
              "      \n",
              "  <style>\n",
              "    .colab-df-container {\n",
              "      display:flex;\n",
              "      flex-wrap:wrap;\n",
              "      gap: 12px;\n",
              "    }\n",
              "\n",
              "    .colab-df-convert {\n",
              "      background-color: #E8F0FE;\n",
              "      border: none;\n",
              "      border-radius: 50%;\n",
              "      cursor: pointer;\n",
              "      display: none;\n",
              "      fill: #1967D2;\n",
              "      height: 32px;\n",
              "      padding: 0 0 0 0;\n",
              "      width: 32px;\n",
              "    }\n",
              "\n",
              "    .colab-df-convert:hover {\n",
              "      background-color: #E2EBFA;\n",
              "      box-shadow: 0px 1px 2px rgba(60, 64, 67, 0.3), 0px 1px 3px 1px rgba(60, 64, 67, 0.15);\n",
              "      fill: #174EA6;\n",
              "    }\n",
              "\n",
              "    [theme=dark] .colab-df-convert {\n",
              "      background-color: #3B4455;\n",
              "      fill: #D2E3FC;\n",
              "    }\n",
              "\n",
              "    [theme=dark] .colab-df-convert:hover {\n",
              "      background-color: #434B5C;\n",
              "      box-shadow: 0px 1px 3px 1px rgba(0, 0, 0, 0.15);\n",
              "      filter: drop-shadow(0px 1px 2px rgba(0, 0, 0, 0.3));\n",
              "      fill: #FFFFFF;\n",
              "    }\n",
              "  </style>\n",
              "\n",
              "      <script>\n",
              "        const buttonEl =\n",
              "          document.querySelector('#df-1ba6f859-6a05-42e1-ae61-830497dc1380 button.colab-df-convert');\n",
              "        buttonEl.style.display =\n",
              "          google.colab.kernel.accessAllowed ? 'block' : 'none';\n",
              "\n",
              "        async function convertToInteractive(key) {\n",
              "          const element = document.querySelector('#df-1ba6f859-6a05-42e1-ae61-830497dc1380');\n",
              "          const dataTable =\n",
              "            await google.colab.kernel.invokeFunction('convertToInteractive',\n",
              "                                                     [key], {});\n",
              "          if (!dataTable) return;\n",
              "\n",
              "          const docLinkHtml = 'Like what you see? Visit the ' +\n",
              "            '<a target=\"_blank\" href=https://colab.research.google.com/notebooks/data_table.ipynb>data table notebook</a>'\n",
              "            + ' to learn more about interactive tables.';\n",
              "          element.innerHTML = '';\n",
              "          dataTable['output_type'] = 'display_data';\n",
              "          await google.colab.output.renderOutput(dataTable, element);\n",
              "          const docLink = document.createElement('div');\n",
              "          docLink.innerHTML = docLinkHtml;\n",
              "          element.appendChild(docLink);\n",
              "        }\n",
              "      </script>\n",
              "    </div>\n",
              "  </div>\n",
              "  "
            ]
          },
          "metadata": {},
          "execution_count": 94
        }
      ]
    },
    {
      "cell_type": "code",
      "source": [
        "# Random split train and test data. \n",
        "import numpy as np\n",
        "from sklearn.model_selection import train_test_split\n",
        "\n",
        "#index = df2.index\n",
        "#df2['random_number'] = np.random.randn(len(index))\n",
        "#train = df2[df2['random_number'] <= 0.8]\n",
        "#test = df2[df2['random_number'] > 0.8]\n",
        "\n",
        "#train.head(10)\n",
        "\n",
        "X_train, X_test, y_train, y_test = train_test_split(df3['tweets'], df3['sentiment_1'], test_size=0.33, random_state=42)"
      ],
      "metadata": {
        "id": "mpPBvUkZ9Cxw"
      },
      "execution_count": 95,
      "outputs": []
    },
    {
      "cell_type": "code",
      "source": [
        "# count vectorizer:\n",
        "from sklearn.feature_extraction.text import CountVectorizer\n",
        "\n",
        "vectorizer = CountVectorizer(token_pattern=r'\\b\\w+\\b')\n",
        "train_matrix = vectorizer.fit_transform(X_train)\n",
        "test_matrix = vectorizer.transform(X_test)\n"
      ],
      "metadata": {
        "colab": {
          "base_uri": "https://localhost:8080/"
        },
        "id": "qH6wIy3d9KCq",
        "outputId": "d39c27b0-3e0f-4c75-e873-d445e80d07d8"
      },
      "execution_count": 60,
      "outputs": [
        {
          "output_type": "execute_result",
          "data": {
            "text/plain": [
              "<29441x23545 sparse matrix of type '<class 'numpy.int64'>'\n",
              "\twith 490317 stored elements in Compressed Sparse Row format>"
            ]
          },
          "metadata": {},
          "execution_count": 60
        },
        {
          "output_type": "execute_result",
          "data": {
            "text/plain": [
              "<14502x23545 sparse matrix of type '<class 'numpy.int64'>'\n",
              "\twith 235468 stored elements in Compressed Sparse Row format>"
            ]
          },
          "metadata": {},
          "execution_count": 60
        }
      ]
    },
    {
      "cell_type": "code",
      "source": [
        "# Logistic Regression\n",
        "from sklearn.linear_model import LogisticRegression\n",
        "lr = LogisticRegression()"
      ],
      "metadata": {
        "id": "fH_z9sLm9PXZ"
      },
      "execution_count": 44,
      "outputs": []
    },
    {
      "cell_type": "code",
      "source": [
        "# Fit\n",
        "# Try to optimize it \n",
        "lr.fit(train_matrix,y_train)"
      ],
      "metadata": {
        "colab": {
          "base_uri": "https://localhost:8080/"
        },
        "id": "9Ob8jBbo9USK",
        "outputId": "cb39acc7-e00d-4e1a-f9a6-18f5d7c7961f"
      },
      "execution_count": 45,
      "outputs": [
        {
          "output_type": "stream",
          "name": "stderr",
          "text": [
            "/usr/local/lib/python3.7/dist-packages/sklearn/linear_model/_logistic.py:818: ConvergenceWarning:\n",
            "\n",
            "lbfgs failed to converge (status=1):\n",
            "STOP: TOTAL NO. of ITERATIONS REACHED LIMIT.\n",
            "\n",
            "Increase the number of iterations (max_iter) or scale the data as shown in:\n",
            "    https://scikit-learn.org/stable/modules/preprocessing.html\n",
            "Please also refer to the documentation for alternative solver options:\n",
            "    https://scikit-learn.org/stable/modules/linear_model.html#logistic-regression\n",
            "\n"
          ]
        },
        {
          "output_type": "execute_result",
          "data": {
            "text/plain": [
              "LogisticRegression()"
            ]
          },
          "metadata": {},
          "execution_count": 45
        }
      ]
    },
    {
      "cell_type": "code",
      "source": [
        "predictions = lr.predict(test_matrix)"
      ],
      "metadata": {
        "id": "raF-xZmZ9wyN"
      },
      "execution_count": 46,
      "outputs": []
    },
    {
      "cell_type": "code",
      "source": [
        "# To test the accuracy of the model: \n",
        "# find accuracy, precision, recall:\n",
        "from sklearn.metrics import confusion_matrix,classification_report\n",
        "new = np.asarray(y_test)\n",
        "confusion_matrix(predictions,y_test)\n",
        "\n",
        "# The results should be a confusion matrix"
      ],
      "metadata": {
        "colab": {
          "base_uri": "https://localhost:8080/"
        },
        "id": "eGVc_neP90w2",
        "outputId": "4097c77c-10ef-46e4-9577-e0af581a2b0f"
      },
      "execution_count": 47,
      "outputs": [
        {
          "output_type": "execute_result",
          "data": {
            "text/plain": [
              "array([[2355,  795],\n",
              "       [1519, 9833]])"
            ]
          },
          "metadata": {},
          "execution_count": 47
        }
      ]
    },
    {
      "cell_type": "code",
      "source": [
        "print(classification_report(predictions,y_test))\n"
      ],
      "metadata": {
        "colab": {
          "base_uri": "https://localhost:8080/"
        },
        "id": "PzST6-sk95vs",
        "outputId": "798efc3b-ebd4-4d3f-8d60-fe060fe0fe87"
      },
      "execution_count": 48,
      "outputs": [
        {
          "output_type": "stream",
          "name": "stdout",
          "text": [
            "              precision    recall  f1-score   support\n",
            "\n",
            "          -1       0.61      0.75      0.67      3150\n",
            "           1       0.93      0.87      0.89     11352\n",
            "\n",
            "    accuracy                           0.84     14502\n",
            "   macro avg       0.77      0.81      0.78     14502\n",
            "weighted avg       0.86      0.84      0.85     14502\n",
            "\n"
          ]
        }
      ]
    },
    {
      "cell_type": "markdown",
      "source": [
        "# **Oversampling**"
      ],
      "metadata": {
        "id": "0aNjo46HK6fk"
      }
    },
    {
      "cell_type": "code",
      "source": [
        "df3.groupby('sentiment_1').count().plot(kind='bar')\n",
        "df3.groupby('sentiment_1').count()"
      ],
      "metadata": {
        "id": "o5FAsistC4A7",
        "outputId": "acfbaf2c-58b2-4965-bf04-6b02e545acdd",
        "colab": {
          "base_uri": "https://localhost:8080/",
          "height": 424
        }
      },
      "execution_count": 96,
      "outputs": [
        {
          "output_type": "execute_result",
          "data": {
            "text/plain": [
              "<matplotlib.axes._subplots.AxesSubplot at 0x7f329aac9750>"
            ]
          },
          "metadata": {},
          "execution_count": 96
        },
        {
          "output_type": "execute_result",
          "data": {
            "text/plain": [
              "             tweets\n",
              "sentiment_1        \n",
              "-1            11705\n",
              " 1            32238"
            ],
            "text/html": [
              "\n",
              "  <div id=\"df-ed6fa63f-3695-4431-b093-b969bfa8eab6\">\n",
              "    <div class=\"colab-df-container\">\n",
              "      <div>\n",
              "<style scoped>\n",
              "    .dataframe tbody tr th:only-of-type {\n",
              "        vertical-align: middle;\n",
              "    }\n",
              "\n",
              "    .dataframe tbody tr th {\n",
              "        vertical-align: top;\n",
              "    }\n",
              "\n",
              "    .dataframe thead th {\n",
              "        text-align: right;\n",
              "    }\n",
              "</style>\n",
              "<table border=\"1\" class=\"dataframe\">\n",
              "  <thead>\n",
              "    <tr style=\"text-align: right;\">\n",
              "      <th></th>\n",
              "      <th>tweets</th>\n",
              "    </tr>\n",
              "    <tr>\n",
              "      <th>sentiment_1</th>\n",
              "      <th></th>\n",
              "    </tr>\n",
              "  </thead>\n",
              "  <tbody>\n",
              "    <tr>\n",
              "      <th>-1</th>\n",
              "      <td>11705</td>\n",
              "    </tr>\n",
              "    <tr>\n",
              "      <th>1</th>\n",
              "      <td>32238</td>\n",
              "    </tr>\n",
              "  </tbody>\n",
              "</table>\n",
              "</div>\n",
              "      <button class=\"colab-df-convert\" onclick=\"convertToInteractive('df-ed6fa63f-3695-4431-b093-b969bfa8eab6')\"\n",
              "              title=\"Convert this dataframe to an interactive table.\"\n",
              "              style=\"display:none;\">\n",
              "        \n",
              "  <svg xmlns=\"http://www.w3.org/2000/svg\" height=\"24px\"viewBox=\"0 0 24 24\"\n",
              "       width=\"24px\">\n",
              "    <path d=\"M0 0h24v24H0V0z\" fill=\"none\"/>\n",
              "    <path d=\"M18.56 5.44l.94 2.06.94-2.06 2.06-.94-2.06-.94-.94-2.06-.94 2.06-2.06.94zm-11 1L8.5 8.5l.94-2.06 2.06-.94-2.06-.94L8.5 2.5l-.94 2.06-2.06.94zm10 10l.94 2.06.94-2.06 2.06-.94-2.06-.94-.94-2.06-.94 2.06-2.06.94z\"/><path d=\"M17.41 7.96l-1.37-1.37c-.4-.4-.92-.59-1.43-.59-.52 0-1.04.2-1.43.59L10.3 9.45l-7.72 7.72c-.78.78-.78 2.05 0 2.83L4 21.41c.39.39.9.59 1.41.59.51 0 1.02-.2 1.41-.59l7.78-7.78 2.81-2.81c.8-.78.8-2.07 0-2.86zM5.41 20L4 18.59l7.72-7.72 1.47 1.35L5.41 20z\"/>\n",
              "  </svg>\n",
              "      </button>\n",
              "      \n",
              "  <style>\n",
              "    .colab-df-container {\n",
              "      display:flex;\n",
              "      flex-wrap:wrap;\n",
              "      gap: 12px;\n",
              "    }\n",
              "\n",
              "    .colab-df-convert {\n",
              "      background-color: #E8F0FE;\n",
              "      border: none;\n",
              "      border-radius: 50%;\n",
              "      cursor: pointer;\n",
              "      display: none;\n",
              "      fill: #1967D2;\n",
              "      height: 32px;\n",
              "      padding: 0 0 0 0;\n",
              "      width: 32px;\n",
              "    }\n",
              "\n",
              "    .colab-df-convert:hover {\n",
              "      background-color: #E2EBFA;\n",
              "      box-shadow: 0px 1px 2px rgba(60, 64, 67, 0.3), 0px 1px 3px 1px rgba(60, 64, 67, 0.15);\n",
              "      fill: #174EA6;\n",
              "    }\n",
              "\n",
              "    [theme=dark] .colab-df-convert {\n",
              "      background-color: #3B4455;\n",
              "      fill: #D2E3FC;\n",
              "    }\n",
              "\n",
              "    [theme=dark] .colab-df-convert:hover {\n",
              "      background-color: #434B5C;\n",
              "      box-shadow: 0px 1px 3px 1px rgba(0, 0, 0, 0.15);\n",
              "      filter: drop-shadow(0px 1px 2px rgba(0, 0, 0, 0.3));\n",
              "      fill: #FFFFFF;\n",
              "    }\n",
              "  </style>\n",
              "\n",
              "      <script>\n",
              "        const buttonEl =\n",
              "          document.querySelector('#df-ed6fa63f-3695-4431-b093-b969bfa8eab6 button.colab-df-convert');\n",
              "        buttonEl.style.display =\n",
              "          google.colab.kernel.accessAllowed ? 'block' : 'none';\n",
              "\n",
              "        async function convertToInteractive(key) {\n",
              "          const element = document.querySelector('#df-ed6fa63f-3695-4431-b093-b969bfa8eab6');\n",
              "          const dataTable =\n",
              "            await google.colab.kernel.invokeFunction('convertToInteractive',\n",
              "                                                     [key], {});\n",
              "          if (!dataTable) return;\n",
              "\n",
              "          const docLinkHtml = 'Like what you see? Visit the ' +\n",
              "            '<a target=\"_blank\" href=https://colab.research.google.com/notebooks/data_table.ipynb>data table notebook</a>'\n",
              "            + ' to learn more about interactive tables.';\n",
              "          element.innerHTML = '';\n",
              "          dataTable['output_type'] = 'display_data';\n",
              "          await google.colab.output.renderOutput(dataTable, element);\n",
              "          const docLink = document.createElement('div');\n",
              "          docLink.innerHTML = docLinkHtml;\n",
              "          element.appendChild(docLink);\n",
              "        }\n",
              "      </script>\n",
              "    </div>\n",
              "  </div>\n",
              "  "
            ]
          },
          "metadata": {},
          "execution_count": 96
        },
        {
          "output_type": "display_data",
          "data": {
            "text/plain": [
              "<Figure size 432x288 with 1 Axes>"
            ],
            "image/png": "[encoded data removed]"
          },
          "metadata": {
            "needs_background": "light"
          }
        }
      ]
    },
    {
      "cell_type": "code",
      "source": [
        "# From: https://michael-fuchs-python.netlify.app/2020/01/16/dealing-with-imbalanced-classes/\n",
        "\n",
        "import numpy as np\n",
        "import pandas as pd\n",
        "\n",
        "import seaborn as sns\n",
        "import matplotlib.pyplot as plt\n",
        "\n",
        "from sklearn.model_selection import train_test_split\n",
        "from sklearn.metrics import accuracy_score\n",
        "from sklearn.metrics import recall_score\n",
        "from sklearn.metrics import roc_auc_score\n",
        "\n",
        "#For chapter 4\n",
        "from sklearn.linear_model import LogisticRegression\n",
        "\n",
        "#For chapter 5\n",
        "from sklearn.utils import resample\n",
        "\n",
        "#For chapter 6.1\n",
        "## You may need to install the following library: \n",
        "## conda install -c glemaitre imbalanced-learn\n",
        "from imblearn.over_sampling import SMOTE\n",
        "\n",
        "#For chapter 6.2\n",
        "from imblearn.under_sampling import NearMiss\n",
        "\n",
        "#For chapter 7\n",
        "from sklearn.svm import SVC\n",
        "\n",
        "#For chapter 8\n",
        "from sklearn.ensemble import RandomForestClassifier\n",
        "\n",
        "# Separate majority and minority classes\n",
        "df_majority = df3[df3.sentiment_1==1]\n",
        "df_minority = df3[df3.sentiment_1==-1]\n",
        " \n",
        "# Upsample minority class\n",
        "df_minority_upsampled = resample(df_minority, \n",
        "                                 replace=True,      # sample with replacement\n",
        "                                 n_samples=36548)   # to match majority class\n",
        "                              \n",
        " \n",
        "#Combine majority class with upsampled minority class\n",
        "df_upsampled = pd.concat([df_majority, df_minority_upsampled])\n",
        "\n",
        "\n",
        "#df_upsampled.head(10)\n",
        "print(df_upsampled['sentiment_1'].value_counts())"
      ],
      "metadata": {
        "id": "7L166X6H_w4V",
        "outputId": "be6cc0a0-6544-4f7b-d78b-a88740caea54",
        "colab": {
          "base_uri": "https://localhost:8080/"
        }
      },
      "execution_count": 97,
      "outputs": [
        {
          "output_type": "stream",
          "name": "stdout",
          "text": [
            "-1    36548\n",
            " 1    32238\n",
            "Name: sentiment_1, dtype: int64\n"
          ]
        }
      ]
    },
    {
      "cell_type": "code",
      "source": [
        "# Split 3 \n",
        "\n",
        "X_train, X_test, y_train, y_test = train_test_split(df_upsampled['tweets'], df_upsampled['sentiment_1'], test_size=0.33, random_state=42)"
      ],
      "metadata": {
        "id": "oK7lByDkJOAy"
      },
      "execution_count": 69,
      "outputs": []
    },
    {
      "cell_type": "code",
      "source": [
        "# count vectorizer 3:\n",
        "from sklearn.feature_extraction.text import CountVectorizer\n",
        "\n",
        "vectorizer = CountVectorizer(token_pattern=r'\\b\\w+\\b')\n",
        "train_matrix = vectorizer.fit_transform(X_train)\n",
        "test_matrix = vectorizer.transform(X_test)\n"
      ],
      "metadata": {
        "id": "i7gEd3rkJctg"
      },
      "execution_count": 70,
      "outputs": []
    },
    {
      "cell_type": "code",
      "source": [],
      "metadata": {
        "id": "2gAWKRzoRj_j"
      },
      "execution_count": null,
      "outputs": []
    },
    {
      "cell_type": "code",
      "source": [
        "# Logistic Regression\n",
        "from sklearn.linear_model import LogisticRegression\n",
        "lr = LogisticRegression()"
      ],
      "metadata": {
        "id": "50Mk5wGnJoVI"
      },
      "execution_count": 71,
      "outputs": []
    },
    {
      "cell_type": "code",
      "source": [
        "# Fit\n",
        "# Try to optimize it \n",
        "lr.fit(train_matrix,y_train)"
      ],
      "metadata": {
        "id": "-TYMgto1JsfY",
        "outputId": "6bafb50e-dc03-47c4-e240-2feace9790d3",
        "colab": {
          "base_uri": "https://localhost:8080/"
        }
      },
      "execution_count": 72,
      "outputs": [
        {
          "output_type": "stream",
          "name": "stderr",
          "text": [
            "/usr/local/lib/python3.7/dist-packages/sklearn/linear_model/_logistic.py:818: ConvergenceWarning:\n",
            "\n",
            "lbfgs failed to converge (status=1):\n",
            "STOP: TOTAL NO. of ITERATIONS REACHED LIMIT.\n",
            "\n",
            "Increase the number of iterations (max_iter) or scale the data as shown in:\n",
            "    https://scikit-learn.org/stable/modules/preprocessing.html\n",
            "Please also refer to the documentation for alternative solver options:\n",
            "    https://scikit-learn.org/stable/modules/linear_model.html#logistic-regression\n",
            "\n"
          ]
        },
        {
          "output_type": "execute_result",
          "data": {
            "text/plain": [
              "LogisticRegression()"
            ]
          },
          "metadata": {},
          "execution_count": 72
        }
      ]
    },
    {
      "cell_type": "code",
      "source": [
        "predictions = lr.predict(test_matrix)"
      ],
      "metadata": {
        "id": "PDAeP27tJzGw"
      },
      "execution_count": 73,
      "outputs": []
    },
    {
      "cell_type": "code",
      "source": [
        "# To test the accuracy of the model: \n",
        "# find accuracy, precision, recall:\n",
        "from sklearn.metrics import confusion_matrix,classification_report\n",
        "new = np.asarray(y_test)\n",
        "confusion_matrix(predictions,y_test)\n",
        "\n",
        "# The results should be a confusion matrix"
      ],
      "metadata": {
        "id": "ik-ai-BAJ3c1",
        "outputId": "54cb733a-5375-47ad-f2ab-3bb42f53b437",
        "colab": {
          "base_uri": "https://localhost:8080/"
        }
      },
      "execution_count": 74,
      "outputs": [
        {
          "output_type": "execute_result",
          "data": {
            "text/plain": [
              "array([[10937,  1858],\n",
              "       [ 1191,  8714]])"
            ]
          },
          "metadata": {},
          "execution_count": 74
        }
      ]
    },
    {
      "cell_type": "code",
      "source": [
        "print(classification_report(predictions,y_test))"
      ],
      "metadata": {
        "id": "8u3gtGzPJ8ly",
        "outputId": "93b7fa14-d873-45e9-9c99-32fab4ea40ad",
        "colab": {
          "base_uri": "https://localhost:8080/"
        }
      },
      "execution_count": 75,
      "outputs": [
        {
          "output_type": "stream",
          "name": "stdout",
          "text": [
            "              precision    recall  f1-score   support\n",
            "\n",
            "          -1       0.90      0.85      0.88     12795\n",
            "           1       0.82      0.88      0.85      9905\n",
            "\n",
            "    accuracy                           0.87     22700\n",
            "   macro avg       0.86      0.87      0.86     22700\n",
            "weighted avg       0.87      0.87      0.87     22700\n",
            "\n"
          ]
        }
      ]
    },
    {
      "cell_type": "markdown",
      "source": [
        "# Naive Bayes Classifier"
      ],
      "metadata": {
        "id": "TJqZhNV5Mdpw"
      }
    },
    {
      "cell_type": "code",
      "source": [
        "# Niave bayes \n",
        "# Train the model\n",
        "# Building classification models\n",
        "from sklearn.svm import LinearSVC\n",
        "from sklearn.pipeline import Pipeline\n",
        "from sklearn.naive_bayes import MultinomialNB\n",
        "from sklearn.neighbors import KNeighborsClassifier\n",
        "from sklearn.ensemble import RandomForestClassifier\n",
        "from sklearn.linear_model import LogisticRegression\n",
        "\n",
        "\n",
        "# Model evaluation\n",
        "from sklearn import metrics\n",
        "from sklearn.metrics import classification_report, confusion_matrix, f1_score, precision_score, recall_score\n",
        "from sklearn.naive_bayes import GaussianNB\n"
      ],
      "metadata": {
        "id": "r9cYtYkgNInL"
      },
      "execution_count": 81,
      "outputs": []
    },
    {
      "cell_type": "code",
      "source": [
        "# Pipeline\n",
        "from sklearn.feature_extraction.text import TfidfVectorizer\n",
        "# Naïve Bayes:\n",
        "nb = Pipeline([('tfidf', TfidfVectorizer()),\n",
        "               ('clf', MultinomialNB())])"
      ],
      "metadata": {
        "id": "T2SvcEQ3SDMz"
      },
      "execution_count": 89,
      "outputs": []
    },
    {
      "cell_type": "code",
      "source": [
        "df4 = df2.drop(columns= ['sentiment_1'], )#inplace= True)\n",
        "df4"
      ],
      "metadata": {
        "id": "d90ayHnTWhw1",
        "outputId": "e974822c-229a-4770-ccab-c640f9b17d16",
        "colab": {
          "base_uri": "https://localhost:8080/",
          "height": 424
        }
      },
      "execution_count": 105,
      "outputs": [
        {
          "output_type": "execute_result",
          "data": {
            "text/plain": [
              "       sentiment                                             tweets\n",
              "0             -1  atUser climate change is an interesting hustle...\n",
              "1              1  RT atUser Watch BeforeTheFlood right here, as ...\n",
              "2              1  Fabulous! Leonardo DiCaprio is film on climate...\n",
              "3              1  RT atUser Just watched this amazing documentar...\n",
              "4              2  RT atUser Pranita Biswasi, a Lutheran from Odi...\n",
              "...          ...                                                ...\n",
              "43938          1  Dear atUser\\nYeah right. Human Mediated Climat...\n",
              "43939          1  What will your respective parties do to preven...\n",
              "43940          2  RT atUser UN Poll Shows Climate Change Is the ...\n",
              "43941          0  RT atUser i still can$q$t believe this gif of ...\n",
              "43942          1  atUser atUser \\n\\nThe wealthy + fossil fuel In...\n",
              "\n",
              "[43943 rows x 2 columns]"
            ],
            "text/html": [
              "\n",
              "  <div id=\"df-5bdb5d1c-fb22-480d-a53b-99daebf0b32c\">\n",
              "    <div class=\"colab-df-container\">\n",
              "      <div>\n",
              "<style scoped>\n",
              "    .dataframe tbody tr th:only-of-type {\n",
              "        vertical-align: middle;\n",
              "    }\n",
              "\n",
              "    .dataframe tbody tr th {\n",
              "        vertical-align: top;\n",
              "    }\n",
              "\n",
              "    .dataframe thead th {\n",
              "        text-align: right;\n",
              "    }\n",
              "</style>\n",
              "<table border=\"1\" class=\"dataframe\">\n",
              "  <thead>\n",
              "    <tr style=\"text-align: right;\">\n",
              "      <th></th>\n",
              "      <th>sentiment</th>\n",
              "      <th>tweets</th>\n",
              "    </tr>\n",
              "  </thead>\n",
              "  <tbody>\n",
              "    <tr>\n",
              "      <th>0</th>\n",
              "      <td>-1</td>\n",
              "      <td>atUser climate change is an interesting hustle...</td>\n",
              "    </tr>\n",
              "    <tr>\n",
              "      <th>1</th>\n",
              "      <td>1</td>\n",
              "      <td>RT atUser Watch BeforeTheFlood right here, as ...</td>\n",
              "    </tr>\n",
              "    <tr>\n",
              "      <th>2</th>\n",
              "      <td>1</td>\n",
              "      <td>Fabulous! Leonardo DiCaprio is film on climate...</td>\n",
              "    </tr>\n",
              "    <tr>\n",
              "      <th>3</th>\n",
              "      <td>1</td>\n",
              "      <td>RT atUser Just watched this amazing documentar...</td>\n",
              "    </tr>\n",
              "    <tr>\n",
              "      <th>4</th>\n",
              "      <td>2</td>\n",
              "      <td>RT atUser Pranita Biswasi, a Lutheran from Odi...</td>\n",
              "    </tr>\n",
              "    <tr>\n",
              "      <th>...</th>\n",
              "      <td>...</td>\n",
              "      <td>...</td>\n",
              "    </tr>\n",
              "    <tr>\n",
              "      <th>43938</th>\n",
              "      <td>1</td>\n",
              "      <td>Dear atUser\\nYeah right. Human Mediated Climat...</td>\n",
              "    </tr>\n",
              "    <tr>\n",
              "      <th>43939</th>\n",
              "      <td>1</td>\n",
              "      <td>What will your respective parties do to preven...</td>\n",
              "    </tr>\n",
              "    <tr>\n",
              "      <th>43940</th>\n",
              "      <td>2</td>\n",
              "      <td>RT atUser UN Poll Shows Climate Change Is the ...</td>\n",
              "    </tr>\n",
              "    <tr>\n",
              "      <th>43941</th>\n",
              "      <td>0</td>\n",
              "      <td>RT atUser i still can$q$t believe this gif of ...</td>\n",
              "    </tr>\n",
              "    <tr>\n",
              "      <th>43942</th>\n",
              "      <td>1</td>\n",
              "      <td>atUser atUser \\n\\nThe wealthy + fossil fuel In...</td>\n",
              "    </tr>\n",
              "  </tbody>\n",
              "</table>\n",
              "<p>43943 rows × 2 columns</p>\n",
              "</div>\n",
              "      <button class=\"colab-df-convert\" onclick=\"convertToInteractive('df-5bdb5d1c-fb22-480d-a53b-99daebf0b32c')\"\n",
              "              title=\"Convert this dataframe to an interactive table.\"\n",
              "              style=\"display:none;\">\n",
              "        \n",
              "  <svg xmlns=\"http://www.w3.org/2000/svg\" height=\"24px\"viewBox=\"0 0 24 24\"\n",
              "       width=\"24px\">\n",
              "    <path d=\"M0 0h24v24H0V0z\" fill=\"none\"/>\n",
              "    <path d=\"M18.56 5.44l.94 2.06.94-2.06 2.06-.94-2.06-.94-.94-2.06-.94 2.06-2.06.94zm-11 1L8.5 8.5l.94-2.06 2.06-.94-2.06-.94L8.5 2.5l-.94 2.06-2.06.94zm10 10l.94 2.06.94-2.06 2.06-.94-2.06-.94-.94-2.06-.94 2.06-2.06.94z\"/><path d=\"M17.41 7.96l-1.37-1.37c-.4-.4-.92-.59-1.43-.59-.52 0-1.04.2-1.43.59L10.3 9.45l-7.72 7.72c-.78.78-.78 2.05 0 2.83L4 21.41c.39.39.9.59 1.41.59.51 0 1.02-.2 1.41-.59l7.78-7.78 2.81-2.81c.8-.78.8-2.07 0-2.86zM5.41 20L4 18.59l7.72-7.72 1.47 1.35L5.41 20z\"/>\n",
              "  </svg>\n",
              "      </button>\n",
              "      \n",
              "  <style>\n",
              "    .colab-df-container {\n",
              "      display:flex;\n",
              "      flex-wrap:wrap;\n",
              "      gap: 12px;\n",
              "    }\n",
              "\n",
              "    .colab-df-convert {\n",
              "      background-color: #E8F0FE;\n",
              "      border: none;\n",
              "      border-radius: 50%;\n",
              "      cursor: pointer;\n",
              "      display: none;\n",
              "      fill: #1967D2;\n",
              "      height: 32px;\n",
              "      padding: 0 0 0 0;\n",
              "      width: 32px;\n",
              "    }\n",
              "\n",
              "    .colab-df-convert:hover {\n",
              "      background-color: #E2EBFA;\n",
              "      box-shadow: 0px 1px 2px rgba(60, 64, 67, 0.3), 0px 1px 3px 1px rgba(60, 64, 67, 0.15);\n",
              "      fill: #174EA6;\n",
              "    }\n",
              "\n",
              "    [theme=dark] .colab-df-convert {\n",
              "      background-color: #3B4455;\n",
              "      fill: #D2E3FC;\n",
              "    }\n",
              "\n",
              "    [theme=dark] .colab-df-convert:hover {\n",
              "      background-color: #434B5C;\n",
              "      box-shadow: 0px 1px 3px 1px rgba(0, 0, 0, 0.15);\n",
              "      filter: drop-shadow(0px 1px 2px rgba(0, 0, 0, 0.3));\n",
              "      fill: #FFFFFF;\n",
              "    }\n",
              "  </style>\n",
              "\n",
              "      <script>\n",
              "        const buttonEl =\n",
              "          document.querySelector('#df-5bdb5d1c-fb22-480d-a53b-99daebf0b32c button.colab-df-convert');\n",
              "        buttonEl.style.display =\n",
              "          google.colab.kernel.accessAllowed ? 'block' : 'none';\n",
              "\n",
              "        async function convertToInteractive(key) {\n",
              "          const element = document.querySelector('#df-5bdb5d1c-fb22-480d-a53b-99daebf0b32c');\n",
              "          const dataTable =\n",
              "            await google.colab.kernel.invokeFunction('convertToInteractive',\n",
              "                                                     [key], {});\n",
              "          if (!dataTable) return;\n",
              "\n",
              "          const docLinkHtml = 'Like what you see? Visit the ' +\n",
              "            '<a target=\"_blank\" href=https://colab.research.google.com/notebooks/data_table.ipynb>data table notebook</a>'\n",
              "            + ' to learn more about interactive tables.';\n",
              "          element.innerHTML = '';\n",
              "          dataTable['output_type'] = 'display_data';\n",
              "          await google.colab.output.renderOutput(dataTable, element);\n",
              "          const docLink = document.createElement('div');\n",
              "          docLink.innerHTML = docLinkHtml;\n",
              "          element.appendChild(docLink);\n",
              "        }\n",
              "      </script>\n",
              "    </div>\n",
              "  </div>\n",
              "  "
            ]
          },
          "metadata": {},
          "execution_count": 105
        }
      ]
    },
    {
      "cell_type": "code",
      "source": [
        "# Split 4 \n",
        "\n",
        "X_train, X_test, y_train, y_test = train_test_split(df4['tweets'], df4['sentiment'], test_size=0.33, random_state=42)"
      ],
      "metadata": {
        "id": "oRa92OTCUCw4"
      },
      "execution_count": 106,
      "outputs": []
    },
    {
      "cell_type": "code",
      "source": [
        "# Train model \n",
        "# Niave bayes\n",
        "nb.fit(X_train, y_train)\n"
      ],
      "metadata": {
        "id": "FtIN2cu_TopU",
        "outputId": "30035047-69f3-4119-bbb9-7cc54edb71a1",
        "colab": {
          "base_uri": "https://localhost:8080/"
        }
      },
      "execution_count": 107,
      "outputs": [
        {
          "output_type": "execute_result",
          "data": {
            "text/plain": [
              "Pipeline(steps=[('tfidf', TfidfVectorizer()), ('clf', MultinomialNB())])"
            ]
          },
          "metadata": {},
          "execution_count": 107
        }
      ]
    },
    {
      "cell_type": "code",
      "source": [
        "y_pred_nb = nb.predict(X_test)"
      ],
      "metadata": {
        "id": "uocc_PMFVV_N"
      },
      "execution_count": 108,
      "outputs": []
    },
    {
      "cell_type": "code",
      "source": [
        "# Generate a classification Report for the Naive Bayes model\n",
        "print(metrics.classification_report(y_test, y_pred_nb))\n"
      ],
      "metadata": {
        "id": "9UqCGLR3WCP3",
        "outputId": "16807435-fca6-4ca3-b8b8-5467b2317ddf",
        "colab": {
          "base_uri": "https://localhost:8080/"
        }
      },
      "execution_count": 109,
      "outputs": [
        {
          "output_type": "stream",
          "name": "stdout",
          "text": [
            "              precision    recall  f1-score   support\n",
            "\n",
            "          -1       0.91      0.03      0.05      1269\n",
            "           0       0.96      0.07      0.12      2605\n",
            "           1       0.58      0.99      0.73      7569\n",
            "           2       0.87      0.38      0.53      3059\n",
            "\n",
            "    accuracy                           0.61     14502\n",
            "   macro avg       0.83      0.36      0.36     14502\n",
            "weighted avg       0.74      0.61      0.52     14502\n",
            "\n"
          ]
        }
      ]
    },
    {
      "cell_type": "code",
      "source": [
        "# Generate a normalized confusion matrix\n",
        "cm = confusion_matrix(y_test, y_pred_nb)\n",
        "cm_norm = cm / cm.sum(axis=1).reshape(-1,1)"
      ],
      "metadata": {
        "id": "kaxSqhm5XDAo"
      },
      "execution_count": 110,
      "outputs": []
    },
    {
      "cell_type": "markdown",
      "source": [
        "Next steps: \n",
        "\n",
        "- Try another model : https://www.kaggle.com/code/nicolemeinie/sentiment-analysis-twitter-on-climate-change/notebook\n",
        "\n",
        "- Linear Support Vector Machine \n",
        "- Random Forest\n",
        "\n",
        "- Feature engineering techniques: bag of words, bi-gram, n-gram models, word2Vec, Word embeddings\n",
        "\n"
      ],
      "metadata": {
        "id": "TbzIuNloXqYN"
      }
    }
  ],
  "metadata": {
    "colab": {
      "collapsed_sections": [],
      "provenance": [],
      "authorship_tag": "ABX9TyN9XGO2yzv33Mr+2NwLGs9U",
      "include_colab_link": true
    },
    "kernelspec": {
      "display_name": "Python 3",
      "name": "python3"
    },
    "language_info": {
      "name": "python"
    }
  },
  "nbformat": 4,
  "nbformat_minor": 0
}